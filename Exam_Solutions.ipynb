{
 "cells": [
  {
   "cell_type": "code",
   "execution_count": 33,
   "id": "abe9e552-e987-4b3f-8124-b6c904168202",
   "metadata": {},
   "outputs": [
    {
     "name": "stdin",
     "output_type": "stream",
     "text": [
      "Enter number:  6\n"
     ]
    },
    {
     "name": "stdout",
     "output_type": "stream",
     "text": [
      "Sum of first 6 numbers is: 21\n",
      "Average of 6 numbers is: 3.5\n"
     ]
    }
   ],
   "source": [
    "#Q1. Solution\n",
    "\n",
    "n = int(input(\"Enter number: \"))\n",
    "total_sum = 0\n",
    "\n",
    "for i in range(1, n + 1):\n",
    "    total_sum += i  \n",
    "\n",
    "average = total_sum / n\n",
    "print(f\"Sum of first {n} numbers is: {total_sum}\")\n",
    "print(f\"Average of {n} numbers is: {average}\")\n"
   ]
  },
  {
   "cell_type": "code",
   "execution_count": 1,
   "id": "044528df-e5bb-46b5-a9a9-64edc384a400",
   "metadata": {},
   "outputs": [
    {
     "name": "stdout",
     "output_type": "stream",
     "text": [
      "Given list: [10, 20, 30, 40, 10]\n",
      "result is True\n",
      "Given list: [75, 65, 35, 75, 30]\n",
      "result is False\n"
     ]
    }
   ],
   "source": [
    "# Q2. Solution\n",
    "\n",
    "def first_last_same(numberList):\n",
    "    print(\"Given list:\", numberList)\n",
    "    \n",
    "    first_num = numberList[0]\n",
    "    last_num = numberList[-1]\n",
    "    \n",
    "    if first_num == last_num:\n",
    "        return True\n",
    "    else:\n",
    "        return False\n",
    "\n",
    "numbers_x = [10, 20, 30, 40, 10]\n",
    "print(\"result is\", first_last_same(numbers_x))\n",
    "\n",
    "numbers_y = [75, 65, 35, 75, 30]\n",
    "print(\"result is\", first_last_same(numbers_y))"
   ]
  },
  {
   "cell_type": "code",
   "execution_count": 2,
   "id": "01d7939b-d294-44c1-911b-fb16b88087b2",
   "metadata": {},
   "outputs": [
    {
     "name": "stdout",
     "output_type": "stream",
     "text": [
      "original number 121\n",
      "Given number palindrome\n",
      "original number 125\n",
      "Given number is not palindrome\n"
     ]
    }
   ],
   "source": [
    "#Q3. Solution\n",
    "\n",
    "def palindrome(number):\n",
    "    print(\"original number\", number)\n",
    "    original_num = number\n",
    "    \n",
    "    # reverse the given number\n",
    "    reverse_num = 0\n",
    "    while number > 0:\n",
    "        reminder = number % 10\n",
    "        reverse_num = (reverse_num * 10) + reminder\n",
    "        number = number // 10\n",
    "\n",
    "    # check numbers\n",
    "    if original_num == reverse_num:\n",
    "        print(\"Given number palindrome\")\n",
    "    else:\n",
    "        print(\"Given number is not palindrome\")\n",
    "\n",
    "palindrome(121)\n",
    "palindrome(125)"
   ]
  },
  {
   "cell_type": "code",
   "execution_count": 23,
   "id": "e3c08b02-09b7-45c0-87c8-5eeed8b9bf29",
   "metadata": {},
   "outputs": [
    {
     "name": "stdout",
     "output_type": "stream",
     "text": [
      "20\n"
     ]
    }
   ],
   "source": [
    "#Q4. Solution\n",
    "def outer_fun(a, b):\n",
    "\n",
    "    # inner function\n",
    "    def addition(a, b):\n",
    "        return a + b\n",
    "\n",
    "    # call inner function from outer function\n",
    "    add = addition(a, b)\n",
    "    # add 5 to the result\n",
    "    return add + 5\n",
    "\n",
    "result = outer_fun(5, 10)\n",
    "print(result)"
   ]
  },
  {
   "cell_type": "code",
   "execution_count": 8,
   "id": "e9dea215-e844-4dc3-a0ec-d6e0b151d63a",
   "metadata": {},
   "outputs": [
    {
     "name": "stdout",
     "output_type": "stream",
     "text": [
      "Given date is\n",
      "Tuesday 25 February 2020\n"
     ]
    }
   ],
   "source": [
    "#Q5. Solution\n",
    "from datetime import datetime\n",
    "\n",
    "given_date = datetime(2020, 2, 25)\n",
    "print(\"Given date is\")\n",
    "print(given_date.strftime('%A %d %B %Y'))"
   ]
  },
  {
   "cell_type": "code",
   "execution_count": 9,
   "id": "6da56545-67bd-441b-ad8b-f21ba5658818",
   "metadata": {},
   "outputs": [
    {
     "name": "stdout",
     "output_type": "stream",
     "text": [
      "date_2 is greater\n",
      "Difference is 205 days\n"
     ]
    }
   ],
   "source": [
    "#Q6. Solution\n",
    "from datetime import datetime\n",
    "\n",
    "# 2020-02-25\n",
    "date_1 = datetime(2020, 2, 25).date()\n",
    "# 2020-09-17\n",
    "date_2 = datetime(2020, 9, 17).date()\n",
    "\n",
    "delta = None\n",
    "if date_1 > date_2:\n",
    "    print(\"date_1 is greater\")\n",
    "    delta = date_1 - date_2\n",
    "else:\n",
    "    print(\"date_2 is greater\")\n",
    "    delta = date_2 - date_1\n",
    "print(\"Difference is\", delta.days, \"days\")"
   ]
  },
  {
   "cell_type": "code",
   "execution_count": 10,
   "id": "567d504e-d918-47e8-83b5-076f7d91ce3a",
   "metadata": {},
   "outputs": [
    {
     "name": "stdout",
     "output_type": "stream",
     "text": [
      "[1, 4, 9, 16, 25, 36, 49]\n"
     ]
    }
   ],
   "source": [
    "#Q7. Solution\n",
    "numbers = [1, 2, 3, 4, 5, 6, 7]\n",
    "# result list\n",
    "res = []\n",
    "for i in numbers:\n",
    "    # calculate square and add to the result list\n",
    "    res.append(i * i)\n",
    "print(res)"
   ]
  },
  {
   "cell_type": "code",
   "execution_count": 11,
   "id": "0c2b47c1-76f7-4b47-926d-fba81eda8bef",
   "metadata": {},
   "outputs": [
    {
     "name": "stdout",
     "output_type": "stream",
     "text": [
      "[10, 20, [300, 400, [5000, 6000, 7000], 500], 30, 40]\n"
     ]
    }
   ],
   "source": [
    "#Q8. Solution\n",
    "list1 = [10, 20, [300, 400, [5000, 6000], 500], 30, 40]\n",
    "\n",
    "# understand indexing\n",
    "# list1[0] = 10\n",
    "# list1[1] = 20\n",
    "# list1[2] = [300, 400, [5000, 6000], 500]\n",
    "# list1[2][2] = [5000, 6000]\n",
    "# list1[2][2][1] = 6000\n",
    "\n",
    "# solution\n",
    "list1[2][2].append(7000)\n",
    "print(list1)"
   ]
  },
  {
   "cell_type": "code",
   "execution_count": 12,
   "id": "680d509d-465b-43fd-90db-54bd01ef796e",
   "metadata": {},
   "outputs": [
    {
     "name": "stdout",
     "output_type": "stream",
     "text": [
      "Current Number is : 1  and the cube is 1\n",
      "Current Number is : 2  and the cube is 8\n",
      "Current Number is : 3  and the cube is 27\n",
      "Current Number is : 4  and the cube is 64\n",
      "Current Number is : 5  and the cube is 125\n",
      "Current Number is : 6  and the cube is 216\n"
     ]
    }
   ],
   "source": [
    "#Q9. Solution\n",
    "input_number = 6\n",
    "for i in range(1, input_number + 1):\n",
    "    print(\"Current Number is :\", i, \" and the cube is\", (i * i * i))"
   ]
  },
  {
   "cell_type": "code",
   "execution_count": 22,
   "id": "86fa6ad5-05d0-487f-a930-354dd776748d",
   "metadata": {},
   "outputs": [
    {
     "name": "stdout",
     "output_type": "stream",
     "text": [
      "['line1 \\n', 'line2 \\n', 'line3 \\n', 'line4 \\n', 'line6 \\n', 'line7 \\n']\n"
     ]
    }
   ],
   "source": [
    "#Q10. Solution\n",
    "with open(\"test.txt\", \"w\") as fp:\n",
    "    x=[\"line1 \\n\",\"line2 \\n\",\"line3 \\n\",\"line4 \\n\",\"line5 \\n\",\"line6 \\n\",\"line7 \\n\"]\n",
    "    fp.writelines(x)\n",
    "    \n",
    "lines=[]\n",
    "with open(\"test.txt\", \"r\") as fp:\n",
    "    # read all lines from a file\n",
    "    lines = fp.readlines()\n",
    "\n",
    "# open new file in write mode\n",
    "with open(\"new_file.txt\", \"w\") as fp:\n",
    "    count = 0\n",
    "    # iterate each lines from a test.txt\n",
    "    for line in lines:\n",
    "        # skip 5th lines\n",
    "        if count == 4:\n",
    "            count += 1\n",
    "            continue\n",
    "        else:\n",
    "            # write current line\n",
    "            fp.write(line)\n",
    "        # in each iteration reduce the count\n",
    "        count += 1\n",
    "        \n",
    "\n",
    "with open(\"new_file.txt\", \"r\") as fp:\n",
    "    print(fp.readlines())"
   ]
  },
  {
   "cell_type": "code",
   "execution_count": 31,
   "id": "77c25171-7bdf-4035-8f42-1c88d7111c81",
   "metadata": {},
   "outputs": [
    {
     "name": "stdout",
     "output_type": "stream",
     "text": [
      "Original Name Call ('Emma', 26)\n",
      "Duplicate Name Call ('Emma', 26)\n"
     ]
    }
   ],
   "source": [
    "#Q11. Solution\n",
    "def display_student(name, age):\n",
    "    return name, age\n",
    "\n",
    "# call using original name\n",
    "print(\"Original Name Call\",display_student(\"Emma\", 26))\n",
    "\n",
    "# assign new name\n",
    "showStudent = display_student\n",
    "# call using new name\n",
    "print(\"Duplicate Name Call\",showStudent(\"Emma\", 26))"
   ]
  },
  {
   "cell_type": "code",
   "execution_count": 32,
   "id": "958a12fe-27f7-4b27-8b34-f94a8327b865",
   "metadata": {},
   "outputs": [
    {
     "name": "stdout",
     "output_type": "stream",
     "text": [
      "{'emp1': {'name': 'Jhon', 'salary': 7500}, 'emp2': {'name': 'Emma', 'salary': 8000}, 'emp3': {'name': 'Brad', 'salary': 8500}}\n"
     ]
    }
   ],
   "source": [
    "#Q12. Solution\n",
    "sample_dict = {\n",
    "    'emp1': {'name': 'Jhon', 'salary': 7500},\n",
    "    'emp2': {'name': 'Emma', 'salary': 8000},\n",
    "    'emp3': {'name': 'Brad', 'salary': 6500}\n",
    "}\n",
    "\n",
    "sample_dict['emp3']['salary'] = 8500\n",
    "print(sample_dict)"
   ]
  },
  {
   "cell_type": "code",
   "execution_count": 34,
   "id": "9952133b-fd1f-4fe6-9258-c96306f4a8d3",
   "metadata": {},
   "outputs": [
    {
     "name": "stdin",
     "output_type": "stream",
     "text": [
      "Enter Value:  ali\n"
     ]
    },
    {
     "name": "stdout",
     "output_type": "stream",
     "text": [
      "ALI\n"
     ]
    }
   ],
   "source": [
    "#Q13. Solution\n",
    "class InputOutString():\n",
    "    def __init__(self):\n",
    "        self.s = \"\"\n",
    "\n",
    "    def getString(self):\n",
    "        self.s = input(\"Enter Value: \")\n",
    "\n",
    "    def printString(self):\n",
    "        print (self.s.upper())\n",
    "\n",
    "strObj = InputOutString()\n",
    "strObj.getString()\n",
    "strObj.printString()"
   ]
  },
  {
   "cell_type": "code",
   "execution_count": 35,
   "id": "6ad1cc5d-bd83-4fa3-bd17-76ecbede3d5e",
   "metadata": {},
   "outputs": [
    {
     "name": "stdout",
     "output_type": "stream",
     "text": [
      "Vehicle Name: School Volvo Speed: 180 Mileage: 12\n"
     ]
    }
   ],
   "source": [
    "#Q14. Solution\n",
    "class Vehicle:\n",
    "    def __init__(self, name, max_speed, mileage):\n",
    "        self.name = name\n",
    "        self.max_speed = max_speed\n",
    "        self.mileage = mileage\n",
    "\n",
    "class Bus(Vehicle):\n",
    "    pass\n",
    "\n",
    "School_bus = Bus(\"School Volvo\", 180, 12)\n",
    "print(\"Vehicle Name:\", School_bus.name, \"Speed:\", School_bus.max_speed, \"Mileage:\", School_bus.mileage)"
   ]
  },
  {
   "cell_type": "code",
   "execution_count": 40,
   "id": "79d3a6f7-f734-4b0a-a929-afc272afe2ae",
   "metadata": {},
   "outputs": [
    {
     "name": "stdout",
     "output_type": "stream",
     "text": [
      "\n",
      "Operations used, \n",
      "\n",
      "1.Accept Student details\n",
      "2.Display Student Details\n",
      "3.Search Details of a Student\n",
      "4.Delete Details of Student\n",
      "5.Update Student Details\n",
      "6.Exit\n"
     ]
    },
    {
     "name": "stdin",
     "output_type": "stream",
     "text": [
      "Enter Name of Student to Insert in Data:  Asdf\n",
      "Enter Roll No of Student:  12\n",
      "Enter Marks of Student in Subject1:  453\n",
      "Enter Marks of Student in Subject2:  54\n"
     ]
    },
    {
     "name": "stdout",
     "output_type": "stream",
     "text": [
      "\n",
      "\n",
      "\n",
      "List of Students\n",
      "\n",
      "\n",
      " Student Found, \n"
     ]
    },
    {
     "name": "stdin",
     "output_type": "stream",
     "text": [
      "Enter Roll Number of Student to Search Data:  12\n"
     ]
    },
    {
     "name": "stdout",
     "output_type": "stream",
     "text": [
      "Length of List Before Deletion: 4\n"
     ]
    },
    {
     "name": "stdin",
     "output_type": "stream",
     "text": [
      "Enter Roll Number of Student to Delete Data:  3\n"
     ]
    },
    {
     "name": "stdout",
     "output_type": "stream",
     "text": [
      "Length of List After Deletion: 3\n",
      "List after deletion\n",
      "Update Function\n"
     ]
    },
    {
     "name": "stdin",
     "output_type": "stream",
     "text": [
      "Enter Old Roll Number of Student:  12\n",
      "Enter New Roll Number of Student:  3\n"
     ]
    },
    {
     "name": "stdout",
     "output_type": "stream",
     "text": [
      "List after updation\n",
      "<class 'tuple'>\n",
      "Thank You !\n"
     ]
    }
   ],
   "source": [
    "#Q15. Solution\n",
    "# This is simplest Student data management program in python\n",
    "\n",
    "# Create class \"Student\"\n",
    "class Student:\n",
    "\n",
    "# Constructor\n",
    "\tdef __init__(self, name, rollno, m1, m2):\n",
    "\t\tself.name = name\n",
    "\t\tself.rollno = rollno\n",
    "\t\tself.m1 = m1\n",
    "\t\tself.m2 = m2\n",
    "\n",
    "\t# Function to create and append new student\n",
    "\tdef accept(self, Name, Rollno, marks1, marks2):\n",
    "\n",
    "# use ' int(input()) ' method to take input from user\n",
    "\t\tob = Student(Name, Rollno, marks1, marks2)\n",
    "\t\tls.append(ob)\n",
    "\n",
    "\t# Function to display student details\n",
    "\tdef display(self, ob):\n",
    "\t\treturn(\"Name : \", ob.name,\"RollNo : \", ob.rollno,\"Marks1 : \", ob.m1,\"Marks2 : \", ob.m2)\n",
    "\t\t\n",
    "\t\treturn(\"\\n\")\n",
    "\n",
    "\t# Search Function\n",
    "\tdef search(self, rn):\n",
    "\t\tfor i in range(ls.__len__()):\n",
    "\t\t\tif(ls[i].rollno == rn):\n",
    "\t\t\t\treturn i\n",
    "\n",
    "\t# Delete Function\n",
    "\tdef delete(self, rn):\n",
    "\t\ti = obj.search(rn)\n",
    "\t\tdel ls[i]\n",
    "\n",
    "\t# Update Function\n",
    "\tdef update(self, rn, No):\n",
    "\t\ti = obj.search(rn)\n",
    "\t\troll = No\n",
    "\t\tls[i].rollno = roll\n",
    "\n",
    "\n",
    "# Create a list to add Students\n",
    "ls = []\n",
    "# an object of Student class\n",
    "obj = Student('', 0, 0, 0)\n",
    "\n",
    "print(\"\\nOperations used, \")\n",
    "print(\"\\n1.Accept Student details\\n2.Display Student Details\\n3.Search Details of a Student\\n4.Delete Details of Student\\n5.Update Student Details\\n6.Exit\")\n",
    "\n",
    "# ch = int(input(\"Enter choice:\"))\n",
    "# if(ch == 1):\n",
    "name=input(\"Enter Name of Student to Insert in Data: \")\n",
    "rool= int(input(\"Enter Roll No of Student: \"))\n",
    "ma1=int(input(\"Enter Marks of Student in Subject1: \"))\n",
    "ma2=int(input(\"Enter Marks of Student in Subject2: \"))             \n",
    "obj.accept(name,rool,ma1,ma2)\n",
    "obj.accept(\"A\", 1, 100, 100)\n",
    "obj.accept(\"B\", 2, 90, 90)\n",
    "obj.accept(\"C\", 3, 80, 80)\n",
    "\n",
    "# elif(ch == 2):\n",
    "print(\"\\n\")\n",
    "print(\"\\nList of Students\\n\")\n",
    "for i in range(ls.__len__()):\n",
    "\tobj.display(ls[i])\n",
    "\n",
    "# elif(ch == 3):\n",
    "print(\"\\n Student Found, \")\n",
    "sr=int(input(\"Enter Roll Number of Student to Search Data: \"))\n",
    "s = obj.search(sr)\n",
    "obj.display(ls[s])\n",
    "\n",
    "# elif(ch == 4):\n",
    "print(\"Length of List Before Deletion:\",ls.__len__())\n",
    "sr=int(input(\"Enter Roll Number of Student to Delete Data: \"))\n",
    "obj.delete(sr)\n",
    "print(\"Length of List After Deletion:\",ls.__len__())\n",
    "print(\"List after deletion\")\n",
    "for i in range(ls.__len__()):\n",
    "\tobj.display(ls[i])\n",
    "\n",
    "\n",
    "# elif(ch == 5):\n",
    "print(\"Update Function\")\n",
    "old_no= int (input (\"Enter Old Roll Number of Student: \"))\n",
    "new_no= int (input (\"Enter New Roll Number of Student: \"))\n",
    "obj.update(old_no, new_no)\n",
    "# print(ls.__len__())\n",
    "print(\"List after updation\")\n",
    "for i in range(ls.__len__()):\n",
    "\tobj.display(ls[i])\n",
    "\n",
    "print(type(obj.display(ls[0])))\n",
    "# else:\n",
    "print(\"Thank You !\")"
   ]
  },
  {
   "cell_type": "code",
   "execution_count": 41,
   "id": "8e5ba9bc-c7e3-41c3-9333-a15bfeed91aa",
   "metadata": {},
   "outputs": [],
   "source": [
    "a=obj.display(ls[2])"
   ]
  },
  {
   "cell_type": "code",
   "execution_count": 45,
   "id": "5589f5c5-3421-4e6c-834e-13244c288c62",
   "metadata": {},
   "outputs": [],
   "source": [
    "b=list(a)"
   ]
  },
  {
   "cell_type": "code",
   "execution_count": 46,
   "id": "75cd150a-e7c4-40da-978c-57a331d8c429",
   "metadata": {},
   "outputs": [
    {
     "data": {
      "text/plain": [
       "['Name : ', 'B', 'RollNo : ', 2, 'Marks1 : ', 90, 'Marks2 : ', 90]"
      ]
     },
     "execution_count": 46,
     "metadata": {},
     "output_type": "execute_result"
    }
   ],
   "source": [
    "b"
   ]
  },
  {
   "cell_type": "code",
   "execution_count": null,
   "id": "cbc4efb6-6c93-4379-8914-01bbdc883245",
   "metadata": {},
   "outputs": [],
   "source": []
  }
 ],
 "metadata": {
  "kernelspec": {
   "display_name": "Python 3 (ipykernel)",
   "language": "python",
   "name": "python3"
  },
  "language_info": {
   "codemirror_mode": {
    "name": "ipython",
    "version": 3
   },
   "file_extension": ".py",
   "mimetype": "text/x-python",
   "name": "python",
   "nbconvert_exporter": "python",
   "pygments_lexer": "ipython3",
   "version": "3.12.7"
  }
 },
 "nbformat": 4,
 "nbformat_minor": 5
}
