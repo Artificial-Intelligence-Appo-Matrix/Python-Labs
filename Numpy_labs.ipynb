{
 "cells": [
  {
   "cell_type": "markdown",
   "id": "5c652fc4-8201-4075-b50d-6e72d5406c85",
   "metadata": {},
   "source": [
    "## What is NumPy?"
   ]
  },
  {
   "cell_type": "markdown",
   "id": "7c5f8de2-6604-4ee6-8a2d-838170352c6c",
   "metadata": {},
   "source": [
    "NumPy is a Python library used for working with arrays.\n",
    "\n",
    "It also has functions for working in domain of linear algebra, fourier transform, and matrices.\n",
    "\n",
    "NumPy was created in 2005 by Travis Oliphant. It is an open source project and you can use it freely.\n",
    "\n",
    "NumPy stands for Numerical Python.\n",
    "\n"
   ]
  },
  {
   "cell_type": "markdown",
   "id": "09776122-7c2c-46c6-9f19-a740ab3cbfac",
   "metadata": {},
   "source": [
    "## Why Use NumPy?"
   ]
  },
  {
   "cell_type": "markdown",
   "id": "6ca7ac00-c45a-4c1f-8f47-a682e4d15400",
   "metadata": {},
   "source": [
    "In Python we have lists that serve the purpose of arrays, but they are slow to process.\n",
    "\n",
    "NumPy aims to provide an array object that is up to 50x faster than traditional Python lists.\n",
    "\n",
    "The array object in NumPy is called ndarray, it provides a lot of supporting functions that make working with ndarray very easy.\n",
    "\n",
    "Arrays are very frequently used in data science, where speed and resources are very important."
   ]
  },
  {
   "cell_type": "markdown",
   "id": "f3446a3c-8e0e-40d9-ae26-dc864b9afab1",
   "metadata": {},
   "source": [
    "## Why is NumPy Faster Than Lists?"
   ]
  },
  {
   "cell_type": "markdown",
   "id": "b884727e-00df-40df-ba52-d5adf1bbe2b0",
   "metadata": {},
   "source": [
    "NumPy arrays are stored at one continuous place in memory unlike lists, so processes can access and manipulate them very efficiently.\n",
    "\n",
    "This behavior is called locality of reference in computer science.\n",
    "\n",
    "This is the main reason why NumPy is faster than lists. Also it is optimized to work with latest CPU architectures."
   ]
  },
  {
   "cell_type": "markdown",
   "id": "ed23961e-c7eb-46eb-9d78-857a71929c6f",
   "metadata": {},
   "source": [
    "## Which Language is NumPy written in?"
   ]
  },
  {
   "cell_type": "markdown",
   "id": "b9c951bb-934d-4f11-85fb-9d65b5c3f1e5",
   "metadata": {},
   "source": [
    "NumPy is a Python library and is written partially in Python, but most of the parts that require fast computation are written in C or C++.\n",
    "\n"
   ]
  },
  {
   "cell_type": "markdown",
   "id": "d111be0f-a823-4e5c-aa87-e65598e0121c",
   "metadata": {},
   "source": [
    "# Installation of NumPy"
   ]
  },
  {
   "cell_type": "code",
   "execution_count": null,
   "id": "a50f796c-78bb-49c2-b3d2-3e16a2bb78b8",
   "metadata": {},
   "outputs": [],
   "source": [
    "!pip install numpy"
   ]
  },
  {
   "cell_type": "code",
   "execution_count": 2,
   "id": "b8f1aaac-0505-4595-b093-b324990cedc1",
   "metadata": {},
   "outputs": [],
   "source": [
    "import numpy as np"
   ]
  },
  {
   "cell_type": "code",
   "execution_count": 2,
   "id": "500d86df-cc71-48a2-9808-99961b492c4a",
   "metadata": {},
   "outputs": [
    {
     "name": "stdout",
     "output_type": "stream",
     "text": [
      "1.26.4\n"
     ]
    }
   ],
   "source": [
    "print(np.__version__)"
   ]
  },
  {
   "cell_type": "code",
   "execution_count": 10,
   "id": "cf01793d-d52c-4f20-a440-1721085b3cba",
   "metadata": {},
   "outputs": [
    {
     "data": {
      "text/plain": [
       "5"
      ]
     },
     "execution_count": 10,
     "metadata": {},
     "output_type": "execute_result"
    }
   ],
   "source": [
    "arr = np.array([1, 2, 3, 4, 5])\n",
    "arr[4]"
   ]
  },
  {
   "cell_type": "code",
   "execution_count": 5,
   "id": "88fac04f-12df-4180-99ea-869605a45cc7",
   "metadata": {},
   "outputs": [
    {
     "data": {
      "text/plain": [
       "array(23)"
      ]
     },
     "execution_count": 5,
     "metadata": {},
     "output_type": "execute_result"
    }
   ],
   "source": [
    "arr0=np.array(23)\n",
    "arr0"
   ]
  },
  {
   "cell_type": "code",
   "execution_count": 8,
   "id": "caa5767c-763a-4e5b-844d-26f39737745b",
   "metadata": {},
   "outputs": [
    {
     "name": "stdout",
     "output_type": "stream",
     "text": [
      "[1 2 3 4 5]\n"
     ]
    }
   ],
   "source": [
    "print(arr)"
   ]
  },
  {
   "cell_type": "code",
   "execution_count": 11,
   "id": "89d0c0a2-6158-4179-bef7-216b975513df",
   "metadata": {},
   "outputs": [
    {
     "name": "stdout",
     "output_type": "stream",
     "text": [
      "<class 'numpy.ndarray'>\n"
     ]
    }
   ],
   "source": [
    "print(type(arr))"
   ]
  },
  {
   "cell_type": "code",
   "execution_count": 10,
   "id": "24f34551-7591-4f8b-b12d-2a35499477bd",
   "metadata": {},
   "outputs": [
    {
     "name": "stdout",
     "output_type": "stream",
     "text": [
      "[1 2 3 4 5]\n"
     ]
    }
   ],
   "source": [
    "arr1 = np.array((1, 2, 3, 4, 5))\n",
    "\n",
    "print(arr1)"
   ]
  },
  {
   "cell_type": "code",
   "execution_count": 12,
   "id": "41408902-3477-47f5-8c6d-24d1f62bdb53",
   "metadata": {},
   "outputs": [
    {
     "name": "stdout",
     "output_type": "stream",
     "text": [
      "<class 'numpy.ndarray'>\n"
     ]
    }
   ],
   "source": [
    "print(type(arr1))"
   ]
  },
  {
   "cell_type": "markdown",
   "id": "3a4a08b7-bbb5-4ea8-b0b9-b592004521e6",
   "metadata": {},
   "source": [
    "## Dimensions In Arrays"
   ]
  },
  {
   "cell_type": "code",
   "execution_count": 26,
   "id": "f6cc63ab-3632-41f6-997d-8aa4b2d381b0",
   "metadata": {},
   "outputs": [
    {
     "name": "stdout",
     "output_type": "stream",
     "text": [
      "0\n",
      "1\n",
      "2\n",
      "3\n",
      "3\n"
     ]
    }
   ],
   "source": [
    "a = np.array(42)  #0D array\n",
    "b = np.array([1, 2, 3, 4, 5]) \n",
    "c = np.array([[1.4, 2, 3], [4, 5, 6]])\n",
    "d = np.array([[[1, 2, 3], [4, 5, 6]], [[1, 2, 3], [4, 5, 6]]])\n",
    "e=np.array([[[1],[2]],[[3],[4]],[[5],[6]]])\n",
    "print(a.ndim)\n",
    "print(b.ndim)\n",
    "print(c.ndim)\n",
    "print(d.ndim)\n",
    "print(e.ndim)"
   ]
  },
  {
   "cell_type": "code",
   "execution_count": 27,
   "id": "0e1b3cc4-d044-4751-98be-e5ea1936fb77",
   "metadata": {},
   "outputs": [
    {
     "name": "stdout",
     "output_type": "stream",
     "text": [
      "0 - D Array: \n",
      " 42\n",
      "____________________\n",
      "1 - D Array: \n",
      " [1 2 3 4 5]\n",
      "____________________\n",
      "2 - D Array: \n",
      " [[1.4 2.  3. ]\n",
      " [4.  5.  6. ]]\n",
      "____________________\n",
      "3 - D Array: \n",
      " [[[1 2 3]\n",
      "  [4 5 6]]\n",
      "\n",
      " [[1 2 3]\n",
      "  [4 5 6]]]\n",
      "____________________\n",
      "3 - D Array: \n",
      " [[[1]\n",
      "  [2]]\n",
      "\n",
      " [[3]\n",
      "  [4]]\n",
      "\n",
      " [[5]\n",
      "  [6]]]\n",
      "____________________\n"
     ]
    }
   ],
   "source": [
    "print(a.ndim,\"- D Array: \\n\",a)\n",
    "print(\"____________________\")\n",
    "print(b.ndim,\"- D Array: \\n\",b)\n",
    "print(\"____________________\")\n",
    "print(c.ndim,\"- D Array: \\n\",c)\n",
    "print(\"____________________\")\n",
    "print(d.ndim,\"- D Array: \\n\",d)\n",
    "print(\"____________________\")\n",
    "print(e.ndim,\"- D Array: \\n\",e)\n",
    "print(\"____________________\")\n",
    "\n",
    "# print(e[2][1])"
   ]
  },
  {
   "cell_type": "code",
   "execution_count": 28,
   "id": "fcbe4d53-958f-41eb-8fd5-0fbd77a30032",
   "metadata": {},
   "outputs": [
    {
     "name": "stdout",
     "output_type": "stream",
     "text": [
      "2 - D Array: \n",
      " [[1.4 2.  3. ]\n",
      " [4.  5.  6. ]]\n",
      "Rows and Colums:  (2, 3)\n",
      "Total Size:  6\n",
      "Data Type of Array:  float64\n"
     ]
    }
   ],
   "source": [
    "print(c.ndim,\"- D Array: \\n\",c)\n",
    "print(\"Rows and Colums: \",c.shape)\n",
    "print(\"Total Size: \",c.size)\n",
    "print(\"Data Type of Array: \",c.dtype)\n"
   ]
  },
  {
   "cell_type": "code",
   "execution_count": 30,
   "id": "2c16c569-b2b1-47a9-bbb0-d8c9f7fc3126",
   "metadata": {},
   "outputs": [],
   "source": [
    "a = np.array(1)"
   ]
  },
  {
   "cell_type": "code",
   "execution_count": 31,
   "id": "d6d04bdf-ffd5-4aba-89fd-bdabbe862f70",
   "metadata": {},
   "outputs": [],
   "source": [
    "a=np.array([1,2,3,4])"
   ]
  },
  {
   "cell_type": "code",
   "execution_count": 2,
   "id": "51a2dd93-718e-415c-888f-3c574ace5fb1",
   "metadata": {},
   "outputs": [],
   "source": [
    "import numpy as np"
   ]
  },
  {
   "cell_type": "markdown",
   "id": "5193bce1-bdfd-453e-8628-60c7a07c91eb",
   "metadata": {},
   "source": [
    "# New Lecture"
   ]
  },
  {
   "cell_type": "markdown",
   "id": "28d9e3b3-b289-415b-9479-199975ac922e",
   "metadata": {},
   "source": [
    "Adding larger Dimensions"
   ]
  },
  {
   "cell_type": "code",
   "execution_count": 21,
   "id": "3a5dfdcc-38b1-4dbc-8310-1a3bb642b302",
   "metadata": {
    "scrolled": true
   },
   "outputs": [
    {
     "name": "stdout",
     "output_type": "stream",
     "text": [
      "[[[[[[1 2 3 4]]]]]]\n",
      "number of dimensions : 6\n"
     ]
    }
   ],
   "source": [
    "arr = np.array([1, 2, 3, 4], ndmin=6)\n",
    "\n",
    "print(arr)\n",
    "print('number of dimensions :', arr.ndim)"
   ]
  },
  {
   "cell_type": "code",
   "execution_count": null,
   "id": "e87b803b-116f-456f-a391-8f85c28c3df5",
   "metadata": {
    "scrolled": true
   },
   "outputs": [],
   "source": [
    "arr[0][0][0][0][0][3] \n",
    "# traditional indexing"
   ]
  },
  {
   "cell_type": "markdown",
   "id": "ffdcad1c-f39d-4bc2-81d8-7e0b407c0272",
   "metadata": {},
   "source": [
    "Operations on Array indexes"
   ]
  },
  {
   "cell_type": "code",
   "execution_count": 24,
   "id": "42da02cb-2a95-468d-9040-1d94e8a5295f",
   "metadata": {},
   "outputs": [
    {
     "name": "stdout",
     "output_type": "stream",
     "text": [
      "7\n"
     ]
    }
   ],
   "source": [
    "arr = np.array([1, 2, 3, 4])\n",
    "\n",
    "print(arr[2] + arr[3])"
   ]
  },
  {
   "cell_type": "code",
   "execution_count": 26,
   "id": "104169ba-17ad-4cc4-ad0d-c6bcaf4961f4",
   "metadata": {},
   "outputs": [
    {
     "name": "stdout",
     "output_type": "stream",
     "text": [
      "Even Values Sum: 10\n",
      "Odd Values Sum: 16\n"
     ]
    }
   ],
   "source": [
    "arr=np.array([1,3,4,5,6,7])\n",
    "even_sum=0\n",
    "odd_sum=0\n",
    "for i in range(len(arr)):\n",
    "    if arr[i]%2==0:\n",
    "        even_sum+=arr[i]\n",
    "    else:\n",
    "        odd_sum+=arr[i]\n",
    "print(\"Even Values Sum:\",even_sum)\n",
    "print(\"Odd Values Sum:\",odd_sum)\n",
    "        \n"
   ]
  },
  {
   "cell_type": "markdown",
   "id": "b613de75-43f8-465e-9255-de81d0dbf334",
   "metadata": {},
   "source": [
    "Retriving Data"
   ]
  },
  {
   "cell_type": "code",
   "execution_count": 32,
   "id": "69624f07-ce73-4f9b-9020-11befe416e89",
   "metadata": {},
   "outputs": [
    {
     "name": "stdout",
     "output_type": "stream",
     "text": [
      "(2, 5)\n",
      "2\n",
      "2nd element on 1st row:  2\n"
     ]
    }
   ],
   "source": [
    "arr = np.array([[1,2,3,4,5], [6,7,8,9,10]])\n",
    "print(arr.shape)\n",
    "print(arr[0][1]) #traditional indexing\n",
    "print('2nd element on 1st row: ', arr[0, 1])"
   ]
  },
  {
   "cell_type": "code",
   "execution_count": 41,
   "id": "f2157521-ee5f-4237-ad60-48e8577562f6",
   "metadata": {},
   "outputs": [
    {
     "name": "stdout",
     "output_type": "stream",
     "text": [
      "7\n",
      "Access the first element of the first array of the second array: 7\n"
     ]
    }
   ],
   "source": [
    "arr = np.array([[[1, 2, 3], [4, 5, 6]], [[7, 8, 9], [10, 11, 12]]])\n",
    "print(arr[1][0][0])\n",
    "print(\"Access the first element of the first array of the second array:\",arr[1, 0, 0])"
   ]
  },
  {
   "cell_type": "code",
   "execution_count": 44,
   "id": "26dad873-0252-4a55-9bda-64182a056ded",
   "metadata": {},
   "outputs": [
    {
     "name": "stdout",
     "output_type": "stream",
     "text": [
      "Last element from 2nd dim:  10\n"
     ]
    }
   ],
   "source": [
    "arr = np.array([[1,2,3,4,5], [6,7,8,9,10]])\n",
    "\n",
    "print('Last element from 2nd dim: ', arr[1, -1])"
   ]
  },
  {
   "cell_type": "markdown",
   "id": "2a585da1-7528-461f-8215-c727ad9e8ed7",
   "metadata": {},
   "source": [
    "Slicing"
   ]
  },
  {
   "cell_type": "code",
   "execution_count": 45,
   "id": "1870f259-f805-4730-9b23-32fd4d59493c",
   "metadata": {},
   "outputs": [
    {
     "name": "stdout",
     "output_type": "stream",
     "text": [
      "[2 3 4 5]\n"
     ]
    }
   ],
   "source": [
    "arr = np.array([1, 2, 3, 4, 5, 6, 7])\n",
    "\n",
    "print(arr[1:5])"
   ]
  },
  {
   "cell_type": "code",
   "execution_count": 47,
   "id": "b8fbd726-47a5-4d08-901c-629f45982142",
   "metadata": {},
   "outputs": [
    {
     "name": "stdout",
     "output_type": "stream",
     "text": [
      "[4 5 6 7 6 7]\n"
     ]
    }
   ],
   "source": [
    "arr = np.array([1, 2, 3, 4, 5, 6, 7,6,7])\n",
    "\n",
    "print(arr[3:])"
   ]
  },
  {
   "cell_type": "code",
   "execution_count": 48,
   "id": "6f4c65c5-5f6d-469a-9c17-96e73ddc080e",
   "metadata": {},
   "outputs": [
    {
     "name": "stdout",
     "output_type": "stream",
     "text": [
      "[5 6]\n"
     ]
    }
   ],
   "source": [
    "arr = np.array([1, 2, 3, 4, 5, 6, 7])\n",
    "\n",
    "print(arr[-3:-1])"
   ]
  },
  {
   "cell_type": "code",
   "execution_count": 50,
   "id": "a51059b6-5623-423d-abe0-b23213803bde",
   "metadata": {},
   "outputs": [
    {
     "name": "stdout",
     "output_type": "stream",
     "text": [
      "[1 3 5]\n"
     ]
    }
   ],
   "source": [
    "arr = np.array([1, 2, 3, 4, 5, 6, 7,8])\n",
    "\n",
    "print(arr[0:6:2])"
   ]
  },
  {
   "cell_type": "code",
   "execution_count": 58,
   "id": "c08745b9-55a8-4cb4-b7c6-375dbd19ec4f",
   "metadata": {},
   "outputs": [
    {
     "name": "stdout",
     "output_type": "stream",
     "text": [
      "[[2 3 4]\n",
      " [7 8 9]]\n"
     ]
    }
   ],
   "source": [
    "arr = np.array([[1, 2, 3, 4, 5], [6, 7, 8, 9, 10]])\n",
    "\n",
    "print(arr[0:2, 1:4])"
   ]
  },
  {
   "cell_type": "markdown",
   "id": "61941c75-7903-4f63-b175-7bfe9a214a98",
   "metadata": {},
   "source": [
    "Type Casting\n",
    "i,u,s,b"
   ]
  },
  {
   "cell_type": "code",
   "execution_count": 61,
   "id": "f1b920d4-a963-40af-9656-ef779d2d404f",
   "metadata": {},
   "outputs": [
    {
     "name": "stdout",
     "output_type": "stream",
     "text": [
      "[b'1' b'2' b'3' b'4']\n",
      "|S1\n"
     ]
    }
   ],
   "source": [
    "arr = np.array([1, 2, 3, 4], dtype='S')\n",
    "\n",
    "print(arr)\n",
    "print(arr.dtype)"
   ]
  },
  {
   "cell_type": "code",
   "execution_count": null,
   "id": "bec82702-fa97-416f-a9ab-f92d8462cd78",
   "metadata": {},
   "outputs": [],
   "source": []
  },
  {
   "cell_type": "code",
   "execution_count": 63,
   "id": "c34dc17f-0a37-4aa7-bb8b-6c7c5f03867f",
   "metadata": {},
   "outputs": [
    {
     "name": "stdout",
     "output_type": "stream",
     "text": [
      "[1 2 3]\n",
      "int32\n"
     ]
    }
   ],
   "source": [
    "arr = np.array([1.9, 2.1, 3.1])\n",
    "\n",
    "newarr = arr.astype('i')\n",
    "\n",
    "print(newarr)\n",
    "print(newarr.dtype)\n",
    "\n",
    "# print(arr)\n",
    "# print(arr.dtype)\n",
    "# [1.9 2.1 3.1]\n",
    "# float64"
   ]
  },
  {
   "cell_type": "code",
   "execution_count": 64,
   "id": "c99c509a-a4e1-4ead-a07f-d93fe079931a",
   "metadata": {},
   "outputs": [
    {
     "name": "stdout",
     "output_type": "stream",
     "text": [
      "Integer array (i4): [1 2 3] | dtype: int32\n",
      "Unsigned integer array (u2): [1 2 3] | dtype: uint16\n",
      "Float array (f8): [1.1 2.2 3.3] | dtype: float64\n",
      "Byte string array (S5): [b'hello' b'world'] | dtype: |S5\n",
      "Unicode string array (U10): ['hello' 'world'] | dtype: <U10\n"
     ]
    }
   ],
   "source": [
    "# Integer (i) with size 4 (32-bit integer)\n",
    "int_array = np.array([1, 2, 3], dtype='i4')\n",
    "print(\"Integer array (i4):\", int_array, \"| dtype:\", int_array.dtype)\n",
    "\n",
    "# Unsigned Integer (u) with size 2 (16-bit unsigned integer)\n",
    "uint_array = np.array([1, 2, 3], dtype='u2')\n",
    "print(\"Unsigned integer array (u2):\", uint_array, \"| dtype:\", uint_array.dtype)\n",
    "\n",
    "# Float (f) with size 8 (64-bit float)\n",
    "float_array = np.array([1.1, 2.2, 3.3], dtype='f8')\n",
    "print(\"Float array (f8):\", float_array, \"| dtype:\", float_array.dtype)\n",
    "\n",
    "# Byte string (S) with size 5 (fixed-length string of 5 bytes)\n",
    "string_array = np.array([b'hello', b'worldq'], dtype='S5')\n",
    "print(\"Byte string array (S5):\", string_array, \"| dtype:\", string_array.dtype)\n",
    "\n",
    "# Unicode string (U) with size 10 (fixed-length Unicode string of 10 characters)\n",
    "unicode_array = np.array(['hello', 'world'], dtype='U10')\n",
    "print(\"Unicode string array (U10):\", unicode_array, \"| dtype:\", unicode_array.dtype)"
   ]
  },
  {
   "cell_type": "code",
   "execution_count": 65,
   "id": "7ca3d8dc-557d-44f2-b0cd-261b5c6edb3b",
   "metadata": {},
   "outputs": [
    {
     "name": "stdout",
     "output_type": "stream",
     "text": [
      "['h' 'w' '😊']\n",
      "['Python' 'NumPy' '😊❤️']\n"
     ]
    }
   ],
   "source": [
    "# Unicode string array with a maximum length of 5 characters\n",
    "unicode_array = np.array(['hello', 'world', '😊'], dtype='U1')\n",
    "print(unicode_array)  # Output: ['hello' 'world' '😊']\n",
    "\n",
    "# Note: Strings longer than 5 characters will be truncated\n",
    "unicode_array = np.array(['Python', 'NumPy', '😊❤️'], dtype='U6')\n",
    "print(unicode_array)  # Output: ['Pytho' 'NumPy' '😊❤️']"
   ]
  },
  {
   "cell_type": "code",
   "execution_count": null,
   "id": "6d0df239-b185-4cf1-9db9-96f4b437126d",
   "metadata": {},
   "outputs": [],
   "source": []
  },
  {
   "cell_type": "code",
   "execution_count": 67,
   "id": "b529ed26-b8bf-4671-b23d-a248eba49b3c",
   "metadata": {},
   "outputs": [
    {
     "name": "stdout",
     "output_type": "stream",
     "text": [
      "[1 0 1]\n",
      "[ True False  True]\n",
      "bool\n"
     ]
    }
   ],
   "source": [
    "arr = np.array([1, 0, 3%2])\n",
    "\n",
    "newarr = arr.astype(bool)\n",
    "print(arr)\n",
    "print(newarr)\n",
    "print(newarr.dtype)"
   ]
  },
  {
   "cell_type": "code",
   "execution_count": 2,
   "id": "cd6c8980-9dab-49c6-989f-a99bc95376d2",
   "metadata": {},
   "outputs": [],
   "source": [
    "import numpy as np"
   ]
  },
  {
   "cell_type": "markdown",
   "id": "df060fd7-c8df-4b6a-8720-b25a3c1df373",
   "metadata": {},
   "source": [
    "# Lecture 3"
   ]
  },
  {
   "cell_type": "markdown",
   "id": "94cda748-aee1-4d9f-a369-e042dcbff37b",
   "metadata": {},
   "source": [
    "## Copy and View Functions"
   ]
  },
  {
   "cell_type": "markdown",
   "id": "ff0ee195-6c19-4f35-9d42-d5cb6ecc8b22",
   "metadata": {},
   "source": [
    "Copy"
   ]
  },
  {
   "cell_type": "code",
   "execution_count": 4,
   "id": "94fcda9d-b2b0-4e03-b4d6-1b9aec094418",
   "metadata": {},
   "outputs": [
    {
     "name": "stdout",
     "output_type": "stream",
     "text": [
      "[42 34  3  4  5]\n",
      "[1 2 3 4 5]\n"
     ]
    }
   ],
   "source": [
    "arr = np.array([1, 2, 3, 4, 5])\n",
    "x = arr.copy()\n",
    "arr[0] = 42\n",
    "arr[1]=34\n",
    "\n",
    "print(arr)\n",
    "print(x)"
   ]
  },
  {
   "cell_type": "markdown",
   "id": "9ae75e93-a952-4558-b8f1-512d7f111666",
   "metadata": {},
   "source": [
    "View"
   ]
  },
  {
   "cell_type": "code",
   "execution_count": 6,
   "id": "855a8bd9-536c-46a3-89ad-73735d9edfc2",
   "metadata": {},
   "outputs": [
    {
     "name": "stdout",
     "output_type": "stream",
     "text": [
      "[42 34  3  4  5]\n",
      "[42 34  3  4  5]\n"
     ]
    }
   ],
   "source": [
    "arr = np.array([1, 2, 3, 4, 5])\n",
    "x = arr.view()\n",
    "arr[0] = 42\n",
    "arr[1]=34\n",
    "\n",
    "print(arr)\n",
    "print(x)"
   ]
  },
  {
   "cell_type": "markdown",
   "id": "05da83de-b4c0-4316-b976-d630966099ae",
   "metadata": {},
   "source": [
    "Data Source Checking"
   ]
  },
  {
   "cell_type": "code",
   "execution_count": 8,
   "id": "d9ef4e0c-f40c-4918-9b41-2106fd006fdb",
   "metadata": {},
   "outputs": [
    {
     "name": "stdout",
     "output_type": "stream",
     "text": [
      "None\n",
      "[ 1  2 12  4  5]\n"
     ]
    }
   ],
   "source": [
    "arr = np.array([1, 2, 3, 4, 5])\n",
    "\n",
    "x = arr.copy()\n",
    "y = arr.view()\n",
    "arr[2]=12\n",
    "\n",
    "print(x.base)\n",
    "print(y.base)"
   ]
  },
  {
   "cell_type": "markdown",
   "id": "a0448d01-cee3-40fc-99a6-d28dc0a9cc7b",
   "metadata": {},
   "source": [
    "Shape"
   ]
  },
  {
   "cell_type": "code",
   "execution_count": 9,
   "id": "5c25f6eb-db60-4534-8026-656c37eec1ca",
   "metadata": {},
   "outputs": [
    {
     "name": "stdout",
     "output_type": "stream",
     "text": [
      "[[[[[1 2 3 4]]]]]\n",
      "shape of array : (1, 1, 1, 1, 4)\n"
     ]
    }
   ],
   "source": [
    "arr = np.array([1, 2, 3, 4], ndmin=5)\n",
    "\n",
    "print(arr)\n",
    "print('shape of array :', arr.shape)"
   ]
  },
  {
   "cell_type": "markdown",
   "id": "69708143-24c1-4f46-9d14-66e2b40a2260",
   "metadata": {},
   "source": [
    "Reshape"
   ]
  },
  {
   "cell_type": "code",
   "execution_count": 20,
   "id": "c851e814-ee13-4e61-b3bb-7f99901445af",
   "metadata": {},
   "outputs": [
    {
     "name": "stdout",
     "output_type": "stream",
     "text": [
      "(12,)\n",
      "[[[ 1  2  3  4]\n",
      "  [ 5  6  7  8]\n",
      "  [ 9 10 11 12]]]\n",
      "____________________________\n",
      "[[ 1  2  3  4]\n",
      " [ 5  6  7  8]\n",
      " [ 9 10 11 12]]\n"
     ]
    }
   ],
   "source": [
    "arr = np.array([1, 2, 3, 4, 5, 6, 7, 8, 9, 10, 11, 12])\n",
    "print(arr.shape)\n",
    "newarr = arr.reshape(3, 4)\n",
    "convert3d= arr.reshape(1,3,4)    #total size 12\n",
    "print(convert3d)\n",
    "print(\"____________________________\")\n",
    "print(newarr)"
   ]
  },
  {
   "cell_type": "code",
   "execution_count": 81,
   "id": "5c47a758-3a7c-48f5-b588-2e244afdcde6",
   "metadata": {},
   "outputs": [
    {
     "name": "stdout",
     "output_type": "stream",
     "text": [
      "[[[ 1  2  3  4  5  6  7  8  9 10 11 12]]]\n"
     ]
    }
   ],
   "source": [
    "arr = np.array([1, 2, 3, 4, 5, 6, 7, 8, 9, 10, 11, 12])\n",
    "\n",
    "newarr = arr.reshape(1, 1, 12)\n",
    "\n",
    "print(newarr)"
   ]
  },
  {
   "cell_type": "code",
   "execution_count": null,
   "id": "933b5ad4-0fa8-4b3b-8d7a-382c36d2d1f7",
   "metadata": {},
   "outputs": [],
   "source": []
  },
  {
   "cell_type": "markdown",
   "id": "1f5d5b64-6fad-4d38-b9ef-aa1315d6f0f5",
   "metadata": {},
   "source": [
    "Copy and View Case"
   ]
  },
  {
   "cell_type": "code",
   "execution_count": 21,
   "id": "ad7c2392-b953-4c75-99f7-b42cf4e0c0d6",
   "metadata": {},
   "outputs": [
    {
     "name": "stdout",
     "output_type": "stream",
     "text": [
      "[[1 2 3 4]\n",
      " [5 6 7 8]]\n",
      "___________________\n",
      "[1 2 3 4 5 6 7 8]\n"
     ]
    }
   ],
   "source": [
    "arr = np.array([1, 2, 3, 4, 5, 6, 7, 8])\n",
    "x=arr.reshape(2, 4)\n",
    "print(x)\n",
    "print(\"___________________\")\n",
    "print(x.base)"
   ]
  },
  {
   "cell_type": "markdown",
   "id": "7bbb3ec9-0404-4546-b156-7bdc0be60775",
   "metadata": {},
   "source": [
    "Reshaping with unknown dimension"
   ]
  },
  {
   "cell_type": "code",
   "execution_count": 23,
   "id": "a344f3bb-754e-464e-82fb-0f8c386ec5f8",
   "metadata": {},
   "outputs": [
    {
     "name": "stdout",
     "output_type": "stream",
     "text": [
      "[[[1 2 3 4]\n",
      "  [5 6 7 8]]]\n",
      "Flated Array: [1 2 3 4 5 6 7 8]\n"
     ]
    }
   ],
   "source": [
    "arr = np.array([1, 2, 3, 4, 5, 6, 7, 8])\n",
    "\n",
    "newarr = arr.reshape(-1, 2, 4)\n",
    "\n",
    "print(newarr)\n",
    "flater=newarr.reshape(-1)\n",
    "print(\"Flated Array:\",flater)"
   ]
  },
  {
   "cell_type": "markdown",
   "id": "9d13960c-d875-41d7-915d-6bc10d7d98b5",
   "metadata": {},
   "source": [
    "Flating Arrays"
   ]
  },
  {
   "cell_type": "code",
   "execution_count": 98,
   "id": "5c9adbb1-92b3-44de-bdfa-0f4abe99b112",
   "metadata": {},
   "outputs": [
    {
     "name": "stdout",
     "output_type": "stream",
     "text": [
      "[1 2 3 4 5 6]\n"
     ]
    }
   ],
   "source": [
    "arr = np.array([[1, 2, 3], [4, 5, 6]])\n",
    "\n",
    "newarr = arr.reshape(-1)\n",
    "\n",
    "print(newarr)"
   ]
  },
  {
   "cell_type": "markdown",
   "id": "dc36f5ea-f50e-4ac1-9d7d-6d5cbc61e26c",
   "metadata": {},
   "source": [
    "Convert the array into a 1D array"
   ]
  },
  {
   "cell_type": "code",
   "execution_count": 1,
   "id": "59443304-c158-4fe6-b811-8f8809539c21",
   "metadata": {},
   "outputs": [
    {
     "name": "stdout",
     "output_type": "stream",
     "text": [
      "[1 2 3 4 5 6]\n"
     ]
    }
   ],
   "source": [
    "\n",
    "arr = np.array([[1, 2, 3], [4, 5, 6]])\n",
    "\n",
    "newarr = arr.reshape(-1)\n",
    "\n",
    "print(newarr)"
   ]
  },
  {
   "cell_type": "markdown",
   "id": "8715bd50-e9a0-4f9c-ad6a-62b295b2b63f",
   "metadata": {},
   "source": [
    "Iterrating Arrays"
   ]
  },
  {
   "cell_type": "code",
   "execution_count": 24,
   "id": "5a4b9084-9d2f-4032-8cc8-9ac76709b68f",
   "metadata": {},
   "outputs": [
    {
     "name": "stdout",
     "output_type": "stream",
     "text": [
      "[1 2 3]\n",
      "[4 5 6]\n"
     ]
    }
   ],
   "source": [
    "arr = np.array([[1, 2, 3], [4, 5, 6]])\n",
    "\n",
    "for x in arr:\n",
    "  print(x)"
   ]
  },
  {
   "cell_type": "markdown",
   "id": "6464a02f-006c-4b7c-9990-29f876fce6ae",
   "metadata": {},
   "source": [
    "Iterate on each scalar element of the 2-D array"
   ]
  },
  {
   "cell_type": "code",
   "execution_count": 27,
   "id": "45ed5525-aac5-466f-a387-c57119a63946",
   "metadata": {},
   "outputs": [
    {
     "name": "stdout",
     "output_type": "stream",
     "text": [
      "1\n",
      "2\n",
      "3\n",
      "4\n",
      "5\n",
      "6\n"
     ]
    }
   ],
   "source": [
    "arr = np.array([[1, 2, 3], [4, 5, 6]])\n",
    "\n",
    "for x in arr:\n",
    "  for y in x:\n",
    "        # print(type(x))\n",
    "        # print(type(y))\n",
    "        # print(y.ndim)\n",
    "        print(y)"
   ]
  },
  {
   "cell_type": "code",
   "execution_count": 29,
   "id": "02565652-177c-485a-a856-ef1231da4b94",
   "metadata": {},
   "outputs": [
    {
     "name": "stdout",
     "output_type": "stream",
     "text": [
      "1\n",
      "2\n",
      "3\n",
      "4\n"
     ]
    }
   ],
   "source": [
    "arr=np.array([1,2,3,4])\n",
    "for x in arr:\n",
    "    print(x)"
   ]
  },
  {
   "cell_type": "code",
   "execution_count": 35,
   "id": "e0c7ea27-a7ba-4986-9135-7d8536d354db",
   "metadata": {},
   "outputs": [
    {
     "name": "stdout",
     "output_type": "stream",
     "text": [
      "1\n",
      "2\n",
      "3\n",
      "4\n",
      "5\n",
      "6\n",
      "7\n",
      "8\n",
      "9\n",
      "10\n",
      "11\n",
      "12\n"
     ]
    }
   ],
   "source": [
    "arr = np.array([[[1, 2, 3], [4, 5, 6]], [[7, 8, 9], [10, 11, 12]]])\n",
    "# traditional way\n",
    "for x in arr:\n",
    "    # print(x)\n",
    "    for y in x:\n",
    "      # print(y)\n",
    "      for z in y:\n",
    "          print(z)"
   ]
  },
  {
   "cell_type": "markdown",
   "id": "e5d9114e-50b4-425c-b5e6-fec3b5946293",
   "metadata": {},
   "source": [
    "Iterating Arrays Using nditer()"
   ]
  },
  {
   "cell_type": "code",
   "execution_count": 34,
   "id": "1d820ad5-6869-45c7-a410-9d46ee1441c4",
   "metadata": {},
   "outputs": [
    {
     "name": "stdout",
     "output_type": "stream",
     "text": [
      "1\n",
      "2\n",
      "3\n",
      "4\n",
      "5\n",
      "6\n",
      "7\n",
      "8\n"
     ]
    }
   ],
   "source": [
    "arr = np.array([[[1, 2], [3, 4]], [[5, 6], [7, 8]]])\n",
    "\n",
    "for x in np.nditer(arr):\n",
    "  print(x)"
   ]
  },
  {
   "cell_type": "markdown",
   "id": "6d574863-fdd3-4e18-ad3b-1865cd05f3a1",
   "metadata": {},
   "source": [
    "Iterating and Buffer "
   ]
  },
  {
   "cell_type": "markdown",
   "id": "06c86e8d-245a-4f5d-8edc-5efa4bd991b4",
   "metadata": {},
   "source": [
    "NumPy does not change the data type of the element in-place (where the element is in array) so it needs some other space to perform this action, that extra space is called buffer"
   ]
  },
  {
   "cell_type": "markdown",
   "id": "22e503d9-f009-4e77-b240-4d3db7182452",
   "metadata": {},
   "source": [
    "op_dtypes"
   ]
  },
  {
   "cell_type": "markdown",
   "id": "ecb8fca0-19f9-44ea-a8a9-5ee3f0bb13d2",
   "metadata": {},
   "source": [
    "flags=['buffered']"
   ]
  },
  {
   "cell_type": "code",
   "execution_count": 36,
   "id": "ec66ee2b-81b3-4a76-993b-555bf77b72ec",
   "metadata": {},
   "outputs": [
    {
     "name": "stdout",
     "output_type": "stream",
     "text": [
      "b'1'\n",
      "|S11\n",
      "b'2'\n",
      "|S11\n",
      "b'3'\n",
      "|S11\n"
     ]
    }
   ],
   "source": [
    "arr = np.array([1, 2, 3])\n",
    "\n",
    "for x in np.nditer(arr, flags=['buffered'], op_dtypes=['S']):\n",
    "  print(x)\n",
    "  print(x.dtype)\n",
    "        "
   ]
  },
  {
   "cell_type": "code",
   "execution_count": 37,
   "id": "e662eb37-d3fe-4732-be55-345049bc6104",
   "metadata": {},
   "outputs": [
    {
     "data": {
      "text/plain": [
       "dtype('int32')"
      ]
     },
     "execution_count": 37,
     "metadata": {},
     "output_type": "execute_result"
    }
   ],
   "source": [
    "arr.dtype"
   ]
  },
  {
   "cell_type": "markdown",
   "id": "ed1b43e6-bfa3-48c4-ba76-4b48bcf27172",
   "metadata": {},
   "source": [
    "Iterating With Different Step Size"
   ]
  },
  {
   "cell_type": "code",
   "execution_count": 41,
   "id": "b619927f-6062-4ff0-a313-0f0e4d5961c2",
   "metadata": {},
   "outputs": [
    {
     "name": "stdout",
     "output_type": "stream",
     "text": [
      "1\n",
      "4\n",
      "5\n",
      "8\n"
     ]
    }
   ],
   "source": [
    "arr = np.array([[1, 2, 3, 4], [5, 6, 7, 8]])\n",
    "\n",
    "for x in np.nditer(arr[:, ::3]):           # 2 step slicing\n",
    "  print(x)"
   ]
  },
  {
   "cell_type": "markdown",
   "id": "58123ef0-2fb1-4176-9e0d-fb0f0f669c07",
   "metadata": {},
   "source": [
    "Enumerated Iteration Using ndenumerate()"
   ]
  },
  {
   "cell_type": "markdown",
   "id": "8991bd89-6282-4d48-8854-1db18fbc7199",
   "metadata": {},
   "source": [
    "Enumeration means mentioning sequence number of somethings one by one.\n",
    "\n",
    "ndenumerate()"
   ]
  },
  {
   "cell_type": "code",
   "execution_count": 60,
   "id": "2e0700ad-2009-4115-832d-ddeb26856153",
   "metadata": {},
   "outputs": [
    {
     "name": "stdout",
     "output_type": "stream",
     "text": [
      "Index: 0 0 0 Value 1\n",
      "Index: 0 0 1 Value 2\n",
      "Index: 0 0 2 Value 3\n",
      "Index: 0 1 0 Value 1\n",
      "Index: 0 1 1 Value 2\n",
      "Index: 0 1 2 Value 3\n",
      "Index: 0 2 0 Value 1\n",
      "Index: 0 2 1 Value 2\n",
      "Index: 0 2 2 Value 3\n"
     ]
    }
   ],
   "source": [
    "arr = np.array([[[1, 2, 3],[1,2,3],[1,2,3]]])\n",
    "i=0\n",
    "for idx, x in np.ndenumerate(arr):\n",
    "    y=type(idx)\n",
    "    y=idx\n",
    "    z=type(x)\n",
    "    a=y[0]\n",
    "    b=y[1]\n",
    "    c=y[2]\n",
    "   \n",
    "    # print(idx,\"Index Type\",y, \"Type of X:\",z)\n",
    "    print(\"Index:\",a,b,c,\"Value\", x)\n",
    "    "
   ]
  },
  {
   "cell_type": "markdown",
   "id": "8cfeba6d-d095-4062-be0d-eeb9567d66a8",
   "metadata": {},
   "source": [
    "Enumerate on following 2D array's elements"
   ]
  },
  {
   "cell_type": "code",
   "execution_count": 62,
   "id": "57c319c5-0e05-45f7-bf83-a474a47cb95b",
   "metadata": {},
   "outputs": [
    {
     "name": "stdout",
     "output_type": "stream",
     "text": [
      "Index: (0, 0, 0, 0, 0) Values: 1\n",
      "Index: (0, 0, 0, 0, 1) Values: 2\n",
      "Index: (0, 0, 0, 0, 2) Values: 3\n",
      "Index: (0, 0, 0, 0, 3) Values: 4\n",
      "Index: (0, 0, 0, 1, 0) Values: 5\n",
      "Index: (0, 0, 0, 1, 1) Values: 6\n",
      "Index: (0, 0, 0, 1, 2) Values: 7\n",
      "Index: (0, 0, 0, 1, 3) Values: 8\n"
     ]
    }
   ],
   "source": [
    "arr = np.array(([[1, 2, 3, 4], [5, 6, 7, 8]]) , ndmin =5)\n",
    "# print(arr)\n",
    "for idx, x in np.ndenumerate(arr):\n",
    "  print(\"Index:\",idx,\"Values:\", x)"
   ]
  },
  {
   "cell_type": "code",
   "execution_count": 63,
   "id": "6ce0393a-30de-4760-bf6e-7b00b7615505",
   "metadata": {},
   "outputs": [
    {
     "name": "stdout",
     "output_type": "stream",
     "text": [
      "1\n"
     ]
    }
   ],
   "source": [
    "print(arr[0][0][0][0][0])"
   ]
  },
  {
   "cell_type": "code",
   "execution_count": null,
   "id": "c3909861-9a0c-4dbd-af90-585e005aeb42",
   "metadata": {},
   "outputs": [],
   "source": []
  },
  {
   "cell_type": "code",
   "execution_count": null,
   "id": "b0e7f3db-0fd6-4433-9f5b-daff75fafc89",
   "metadata": {},
   "outputs": [],
   "source": []
  },
  {
   "cell_type": "code",
   "execution_count": null,
   "id": "90580536-cd9a-4920-b432-504e659c0564",
   "metadata": {},
   "outputs": [],
   "source": []
  },
  {
   "cell_type": "code",
   "execution_count": null,
   "id": "36929866-62bc-4799-8284-6bfbadf9d6e6",
   "metadata": {},
   "outputs": [],
   "source": []
  },
  {
   "cell_type": "code",
   "execution_count": null,
   "id": "c91ac3de-1a05-4619-ba2a-6be0d179fb0a",
   "metadata": {},
   "outputs": [],
   "source": []
  }
 ],
 "metadata": {
  "kernelspec": {
   "display_name": "Python 3 (ipykernel)",
   "language": "python",
   "name": "python3"
  },
  "language_info": {
   "codemirror_mode": {
    "name": "ipython",
    "version": 3
   },
   "file_extension": ".py",
   "mimetype": "text/x-python",
   "name": "python",
   "nbconvert_exporter": "python",
   "pygments_lexer": "ipython3",
   "version": "3.12.7"
  }
 },
 "nbformat": 4,
 "nbformat_minor": 5
}
