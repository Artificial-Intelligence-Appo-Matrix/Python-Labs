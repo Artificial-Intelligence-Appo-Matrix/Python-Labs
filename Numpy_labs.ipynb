{
 "cells": [
  {
   "cell_type": "markdown",
   "id": "5c652fc4-8201-4075-b50d-6e72d5406c85",
   "metadata": {
    "id": "5c652fc4-8201-4075-b50d-6e72d5406c85"
   },
   "source": [
    "## What is NumPy?"
   ]
  },
  {
   "cell_type": "markdown",
   "id": "7c5f8de2-6604-4ee6-8a2d-838170352c6c",
   "metadata": {
    "id": "7c5f8de2-6604-4ee6-8a2d-838170352c6c"
   },
   "source": [
    "NumPy is a Python library used for working with arrays.\n",
    "\n",
    "It also has functions for working in domain of linear algebra, fourier transform, and matrices.\n",
    "\n",
    "NumPy was created in 2005 by Travis Oliphant. It is an open source project and you can use it freely.\n",
    "\n",
    "NumPy stands for Numerical Python.\n",
    "\n"
   ]
  },
  {
   "cell_type": "markdown",
   "id": "09776122-7c2c-46c6-9f19-a740ab3cbfac",
   "metadata": {
    "id": "09776122-7c2c-46c6-9f19-a740ab3cbfac"
   },
   "source": [
    "## Why Use NumPy?"
   ]
  },
  {
   "cell_type": "markdown",
   "id": "6ca7ac00-c45a-4c1f-8f47-a682e4d15400",
   "metadata": {
    "id": "6ca7ac00-c45a-4c1f-8f47-a682e4d15400"
   },
   "source": [
    "In Python we have lists that serve the purpose of arrays, but they are slow to process.\n",
    "\n",
    "NumPy aims to provide an array object that is up to 50x faster than traditional Python lists.\n",
    "\n",
    "The array object in NumPy is called ndarray, it provides a lot of supporting functions that make working with ndarray very easy.\n",
    "\n",
    "Arrays are very frequently used in data science, where speed and resources are very important."
   ]
  },
  {
   "cell_type": "markdown",
   "id": "f3446a3c-8e0e-40d9-ae26-dc864b9afab1",
   "metadata": {
    "id": "f3446a3c-8e0e-40d9-ae26-dc864b9afab1"
   },
   "source": [
    "## Why is NumPy Faster Than Lists?"
   ]
  },
  {
   "cell_type": "markdown",
   "id": "b884727e-00df-40df-ba52-d5adf1bbe2b0",
   "metadata": {
    "id": "b884727e-00df-40df-ba52-d5adf1bbe2b0"
   },
   "source": [
    "NumPy arrays are stored at one continuous place in memory unlike lists, so processes can access and manipulate them very efficiently.\n",
    "\n",
    "This behavior is called locality of reference in computer science.\n",
    "\n",
    "This is the main reason why NumPy is faster than lists. Also it is optimized to work with latest CPU architectures."
   ]
  },
  {
   "cell_type": "markdown",
   "id": "ed23961e-c7eb-46eb-9d78-857a71929c6f",
   "metadata": {
    "id": "ed23961e-c7eb-46eb-9d78-857a71929c6f"
   },
   "source": [
    "## Which Language is NumPy written in?"
   ]
  },
  {
   "cell_type": "markdown",
   "id": "b9c951bb-934d-4f11-85fb-9d65b5c3f1e5",
   "metadata": {
    "id": "b9c951bb-934d-4f11-85fb-9d65b5c3f1e5"
   },
   "source": [
    "NumPy is a Python library and is written partially in Python, but most of the parts that require fast computation are written in C or C++.\n",
    "\n"
   ]
  },
  {
   "cell_type": "markdown",
   "id": "d111be0f-a823-4e5c-aa87-e65598e0121c",
   "metadata": {
    "id": "d111be0f-a823-4e5c-aa87-e65598e0121c"
   },
   "source": [
    "# Installation of NumPy"
   ]
  },
  {
   "cell_type": "code",
   "execution_count": null,
   "id": "a50f796c-78bb-49c2-b3d2-3e16a2bb78b8",
   "metadata": {
    "id": "a50f796c-78bb-49c2-b3d2-3e16a2bb78b8"
   },
   "outputs": [],
   "source": [
    "!pip install numpy"
   ]
  },
  {
   "cell_type": "code",
   "execution_count": null,
   "id": "b8f1aaac-0505-4595-b093-b324990cedc1",
   "metadata": {
    "id": "b8f1aaac-0505-4595-b093-b324990cedc1"
   },
   "outputs": [],
   "source": [
    "import numpy as np"
   ]
  },
  {
   "cell_type": "code",
   "execution_count": null,
   "id": "500d86df-cc71-48a2-9808-99961b492c4a",
   "metadata": {
    "id": "500d86df-cc71-48a2-9808-99961b492c4a",
    "outputId": "7de26810-af24-4615-e790-d9587a425964"
   },
   "outputs": [
    {
     "name": "stdout",
     "output_type": "stream",
     "text": [
      "1.26.4\n"
     ]
    }
   ],
   "source": [
    "print(np.__version__)"
   ]
  },
  {
   "cell_type": "code",
   "execution_count": null,
   "id": "cf01793d-d52c-4f20-a440-1721085b3cba",
   "metadata": {
    "id": "cf01793d-d52c-4f20-a440-1721085b3cba",
    "outputId": "dda0048f-c3de-47e7-a9c4-96faf5e258a8"
   },
   "outputs": [
    {
     "data": {
      "text/plain": [
       "5"
      ]
     },
     "execution_count": 10,
     "metadata": {},
     "output_type": "execute_result"
    }
   ],
   "source": [
    "arr = np.array([1, 2, 3, 4, 5])\n",
    "arr[4]"
   ]
  },
  {
   "cell_type": "code",
   "execution_count": null,
   "id": "88fac04f-12df-4180-99ea-869605a45cc7",
   "metadata": {
    "id": "88fac04f-12df-4180-99ea-869605a45cc7",
    "outputId": "cae80591-a34e-4515-9e2b-0e69f1400d6d"
   },
   "outputs": [
    {
     "data": {
      "text/plain": [
       "array(23)"
      ]
     },
     "execution_count": 5,
     "metadata": {},
     "output_type": "execute_result"
    }
   ],
   "source": [
    "arr0=np.array(23)\n",
    "arr0"
   ]
  },
  {
   "cell_type": "code",
   "execution_count": null,
   "id": "caa5767c-763a-4e5b-844d-26f39737745b",
   "metadata": {
    "id": "caa5767c-763a-4e5b-844d-26f39737745b",
    "outputId": "19bcccbd-c8ee-4183-a5cb-9bd25eb9ef6d"
   },
   "outputs": [
    {
     "name": "stdout",
     "output_type": "stream",
     "text": [
      "[1 2 3 4 5]\n"
     ]
    }
   ],
   "source": [
    "print(arr)"
   ]
  },
  {
   "cell_type": "code",
   "execution_count": null,
   "id": "89d0c0a2-6158-4179-bef7-216b975513df",
   "metadata": {
    "id": "89d0c0a2-6158-4179-bef7-216b975513df",
    "outputId": "1f266d27-e034-424a-cc9f-3c57c7759033"
   },
   "outputs": [
    {
     "name": "stdout",
     "output_type": "stream",
     "text": [
      "<class 'numpy.ndarray'>\n"
     ]
    }
   ],
   "source": [
    "print(type(arr))"
   ]
  },
  {
   "cell_type": "code",
   "execution_count": null,
   "id": "24f34551-7591-4f8b-b12d-2a35499477bd",
   "metadata": {
    "id": "24f34551-7591-4f8b-b12d-2a35499477bd",
    "outputId": "2181ac59-8f77-462e-bbd3-9bebdb8f5f59"
   },
   "outputs": [
    {
     "name": "stdout",
     "output_type": "stream",
     "text": [
      "[1 2 3 4 5]\n"
     ]
    }
   ],
   "source": [
    "arr1 = np.array((1, 2, 3, 4, 5))\n",
    "\n",
    "print(arr1)"
   ]
  },
  {
   "cell_type": "code",
   "execution_count": null,
   "id": "41408902-3477-47f5-8c6d-24d1f62bdb53",
   "metadata": {
    "id": "41408902-3477-47f5-8c6d-24d1f62bdb53",
    "outputId": "5653a764-9662-4dbc-f319-c9a58a2f176f"
   },
   "outputs": [
    {
     "name": "stdout",
     "output_type": "stream",
     "text": [
      "<class 'numpy.ndarray'>\n"
     ]
    }
   ],
   "source": [
    "print(type(arr1))"
   ]
  },
  {
   "cell_type": "markdown",
   "id": "3a4a08b7-bbb5-4ea8-b0b9-b592004521e6",
   "metadata": {
    "id": "3a4a08b7-bbb5-4ea8-b0b9-b592004521e6"
   },
   "source": [
    "## Dimensions In Arrays"
   ]
  },
  {
   "cell_type": "code",
   "execution_count": null,
   "id": "f6cc63ab-3632-41f6-997d-8aa4b2d381b0",
   "metadata": {
    "id": "f6cc63ab-3632-41f6-997d-8aa4b2d381b0",
    "outputId": "240bd7b7-1d51-4498-93d8-315c2bc72949"
   },
   "outputs": [
    {
     "name": "stdout",
     "output_type": "stream",
     "text": [
      "0\n",
      "1\n",
      "2\n",
      "3\n",
      "3\n"
     ]
    }
   ],
   "source": [
    "a = np.array(42)  #0D array\n",
    "b = np.array([1, 2, 3, 4, 5])\n",
    "c = np.array([[1.4, 2, 3], [4, 5, 6]])\n",
    "d = np.array([[[1, 2, 3], [4, 5, 6]], [[1, 2, 3], [4, 5, 6]]])\n",
    "e=np.array([[[1],[2]],[[3],[4]],[[5],[6]]])\n",
    "print(a.ndim)\n",
    "print(b.ndim)\n",
    "print(c.ndim)\n",
    "print(d.ndim)\n",
    "print(e.ndim)"
   ]
  },
  {
   "cell_type": "code",
   "execution_count": null,
   "id": "0e1b3cc4-d044-4751-98be-e5ea1936fb77",
   "metadata": {
    "id": "0e1b3cc4-d044-4751-98be-e5ea1936fb77",
    "outputId": "bec4e977-7716-4a0d-bf82-b14bf2038b29"
   },
   "outputs": [
    {
     "name": "stdout",
     "output_type": "stream",
     "text": [
      "0 - D Array: \n",
      " 42\n",
      "____________________\n",
      "1 - D Array: \n",
      " [1 2 3 4 5]\n",
      "____________________\n",
      "2 - D Array: \n",
      " [[1.4 2.  3. ]\n",
      " [4.  5.  6. ]]\n",
      "____________________\n",
      "3 - D Array: \n",
      " [[[1 2 3]\n",
      "  [4 5 6]]\n",
      "\n",
      " [[1 2 3]\n",
      "  [4 5 6]]]\n",
      "____________________\n",
      "3 - D Array: \n",
      " [[[1]\n",
      "  [2]]\n",
      "\n",
      " [[3]\n",
      "  [4]]\n",
      "\n",
      " [[5]\n",
      "  [6]]]\n",
      "____________________\n"
     ]
    }
   ],
   "source": [
    "print(a.ndim,\"- D Array: \\n\",a)\n",
    "print(\"____________________\")\n",
    "print(b.ndim,\"- D Array: \\n\",b)\n",
    "print(\"____________________\")\n",
    "print(c.ndim,\"- D Array: \\n\",c)\n",
    "print(\"____________________\")\n",
    "print(d.ndim,\"- D Array: \\n\",d)\n",
    "print(\"____________________\")\n",
    "print(e.ndim,\"- D Array: \\n\",e)\n",
    "print(\"____________________\")\n",
    "\n",
    "# print(e[2][1])"
   ]
  },
  {
   "cell_type": "code",
   "execution_count": null,
   "id": "fcbe4d53-958f-41eb-8fd5-0fbd77a30032",
   "metadata": {
    "id": "fcbe4d53-958f-41eb-8fd5-0fbd77a30032",
    "outputId": "3bf86e7d-958e-44bc-a7b4-2ba1ef215442"
   },
   "outputs": [
    {
     "name": "stdout",
     "output_type": "stream",
     "text": [
      "2 - D Array: \n",
      " [[1.4 2.  3. ]\n",
      " [4.  5.  6. ]]\n",
      "Rows and Colums:  (2, 3)\n",
      "Total Size:  6\n",
      "Data Type of Array:  float64\n"
     ]
    }
   ],
   "source": [
    "print(c.ndim,\"- D Array: \\n\",c)\n",
    "print(\"Rows and Colums: \",c.shape)\n",
    "print(\"Total Size: \",c.size)\n",
    "print(\"Data Type of Array: \",c.dtype)\n"
   ]
  },
  {
   "cell_type": "code",
   "execution_count": null,
   "id": "2c16c569-b2b1-47a9-bbb0-d8c9f7fc3126",
   "metadata": {
    "id": "2c16c569-b2b1-47a9-bbb0-d8c9f7fc3126"
   },
   "outputs": [],
   "source": [
    "a = np.array(1)"
   ]
  },
  {
   "cell_type": "code",
   "execution_count": null,
   "id": "d6d04bdf-ffd5-4aba-89fd-bdabbe862f70",
   "metadata": {
    "id": "d6d04bdf-ffd5-4aba-89fd-bdabbe862f70"
   },
   "outputs": [],
   "source": [
    "a=np.array([1,2,3,4])"
   ]
  },
  {
   "cell_type": "code",
   "execution_count": null,
   "id": "51a2dd93-718e-415c-888f-3c574ace5fb1",
   "metadata": {
    "id": "51a2dd93-718e-415c-888f-3c574ace5fb1"
   },
   "outputs": [],
   "source": [
    "import numpy as np"
   ]
  },
  {
   "cell_type": "markdown",
   "id": "5193bce1-bdfd-453e-8628-60c7a07c91eb",
   "metadata": {
    "id": "5193bce1-bdfd-453e-8628-60c7a07c91eb"
   },
   "source": [
    "# New Lecture"
   ]
  },
  {
   "cell_type": "markdown",
   "id": "28d9e3b3-b289-415b-9479-199975ac922e",
   "metadata": {
    "id": "28d9e3b3-b289-415b-9479-199975ac922e"
   },
   "source": [
    "Adding larger Dimensions"
   ]
  },
  {
   "cell_type": "code",
   "execution_count": null,
   "id": "3a5dfdcc-38b1-4dbc-8310-1a3bb642b302",
   "metadata": {
    "id": "3a5dfdcc-38b1-4dbc-8310-1a3bb642b302",
    "outputId": "9cc50d81-2a06-4d7a-9541-89010634d7be",
    "scrolled": true
   },
   "outputs": [
    {
     "name": "stdout",
     "output_type": "stream",
     "text": [
      "[[[[[[1 2 3 4]]]]]]\n",
      "number of dimensions : 6\n"
     ]
    }
   ],
   "source": [
    "arr = np.array([1, 2, 3, 4], ndmin=6)\n",
    "\n",
    "print(arr)\n",
    "print('number of dimensions :', arr.ndim)"
   ]
  },
  {
   "cell_type": "code",
   "execution_count": null,
   "id": "e87b803b-116f-456f-a391-8f85c28c3df5",
   "metadata": {
    "id": "e87b803b-116f-456f-a391-8f85c28c3df5",
    "scrolled": true
   },
   "outputs": [],
   "source": [
    "arr[0][0][0][0][0][3]\n",
    "# traditional indexing"
   ]
  },
  {
   "cell_type": "markdown",
   "id": "ffdcad1c-f39d-4bc2-81d8-7e0b407c0272",
   "metadata": {
    "id": "ffdcad1c-f39d-4bc2-81d8-7e0b407c0272"
   },
   "source": [
    "Operations on Array indexes"
   ]
  },
  {
   "cell_type": "code",
   "execution_count": null,
   "id": "42da02cb-2a95-468d-9040-1d94e8a5295f",
   "metadata": {
    "id": "42da02cb-2a95-468d-9040-1d94e8a5295f",
    "outputId": "f775175e-79a0-452f-e4a2-18685fda5e2c"
   },
   "outputs": [
    {
     "name": "stdout",
     "output_type": "stream",
     "text": [
      "7\n"
     ]
    }
   ],
   "source": [
    "arr = np.array([1, 2, 3, 4])\n",
    "\n",
    "print(arr[2] + arr[3])"
   ]
  },
  {
   "cell_type": "code",
   "execution_count": null,
   "id": "104169ba-17ad-4cc4-ad0d-c6bcaf4961f4",
   "metadata": {
    "id": "104169ba-17ad-4cc4-ad0d-c6bcaf4961f4",
    "outputId": "86678cb4-28a5-4aa7-b273-b22b185dc3fb"
   },
   "outputs": [
    {
     "name": "stdout",
     "output_type": "stream",
     "text": [
      "Even Values Sum: 10\n",
      "Odd Values Sum: 16\n"
     ]
    }
   ],
   "source": [
    "arr=np.array([1,3,4,5,6,7])\n",
    "even_sum=0\n",
    "odd_sum=0\n",
    "for i in range(len(arr)):\n",
    "    if arr[i]%2==0:\n",
    "        even_sum+=arr[i]\n",
    "    else:\n",
    "        odd_sum+=arr[i]\n",
    "print(\"Even Values Sum:\",even_sum)\n",
    "print(\"Odd Values Sum:\",odd_sum)\n",
    "\n"
   ]
  },
  {
   "cell_type": "markdown",
   "id": "b613de75-43f8-465e-9255-de81d0dbf334",
   "metadata": {
    "id": "b613de75-43f8-465e-9255-de81d0dbf334"
   },
   "source": [
    "Retriving Data"
   ]
  },
  {
   "cell_type": "code",
   "execution_count": null,
   "id": "69624f07-ce73-4f9b-9020-11befe416e89",
   "metadata": {
    "id": "69624f07-ce73-4f9b-9020-11befe416e89",
    "outputId": "043c8cae-5b75-444e-b715-0010af332f95"
   },
   "outputs": [
    {
     "name": "stdout",
     "output_type": "stream",
     "text": [
      "(2, 5)\n",
      "2\n",
      "2nd element on 1st row:  2\n"
     ]
    }
   ],
   "source": [
    "arr = np.array([[1,2,3,4,5], [6,7,8,9,10]])\n",
    "print(arr.shape)\n",
    "print(arr[0][1]) #traditional indexing\n",
    "print('2nd element on 1st row: ', arr[0, 1])"
   ]
  },
  {
   "cell_type": "code",
   "execution_count": null,
   "id": "f2157521-ee5f-4237-ad60-48e8577562f6",
   "metadata": {
    "id": "f2157521-ee5f-4237-ad60-48e8577562f6",
    "outputId": "5cb0dde3-7bcf-40ea-c759-1980e8be571d"
   },
   "outputs": [
    {
     "name": "stdout",
     "output_type": "stream",
     "text": [
      "7\n",
      "Access the first element of the first array of the second array: 7\n"
     ]
    }
   ],
   "source": [
    "arr = np.array([[[1, 2, 3], [4, 5, 6]], [[7, 8, 9], [10, 11, 12]]])\n",
    "print(arr[1][0][0])\n",
    "print(\"Access the first element of the first array of the second array:\",arr[1, 0, 0])"
   ]
  },
  {
   "cell_type": "code",
   "execution_count": null,
   "id": "26dad873-0252-4a55-9bda-64182a056ded",
   "metadata": {
    "id": "26dad873-0252-4a55-9bda-64182a056ded",
    "outputId": "e57c8868-9b1b-464e-f060-1e144c8a09eb"
   },
   "outputs": [
    {
     "name": "stdout",
     "output_type": "stream",
     "text": [
      "Last element from 2nd dim:  10\n"
     ]
    }
   ],
   "source": [
    "arr = np.array([[1,2,3,4,5], [6,7,8,9,10]])\n",
    "\n",
    "print('Last element from 2nd dim: ', arr[1, -1])"
   ]
  },
  {
   "cell_type": "markdown",
   "id": "2a585da1-7528-461f-8215-c727ad9e8ed7",
   "metadata": {
    "id": "2a585da1-7528-461f-8215-c727ad9e8ed7"
   },
   "source": [
    "Slicing"
   ]
  },
  {
   "cell_type": "code",
   "execution_count": null,
   "id": "1870f259-f805-4730-9b23-32fd4d59493c",
   "metadata": {
    "id": "1870f259-f805-4730-9b23-32fd4d59493c",
    "outputId": "1dc198d9-2f08-4356-ee97-992842564467"
   },
   "outputs": [
    {
     "name": "stdout",
     "output_type": "stream",
     "text": [
      "[2 3 4 5]\n"
     ]
    }
   ],
   "source": [
    "arr = np.array([1, 2, 3, 4, 5, 6, 7])\n",
    "\n",
    "print(arr[1:5])"
   ]
  },
  {
   "cell_type": "code",
   "execution_count": null,
   "id": "b8fbd726-47a5-4d08-901c-629f45982142",
   "metadata": {
    "id": "b8fbd726-47a5-4d08-901c-629f45982142",
    "outputId": "de563f1d-4d2f-4513-9778-2d1a3561419e"
   },
   "outputs": [
    {
     "name": "stdout",
     "output_type": "stream",
     "text": [
      "[4 5 6 7 6 7]\n"
     ]
    }
   ],
   "source": [
    "arr = np.array([1, 2, 3, 4, 5, 6, 7,6,7])\n",
    "\n",
    "print(arr[3:])"
   ]
  },
  {
   "cell_type": "code",
   "execution_count": null,
   "id": "6f4c65c5-5f6d-469a-9c17-96e73ddc080e",
   "metadata": {
    "id": "6f4c65c5-5f6d-469a-9c17-96e73ddc080e",
    "outputId": "74368409-82d1-4b9c-f2d5-c1a730f75c0f"
   },
   "outputs": [
    {
     "name": "stdout",
     "output_type": "stream",
     "text": [
      "[5 6]\n"
     ]
    }
   ],
   "source": [
    "arr = np.array([1, 2, 3, 4, 5, 6, 7])\n",
    "\n",
    "print(arr[-3:-1])"
   ]
  },
  {
   "cell_type": "code",
   "execution_count": null,
   "id": "a51059b6-5623-423d-abe0-b23213803bde",
   "metadata": {
    "id": "a51059b6-5623-423d-abe0-b23213803bde",
    "outputId": "51dea91e-9bfc-44b8-958f-ca6e414e41b1"
   },
   "outputs": [
    {
     "name": "stdout",
     "output_type": "stream",
     "text": [
      "[1 3 5]\n"
     ]
    }
   ],
   "source": [
    "arr = np.array([1, 2, 3, 4, 5, 6, 7,8])\n",
    "\n",
    "print(arr[0:6:2])"
   ]
  },
  {
   "cell_type": "code",
   "execution_count": null,
   "id": "c08745b9-55a8-4cb4-b7c6-375dbd19ec4f",
   "metadata": {
    "id": "c08745b9-55a8-4cb4-b7c6-375dbd19ec4f",
    "outputId": "1ae98f37-4b48-4019-bac4-f54230029059"
   },
   "outputs": [
    {
     "name": "stdout",
     "output_type": "stream",
     "text": [
      "[[2 3 4]\n",
      " [7 8 9]]\n"
     ]
    }
   ],
   "source": [
    "arr = np.array([[1, 2, 3, 4, 5], [6, 7, 8, 9, 10]])\n",
    "\n",
    "print(arr[0:2, 1:4])"
   ]
  },
  {
   "cell_type": "markdown",
   "id": "61941c75-7903-4f63-b175-7bfe9a214a98",
   "metadata": {
    "id": "61941c75-7903-4f63-b175-7bfe9a214a98"
   },
   "source": [
    "Type Casting\n",
    "i,u,s,b"
   ]
  },
  {
   "cell_type": "code",
   "execution_count": null,
   "id": "f1b920d4-a963-40af-9656-ef779d2d404f",
   "metadata": {
    "id": "f1b920d4-a963-40af-9656-ef779d2d404f",
    "outputId": "d88091a1-349c-4cde-8f96-65b9007f4b8d"
   },
   "outputs": [
    {
     "name": "stdout",
     "output_type": "stream",
     "text": [
      "[b'1' b'2' b'3' b'4']\n",
      "|S1\n"
     ]
    }
   ],
   "source": [
    "arr = np.array([1, 2, 3, 4], dtype='S')\n",
    "\n",
    "print(arr)\n",
    "print(arr.dtype)"
   ]
  },
  {
   "cell_type": "code",
   "execution_count": null,
   "id": "bec82702-fa97-416f-a9ab-f92d8462cd78",
   "metadata": {
    "id": "bec82702-fa97-416f-a9ab-f92d8462cd78"
   },
   "outputs": [],
   "source": []
  },
  {
   "cell_type": "code",
   "execution_count": null,
   "id": "c34dc17f-0a37-4aa7-bb8b-6c7c5f03867f",
   "metadata": {
    "id": "c34dc17f-0a37-4aa7-bb8b-6c7c5f03867f",
    "outputId": "70d77ec5-002e-4071-955a-5e736edad926"
   },
   "outputs": [
    {
     "name": "stdout",
     "output_type": "stream",
     "text": [
      "[1 2 3]\n",
      "int32\n"
     ]
    }
   ],
   "source": [
    "arr = np.array([1.9, 2.1, 3.1])\n",
    "\n",
    "newarr = arr.astype('i')\n",
    "\n",
    "print(newarr)\n",
    "print(newarr.dtype)\n",
    "\n",
    "# print(arr)\n",
    "# print(arr.dtype)\n",
    "# [1.9 2.1 3.1]\n",
    "# float64"
   ]
  },
  {
   "cell_type": "code",
   "execution_count": null,
   "id": "c99c509a-a4e1-4ead-a07f-d93fe079931a",
   "metadata": {
    "id": "c99c509a-a4e1-4ead-a07f-d93fe079931a",
    "outputId": "e0ccda0a-bc2f-4641-8b43-6c4a4fea780f"
   },
   "outputs": [
    {
     "name": "stdout",
     "output_type": "stream",
     "text": [
      "Integer array (i4): [1 2 3] | dtype: int32\n",
      "Unsigned integer array (u2): [1 2 3] | dtype: uint16\n",
      "Float array (f8): [1.1 2.2 3.3] | dtype: float64\n",
      "Byte string array (S5): [b'hello' b'world'] | dtype: |S5\n",
      "Unicode string array (U10): ['hello' 'world'] | dtype: <U10\n"
     ]
    }
   ],
   "source": [
    "# Integer (i) with size 4 (32-bit integer)\n",
    "int_array = np.array([1, 2, 3], dtype='i4')\n",
    "print(\"Integer array (i4):\", int_array, \"| dtype:\", int_array.dtype)\n",
    "\n",
    "# Unsigned Integer (u) with size 2 (16-bit unsigned integer)\n",
    "uint_array = np.array([1, 2, 3], dtype='u2')\n",
    "print(\"Unsigned integer array (u2):\", uint_array, \"| dtype:\", uint_array.dtype)\n",
    "\n",
    "# Float (f) with size 8 (64-bit float)\n",
    "float_array = np.array([1.1, 2.2, 3.3], dtype='f8')\n",
    "print(\"Float array (f8):\", float_array, \"| dtype:\", float_array.dtype)\n",
    "\n",
    "# Byte string (S) with size 5 (fixed-length string of 5 bytes)\n",
    "string_array = np.array([b'hello', b'worldq'], dtype='S5')\n",
    "print(\"Byte string array (S5):\", string_array, \"| dtype:\", string_array.dtype)\n",
    "\n",
    "# Unicode string (U) with size 10 (fixed-length Unicode string of 10 characters)\n",
    "unicode_array = np.array(['hello', 'world'], dtype='U10')\n",
    "print(\"Unicode string array (U10):\", unicode_array, \"| dtype:\", unicode_array.dtype)"
   ]
  },
  {
   "cell_type": "code",
   "execution_count": null,
   "id": "7ca3d8dc-557d-44f2-b0cd-261b5c6edb3b",
   "metadata": {
    "id": "7ca3d8dc-557d-44f2-b0cd-261b5c6edb3b",
    "outputId": "f35b415c-d2a9-47e6-e4ef-c41c1d7a9e60"
   },
   "outputs": [
    {
     "name": "stdout",
     "output_type": "stream",
     "text": [
      "['h' 'w' '😊']\n",
      "['Python' 'NumPy' '😊❤️']\n"
     ]
    }
   ],
   "source": [
    "# Unicode string array with a maximum length of 5 characters\n",
    "unicode_array = np.array(['hello', 'world', '😊'], dtype='U1')\n",
    "print(unicode_array)  # Output: ['hello' 'world' '😊']\n",
    "\n",
    "# Note: Strings longer than 5 characters will be truncated\n",
    "unicode_array = np.array(['Python', 'NumPy', '😊❤️'], dtype='U6')\n",
    "print(unicode_array)  # Output: ['Pytho' 'NumPy' '😊❤️']"
   ]
  },
  {
   "cell_type": "code",
   "execution_count": null,
   "id": "6d0df239-b185-4cf1-9db9-96f4b437126d",
   "metadata": {
    "id": "6d0df239-b185-4cf1-9db9-96f4b437126d"
   },
   "outputs": [],
   "source": []
  },
  {
   "cell_type": "code",
   "execution_count": null,
   "id": "b529ed26-b8bf-4671-b23d-a248eba49b3c",
   "metadata": {
    "id": "b529ed26-b8bf-4671-b23d-a248eba49b3c",
    "outputId": "a9cee53c-9547-47a3-c1ed-025da49cd6c7"
   },
   "outputs": [
    {
     "name": "stdout",
     "output_type": "stream",
     "text": [
      "[1 0 1]\n",
      "[ True False  True]\n",
      "bool\n"
     ]
    }
   ],
   "source": [
    "arr = np.array([1, 0, 3%2])\n",
    "\n",
    "newarr = arr.astype(bool)\n",
    "print(arr)\n",
    "print(newarr)\n",
    "print(newarr.dtype)"
   ]
  },
  {
   "cell_type": "code",
   "execution_count": null,
   "id": "cd6c8980-9dab-49c6-989f-a99bc95376d2",
   "metadata": {
    "id": "cd6c8980-9dab-49c6-989f-a99bc95376d2"
   },
   "outputs": [],
   "source": [
    "import numpy as np"
   ]
  },
  {
   "cell_type": "markdown",
   "id": "df060fd7-c8df-4b6a-8720-b25a3c1df373",
   "metadata": {
    "id": "df060fd7-c8df-4b6a-8720-b25a3c1df373"
   },
   "source": [
    "# Lecture 3"
   ]
  },
  {
   "cell_type": "markdown",
   "id": "94cda748-aee1-4d9f-a369-e042dcbff37b",
   "metadata": {
    "id": "94cda748-aee1-4d9f-a369-e042dcbff37b"
   },
   "source": [
    "## Copy and View Functions"
   ]
  },
  {
   "cell_type": "markdown",
   "id": "ff0ee195-6c19-4f35-9d42-d5cb6ecc8b22",
   "metadata": {
    "id": "ff0ee195-6c19-4f35-9d42-d5cb6ecc8b22"
   },
   "source": [
    "Copy"
   ]
  },
  {
   "cell_type": "code",
   "execution_count": null,
   "id": "94fcda9d-b2b0-4e03-b4d6-1b9aec094418",
   "metadata": {
    "id": "94fcda9d-b2b0-4e03-b4d6-1b9aec094418",
    "outputId": "60c3d05a-e801-4b35-dbb1-92c3ecc42d39"
   },
   "outputs": [
    {
     "name": "stdout",
     "output_type": "stream",
     "text": [
      "[42 34  3  4  5]\n",
      "[1 2 3 4 5]\n"
     ]
    }
   ],
   "source": [
    "arr = np.array([1, 2, 3, 4, 5])\n",
    "x = arr.copy()\n",
    "arr[0] = 42\n",
    "arr[1]=34\n",
    "\n",
    "print(arr)\n",
    "print(x)"
   ]
  },
  {
   "cell_type": "markdown",
   "id": "9ae75e93-a952-4558-b8f1-512d7f111666",
   "metadata": {
    "id": "9ae75e93-a952-4558-b8f1-512d7f111666"
   },
   "source": [
    "View"
   ]
  },
  {
   "cell_type": "code",
   "execution_count": null,
   "id": "855a8bd9-536c-46a3-89ad-73735d9edfc2",
   "metadata": {
    "id": "855a8bd9-536c-46a3-89ad-73735d9edfc2",
    "outputId": "b80747e7-6471-42ac-a90c-1ee35af26ca8"
   },
   "outputs": [
    {
     "name": "stdout",
     "output_type": "stream",
     "text": [
      "[42 34  3  4  5]\n",
      "[42 34  3  4  5]\n"
     ]
    }
   ],
   "source": [
    "arr = np.array([1, 2, 3, 4, 5])\n",
    "x = arr.view()\n",
    "arr[0] = 42\n",
    "arr[1]=34\n",
    "\n",
    "print(arr)\n",
    "print(x)"
   ]
  },
  {
   "cell_type": "markdown",
   "id": "05da83de-b4c0-4316-b976-d630966099ae",
   "metadata": {
    "id": "05da83de-b4c0-4316-b976-d630966099ae"
   },
   "source": [
    "Data Source Checking"
   ]
  },
  {
   "cell_type": "code",
   "execution_count": null,
   "id": "d9ef4e0c-f40c-4918-9b41-2106fd006fdb",
   "metadata": {
    "id": "d9ef4e0c-f40c-4918-9b41-2106fd006fdb",
    "outputId": "d53a0e1e-a37b-42c4-df23-ad1fb366c771"
   },
   "outputs": [
    {
     "name": "stdout",
     "output_type": "stream",
     "text": [
      "None\n",
      "[ 1  2 12  4  5]\n"
     ]
    }
   ],
   "source": [
    "arr = np.array([1, 2, 3, 4, 5])\n",
    "\n",
    "x = arr.copy()\n",
    "y = arr.view()\n",
    "arr[2]=12\n",
    "\n",
    "print(x.base)\n",
    "print(y.base)"
   ]
  },
  {
   "cell_type": "markdown",
   "id": "a0448d01-cee3-40fc-99a6-d28dc0a9cc7b",
   "metadata": {
    "id": "a0448d01-cee3-40fc-99a6-d28dc0a9cc7b"
   },
   "source": [
    "Shape"
   ]
  },
  {
   "cell_type": "code",
   "execution_count": null,
   "id": "5c25f6eb-db60-4534-8026-656c37eec1ca",
   "metadata": {
    "id": "5c25f6eb-db60-4534-8026-656c37eec1ca",
    "outputId": "88d21e9f-4ae4-40ba-dba6-2d80e5844a90"
   },
   "outputs": [
    {
     "name": "stdout",
     "output_type": "stream",
     "text": [
      "[[[[[1 2 3 4]]]]]\n",
      "shape of array : (1, 1, 1, 1, 4)\n"
     ]
    }
   ],
   "source": [
    "arr = np.array([1, 2, 3, 4], ndmin=5)\n",
    "\n",
    "print(arr)\n",
    "print('shape of array :', arr.shape)"
   ]
  },
  {
   "cell_type": "markdown",
   "id": "69708143-24c1-4f46-9d14-66e2b40a2260",
   "metadata": {
    "id": "69708143-24c1-4f46-9d14-66e2b40a2260"
   },
   "source": [
    "Reshape"
   ]
  },
  {
   "cell_type": "code",
   "execution_count": null,
   "id": "c851e814-ee13-4e61-b3bb-7f99901445af",
   "metadata": {
    "id": "c851e814-ee13-4e61-b3bb-7f99901445af",
    "outputId": "a68a336b-472e-4b0e-8fd1-e69499b493bb"
   },
   "outputs": [
    {
     "name": "stdout",
     "output_type": "stream",
     "text": [
      "(12,)\n",
      "[[[ 1  2  3  4]\n",
      "  [ 5  6  7  8]\n",
      "  [ 9 10 11 12]]]\n",
      "____________________________\n",
      "[[ 1  2  3  4]\n",
      " [ 5  6  7  8]\n",
      " [ 9 10 11 12]]\n"
     ]
    }
   ],
   "source": [
    "arr = np.array([1, 2, 3, 4, 5, 6, 7, 8, 9, 10, 11, 12])\n",
    "print(arr.shape)\n",
    "newarr = arr.reshape(3, 4)\n",
    "convert3d= arr.reshape(1,3,4)    #total size 12\n",
    "print(convert3d)\n",
    "print(\"____________________________\")\n",
    "print(newarr)"
   ]
  },
  {
   "cell_type": "code",
   "execution_count": null,
   "id": "5c47a758-3a7c-48f5-b588-2e244afdcde6",
   "metadata": {
    "id": "5c47a758-3a7c-48f5-b588-2e244afdcde6",
    "outputId": "e7cc8eb6-ae8b-4ea0-fbbc-62506495ccdd"
   },
   "outputs": [
    {
     "name": "stdout",
     "output_type": "stream",
     "text": [
      "[[[ 1  2  3  4  5  6  7  8  9 10 11 12]]]\n"
     ]
    }
   ],
   "source": [
    "arr = np.array([1, 2, 3, 4, 5, 6, 7, 8, 9, 10, 11, 12])\n",
    "\n",
    "newarr = arr.reshape(1, 1, 12)\n",
    "\n",
    "print(newarr)"
   ]
  },
  {
   "cell_type": "code",
   "execution_count": null,
   "id": "933b5ad4-0fa8-4b3b-8d7a-382c36d2d1f7",
   "metadata": {
    "id": "933b5ad4-0fa8-4b3b-8d7a-382c36d2d1f7"
   },
   "outputs": [],
   "source": []
  },
  {
   "cell_type": "markdown",
   "id": "1f5d5b64-6fad-4d38-b9ef-aa1315d6f0f5",
   "metadata": {
    "id": "1f5d5b64-6fad-4d38-b9ef-aa1315d6f0f5"
   },
   "source": [
    "Copy and View Case"
   ]
  },
  {
   "cell_type": "code",
   "execution_count": null,
   "id": "ad7c2392-b953-4c75-99f7-b42cf4e0c0d6",
   "metadata": {
    "id": "ad7c2392-b953-4c75-99f7-b42cf4e0c0d6",
    "outputId": "c17fb192-9bd8-4652-af3c-36211075f921"
   },
   "outputs": [
    {
     "name": "stdout",
     "output_type": "stream",
     "text": [
      "[[1 2 3 4]\n",
      " [5 6 7 8]]\n",
      "___________________\n",
      "[1 2 3 4 5 6 7 8]\n"
     ]
    }
   ],
   "source": [
    "arr = np.array([1, 2, 3, 4, 5, 6, 7, 8])\n",
    "x=arr.reshape(2, 4)\n",
    "print(x)\n",
    "print(\"___________________\")\n",
    "print(x.base)"
   ]
  },
  {
   "cell_type": "markdown",
   "id": "7bbb3ec9-0404-4546-b156-7bdc0be60775",
   "metadata": {
    "id": "7bbb3ec9-0404-4546-b156-7bdc0be60775"
   },
   "source": [
    "Reshaping with unknown dimension"
   ]
  },
  {
   "cell_type": "code",
   "execution_count": null,
   "id": "a344f3bb-754e-464e-82fb-0f8c386ec5f8",
   "metadata": {
    "id": "a344f3bb-754e-464e-82fb-0f8c386ec5f8",
    "outputId": "7b36d68a-b45a-4153-d427-fd4cb737e9c4"
   },
   "outputs": [
    {
     "name": "stdout",
     "output_type": "stream",
     "text": [
      "[[[1 2 3 4]\n",
      "  [5 6 7 8]]]\n",
      "Flated Array: [1 2 3 4 5 6 7 8]\n"
     ]
    }
   ],
   "source": [
    "arr = np.array([1, 2, 3, 4, 5, 6, 7, 8])\n",
    "\n",
    "newarr = arr.reshape(-1, 2, 4)\n",
    "\n",
    "print(newarr)\n",
    "flater=newarr.reshape(-1)\n",
    "print(\"Flated Array:\",flater)"
   ]
  },
  {
   "cell_type": "markdown",
   "id": "9d13960c-d875-41d7-915d-6bc10d7d98b5",
   "metadata": {
    "id": "9d13960c-d875-41d7-915d-6bc10d7d98b5"
   },
   "source": [
    "Flating Arrays"
   ]
  },
  {
   "cell_type": "code",
   "execution_count": null,
   "id": "5c9adbb1-92b3-44de-bdfa-0f4abe99b112",
   "metadata": {
    "id": "5c9adbb1-92b3-44de-bdfa-0f4abe99b112",
    "outputId": "654910f4-f302-464a-fad7-b180dc21e53a"
   },
   "outputs": [
    {
     "name": "stdout",
     "output_type": "stream",
     "text": [
      "[1 2 3 4 5 6]\n"
     ]
    }
   ],
   "source": [
    "arr = np.array([[1, 2, 3], [4, 5, 6]])\n",
    "\n",
    "newarr = arr.reshape(-1)\n",
    "\n",
    "print(newarr)"
   ]
  },
  {
   "cell_type": "markdown",
   "id": "dc36f5ea-f50e-4ac1-9d7d-6d5cbc61e26c",
   "metadata": {
    "id": "dc36f5ea-f50e-4ac1-9d7d-6d5cbc61e26c"
   },
   "source": [
    "Convert the array into a 1D array"
   ]
  },
  {
   "cell_type": "code",
   "execution_count": null,
   "id": "59443304-c158-4fe6-b811-8f8809539c21",
   "metadata": {
    "id": "59443304-c158-4fe6-b811-8f8809539c21",
    "outputId": "b8a77564-98da-4e2f-ab79-a394009918fd"
   },
   "outputs": [
    {
     "name": "stdout",
     "output_type": "stream",
     "text": [
      "[1 2 3 4 5 6]\n"
     ]
    }
   ],
   "source": [
    "\n",
    "arr = np.array([[1, 2, 3], [4, 5, 6]])\n",
    "\n",
    "newarr = arr.reshape(-1)\n",
    "\n",
    "print(newarr)"
   ]
  },
  {
   "cell_type": "markdown",
   "id": "8715bd50-e9a0-4f9c-ad6a-62b295b2b63f",
   "metadata": {
    "id": "8715bd50-e9a0-4f9c-ad6a-62b295b2b63f"
   },
   "source": [
    "Iterrating Arrays"
   ]
  },
  {
   "cell_type": "code",
   "execution_count": null,
   "id": "5a4b9084-9d2f-4032-8cc8-9ac76709b68f",
   "metadata": {
    "id": "5a4b9084-9d2f-4032-8cc8-9ac76709b68f",
    "outputId": "51a16316-6ee1-4f6f-f1b0-742bf7080da6"
   },
   "outputs": [
    {
     "name": "stdout",
     "output_type": "stream",
     "text": [
      "[1 2 3]\n",
      "[4 5 6]\n"
     ]
    }
   ],
   "source": [
    "arr = np.array([[1, 2, 3], [4, 5, 6]])\n",
    "\n",
    "for x in arr:\n",
    "  print(x)"
   ]
  },
  {
   "cell_type": "markdown",
   "id": "6464a02f-006c-4b7c-9990-29f876fce6ae",
   "metadata": {
    "id": "6464a02f-006c-4b7c-9990-29f876fce6ae"
   },
   "source": [
    "Iterate on each scalar element of the 2-D array"
   ]
  },
  {
   "cell_type": "code",
   "execution_count": null,
   "id": "45ed5525-aac5-466f-a387-c57119a63946",
   "metadata": {
    "id": "45ed5525-aac5-466f-a387-c57119a63946",
    "outputId": "4290424e-824f-43e5-d553-3300cec57527"
   },
   "outputs": [
    {
     "name": "stdout",
     "output_type": "stream",
     "text": [
      "1\n",
      "2\n",
      "3\n",
      "4\n",
      "5\n",
      "6\n"
     ]
    }
   ],
   "source": [
    "arr = np.array([[1, 2, 3], [4, 5, 6]])\n",
    "\n",
    "for x in arr:\n",
    "  for y in x:\n",
    "        # print(type(x))\n",
    "        # print(type(y))\n",
    "        # print(y.ndim)\n",
    "        print(y)"
   ]
  },
  {
   "cell_type": "code",
   "execution_count": null,
   "id": "02565652-177c-485a-a856-ef1231da4b94",
   "metadata": {
    "id": "02565652-177c-485a-a856-ef1231da4b94",
    "outputId": "58013d15-858d-49d1-d60b-aa911418d6ca"
   },
   "outputs": [
    {
     "name": "stdout",
     "output_type": "stream",
     "text": [
      "1\n",
      "2\n",
      "3\n",
      "4\n"
     ]
    }
   ],
   "source": [
    "arr=np.array([1,2,3,4])\n",
    "for x in arr:\n",
    "    print(x)"
   ]
  },
  {
   "cell_type": "code",
   "execution_count": null,
   "id": "e0c7ea27-a7ba-4986-9135-7d8536d354db",
   "metadata": {
    "id": "e0c7ea27-a7ba-4986-9135-7d8536d354db",
    "outputId": "be8c094c-3f40-4b68-99e3-b8225c336f4e"
   },
   "outputs": [
    {
     "name": "stdout",
     "output_type": "stream",
     "text": [
      "1\n",
      "2\n",
      "3\n",
      "4\n",
      "5\n",
      "6\n",
      "7\n",
      "8\n",
      "9\n",
      "10\n",
      "11\n",
      "12\n"
     ]
    }
   ],
   "source": [
    "arr = np.array([[[1, 2, 3], [4, 5, 6]], [[7, 8, 9], [10, 11, 12]]])\n",
    "# traditional way\n",
    "for x in arr:\n",
    "    # print(x)\n",
    "    for y in x:\n",
    "      # print(y)\n",
    "      for z in y:\n",
    "          print(z)"
   ]
  },
  {
   "cell_type": "markdown",
   "id": "e5d9114e-50b4-425c-b5e6-fec3b5946293",
   "metadata": {
    "id": "e5d9114e-50b4-425c-b5e6-fec3b5946293"
   },
   "source": [
    "Iterating Arrays Using nditer()"
   ]
  },
  {
   "cell_type": "code",
   "execution_count": null,
   "id": "1d820ad5-6869-45c7-a410-9d46ee1441c4",
   "metadata": {
    "id": "1d820ad5-6869-45c7-a410-9d46ee1441c4",
    "outputId": "f379d997-284c-4b3f-c097-a5bf9c200be3"
   },
   "outputs": [
    {
     "name": "stdout",
     "output_type": "stream",
     "text": [
      "1\n",
      "2\n",
      "3\n",
      "4\n",
      "5\n",
      "6\n",
      "7\n",
      "8\n"
     ]
    }
   ],
   "source": [
    "arr = np.array([[[1, 2], [3, 4]], [[5, 6], [7, 8]]])\n",
    "\n",
    "for x in np.nditer(arr):\n",
    "  print(x)"
   ]
  },
  {
   "cell_type": "markdown",
   "id": "6d574863-fdd3-4e18-ad3b-1865cd05f3a1",
   "metadata": {
    "id": "6d574863-fdd3-4e18-ad3b-1865cd05f3a1"
   },
   "source": [
    "Iterating and Buffer"
   ]
  },
  {
   "cell_type": "markdown",
   "id": "06c86e8d-245a-4f5d-8edc-5efa4bd991b4",
   "metadata": {
    "id": "06c86e8d-245a-4f5d-8edc-5efa4bd991b4"
   },
   "source": [
    "NumPy does not change the data type of the element in-place (where the element is in array) so it needs some other space to perform this action, that extra space is called buffer"
   ]
  },
  {
   "cell_type": "markdown",
   "id": "22e503d9-f009-4e77-b240-4d3db7182452",
   "metadata": {
    "id": "22e503d9-f009-4e77-b240-4d3db7182452"
   },
   "source": [
    "op_dtypes"
   ]
  },
  {
   "cell_type": "markdown",
   "id": "ecb8fca0-19f9-44ea-a8a9-5ee3f0bb13d2",
   "metadata": {
    "id": "ecb8fca0-19f9-44ea-a8a9-5ee3f0bb13d2"
   },
   "source": [
    "flags=['buffered']"
   ]
  },
  {
   "cell_type": "code",
   "execution_count": 53,
   "id": "ec66ee2b-81b3-4a76-993b-555bf77b72ec",
   "metadata": {
    "colab": {
     "base_uri": "https://localhost:8080/"
    },
    "executionInfo": {
     "elapsed": 380,
     "status": "ok",
     "timestamp": 1738311494796,
     "user": {
      "displayName": "Muhammad Ali",
      "userId": "06259512089786041113"
     },
     "user_tz": -300
    },
    "id": "ec66ee2b-81b3-4a76-993b-555bf77b72ec",
    "outputId": "f0d5f2b1-6421-4cdb-ac6a-145ad09cb23d"
   },
   "outputs": [
    {
     "name": "stdout",
     "output_type": "stream",
     "text": [
      "b'1'\n",
      "|S21\n",
      "b'2'\n",
      "|S21\n",
      "b'3'\n",
      "|S21\n",
      "int64\n"
     ]
    }
   ],
   "source": [
    "arr = np.array([1, 2, 3])\n",
    "\n",
    "for x in np.nditer(arr, flags=['buffered'], op_dtypes=['S']):\n",
    "  print(x)\n",
    "  print(x.dtype)\n",
    "print(arr.dtype)\n"
   ]
  },
  {
   "cell_type": "code",
   "execution_count": null,
   "id": "e662eb37-d3fe-4732-be55-345049bc6104",
   "metadata": {
    "id": "e662eb37-d3fe-4732-be55-345049bc6104",
    "outputId": "7018b706-c58a-4899-ac32-f43da09ce0e4"
   },
   "outputs": [
    {
     "data": {
      "text/plain": [
       "dtype('int32')"
      ]
     },
     "execution_count": 37,
     "metadata": {},
     "output_type": "execute_result"
    }
   ],
   "source": [
    "arr.dtype"
   ]
  },
  {
   "cell_type": "markdown",
   "id": "ed1b43e6-bfa3-48c4-ba76-4b48bcf27172",
   "metadata": {
    "id": "ed1b43e6-bfa3-48c4-ba76-4b48bcf27172"
   },
   "source": [
    "Iterating With Different Step Size"
   ]
  },
  {
   "cell_type": "code",
   "execution_count": null,
   "id": "b619927f-6062-4ff0-a313-0f0e4d5961c2",
   "metadata": {
    "id": "b619927f-6062-4ff0-a313-0f0e4d5961c2",
    "outputId": "a7d9b523-255d-41be-b01b-1a59276e343d"
   },
   "outputs": [
    {
     "name": "stdout",
     "output_type": "stream",
     "text": [
      "1\n",
      "4\n",
      "5\n",
      "8\n"
     ]
    }
   ],
   "source": [
    "arr = np.array([[1, 2, 3, 4], [5, 6, 7, 8]])\n",
    "\n",
    "for x in np.nditer(arr[:, ::3]):           # 2 step slicing\n",
    "  print(x)"
   ]
  },
  {
   "cell_type": "markdown",
   "id": "58123ef0-2fb1-4176-9e0d-fb0f0f669c07",
   "metadata": {
    "id": "58123ef0-2fb1-4176-9e0d-fb0f0f669c07"
   },
   "source": [
    "Enumerated Iteration Using ndenumerate()"
   ]
  },
  {
   "cell_type": "markdown",
   "id": "8991bd89-6282-4d48-8854-1db18fbc7199",
   "metadata": {
    "id": "8991bd89-6282-4d48-8854-1db18fbc7199"
   },
   "source": [
    "Enumeration means mentioning sequence number of somethings one by one.\n",
    "\n",
    "ndenumerate()"
   ]
  },
  {
   "cell_type": "code",
   "execution_count": null,
   "id": "2e0700ad-2009-4115-832d-ddeb26856153",
   "metadata": {
    "id": "2e0700ad-2009-4115-832d-ddeb26856153",
    "outputId": "8641bea0-7489-4e5a-becb-a5e586d2eada"
   },
   "outputs": [
    {
     "name": "stdout",
     "output_type": "stream",
     "text": [
      "Index: 0 0 0 Value 1\n",
      "Index: 0 0 1 Value 2\n",
      "Index: 0 0 2 Value 3\n",
      "Index: 0 1 0 Value 1\n",
      "Index: 0 1 1 Value 2\n",
      "Index: 0 1 2 Value 3\n",
      "Index: 0 2 0 Value 1\n",
      "Index: 0 2 1 Value 2\n",
      "Index: 0 2 2 Value 3\n"
     ]
    }
   ],
   "source": [
    "arr = np.array([[[1, 2, 3],[1,2,3],[1,2,3]]])\n",
    "i=0\n",
    "for idx, x in np.ndenumerate(arr):\n",
    "    y=type(idx)\n",
    "    y=idx\n",
    "    z=type(x)\n",
    "    a=y[0]\n",
    "    b=y[1]\n",
    "    c=y[2]\n",
    "\n",
    "    # print(idx,\"Index Type\",y, \"Type of X:\",z)\n",
    "    print(\"Index:\",a,b,c,\"Value\", x)\n"
   ]
  },
  {
   "cell_type": "markdown",
   "id": "8cfeba6d-d095-4062-be0d-eeb9567d66a8",
   "metadata": {
    "id": "8cfeba6d-d095-4062-be0d-eeb9567d66a8"
   },
   "source": [
    "Enumerate on following 2D array's elements"
   ]
  },
  {
   "cell_type": "code",
   "execution_count": null,
   "id": "57c319c5-0e05-45f7-bf83-a474a47cb95b",
   "metadata": {
    "id": "57c319c5-0e05-45f7-bf83-a474a47cb95b",
    "outputId": "879f3c81-8b18-407b-fe26-52e2721aa9c1"
   },
   "outputs": [
    {
     "name": "stdout",
     "output_type": "stream",
     "text": [
      "Index: (0, 0, 0, 0, 0) Values: 1\n",
      "Index: (0, 0, 0, 0, 1) Values: 2\n",
      "Index: (0, 0, 0, 0, 2) Values: 3\n",
      "Index: (0, 0, 0, 0, 3) Values: 4\n",
      "Index: (0, 0, 0, 1, 0) Values: 5\n",
      "Index: (0, 0, 0, 1, 1) Values: 6\n",
      "Index: (0, 0, 0, 1, 2) Values: 7\n",
      "Index: (0, 0, 0, 1, 3) Values: 8\n"
     ]
    }
   ],
   "source": [
    "arr = np.array(([[1, 2, 3, 4], [5, 6, 7, 8]]) , ndmin =5)\n",
    "# print(arr)\n",
    "for idx, x in np.ndenumerate(arr):\n",
    "  print(\"Index:\",idx,\"Values:\", x)"
   ]
  },
  {
   "cell_type": "code",
   "execution_count": null,
   "id": "6ce0393a-30de-4760-bf6e-7b00b7615505",
   "metadata": {
    "id": "6ce0393a-30de-4760-bf6e-7b00b7615505",
    "outputId": "261dc273-4d53-4465-8e70-1bfe532741bd"
   },
   "outputs": [
    {
     "name": "stdout",
     "output_type": "stream",
     "text": [
      "1\n"
     ]
    }
   ],
   "source": [
    "print(arr[0][0][0][0][0])"
   ]
  },
  {
   "cell_type": "code",
   "execution_count": null,
   "id": "c3909861-9a0c-4dbd-af90-585e005aeb42",
   "metadata": {
    "id": "c3909861-9a0c-4dbd-af90-585e005aeb42"
   },
   "outputs": [],
   "source": []
  },
  {
   "cell_type": "markdown",
   "id": "5bbad3a2",
   "metadata": {
    "id": "5bbad3a2"
   },
   "source": [
    "## Join two arrays"
   ]
  },
  {
   "cell_type": "code",
   "execution_count": null,
   "id": "a56b2b30",
   "metadata": {
    "id": "a56b2b30"
   },
   "outputs": [],
   "source": []
  },
  {
   "cell_type": "code",
   "execution_count": 4,
   "id": "b0e7f3db-0fd6-4433-9f5b-daff75fafc89",
   "metadata": {
    "colab": {
     "base_uri": "https://localhost:8080/"
    },
    "executionInfo": {
     "elapsed": 375,
     "status": "ok",
     "timestamp": 1738309934564,
     "user": {
      "displayName": "Muhammad Ali",
      "userId": "06259512089786041113"
     },
     "user_tz": -300
    },
    "id": "b0e7f3db-0fd6-4433-9f5b-daff75fafc89",
    "outputId": "98b4b85b-dd1f-46bb-ad72-38547774486d"
   },
   "outputs": [
    {
     "name": "stdout",
     "output_type": "stream",
     "text": [
      "[1 2 3] [4 5 6]\n",
      "[1 2 3 4 5 6]\n"
     ]
    }
   ],
   "source": [
    "import numpy as np\n",
    "\n",
    "arr1 = np.array([1, 2, 3])\n",
    "\n",
    "arr2 = np.array([4, 5, 6])\n",
    "\n",
    "arr = np.concatenate((arr1, arr2))\n",
    "print(arr1,arr2)\n",
    "print(arr)"
   ]
  },
  {
   "cell_type": "code",
   "execution_count": null,
   "id": "90580536-cd9a-4920-b432-504e659c0564",
   "metadata": {
    "id": "90580536-cd9a-4920-b432-504e659c0564"
   },
   "outputs": [],
   "source": []
  },
  {
   "cell_type": "markdown",
   "id": "b5e8a7ce",
   "metadata": {
    "id": "b5e8a7ce"
   },
   "source": [
    "## Joining Arrays Using Stack Functions"
   ]
  },
  {
   "cell_type": "code",
   "execution_count": 13,
   "id": "36929866-62bc-4799-8284-6bfbadf9d6e6",
   "metadata": {
    "colab": {
     "base_uri": "https://localhost:8080/"
    },
    "executionInfo": {
     "elapsed": 512,
     "status": "ok",
     "timestamp": 1738310185605,
     "user": {
      "displayName": "Muhammad Ali",
      "userId": "06259512089786041113"
     },
     "user_tz": -300
    },
    "id": "36929866-62bc-4799-8284-6bfbadf9d6e6",
    "outputId": "70df4775-7037-4eb1-85d9-29f904e37572"
   },
   "outputs": [
    {
     "name": "stdout",
     "output_type": "stream",
     "text": [
      "[[1 4]\n",
      " [2 5]\n",
      " [3 6]]\n"
     ]
    }
   ],
   "source": [
    "arr1 = np.array([1, 2, 3])\n",
    "\n",
    "arr2 = np.array([4, 5, 6])\n",
    "\n",
    "arr = np.stack((arr1, arr2),axis=1)\n",
    "\n",
    "print(arr)"
   ]
  },
  {
   "cell_type": "code",
   "execution_count": null,
   "id": "c91ac3de-1a05-4619-ba2a-6be0d179fb0a",
   "metadata": {
    "id": "c91ac3de-1a05-4619-ba2a-6be0d179fb0a"
   },
   "outputs": [],
   "source": []
  },
  {
   "cell_type": "markdown",
   "id": "788e69ff",
   "metadata": {
    "id": "788e69ff"
   },
   "source": [
    "## Stacking Along Rows"
   ]
  },
  {
   "cell_type": "markdown",
   "id": "760f86b1",
   "metadata": {
    "id": "760f86b1"
   },
   "source": []
  },
  {
   "cell_type": "code",
   "execution_count": 12,
   "id": "5mrt6zJJWl5T",
   "metadata": {
    "colab": {
     "base_uri": "https://localhost:8080/"
    },
    "executionInfo": {
     "elapsed": 360,
     "status": "ok",
     "timestamp": 1738310155898,
     "user": {
      "displayName": "Muhammad Ali",
      "userId": "06259512089786041113"
     },
     "user_tz": -300
    },
    "id": "5mrt6zJJWl5T",
    "outputId": "9b5d8546-1fe9-4368-febe-9fc335ece5df"
   },
   "outputs": [
    {
     "name": "stdout",
     "output_type": "stream",
     "text": [
      "[1 2 3 4 5 6]\n"
     ]
    }
   ],
   "source": [
    "arr1 = np.array([1, 2, 3])\n",
    "\n",
    "arr2 = np.array([4, 5, 6])\n",
    "\n",
    "arr = np.hstack((arr1, arr2))\n",
    "\n",
    "print(arr)"
   ]
  },
  {
   "cell_type": "markdown",
   "id": "24a6388c",
   "metadata": {
    "id": "24a6388c"
   },
   "source": [
    "## Stacking Along Columns"
   ]
  },
  {
   "cell_type": "code",
   "execution_count": 15,
   "id": "774431d4",
   "metadata": {
    "colab": {
     "base_uri": "https://localhost:8080/"
    },
    "executionInfo": {
     "elapsed": 606,
     "status": "ok",
     "timestamp": 1738310226680,
     "user": {
      "displayName": "Muhammad Ali",
      "userId": "06259512089786041113"
     },
     "user_tz": -300
    },
    "id": "774431d4",
    "outputId": "1d37a9b9-fe7e-4aec-e536-2c4b6051be80"
   },
   "outputs": [
    {
     "name": "stdout",
     "output_type": "stream",
     "text": [
      "[[1 2 3]\n",
      " [4 5 6]]\n"
     ]
    }
   ],
   "source": [
    "arr1 = np.array([1, 2, 3])\n",
    "\n",
    "arr2 = np.array([4, 5, 6])\n",
    "\n",
    "arr = np.vstack((arr1, arr2))\n",
    "\n",
    "print(arr)"
   ]
  },
  {
   "cell_type": "markdown",
   "id": "856e99bc",
   "metadata": {
    "id": "856e99bc"
   },
   "source": [
    "## Stacking Along Height (depth)"
   ]
  },
  {
   "cell_type": "code",
   "execution_count": 17,
   "id": "756b89e7",
   "metadata": {
    "colab": {
     "base_uri": "https://localhost:8080/"
    },
    "executionInfo": {
     "elapsed": 574,
     "status": "ok",
     "timestamp": 1738310344594,
     "user": {
      "displayName": "Muhammad Ali",
      "userId": "06259512089786041113"
     },
     "user_tz": -300
    },
    "id": "756b89e7",
    "outputId": "7170338c-de73-4f76-e83d-7f2fe3dc5fad"
   },
   "outputs": [
    {
     "name": "stdout",
     "output_type": "stream",
     "text": [
      "[[[1 4 7]\n",
      "  [2 5 8]\n",
      "  [3 6 9]]]\n"
     ]
    }
   ],
   "source": [
    "arr1 = np.array([1, 2, 3])\n",
    "\n",
    "arr2 = np.array([4, 5, 6])\n",
    "arr3= np.array([7,8,9])\n",
    "arr = np.dstack((arr1,arr2,arr3))\n",
    "\n",
    "print(arr)"
   ]
  },
  {
   "cell_type": "markdown",
   "id": "98983e7f",
   "metadata": {
    "id": "98983e7f"
   },
   "source": [
    "## Splitting NumPy Arrays"
   ]
  },
  {
   "cell_type": "code",
   "execution_count": 25,
   "id": "260747a4",
   "metadata": {
    "colab": {
     "base_uri": "https://localhost:8080/"
    },
    "executionInfo": {
     "elapsed": 551,
     "status": "ok",
     "timestamp": 1738310626953,
     "user": {
      "displayName": "Muhammad Ali",
      "userId": "06259512089786041113"
     },
     "user_tz": -300
    },
    "id": "260747a4",
    "outputId": "6ec0fa44-a3d8-42c0-a383-39b919203fd9"
   },
   "outputs": [
    {
     "name": "stdout",
     "output_type": "stream",
     "text": [
      "<class 'list'>\n"
     ]
    }
   ],
   "source": [
    "arr = np.array([1, 2, 3, 4, 5, 6])\n",
    "\n",
    "newarr = np.array_split(arr, 3)\n",
    "\n",
    "print(type(newarr))"
   ]
  },
  {
   "cell_type": "markdown",
   "id": "aee63f14",
   "metadata": {
    "id": "aee63f14"
   },
   "source": [
    "Split the array in 4 parts\n"
   ]
  },
  {
   "cell_type": "code",
   "execution_count": null,
   "id": "ee11169a",
   "metadata": {
    "id": "ee11169a"
   },
   "outputs": [],
   "source": [
    "arr = np.array([1, 2, 3, 4, 5, 6])\n",
    "\n",
    "newarr = np.array_split(arr, 4)\n",
    "\n",
    "print(newarr)"
   ]
  },
  {
   "cell_type": "code",
   "execution_count": 26,
   "id": "93c35d35",
   "metadata": {
    "colab": {
     "base_uri": "https://localhost:8080/"
    },
    "executionInfo": {
     "elapsed": 564,
     "status": "ok",
     "timestamp": 1738310659371,
     "user": {
      "displayName": "Muhammad Ali",
      "userId": "06259512089786041113"
     },
     "user_tz": -300
    },
    "id": "93c35d35",
    "outputId": "04e17c5e-53e1-4ce5-d695-2b65d1010edc"
   },
   "outputs": [
    {
     "name": "stdout",
     "output_type": "stream",
     "text": [
      "[1 2]\n",
      "[3 4]\n",
      "[5 6]\n"
     ]
    }
   ],
   "source": [
    "arr = np.array([1, 2, 3, 4, 5, 6])\n",
    "\n",
    "newarr = np.array_split(arr, 3)\n",
    "\n",
    "print(newarr[0])\n",
    "print(newarr[1])\n",
    "print(newarr[2])"
   ]
  },
  {
   "cell_type": "code",
   "execution_count": 40,
   "id": "909783a7",
   "metadata": {
    "colab": {
     "base_uri": "https://localhost:8080/"
    },
    "executionInfo": {
     "elapsed": 589,
     "status": "ok",
     "timestamp": 1738311005115,
     "user": {
      "displayName": "Muhammad Ali",
      "userId": "06259512089786041113"
     },
     "user_tz": -300
    },
    "id": "909783a7",
    "outputId": "91ee63cc-775d-4de7-9c24-e80f4458cb68"
   },
   "outputs": [
    {
     "name": "stdout",
     "output_type": "stream",
     "text": [
      "[array([[[1, 2, 3],\n",
      "        [4, 5, 6]]]), array([[[ 7,  8,  9],\n",
      "        [10, 11, 12]]]), array([], shape=(0, 2, 3), dtype=int64)]\n"
     ]
    }
   ],
   "source": [
    "arr = np.array([[[1, 2, 3], [4, 5, 6]], [[7, 8, 9], [10, 11, 12]]])\n",
    "\n",
    "newarr = np.array_split(arr, 3)\n",
    "\n",
    "print(newarr)"
   ]
  },
  {
   "cell_type": "code",
   "execution_count": 41,
   "id": "8d57f889",
   "metadata": {
    "colab": {
     "base_uri": "https://localhost:8080/"
    },
    "executionInfo": {
     "elapsed": 585,
     "status": "ok",
     "timestamp": 1738311036481,
     "user": {
      "displayName": "Muhammad Ali",
      "userId": "06259512089786041113"
     },
     "user_tz": -300
    },
    "id": "8d57f889",
    "outputId": "b4b0eef3-11bb-4059-d410-1abed0153012"
   },
   "outputs": [
    {
     "name": "stdout",
     "output_type": "stream",
     "text": [
      "[array([[1, 2, 3],\n",
      "       [4, 5, 6]]), array([[ 7,  8,  9],\n",
      "       [10, 11, 12]]), array([[13, 14, 15],\n",
      "       [16, 17, 18]])]\n"
     ]
    }
   ],
   "source": [
    "arr = np.array([[1, 2, 3], [4, 5, 6], [7, 8, 9], [10, 11, 12], [13, 14, 15], [16, 17, 18]])\n",
    "\n",
    "newarr = np.array_split(arr, 3)\n",
    "\n",
    "print(newarr)"
   ]
  },
  {
   "cell_type": "code",
   "execution_count": 43,
   "id": "29985a7c",
   "metadata": {
    "colab": {
     "base_uri": "https://localhost:8080/"
    },
    "executionInfo": {
     "elapsed": 373,
     "status": "ok",
     "timestamp": 1738311097412,
     "user": {
      "displayName": "Muhammad Ali",
      "userId": "06259512089786041113"
     },
     "user_tz": -300
    },
    "id": "29985a7c",
    "outputId": "e3b8a832-bdcb-484b-da3d-6d2505324878"
   },
   "outputs": [
    {
     "name": "stdout",
     "output_type": "stream",
     "text": [
      "[array([[1, 2, 3],\n",
      "       [4, 5, 6]]), array([[ 7,  8,  9],\n",
      "       [10, 11, 12]]), array([[13, 14, 15],\n",
      "       [16, 17, 18]])]\n"
     ]
    }
   ],
   "source": [
    "arr = np.array([[1, 2, 3], [4, 5, 6], [7, 8, 9], [10, 11, 12], [13, 14, 15], [16, 17, 18]])\n",
    "\n",
    "newarr = np.vsplit(arr, 3)\n",
    "\n",
    "print(newarr)"
   ]
  },
  {
   "cell_type": "markdown",
   "id": "d8c5e389",
   "metadata": {
    "id": "d8c5e389"
   },
   "source": [
    "## Search"
   ]
  },
  {
   "cell_type": "code",
   "execution_count": 50,
   "id": "020acae4",
   "metadata": {
    "colab": {
     "base_uri": "https://localhost:8080/"
    },
    "executionInfo": {
     "elapsed": 372,
     "status": "ok",
     "timestamp": 1738311285910,
     "user": {
      "displayName": "Muhammad Ali",
      "userId": "06259512089786041113"
     },
     "user_tz": -300
    },
    "id": "020acae4",
    "outputId": "158f01c4-cf63-4719-ecb4-659a88319a58"
   },
   "outputs": [
    {
     "name": "stdout",
     "output_type": "stream",
     "text": [
      "6\n"
     ]
    }
   ],
   "source": [
    "arr = np.array([1, 2, 3, 4, 5, 4, 4])\n",
    "\n",
    "x = np.where(arr == 4)\n",
    "\n",
    "print(x[0][-1])"
   ]
  },
  {
   "cell_type": "code",
   "execution_count": 51,
   "id": "fd5a7bc2",
   "metadata": {
    "colab": {
     "base_uri": "https://localhost:8080/"
    },
    "executionInfo": {
     "elapsed": 394,
     "status": "ok",
     "timestamp": 1738311314817,
     "user": {
      "displayName": "Muhammad Ali",
      "userId": "06259512089786041113"
     },
     "user_tz": -300
    },
    "id": "fd5a7bc2",
    "outputId": "32a6e56b-3da8-4aab-ee6b-d03c82589ade"
   },
   "outputs": [
    {
     "name": "stdout",
     "output_type": "stream",
     "text": [
      "[1 3 5 7]\n"
     ]
    }
   ],
   "source": [
    "arr = np.array([1, 2, 3, 4, 5, 6, 7, 8])\n",
    "\n",
    "x = np.where(arr%2 == 0)\n",
    "\n",
    "print(x[0])"
   ]
  },
  {
   "cell_type": "code",
   "execution_count": 52,
   "id": "34b5d6e8",
   "metadata": {
    "colab": {
     "base_uri": "https://localhost:8080/"
    },
    "executionInfo": {
     "elapsed": 562,
     "status": "ok",
     "timestamp": 1738311357612,
     "user": {
      "displayName": "Muhammad Ali",
      "userId": "06259512089786041113"
     },
     "user_tz": -300
    },
    "id": "34b5d6e8",
    "outputId": "6091738f-a7d8-4dab-8683-4d314353fe40"
   },
   "outputs": [
    {
     "name": "stdout",
     "output_type": "stream",
     "text": [
      "[0 2 4 6]\n"
     ]
    }
   ],
   "source": [
    "arr = np.array([1, 2, 3, 4, 5, 6, 7, 8])\n",
    "\n",
    "x = np.where(arr%2 == 1)\n",
    "\n",
    "print(x[0])"
   ]
  },
  {
   "cell_type": "code",
   "execution_count": 3,
   "id": "9bec81ea-281a-4a65-a4d7-064affaf6a7f",
   "metadata": {
    "id": "4ba8345e"
   },
   "outputs": [],
   "source": [
    "import numpy as np"
   ]
  },
  {
   "cell_type": "markdown",
   "id": "afdd1d3d",
   "metadata": {
    "id": "afdd1d3d"
   },
   "source": [
    "## Sorting Arrays"
   ]
  },
  {
   "cell_type": "code",
   "execution_count": 5,
   "id": "7a739b84-b0d7-421c-9d13-b9a7002e689b",
   "metadata": {},
   "outputs": [
    {
     "name": "stdout",
     "output_type": "stream",
     "text": [
      "[0 0 1 1 2 2 3 4 4]\n"
     ]
    }
   ],
   "source": [
    "arr = np.array([3, 2, 0, 1,4,0,1,2,4])\n",
    "\n",
    "print(np.sort(arr))"
   ]
  },
  {
   "cell_type": "markdown",
   "id": "8473bd4d-e470-4a81-ba0b-183b96a881fb",
   "metadata": {},
   "source": [
    "### Albhabetical Sorting"
   ]
  },
  {
   "cell_type": "code",
   "execution_count": 7,
   "id": "21ad5a80-9631-4684-af56-c6adfbb36613",
   "metadata": {},
   "outputs": [
    {
     "name": "stdout",
     "output_type": "stream",
     "text": [
      "['apple' 'ball' 'banana' 'cherry' 'mubashir']\n"
     ]
    }
   ],
   "source": [
    "arr = np.array(['banana','ball', 'cherry', 'apple','mubashir'])\n",
    "\n",
    "print(np.sort(arr))\n"
   ]
  },
  {
   "cell_type": "markdown",
   "id": "d2e93be7-6e5a-40e6-9d81-5452d9b42088",
   "metadata": {},
   "source": [
    "Boolean Sorting"
   ]
  },
  {
   "cell_type": "code",
   "execution_count": 9,
   "id": "078521e7-d462-4402-b7d9-8eeba5965a3d",
   "metadata": {},
   "outputs": [
    {
     "name": "stdout",
     "output_type": "stream",
     "text": [
      "[False  True  True]\n"
     ]
    }
   ],
   "source": [
    "arr = np.array([True, False, True])\n",
    "\n",
    "print(np.sort(arr))"
   ]
  },
  {
   "cell_type": "markdown",
   "id": "712d0bad-af29-4ab6-aaf9-3c3f0c53d556",
   "metadata": {},
   "source": [
    "2 D Array Sorting"
   ]
  },
  {
   "cell_type": "code",
   "execution_count": 13,
   "id": "6f3e1b25-4de6-4ed8-b892-d73f633273df",
   "metadata": {},
   "outputs": [
    {
     "name": "stdout",
     "output_type": "stream",
     "text": [
      "[[2 2 3 4 4 6]\n",
      " [0 1 3 5 7 8]]\n"
     ]
    }
   ],
   "source": [
    "arr = np.array([[3, 2, 4,4,6,2], [5, 0, 1,7,8,3]])\n",
    "\n",
    "print(np.sort(arr))"
   ]
  },
  {
   "cell_type": "markdown",
   "id": "79bf7c18-cc8b-4c1a-80f2-6e8b80382beb",
   "metadata": {},
   "source": [
    "## Filtering Arrays"
   ]
  },
  {
   "cell_type": "code",
   "execution_count": 8,
   "id": "a188ee54-dcc7-449a-8a39-00d6ce313758",
   "metadata": {},
   "outputs": [
    {
     "name": "stdout",
     "output_type": "stream",
     "text": [
      "[42 44 34]\n"
     ]
    }
   ],
   "source": [
    "arr = np.array([41, 42, 43, 44,34])\n",
    "\n",
    "x = [False, True, False, True,True]\n",
    "\n",
    "newarr = arr[x]\n",
    "\n",
    "print(newarr)"
   ]
  },
  {
   "cell_type": "code",
   "execution_count": 4,
   "id": "dc0d7263-1918-4419-9923-92f98142b5c2",
   "metadata": {},
   "outputs": [],
   "source": [
    "import numpy as np"
   ]
  },
  {
   "cell_type": "markdown",
   "id": "2ca8426b-1eda-4506-831c-8ee7848dfca3",
   "metadata": {},
   "source": [
    "Creating the Filter Array"
   ]
  },
  {
   "cell_type": "code",
   "execution_count": 48,
   "id": "31077f81-de2a-468b-8fed-0dd1943ebde0",
   "metadata": {},
   "outputs": [
    {
     "name": "stdout",
     "output_type": "stream",
     "text": [
      "[False, False, True, True]\n",
      "[43 44]\n"
     ]
    }
   ],
   "source": [
    "arr = np.array([41, 42, 43, 44])\n",
    "\n",
    "filter_arr = []\n",
    "\n",
    "for element in arr:\n",
    "  if element > 42:\n",
    "    filter_arr.append(True)\n",
    "  else:\n",
    "    filter_arr.append(False)\n",
    "\n",
    "newarr = arr[filter_arr]\n",
    "\n",
    "print(filter_arr)\n",
    "print(newarr)"
   ]
  },
  {
   "cell_type": "code",
   "execution_count": 52,
   "id": "95e73f74-ae08-4b6a-b040-0394473d3b45",
   "metadata": {},
   "outputs": [
    {
     "name": "stdout",
     "output_type": "stream",
     "text": [
      "[False, True, False, True, False, True, False]\n",
      "[2 4 6]\n"
     ]
    }
   ],
   "source": [
    "arr = np.array([1, 2, 3, 4, 5, 6, 7])\n",
    "\n",
    "filter_arr = []\n",
    "\n",
    "for element in arr:\n",
    "  if element % 2 == 0:\n",
    "    filter_arr.append(True)\n",
    "  else:\n",
    "    filter_arr.append(False)\n",
    "\n",
    "newarr = arr[filter_arr]\n",
    "\n",
    "print(filter_arr)\n",
    "print(newarr)"
   ]
  },
  {
   "cell_type": "markdown",
   "id": "6318d98d-4ec4-44cf-8a4e-b84bb03eeded",
   "metadata": {},
   "source": [
    "Creating Filter Directly From Array"
   ]
  },
  {
   "cell_type": "code",
   "execution_count": 54,
   "id": "381c54cb-1a90-4294-aab9-d9410695b41d",
   "metadata": {},
   "outputs": [
    {
     "name": "stdout",
     "output_type": "stream",
     "text": [
      "[False False  True  True]\n",
      "[43 44]\n"
     ]
    }
   ],
   "source": [
    "arr = np.array([41, 42, 43, 44])\n",
    "\n",
    "filter_arr = arr > 42\n",
    "\n",
    "newarr = arr[filter_arr]\n",
    "\n",
    "print(filter_arr)\n",
    "print(newarr)"
   ]
  },
  {
   "cell_type": "code",
   "execution_count": 10,
   "id": "7d5a2792-af33-4321-ab44-8118b3cf5f42",
   "metadata": {},
   "outputs": [
    {
     "data": {
      "text/plain": [
       "array([False, False,  True,  True, False])"
      ]
     },
     "execution_count": 10,
     "metadata": {},
     "output_type": "execute_result"
    }
   ],
   "source": [
    "arr > 42"
   ]
  },
  {
   "cell_type": "code",
   "execution_count": 57,
   "id": "dc31c487-c7cf-4f2c-b5a9-1e7d51fc26bd",
   "metadata": {},
   "outputs": [
    {
     "name": "stdout",
     "output_type": "stream",
     "text": [
      "[False  True False  True False  True False]\n",
      "[2 4 6]\n"
     ]
    }
   ],
   "source": [
    "arr = np.array([1, 2, 3, 4, 5, 6, 7])\n",
    "\n",
    "filter_arr = arr % 2 == 0\n",
    "\n",
    "newarr = arr[filter_arr]\n",
    "\n",
    "print(filter_arr)\n",
    "print(newarr)"
   ]
  },
  {
   "cell_type": "markdown",
   "id": "6bbafc89-8ab4-4b8c-addd-3b74517c2836",
   "metadata": {},
   "source": [
    "## New Lecture \n",
    "\n",
    "#### Random "
   ]
  },
  {
   "cell_type": "code",
   "execution_count": 16,
   "id": "66ceb974-8d92-464d-996a-c73485a05f53",
   "metadata": {},
   "outputs": [
    {
     "name": "stdout",
     "output_type": "stream",
     "text": [
      "69\n"
     ]
    }
   ],
   "source": [
    "from numpy import random as r\n",
    "\n",
    "x = r.randint(100)\n",
    "\n",
    "print(x)"
   ]
  },
  {
   "cell_type": "code",
   "execution_count": 20,
   "id": "1eeb20d1-9119-4af0-b293-0e993c07f120",
   "metadata": {},
   "outputs": [
    {
     "name": "stdout",
     "output_type": "stream",
     "text": [
      "0.8695690615458931\n"
     ]
    }
   ],
   "source": [
    "x = r.rand()   # 0-1 \n",
    "\n",
    "print(x)"
   ]
  },
  {
   "cell_type": "code",
   "execution_count": 22,
   "id": "a5899ff6-559d-4484-b938-87ecce11ed78",
   "metadata": {},
   "outputs": [
    {
     "name": "stdout",
     "output_type": "stream",
     "text": [
      "[42 47 23 67 80]\n"
     ]
    }
   ],
   "source": [
    "x=r.randint(100, size=(5))\n",
    "\n",
    "print(x)"
   ]
  },
  {
   "cell_type": "code",
   "execution_count": 40,
   "id": "e653c9c2-af55-4614-b8c0-77a03da49741",
   "metadata": {},
   "outputs": [
    {
     "name": "stdout",
     "output_type": "stream",
     "text": [
      "[[4 9]\n",
      " [4 9]]\n"
     ]
    }
   ],
   "source": [
    "x = random.randint(10, size=(2,2))\n",
    "\n",
    "print(x)"
   ]
  },
  {
   "cell_type": "code",
   "execution_count": 46,
   "id": "8e587ec5-4962-4bb5-a249-65b8e25a9d4f",
   "metadata": {},
   "outputs": [
    {
     "name": "stdout",
     "output_type": "stream",
     "text": [
      "[[0.03430651 0.61127173]\n",
      " [0.68508221 0.01591973]]\n"
     ]
    }
   ],
   "source": [
    "x = random.rand(2,2)\n",
    "\n",
    "print(x)"
   ]
  },
  {
   "cell_type": "code",
   "execution_count": 30,
   "id": "3f59143e-27d4-489e-8ca0-9c015e447f43",
   "metadata": {},
   "outputs": [
    {
     "name": "stdout",
     "output_type": "stream",
     "text": [
      "[[0.45293752 0.09168521 0.79563949 0.79551905 0.21490401]\n",
      " [0.88345726 0.60851386 0.16492432 0.53350363 0.62628685]\n",
      " [0.80573506 0.91362386 0.40171027 0.08602657 0.77097346]]\n"
     ]
    }
   ],
   "source": [
    "x = random.rand(3, 5)\n",
    "\n",
    "print(x)"
   ]
  },
  {
   "cell_type": "code",
   "execution_count": 72,
   "id": "052ba09c-89c1-4565-9a02-dec5c5bc1f83",
   "metadata": {},
   "outputs": [
    {
     "name": "stdout",
     "output_type": "stream",
     "text": [
      "43\n"
     ]
    }
   ],
   "source": [
    "x = random.choice([3, 5, 7, 9,12,32,43,23,12,33])\n",
    "\n",
    "print(x)"
   ]
  },
  {
   "cell_type": "code",
   "execution_count": 70,
   "id": "dba390b1-fd55-4a42-ba0e-c321adbb2102",
   "metadata": {},
   "outputs": [
    {
     "name": "stdin",
     "output_type": "stream",
     "text": [
      "Enter a Number Between 0 and 10: 1\n"
     ]
    },
    {
     "name": "stdout",
     "output_type": "stream",
     "text": [
      "You Loose\n",
      "System Collected: 0\n"
     ]
    }
   ],
   "source": [
    "x=random.randint(1)\n",
    "user=int (input(\"Enter a Number Between 0 and 10:\"))\n",
    "if x==user:\n",
    "    print(\"You Won\")\n",
    "else:\n",
    "    print(\"You Loose\")\n",
    "    print(\"System Collected:\",x)"
   ]
  },
  {
   "cell_type": "code",
   "execution_count": 74,
   "id": "7703e584-aebd-462e-8f1e-a43d7c002725",
   "metadata": {},
   "outputs": [
    {
     "name": "stdout",
     "output_type": "stream",
     "text": [
      "[[1 1 1 1 1]\n",
      " [1 1 1 1 0]\n",
      " [1 0 0 1 1]]\n"
     ]
    }
   ],
   "source": [
    "x = random.choice([0, 1], size=(3, 5))\n",
    "\n",
    "print(x)"
   ]
  },
  {
   "cell_type": "markdown",
   "id": "b4a36d6f-50e7-47b6-a2e1-b835479597ca",
   "metadata": {},
   "source": [
    "## Random Data Distribution"
   ]
  },
  {
   "cell_type": "markdown",
   "id": "c2380039-42ab-41bc-9d63-44b234aa3819",
   "metadata": {},
   "source": [
    "Probability Density Function: \n",
    "A function that describes a continuous probability. i.e. probability of all values in an array.\n",
    "\n",
    "We can generate random numbers based on defined probabilities using the choice() method \n",
    "of the random module.\n",
    "\n",
    "The choice() method allows us to specify the probability for each value."
   ]
  },
  {
   "cell_type": "code",
   "execution_count": 82,
   "id": "c96d9d67-ef84-4d3b-9b5e-43cd67234daa",
   "metadata": {},
   "outputs": [
    {
     "name": "stdout",
     "output_type": "stream",
     "text": [
      "[3 9 5 5 9 3 7 5 5 7 7 7 5 7 9 7 7 5 7 3 9 3 7 9 7 7 7 3 7 5 5 5 7 5 3 5 5\n",
      " 5 5 5 7 3 5 7 3 7 3 7 7 3 9 7 3 9 7 7 5 7 3 3 5 7 5 7 3 9 7 7 7 7 7 3 7 5\n",
      " 9 9 9 7 5 7 3 3 5 5 7 7 9 9 7 5 7 5 9 9 9 7 5 7 3 7]\n"
     ]
    }
   ],
   "source": [
    "x = random.choice([3, 5, 7, 9], p=[0.1, 0.3, 0.4, 0.2], size=(100))\n",
    "\n",
    "print(x)"
   ]
  },
  {
   "cell_type": "code",
   "execution_count": 86,
   "id": "fe71c7cc-d979-4106-a0d9-8b07e22490da",
   "metadata": {},
   "outputs": [
    {
     "name": "stdout",
     "output_type": "stream",
     "text": [
      "Total Elements: 100\n",
      "Total Elements of 3: 18\n",
      "Total Elements of 5: 26\n",
      "Total Elements of 7: 40\n",
      "Total Elements of 9: 16\n",
      "Total Elements After: 100\n"
     ]
    }
   ],
   "source": [
    "count=0\n",
    "count_3=0\n",
    "count_5=0\n",
    "count_7=0\n",
    "count_9=0\n",
    "for i in x:\n",
    "    if ((i==5) |(i==3))|((i==7)|(i==9)):\n",
    "        count+=1\n",
    "    if i==3:\n",
    "        count_3+=1\n",
    "    if i==5:\n",
    "        count_5+=1\n",
    "    if i==7:\n",
    "        count_7+=1\n",
    "    if i==9:\n",
    "        count_9+=1\n",
    "        \n",
    "\n",
    "print(\"Total Elements:\",count)\n",
    "print(\"Total Elements of 3:\",count_3)\n",
    "print(\"Total Elements of 5:\",count_5)\n",
    "print(\"Total Elements of 7:\",count_7)\n",
    "print(\"Total Elements of 9:\",count_9)\n",
    "total_count=count_3+count_5+count_7+count_9\n",
    "print(\"Total Elements After:\",total_count)"
   ]
  },
  {
   "cell_type": "code",
   "execution_count": 88,
   "id": "0af81ff5-9aec-49c9-af4e-3eb6e85bbff8",
   "metadata": {},
   "outputs": [],
   "source": [
    "p1=(count_3/total_count)*100\n",
    "p2=(count_5/total_count)*100\n",
    "p3=(count_7/total_count)*100\n",
    "p4=(count_9/total_count)*100"
   ]
  },
  {
   "cell_type": "code",
   "execution_count": 90,
   "id": "a82d93f7-a5eb-472c-9aa0-d482df16b1dd",
   "metadata": {},
   "outputs": [
    {
     "name": "stdout",
     "output_type": "stream",
     "text": [
      "P1: 18.0\n",
      "P2: 26.0\n",
      "P3: 40.0\n",
      "P4: 16.0\n"
     ]
    }
   ],
   "source": [
    "print(\"P1:\",p1)\n",
    "print(\"P2:\",p2)\n",
    "print(\"P3:\",p3)\n",
    "print(\"P4:\",p4)"
   ]
  },
  {
   "cell_type": "code",
   "execution_count": 94,
   "id": "932643ce-2253-4819-94df-fdb5eafd4379",
   "metadata": {},
   "outputs": [
    {
     "name": "stdout",
     "output_type": "stream",
     "text": [
      "[[3 7 7 5 7]\n",
      " [9 7 5 9 7]\n",
      " [9 9 7 5 9]]\n"
     ]
    }
   ],
   "source": [
    "x = random.choice([3, 5, 7, 9], p=[0.1, 0.1, 0.4, 0.4], size=(3, 5))\n",
    "\n",
    "print(x)"
   ]
  },
  {
   "cell_type": "code",
   "execution_count": 1,
   "id": "9d623238-2254-44f9-9b93-dfd767cb3eb9",
   "metadata": {},
   "outputs": [],
   "source": [
    "import numpy as np"
   ]
  },
  {
   "cell_type": "markdown",
   "id": "8aa9e642-ab7a-4ad4-80bb-859c1a6ae0bd",
   "metadata": {},
   "source": [
    "### New Lecture"
   ]
  },
  {
   "cell_type": "markdown",
   "id": "4c4afaf5-da16-4469-9979-a02b7f6d5a68",
   "metadata": {},
   "source": [
    "### UFUNC \n",
    "\n",
    "\n",
    "universal functions"
   ]
  },
  {
   "cell_type": "code",
   "execution_count": 5,
   "id": "373ca610-2952-4609-9f05-3d43f563d4f0",
   "metadata": {},
   "outputs": [
    {
     "name": "stdout",
     "output_type": "stream",
     "text": [
      "[5, 7, 9, 11]\n"
     ]
    }
   ],
   "source": [
    "x = [1, 2, 3, 4]\n",
    "y = [4, 5, 6, 7]\n",
    "z = []\n",
    "\n",
    "for i, j in zip(x, y):\n",
    "  z.append(i + j)\n",
    "print(z)"
   ]
  },
  {
   "cell_type": "code",
   "execution_count": 7,
   "id": "747dc47f-d25b-4f2f-8871-3038ee4aa4a0",
   "metadata": {},
   "outputs": [
    {
     "name": "stdout",
     "output_type": "stream",
     "text": [
      "[ 5  7  9 11]\n"
     ]
    }
   ],
   "source": [
    "x = [1, 2, 3, 4]\n",
    "y = [4, 5, 6, 7]\n",
    "z = np.add(x, y)\n",
    "\n",
    "print(z)"
   ]
  },
  {
   "cell_type": "code",
   "execution_count": 9,
   "id": "418a9686-79b2-4307-94a7-172c86b2cdcb",
   "metadata": {},
   "outputs": [
    {
     "name": "stdout",
     "output_type": "stream",
     "text": [
      "<class 'numpy.ufunc'>\n"
     ]
    }
   ],
   "source": [
    "print(type(np.add))"
   ]
  },
  {
   "cell_type": "markdown",
   "id": "c3d567ba-2fe1-4823-80f3-0d273bc7a37c",
   "metadata": {},
   "source": [
    "### UFUNC Arthematic functions"
   ]
  },
  {
   "cell_type": "code",
   "execution_count": 11,
   "id": "c859fd29-55e7-44b4-88fb-8daf834f2d3a",
   "metadata": {},
   "outputs": [
    {
     "name": "stdout",
     "output_type": "stream",
     "text": [
      "[30 32 34 36 38 40]\n"
     ]
    }
   ],
   "source": [
    "arr1 = np.array([10, 11, 12, 13, 14, 15])\n",
    "arr2 = np.array([20, 21, 22, 23, 24, 25])\n",
    "\n",
    "newarr = np.add(arr1, arr2)\n",
    "\n",
    "print(newarr)"
   ]
  },
  {
   "cell_type": "code",
   "execution_count": 13,
   "id": "45be2c6e-ad7f-46b2-b222-cf8aa450098e",
   "metadata": {},
   "outputs": [
    {
     "name": "stdout",
     "output_type": "stream",
     "text": [
      "[-10  -1   8  17  26  35]\n"
     ]
    }
   ],
   "source": [
    "arr1 = np.array([10, 20, 30, 40, 50, 60])\n",
    "arr2 = np.array([20, 21, 22, 23, 24, 25])\n",
    "arr3 = np.array([20, 21, 22, 23, 24, 25])\n",
    "\n",
    "newarr = np.subtract(arr1, arr2, arr3)\n",
    "\n",
    "print(newarr)"
   ]
  },
  {
   "cell_type": "code",
   "execution_count": 15,
   "id": "21dd9dcc-20d5-4f6f-a76e-30ed44b64f53",
   "metadata": {},
   "outputs": [
    {
     "name": "stdout",
     "output_type": "stream",
     "text": [
      "[ 200  420  660  920 1200 1500]\n"
     ]
    }
   ],
   "source": [
    "arr1 = np.array([10, 20, 30, 40, 50, 60])\n",
    "arr2 = np.array([20, 21, 22, 23, 24, 25])\n",
    "\n",
    "newarr = np.multiply(arr1, arr2)\n",
    "\n",
    "print(newarr)"
   ]
  },
  {
   "cell_type": "code",
   "execution_count": 81,
   "id": "0d475808-c7a5-469c-ae76-87f07ebaa683",
   "metadata": {},
   "outputs": [
    {
     "name": "stdout",
     "output_type": "stream",
     "text": [
      "[ 3.33333333  4.          3.          5.         25.          1.81818182]\n"
     ]
    }
   ],
   "source": [
    "arr1 = np.array([10, 20, 30, 40, 50, 60])\n",
    "arr2 = np.array([3, 5, 10, 8, 2, 33])\n",
    "\n",
    "newarr = np.divide(arr1, arr2)\n",
    "\n",
    "print(newarr)"
   ]
  },
  {
   "cell_type": "code",
   "execution_count": 83,
   "id": "c866f652-b4ca-4d3e-87c8-dd29cf093a4c",
   "metadata": {},
   "outputs": [
    {
     "name": "stdout",
     "output_type": "stream",
     "text": [
      "[      1000    3200000  729000000 -520093696       2500          0]\n"
     ]
    }
   ],
   "source": [
    "arr1 = np.array([10, 20, 30, 40, 50, 60])\n",
    "arr2 = np.array([3, 5, 6, 8, 2, 33])\n",
    "\n",
    "newarr = np.power(arr1, arr2)\n",
    "\n",
    "print(newarr)"
   ]
  },
  {
   "cell_type": "code",
   "execution_count": 85,
   "id": "d7b8c306-727a-4be3-987c-1ec849064fc5",
   "metadata": {},
   "outputs": [
    {
     "name": "stdout",
     "output_type": "stream",
     "text": [
      "[ 1  6  3  0  0 27]\n"
     ]
    }
   ],
   "source": [
    "arr1 = np.array([10, 20, 30, 40, 50, 60])\n",
    "arr2 = np.array([3, 7, 9, 8, 2, 33])\n",
    "\n",
    "newarr = np.mod(arr1, arr2)\n",
    "\n",
    "print(newarr)"
   ]
  },
  {
   "cell_type": "code",
   "execution_count": 87,
   "id": "314913fa-5c6d-4b2d-a784-166cce7cbcd3",
   "metadata": {},
   "outputs": [
    {
     "name": "stdout",
     "output_type": "stream",
     "text": [
      "[ 1  6  3  0  0 27]\n"
     ]
    }
   ],
   "source": [
    "arr1 = np.array([10, 20, 30, 40, 50, 60])\n",
    "arr2 = np.array([3, 7, 9, 8, 2, 33])\n",
    "\n",
    "newarr = np.remainder(arr1, arr2)\n",
    "\n",
    "print(newarr)"
   ]
  },
  {
   "cell_type": "code",
   "execution_count": 27,
   "id": "e85a7106-e4d2-401d-9918-739e3121b93e",
   "metadata": {},
   "outputs": [
    {
     "name": "stdout",
     "output_type": "stream",
     "text": [
      "Qutionents:  [ 3  2  3  5 25  1] \n",
      "Remenders:  [ 1  6  3  0  0 27]\n"
     ]
    }
   ],
   "source": [
    "arr1 = np.array([10, 20, 30, 40, 50, 60])\n",
    "arr2 = np.array([3, 7, 9, 8, 2, 33])\n",
    "\n",
    "newarr = np.divmod(arr1, arr2)\n",
    "qu=newarr[0]\n",
    "rem= newarr[1]\n",
    "print(\"Qutionents: \",qu,\"\\nRemenders: \",rem)"
   ]
  },
  {
   "cell_type": "code",
   "execution_count": 91,
   "id": "47f0b2df-fa40-49b6-8944-9f4111aad8b4",
   "metadata": {},
   "outputs": [
    {
     "name": "stdout",
     "output_type": "stream",
     "text": [
      "[1 2 1 2 3 4]\n"
     ]
    }
   ],
   "source": [
    "arr = np.array([-1, -2, 1, 2, 3, -4])\n",
    "\n",
    "newarr = np.absolute(arr)\n",
    "\n",
    "print(newarr)"
   ]
  },
  {
   "cell_type": "markdown",
   "id": "45c56960-f048-431c-b003-3f9c4e5764e4",
   "metadata": {},
   "source": [
    "### Truncate "
   ]
  },
  {
   "cell_type": "code",
   "execution_count": 29,
   "id": "ec6295c2-efd8-455e-9cbc-29a7c3faba23",
   "metadata": {},
   "outputs": [
    {
     "name": "stdout",
     "output_type": "stream",
     "text": [
      "[-3.  3.]\n"
     ]
    }
   ],
   "source": [
    "arr = np.trunc([-3.1666, 3.6667])\n",
    "\n",
    "print(arr)"
   ]
  },
  {
   "cell_type": "code",
   "execution_count": 37,
   "id": "d32e7c92-119d-40b2-8f82-ee9fed795563",
   "metadata": {},
   "outputs": [
    {
     "name": "stdout",
     "output_type": "stream",
     "text": [
      "3.16\n"
     ]
    }
   ],
   "source": [
    "arr = np.around(3.1622, 2)\n",
    "\n",
    "print(arr)"
   ]
  },
  {
   "cell_type": "code",
   "execution_count": 39,
   "id": "69d1a740-adee-4d05-aa7c-594df0da123b",
   "metadata": {},
   "outputs": [
    {
     "name": "stdout",
     "output_type": "stream",
     "text": [
      "[-4.  3.]\n"
     ]
    }
   ],
   "source": [
    "arr = np.floor([-3.1666, 3.6667])\n",
    "\n",
    "print(arr)"
   ]
  },
  {
   "cell_type": "code",
   "execution_count": 41,
   "id": "b3e27a7e-e5fd-4063-b85e-457c9bb7714d",
   "metadata": {},
   "outputs": [
    {
     "name": "stdout",
     "output_type": "stream",
     "text": [
      "[-3.  4.]\n"
     ]
    }
   ],
   "source": [
    "arr = np.ceil([-3.1666, 3.6667])\n",
    "\n",
    "print(arr)"
   ]
  },
  {
   "cell_type": "markdown",
   "id": "20e07bc5-eab7-4cab-b4f2-bd61eb25ce43",
   "metadata": {},
   "source": [
    "### UFUNC Summition"
   ]
  },
  {
   "cell_type": "code",
   "execution_count": 104,
   "id": "960372d5-5cd6-4351-95f4-776c928f4f05",
   "metadata": {},
   "outputs": [
    {
     "name": "stdout",
     "output_type": "stream",
     "text": [
      "[2 4 6]\n"
     ]
    }
   ],
   "source": [
    "arr1 = np.array([1, 2, 3])\n",
    "arr2 = np.array([1, 2, 3])\n",
    "\n",
    "newarr = np.add(arr1, arr2)\n",
    "\n",
    "print(newarr)"
   ]
  },
  {
   "cell_type": "code",
   "execution_count": 49,
   "id": "61939bcb-e568-4198-9e4c-c9c178996b67",
   "metadata": {},
   "outputs": [
    {
     "name": "stdout",
     "output_type": "stream",
     "text": [
      "12\n"
     ]
    }
   ],
   "source": [
    "arr1 = np.array([1, 2, 3])\n",
    "arr2 = np.array([1, 2, 3])\n",
    "\n",
    "newarr = np.sum([arr1,arr2])\n",
    "\n",
    "print(newarr)"
   ]
  },
  {
   "cell_type": "code",
   "execution_count": 53,
   "id": "07a0fb66-b786-4d3c-88fd-96bedf414694",
   "metadata": {},
   "outputs": [
    {
     "name": "stdout",
     "output_type": "stream",
     "text": [
      "[6 6]\n"
     ]
    }
   ],
   "source": [
    "arr1 = np.array([1, 2, 3])\n",
    "arr2 = np.array([1, 2, 3])\n",
    "\n",
    "newarr = np.sum([arr1, arr2], axis=1)\n",
    "\n",
    "print(newarr)"
   ]
  },
  {
   "cell_type": "code",
   "execution_count": 118,
   "id": "f92b67f2-6cbc-4151-9805-534c73dfb777",
   "metadata": {},
   "outputs": [
    {
     "name": "stdout",
     "output_type": "stream",
     "text": [
      "[2 4 6]\n"
     ]
    }
   ],
   "source": [
    "arr1 = np.array([1, 2, 3])\n",
    "arr2 = np.array([1, 2, 3])\n",
    "\n",
    "newarr = np.sum([arr1, arr2], axis=0)\n",
    "\n",
    "print(newarr)"
   ]
  },
  {
   "cell_type": "markdown",
   "id": "44c9cc22-02fa-4f44-905b-2d79f0fa11b5",
   "metadata": {},
   "source": [
    "### Cumulative Sum"
   ]
  },
  {
   "cell_type": "code",
   "execution_count": 57,
   "id": "88d40921-54b0-41fe-97b5-38e6cf8bb2a1",
   "metadata": {},
   "outputs": [
    {
     "name": "stdout",
     "output_type": "stream",
     "text": [
      "[ 1  3  6 10 15 19 25 32]\n"
     ]
    }
   ],
   "source": [
    "arr = np.array([1, 2, 3, 4, 5,4,6,7])\n",
    "\n",
    "newarr = np.cumsum(arr)\n",
    "\n",
    "print(newarr)"
   ]
  },
  {
   "cell_type": "markdown",
   "id": "dafbb6bf-7518-442e-87f6-41c591da0931",
   "metadata": {},
   "source": [
    "### UFUNC Product"
   ]
  },
  {
   "cell_type": "code",
   "execution_count": 59,
   "id": "bee92afb-5c17-4bb6-a7e4-440f4f10129f",
   "metadata": {},
   "outputs": [
    {
     "name": "stdout",
     "output_type": "stream",
     "text": [
      "24\n"
     ]
    }
   ],
   "source": [
    "arr = np.array([1, 2, 3, 4])\n",
    "\n",
    "x = np.prod(arr)\n",
    "\n",
    "print(x)"
   ]
  },
  {
   "cell_type": "code",
   "execution_count": 65,
   "id": "b2c1e1a6-5d8b-4a83-afc8-9a0efc639154",
   "metadata": {},
   "outputs": [
    {
     "name": "stdout",
     "output_type": "stream",
     "text": [
      "[ 5 12 21 32]\n"
     ]
    }
   ],
   "source": [
    "arr1 = np.array([1, 2, 3, 4])\n",
    "arr2 = np.array([5, 6, 7, 8])\n",
    "\n",
    "x = np.prod([arr1, arr2], axis =0)\n",
    "\n",
    "print(x)"
   ]
  },
  {
   "cell_type": "code",
   "execution_count": 67,
   "id": "8521e143-7208-437a-a346-849ae47925af",
   "metadata": {},
   "outputs": [
    {
     "name": "stdout",
     "output_type": "stream",
     "text": [
      "[  24 1680]\n"
     ]
    }
   ],
   "source": [
    "arr1 = np.array([1, 2, 3, 4])\n",
    "arr2 = np.array([5, 6, 7, 8])\n",
    "\n",
    "newarr = np.prod([arr1, arr2], axis=1)\n",
    "\n",
    "print(newarr)"
   ]
  },
  {
   "cell_type": "code",
   "execution_count": 69,
   "id": "ea1d7865-3074-4b37-863b-a7ed38e1d479",
   "metadata": {},
   "outputs": [
    {
     "name": "stdout",
     "output_type": "stream",
     "text": [
      "[   5   30  210 1680]\n"
     ]
    }
   ],
   "source": [
    "arr = np.array([5, 6, 7, 8])\n",
    "\n",
    "newarr = np.cumprod(arr)\n",
    "\n",
    "print(newarr)"
   ]
  },
  {
   "cell_type": "markdown",
   "id": "4450acfd-2794-4b6a-a8d8-7deda467c628",
   "metadata": {},
   "source": [
    "### NumPy LCM Lowest Common Multiple"
   ]
  },
  {
   "cell_type": "code",
   "execution_count": 71,
   "id": "06f13706-897c-4035-a9e0-898042fa8a59",
   "metadata": {},
   "outputs": [
    {
     "name": "stdout",
     "output_type": "stream",
     "text": [
      "12\n"
     ]
    }
   ],
   "source": [
    "num1 = 4\n",
    "num2 = 6\n",
    "\n",
    "x = np.lcm(num1, num2)\n",
    "\n",
    "print(x)"
   ]
  },
  {
   "cell_type": "code",
   "execution_count": 87,
   "id": "50cdc9a0-daad-4e0d-9e29-25bdd1937111",
   "metadata": {},
   "outputs": [
    {
     "name": "stdout",
     "output_type": "stream",
     "text": [
      "6\n"
     ]
    }
   ],
   "source": [
    "arr = np.array([3, 6])\n",
    "\n",
    "x = np.lcm.reduce(arr)\n",
    "\n",
    "print(x)"
   ]
  },
  {
   "cell_type": "code",
   "execution_count": 99,
   "id": "ac6d975d-7956-4998-982d-9a619658dfc8",
   "metadata": {},
   "outputs": [
    {
     "name": "stdout",
     "output_type": "stream",
     "text": [
      "[ 1  2  3  4  5  6  7  8  9 10]\n",
      "2520\n"
     ]
    }
   ],
   "source": [
    "arr = np.arange(1, 11)\n",
    "\n",
    "x = np.lcm.reduce(arr)\n",
    "print(arr)\n",
    "print(x)\n",
    "# 2520/5"
   ]
  },
  {
   "cell_type": "markdown",
   "id": "ce0bb5e5-97ef-4d2a-923b-556082a37682",
   "metadata": {},
   "source": [
    "### NumPy GCD Greatest Common Denominator or HCF"
   ]
  },
  {
   "cell_type": "code",
   "execution_count": 101,
   "id": "9db454ce-384e-4b20-8966-155c218d8c72",
   "metadata": {},
   "outputs": [
    {
     "name": "stdout",
     "output_type": "stream",
     "text": [
      "3\n"
     ]
    }
   ],
   "source": [
    "num1 = 6\n",
    "num2 = 9\n",
    "\n",
    "x = np.gcd(num1, num2)\n",
    "\n",
    "print(x)"
   ]
  },
  {
   "cell_type": "code",
   "execution_count": 103,
   "id": "fd9f5f84-d807-4b23-86ce-6432742e6e3c",
   "metadata": {},
   "outputs": [
    {
     "name": "stdout",
     "output_type": "stream",
     "text": [
      "4\n"
     ]
    }
   ],
   "source": [
    "arr = np.array([20, 8, 32, 36, 16])\n",
    "\n",
    "x = np.gcd.reduce(arr)\n",
    "\n",
    "print(x)"
   ]
  },
  {
   "cell_type": "markdown",
   "id": "c663b32f-b325-4691-8aa0-082671c79d24",
   "metadata": {},
   "source": [
    "### NumPy Trigonometric Functions"
   ]
  },
  {
   "cell_type": "code",
   "execution_count": 105,
   "id": "048d826c-3502-4861-9673-505fe8311699",
   "metadata": {},
   "outputs": [
    {
     "name": "stdout",
     "output_type": "stream",
     "text": [
      "1.0\n"
     ]
    }
   ],
   "source": [
    "x = np.sin(np.pi/2)\n",
    "\n",
    "print(x)"
   ]
  },
  {
   "cell_type": "code",
   "execution_count": 113,
   "id": "58c19e01-c1ca-42ab-8f0d-3aae9810bb40",
   "metadata": {},
   "outputs": [
    {
     "data": {
      "text/plain": [
       "1.5714285714285714"
      ]
     },
     "execution_count": 113,
     "metadata": {},
     "output_type": "execute_result"
    }
   ],
   "source": [
    "# np.pi/2\n",
    "(22/7)/2"
   ]
  },
  {
   "cell_type": "code",
   "execution_count": 115,
   "id": "9547a506-ea1f-4604-86aa-9155af017bc3",
   "metadata": {},
   "outputs": [
    {
     "data": {
      "text/plain": [
       "0.0"
      ]
     },
     "execution_count": 115,
     "metadata": {},
     "output_type": "execute_result"
    }
   ],
   "source": [
    "np.sin(0.0)"
   ]
  },
  {
   "cell_type": "code",
   "execution_count": 117,
   "id": "4e7459b0-256f-4511-a841-833025adc0a3",
   "metadata": {},
   "outputs": [
    {
     "name": "stdout",
     "output_type": "stream",
     "text": [
      "[1.         0.8660254  0.70710678 0.58778525]\n"
     ]
    }
   ],
   "source": [
    "arr = np.array([np.pi/2, np.pi/3, np.pi/4, np.pi/5])\n",
    "\n",
    "x = np.sin(arr)\n",
    "\n",
    "print(x)"
   ]
  },
  {
   "cell_type": "code",
   "execution_count": 129,
   "id": "2718f6fc-cdd1-4244-9941-518eeb928d13",
   "metadata": {},
   "outputs": [
    {
     "name": "stdout",
     "output_type": "stream",
     "text": [
      "0.0\n",
      "1.0\n",
      "0.0\n"
     ]
    }
   ],
   "source": [
    "sin_x=np.sin(0)\n",
    "cos_x=np.cos(0)\n",
    "tan_x=np.tan(0)\n",
    "\n",
    "print(sin_x)\n",
    "print(cos_x)\n",
    "print(tan_x)"
   ]
  },
  {
   "cell_type": "code",
   "execution_count": 119,
   "id": "3495d846-e141-4169-a154-186a2261f068",
   "metadata": {},
   "outputs": [
    {
     "name": "stdout",
     "output_type": "stream",
     "text": [
      "0.0\n"
     ]
    }
   ],
   "source": [
    "x = np.tan(0)\n",
    "\n",
    "print(x)"
   ]
  },
  {
   "cell_type": "code",
   "execution_count": 222,
   "id": "cc08194e-fc98-4cd1-aaaf-c01d33a19872",
   "metadata": {},
   "outputs": [
    {
     "name": "stdout",
     "output_type": "stream",
     "text": [
      "[1.57079633 3.14159265 4.71238898 6.28318531]\n"
     ]
    }
   ],
   "source": [
    "arr = np.array([90, 180, 270, 360])\n",
    "\n",
    "x = np.deg2rad(arr)\n",
    "\n",
    "print(x)"
   ]
  },
  {
   "cell_type": "code",
   "execution_count": 133,
   "id": "264deaca-04f2-4285-85d5-a56010f33264",
   "metadata": {},
   "outputs": [
    {
     "name": "stdout",
     "output_type": "stream",
     "text": [
      "[ 90. 180. 270. 360.]\n"
     ]
    }
   ],
   "source": [
    "arr = np.array([np.pi/2, np.pi, 1.5*np.pi, 2*np.pi])\n",
    "\n",
    "x = np.rad2deg(arr)\n",
    "\n",
    "print(x)"
   ]
  },
  {
   "cell_type": "code",
   "execution_count": 226,
   "id": "1faee0a3-a356-4c4b-b255-72a37aa77f38",
   "metadata": {},
   "outputs": [
    {
     "name": "stdout",
     "output_type": "stream",
     "text": [
      "1.5707963267948966\n"
     ]
    }
   ],
   "source": [
    "x = np.arcsin(1.0)\n",
    "\n",
    "print(x)"
   ]
  },
  {
   "cell_type": "code",
   "execution_count": 228,
   "id": "7fd0c7c3-6ca3-4b98-927f-461d5cb739e2",
   "metadata": {},
   "outputs": [
    {
     "name": "stdout",
     "output_type": "stream",
     "text": [
      "[ 1.57079633 -1.57079633  0.10016742]\n"
     ]
    }
   ],
   "source": [
    "arr = np.array([1, -1, 0.1])\n",
    "\n",
    "x = np.arcsin(arr)\n",
    "\n",
    "print(x)"
   ]
  },
  {
   "cell_type": "code",
   "execution_count": 135,
   "id": "ee819928-abb4-40bf-85a2-7278bdea4d8f",
   "metadata": {},
   "outputs": [
    {
     "name": "stdout",
     "output_type": "stream",
     "text": [
      "5.0\n"
     ]
    }
   ],
   "source": [
    "base = 3\n",
    "perp = 4\n",
    "\n",
    "x = np.hypot(base, perp)\n",
    "\n",
    "print(x)"
   ]
  },
  {
   "cell_type": "code",
   "execution_count": null,
   "id": "4957989e-50d1-487e-88c1-ba8578c8dc8f",
   "metadata": {},
   "outputs": [],
   "source": []
  },
  {
   "cell_type": "code",
   "execution_count": null,
   "id": "cdd451fe-f189-4bc6-9ed5-1ab6c6117e41",
   "metadata": {},
   "outputs": [],
   "source": []
  },
  {
   "cell_type": "markdown",
   "id": "c9f4c291-8611-4a7f-9b80-34e1441c1307",
   "metadata": {},
   "source": [
    "## END OF NUMPY"
   ]
  },
  {
   "cell_type": "code",
   "execution_count": null,
   "id": "ebb574ab-275e-40e1-b77b-70520d6ac99b",
   "metadata": {},
   "outputs": [],
   "source": []
  }
 ],
 "metadata": {
  "colab": {
   "provenance": []
  },
  "kernelspec": {
   "display_name": "Python [conda env:base] *",
   "language": "python",
   "name": "conda-base-py"
  },
  "language_info": {
   "codemirror_mode": {
    "name": "ipython",
    "version": 3
   },
   "file_extension": ".py",
   "mimetype": "text/x-python",
   "name": "python",
   "nbconvert_exporter": "python",
   "pygments_lexer": "ipython3",
   "version": "3.12.7"
  }
 },
 "nbformat": 4,
 "nbformat_minor": 5
}
