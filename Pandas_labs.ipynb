{
 "cells": [
  {
   "cell_type": "markdown",
   "id": "0147014a-79bb-4b5c-ab1a-57ff4f4a8290",
   "metadata": {},
   "source": [
    "## Pandas"
   ]
  },
  {
   "cell_type": "markdown",
   "id": "f21af327-8294-47ce-9765-c48c542eacf8",
   "metadata": {},
   "source": [
    "#### Pandas is a Python library.\n",
    "\n",
    "#### Pandas is used to analyze data."
   ]
  },
  {
   "cell_type": "markdown",
   "id": "d15e3002-c192-414c-b941-268728bc26f2",
   "metadata": {},
   "source": [
    "The name \"Pandas\" has a reference to both \"Panel Data\", and \"Python Data Analysis\" and was created by Wes McKinney in 2008."
   ]
  },
  {
   "cell_type": "markdown",
   "id": "ccd50bec-6000-48b6-b55e-7c0fccaaade2",
   "metadata": {},
   "source": [
    "### Why Use Pandas?\n",
    "Pandas allows us to analyze big data and make conclusions based on statistical theories.\n",
    "\n",
    "Pandas can clean messy data sets, and make them readable and relevant."
   ]
  },
  {
   "cell_type": "markdown",
   "id": "0afd502d-8785-48cb-81ff-25a78963cada",
   "metadata": {},
   "source": [
    "### What Can Pandas Do?\n",
    "#### Pandas gives you answers about the data. Like:\n",
    "\n",
    "- Is there a correlation between two or more columns?\n",
    "- What is average value?\n",
    "- Max value?\n",
    "- Min value?"
   ]
  },
  {
   "cell_type": "markdown",
   "id": "96b7d68a-007b-4a48-9d07-1376787cc282",
   "metadata": {},
   "source": [
    "### Where is the Pandas Codebase?\n",
    "https://github.com/pandas-dev/pandas"
   ]
  },
  {
   "cell_type": "code",
   "execution_count": 10,
   "id": "782f0113-0c7e-4583-91d6-8207d35350f9",
   "metadata": {},
   "outputs": [
    {
     "name": "stdout",
     "output_type": "stream",
     "text": [
      "Requirement already satisfied: pandas in d:\\anaconda\\lib\\site-packages (2.2.2)Note: you may need to restart the kernel to use updated packages.\n",
      "\n",
      "Requirement already satisfied: numpy>=1.26.0 in d:\\anaconda\\lib\\site-packages (from pandas) (1.26.4)\n",
      "Requirement already satisfied: python-dateutil>=2.8.2 in d:\\anaconda\\lib\\site-packages (from pandas) (2.9.0.post0)\n",
      "Requirement already satisfied: pytz>=2020.1 in d:\\anaconda\\lib\\site-packages (from pandas) (2024.1)\n",
      "Requirement already satisfied: tzdata>=2022.7 in d:\\anaconda\\lib\\site-packages (from pandas) (2023.3)\n",
      "Requirement already satisfied: six>=1.5 in d:\\anaconda\\lib\\site-packages (from python-dateutil>=2.8.2->pandas) (1.16.0)\n"
     ]
    }
   ],
   "source": [
    "pip install pandas"
   ]
  },
  {
   "cell_type": "code",
   "execution_count": 12,
   "id": "cb6325b7-8bb8-4d9e-b0b3-ed6bbde9ebe0",
   "metadata": {},
   "outputs": [],
   "source": [
    "import pandas"
   ]
  },
  {
   "cell_type": "code",
   "execution_count": 14,
   "id": "7a7ccde9-dec6-439b-9073-82278101bca2",
   "metadata": {},
   "outputs": [
    {
     "name": "stdout",
     "output_type": "stream",
     "text": [
      "    cars  passings\n",
      "0    BMW         3\n",
      "1  Volvo         7\n",
      "2   Ford         2\n"
     ]
    }
   ],
   "source": [
    "mydataset = {\n",
    "  'cars': [\"BMW\", \"Volvo\", \"Ford\"],\n",
    "  'passings': [3, 7, 2]\n",
    "}\n",
    "\n",
    "myvar = pandas.DataFrame(mydataset)\n",
    "\n",
    "print(myvar)"
   ]
  },
  {
   "cell_type": "markdown",
   "id": "63555c87-5c32-4d28-ad9a-6f929f9ba0f5",
   "metadata": {},
   "source": [
    "### Pandas as pd"
   ]
  },
  {
   "cell_type": "code",
   "execution_count": 1,
   "id": "75014b07-23e1-444e-b2f0-934e3e62cb85",
   "metadata": {},
   "outputs": [],
   "source": [
    "import pandas as pd"
   ]
  },
  {
   "cell_type": "code",
   "execution_count": 50,
   "id": "71103c76-2fc6-4248-ab03-e2e63ec9f038",
   "metadata": {},
   "outputs": [
    {
     "name": "stdout",
     "output_type": "stream",
     "text": [
      "    cars  passings\n",
      "0    BMW         3\n",
      "1  Volvo         7\n",
      "2   Ford         2\n"
     ]
    }
   ],
   "source": [
    "mydataset = {\n",
    "  'cars': [\"BMW\", \"Volvo\", \"Ford\"],\n",
    "  'passings': [3, 7, 2]\n",
    "}\n",
    "\n",
    "myvar = pd.DataFrame(mydataset)\n",
    "\n",
    "print(myvar)"
   ]
  },
  {
   "cell_type": "markdown",
   "id": "8d4a744d-2c33-4444-aca1-808f0d82f822",
   "metadata": {},
   "source": [
    "### Pandas Version Checking"
   ]
  },
  {
   "cell_type": "code",
   "execution_count": 13,
   "id": "3bfbd7dd-65ab-499e-897c-8bc076b765e1",
   "metadata": {},
   "outputs": [
    {
     "name": "stdout",
     "output_type": "stream",
     "text": [
      "2.2.2\n"
     ]
    }
   ],
   "source": [
    "print(pd.__version__)"
   ]
  },
  {
   "cell_type": "markdown",
   "id": "e20d3a97-5699-4fbd-8f0c-33ddfbf2acef",
   "metadata": {},
   "source": [
    "### What is a Series?\n",
    "\n",
    "A Pandas Series is like a column in a table.\n",
    "\n",
    "It is a one-dimensional array holding data of any type."
   ]
  },
  {
   "cell_type": "code",
   "execution_count": 36,
   "id": "d4e7a22a-d6d5-469f-80e4-c65319a09aac",
   "metadata": {},
   "outputs": [
    {
     "name": "stdout",
     "output_type": "stream",
     "text": [
      "0    1\n",
      "1    7\n",
      "2    2\n",
      "dtype: int64\n"
     ]
    }
   ],
   "source": [
    "a = [1, 7, 2]\n",
    "\n",
    "myvar = pd.Series(a)\n",
    "\n",
    "print(myvar)"
   ]
  },
  {
   "cell_type": "markdown",
   "id": "01a3abad-6c60-47c3-ba15-ff4510ecd10a",
   "metadata": {},
   "source": [
    "### Labels\n",
    "\n",
    "\n",
    "If nothing else is specified, the values are labeled with their index number. First value has index 0, second value has index 1 etc.\n",
    "\n",
    "This label can be used to access a specified value."
   ]
  },
  {
   "cell_type": "code",
   "execution_count": 39,
   "id": "cacba5a8-1785-4aa9-a365-a126e8ae863a",
   "metadata": {},
   "outputs": [
    {
     "name": "stdout",
     "output_type": "stream",
     "text": [
      "1\n"
     ]
    }
   ],
   "source": [
    "print(myvar[0])"
   ]
  },
  {
   "cell_type": "markdown",
   "id": "46c199e1-ce24-4c79-b95a-ab9a60361247",
   "metadata": {},
   "source": [
    "### Create Labels\n",
    "With the 'index' argument, you can name your own labels."
   ]
  },
  {
   "cell_type": "code",
   "execution_count": 3,
   "id": "1f7d4c62-9da6-4701-a624-fde468d25a35",
   "metadata": {},
   "outputs": [
    {
     "name": "stdout",
     "output_type": "stream",
     "text": [
      "x    1\n",
      "y    7\n",
      "z    2\n",
      "dtype: int64\n"
     ]
    }
   ],
   "source": [
    "import pandas as pd\n",
    "a = [1, 7, 2]\n",
    "\n",
    "myvar = pd.Series(a, index = [\"x\", \"y\", \"z\"])\n",
    "\n",
    "print(myvar)"
   ]
  },
  {
   "cell_type": "code",
   "execution_count": 7,
   "id": "dd239d3f-349f-4d85-8ec3-9e938425f905",
   "metadata": {},
   "outputs": [
    {
     "name": "stdout",
     "output_type": "stream",
     "text": [
      "1\n"
     ]
    }
   ],
   "source": [
    "print(myvar[\"x\"])"
   ]
  },
  {
   "cell_type": "markdown",
   "id": "39948782-1da0-4a13-b9bb-810b7cfe75fa",
   "metadata": {},
   "source": [
    "### Key/Value Objects as Series\n",
    "You can also use a key/value object, like a dictionary, when creating a Series."
   ]
  },
  {
   "cell_type": "code",
   "execution_count": 15,
   "id": "c46bcdab-9087-4423-9900-6a59816bb138",
   "metadata": {},
   "outputs": [
    {
     "name": "stdout",
     "output_type": "stream",
     "text": [
      "1    420.2\n",
      "2    380.0\n",
      "3    390.0\n",
      "dtype: float64\n"
     ]
    }
   ],
   "source": [
    "calories = {1: 420.2, 2: 380, 3: 390}\n",
    "\n",
    "myvar = pd.Series(calories)\n",
    "\n",
    "print(myvar)"
   ]
  },
  {
   "cell_type": "markdown",
   "id": "038f69e3-5310-4d7b-ac39-07c87a3e015e",
   "metadata": {},
   "source": [
    "To select only some of the items in the dictionary, use the \"index\" argument and specify only the items you want to include in the Series."
   ]
  },
  {
   "cell_type": "code",
   "execution_count": 25,
   "id": "2055a9a4-563d-4507-a542-5a55dda74ff0",
   "metadata": {},
   "outputs": [
    {
     "name": "stdout",
     "output_type": "stream",
     "text": [
      "day1    420\n",
      "day2    380\n",
      "dtype: int64\n"
     ]
    }
   ],
   "source": [
    "calories = {\"day1\": 420, \"day2\": 380, \"day3\": 390}\n",
    "\n",
    "myvar = pd.Series(calories, index = [\"day1\", \"day2\"])\n",
    "\n",
    "print(myvar)"
   ]
  },
  {
   "cell_type": "markdown",
   "id": "978a1c50-745c-49f0-a00d-8468f5b3ddaf",
   "metadata": {},
   "source": [
    "### DataFrames\n",
    "Data sets in Pandas are usually multi-dimensional tables, called DataFrames.\n",
    "\n",
    "Series is like a column, a DataFrame is the whole table."
   ]
  },
  {
   "cell_type": "code",
   "execution_count": 15,
   "id": "d294658e-dc89-4396-a4fa-07dfbd9b560d",
   "metadata": {},
   "outputs": [
    {
     "name": "stdout",
     "output_type": "stream",
     "text": [
      "   calories  exercise_time  weight\n",
      "0       420             50      52\n",
      "1       380             40      51\n",
      "2       390             45      50\n"
     ]
    }
   ],
   "source": [
    "data = {\n",
    "  \"calories\": [420, 380, 390],\n",
    "  \"exercise_time\": [50, 40, 45],\n",
    "    \"weight\": [52,51,50]\n",
    "}\n",
    "\n",
    "myvar = pd.DataFrame(data)\n",
    "\n",
    "print(myvar)"
   ]
  },
  {
   "cell_type": "code",
   "execution_count": 17,
   "id": "959edd07-7711-4013-b934-b0f8d07b566c",
   "metadata": {},
   "outputs": [
    {
     "data": {
      "text/plain": [
       "pandas.core.frame.DataFrame"
      ]
     },
     "execution_count": 17,
     "metadata": {},
     "output_type": "execute_result"
    }
   ],
   "source": [
    "type(myvar)"
   ]
  },
  {
   "cell_type": "code",
   "execution_count": 29,
   "id": "74a53942-dd43-4c65-bb61-d8a28a98dbc7",
   "metadata": {},
   "outputs": [
    {
     "name": "stdout",
     "output_type": "stream",
     "text": [
      "   calories  exercise_time weight\n",
      "0       420             50     52\n",
      "1       380             40     51\n",
      "2       390             45      a\n"
     ]
    }
   ],
   "source": [
    "import pandas as pd\n",
    "\n",
    "\n",
    "data = {\n",
    "  \"calories\": [420, 380, 390],\n",
    "  \"exercise_time\": [50, 40, 45],\n",
    "    \"weight\": [52,51,\"a\"]\n",
    "}\n",
    "\n",
    "df = pd.DataFrame(data)\n",
    "\n",
    "print(df)"
   ]
  },
  {
   "cell_type": "markdown",
   "id": "990d9c0e-ab3b-48da-9be1-61fd807ed3b8",
   "metadata": {},
   "source": [
    "## New Lecture"
   ]
  },
  {
   "cell_type": "markdown",
   "id": "22e28abc-7379-4954-8b4f-b9b4d647c742",
   "metadata": {},
   "source": [
    "### Locate Row"
   ]
  },
  {
   "cell_type": "markdown",
   "id": "c8c6d29d-8563-4e03-bf3a-5221460732e4",
   "metadata": {},
   "source": [
    "Pandas use the \"loc\" attribute to return one or more specified row(s)"
   ]
  },
  {
   "cell_type": "code",
   "execution_count": 23,
   "id": "30682b1f-56cc-4941-81e0-2521ca2e57c0",
   "metadata": {},
   "outputs": [
    {
     "name": "stdout",
     "output_type": "stream",
     "text": [
      "calories         420\n",
      "exercise_time     50\n",
      "weight            52\n",
      "Name: 0, dtype: object\n"
     ]
    }
   ],
   "source": [
    "print(df.iloc[0])"
   ]
  },
  {
   "cell_type": "code",
   "execution_count": 54,
   "id": "56fdd006-645f-4fe7-82da-809fbff80581",
   "metadata": {},
   "outputs": [
    {
     "data": {
      "text/plain": [
       "pandas.core.series.Series"
      ]
     },
     "execution_count": 54,
     "metadata": {},
     "output_type": "execute_result"
    }
   ],
   "source": [
    "type(df.loc[0])"
   ]
  },
  {
   "cell_type": "markdown",
   "id": "55b72b62-2de1-48cc-ae0d-cd8b6e8fcc43",
   "metadata": {},
   "source": [
    "Returns Series"
   ]
  },
  {
   "cell_type": "markdown",
   "id": "9cee8053-6b19-44cb-b2d0-227e3b9c5952",
   "metadata": {},
   "source": [
    "If we Use Multi Brackets"
   ]
  },
  {
   "cell_type": "code",
   "execution_count": 21,
   "id": "f63ce841-8782-44c2-94d4-29e31c964ad0",
   "metadata": {},
   "outputs": [
    {
     "name": "stdout",
     "output_type": "stream",
     "text": [
      "   calories  exercise_time weight\n",
      "0       420             50     52\n",
      "1       380             40     51\n",
      "2       390             45      a\n"
     ]
    }
   ],
   "source": [
    "print(df.loc[[0,1, 2]])"
   ]
  },
  {
   "cell_type": "code",
   "execution_count": 37,
   "id": "71d04ca2-c654-417b-aa94-b730bd63f74d",
   "metadata": {},
   "outputs": [
    {
     "data": {
      "text/plain": [
       "pandas.core.frame.DataFrame"
      ]
     },
     "execution_count": 37,
     "metadata": {},
     "output_type": "execute_result"
    }
   ],
   "source": [
    "type(df.loc[[0,1]])"
   ]
  },
  {
   "cell_type": "markdown",
   "id": "18f40f95-d5cc-48c2-a966-d0b3c01c315f",
   "metadata": {},
   "source": [
    "Returns DataFrame"
   ]
  },
  {
   "cell_type": "markdown",
   "id": "9079f8a8-f3d6-4d0a-a42c-a0e48c85f055",
   "metadata": {},
   "source": [
    "## Named Indexes\n",
    "With the \"index\" argument, you can name your own indexes."
   ]
  },
  {
   "cell_type": "code",
   "execution_count": 55,
   "id": "24410ad5-0c3e-452c-9111-22bad7c8172c",
   "metadata": {},
   "outputs": [
    {
     "name": "stdout",
     "output_type": "stream",
     "text": [
      "      calories  duration\n",
      "           420        50\n",
      "day2       380        40\n",
      "day3       390        45\n"
     ]
    }
   ],
   "source": [
    "data = {\n",
    "  \"calories\": [420, 380, 390],\n",
    "  \"duration\": [50, 40, 45]\n",
    "}\n",
    "\n",
    "df = pd.DataFrame(data, index = [\"\", \"day2\", \"day3\"])\n",
    "\n",
    "print(df) "
   ]
  },
  {
   "cell_type": "markdown",
   "id": "f944a919-3181-4792-96ba-24fc69decf68",
   "metadata": {},
   "source": [
    "## Locate Named Indexes\n",
    "Use the named index in the \"loc\" attribute to return the specified row(s)."
   ]
  },
  {
   "cell_type": "code",
   "execution_count": 47,
   "id": "911cd678-ca12-469b-ad37-7b1025af586d",
   "metadata": {},
   "outputs": [
    {
     "name": "stdout",
     "output_type": "stream",
     "text": [
      "calories    380\n",
      "duration     40\n",
      "Name: day2, dtype: int64\n"
     ]
    }
   ],
   "source": [
    "print(df.loc[\"day2\"])\n",
    "# print(type(df.loc[[\"day2\"]]))\n",
    "# print(type(df.loc[\"day2\"]))"
   ]
  },
  {
   "cell_type": "code",
   "execution_count": 57,
   "id": "9fa6dcfe-c856-42bd-a1f7-9e6d9999d30c",
   "metadata": {},
   "outputs": [
    {
     "name": "stdout",
     "output_type": "stream",
     "text": [
      "      calories  duration\n",
      "           420        50\n",
      "day2       380        40\n",
      "day3       390        45\n"
     ]
    }
   ],
   "source": [
    "print(df.loc[[\"\",\"day2\", \"day3\"]])"
   ]
  },
  {
   "cell_type": "markdown",
   "id": "89ec6a9a-f2a8-4d30-948f-3b927e723945",
   "metadata": {},
   "source": [
    "Reading and Loading CSV files to a dataframe"
   ]
  },
  {
   "cell_type": "code",
   "execution_count": 65,
   "id": "3bac32ea-b166-4137-9852-1d8fc70273ce",
   "metadata": {},
   "outputs": [
    {
     "name": "stdout",
     "output_type": "stream",
     "text": [
      "<class 'pandas.core.frame.DataFrame'>\n",
      "________________________________________________________\n",
      "           Brand     Model  Year  Engine_Size Fuel_Type    Transmission  \\\n",
      "0            Kia       Rio  2020          4.2    Diesel          Manual   \n",
      "1      Chevrolet    Malibu  2012          2.0    Hybrid       Automatic   \n",
      "2       Mercedes       GLA  2020          4.2    Diesel       Automatic   \n",
      "3           Audi        Q5  2023          2.0  Electric          Manual   \n",
      "4     Volkswagen      Golf  2003          2.6    Hybrid  Semi-Automatic   \n",
      "...          ...       ...   ...          ...       ...             ...   \n",
      "9995         Kia    Optima  2004          3.7    Diesel  Semi-Automatic   \n",
      "9996   Chevrolet    Impala  2002          1.4  Electric       Automatic   \n",
      "9997         BMW  3 Series  2010          3.0    Petrol       Automatic   \n",
      "9998        Ford  Explorer  2002          1.4    Hybrid       Automatic   \n",
      "9999  Volkswagen    Tiguan  2001          2.1    Diesel          Manual   \n",
      "\n",
      "      Mileage  Doors  Owner_Count  Price  \n",
      "0      289944      3            5   8501  \n",
      "1        5356      2            3  12092  \n",
      "2      231440      4            2  11171  \n",
      "3      160971      2            1  11780  \n",
      "4      286618      3            3   2867  \n",
      "...       ...    ...          ...    ...  \n",
      "9995     5794      2            4   8884  \n",
      "9996   168000      2            1   6240  \n",
      "9997    86664      5            1   9866  \n",
      "9998   225772      4            1   4084  \n",
      "9999   157882      3            3   3342  \n",
      "\n",
      "[10000 rows x 10 columns]\n"
     ]
    }
   ],
   "source": [
    "path='C:/Users/Ali/Desktop/AI/Datasets/car_price_dataset.csv'\n",
    "path2='C:/Users/Ali/Desktop/AI/Datasets/csvfile.txt'\n",
    "df = pd.read_csv(path)\n",
    "# df2= pd.read_csv(path2)\n",
    "print(type(df))\n",
    "print(\"________________________________________________________\")\n",
    "print(df)\n",
    "# print(df2)"
   ]
  },
  {
   "cell_type": "code",
   "execution_count": 67,
   "id": "13360b00-11a1-4532-892e-498c484605ae",
   "metadata": {},
   "outputs": [
    {
     "data": {
      "text/html": [
       "<div>\n",
       "<style scoped>\n",
       "    .dataframe tbody tr th:only-of-type {\n",
       "        vertical-align: middle;\n",
       "    }\n",
       "\n",
       "    .dataframe tbody tr th {\n",
       "        vertical-align: top;\n",
       "    }\n",
       "\n",
       "    .dataframe thead th {\n",
       "        text-align: right;\n",
       "    }\n",
       "</style>\n",
       "<table border=\"1\" class=\"dataframe\">\n",
       "  <thead>\n",
       "    <tr style=\"text-align: right;\">\n",
       "      <th></th>\n",
       "      <th>Brand</th>\n",
       "      <th>Model</th>\n",
       "      <th>Year</th>\n",
       "      <th>Engine_Size</th>\n",
       "      <th>Fuel_Type</th>\n",
       "      <th>Transmission</th>\n",
       "      <th>Mileage</th>\n",
       "      <th>Doors</th>\n",
       "      <th>Owner_Count</th>\n",
       "      <th>Price</th>\n",
       "    </tr>\n",
       "  </thead>\n",
       "  <tbody>\n",
       "    <tr>\n",
       "      <th>0</th>\n",
       "      <td>Kia</td>\n",
       "      <td>Rio</td>\n",
       "      <td>2020</td>\n",
       "      <td>4.2</td>\n",
       "      <td>Diesel</td>\n",
       "      <td>Manual</td>\n",
       "      <td>289944</td>\n",
       "      <td>3</td>\n",
       "      <td>5</td>\n",
       "      <td>8501</td>\n",
       "    </tr>\n",
       "    <tr>\n",
       "      <th>1</th>\n",
       "      <td>Chevrolet</td>\n",
       "      <td>Malibu</td>\n",
       "      <td>2012</td>\n",
       "      <td>2.0</td>\n",
       "      <td>Hybrid</td>\n",
       "      <td>Automatic</td>\n",
       "      <td>5356</td>\n",
       "      <td>2</td>\n",
       "      <td>3</td>\n",
       "      <td>12092</td>\n",
       "    </tr>\n",
       "    <tr>\n",
       "      <th>2</th>\n",
       "      <td>Mercedes</td>\n",
       "      <td>GLA</td>\n",
       "      <td>2020</td>\n",
       "      <td>4.2</td>\n",
       "      <td>Diesel</td>\n",
       "      <td>Automatic</td>\n",
       "      <td>231440</td>\n",
       "      <td>4</td>\n",
       "      <td>2</td>\n",
       "      <td>11171</td>\n",
       "    </tr>\n",
       "    <tr>\n",
       "      <th>3</th>\n",
       "      <td>Audi</td>\n",
       "      <td>Q5</td>\n",
       "      <td>2023</td>\n",
       "      <td>2.0</td>\n",
       "      <td>Electric</td>\n",
       "      <td>Manual</td>\n",
       "      <td>160971</td>\n",
       "      <td>2</td>\n",
       "      <td>1</td>\n",
       "      <td>11780</td>\n",
       "    </tr>\n",
       "    <tr>\n",
       "      <th>4</th>\n",
       "      <td>Volkswagen</td>\n",
       "      <td>Golf</td>\n",
       "      <td>2003</td>\n",
       "      <td>2.6</td>\n",
       "      <td>Hybrid</td>\n",
       "      <td>Semi-Automatic</td>\n",
       "      <td>286618</td>\n",
       "      <td>3</td>\n",
       "      <td>3</td>\n",
       "      <td>2867</td>\n",
       "    </tr>\n",
       "    <tr>\n",
       "      <th>...</th>\n",
       "      <td>...</td>\n",
       "      <td>...</td>\n",
       "      <td>...</td>\n",
       "      <td>...</td>\n",
       "      <td>...</td>\n",
       "      <td>...</td>\n",
       "      <td>...</td>\n",
       "      <td>...</td>\n",
       "      <td>...</td>\n",
       "      <td>...</td>\n",
       "    </tr>\n",
       "    <tr>\n",
       "      <th>9995</th>\n",
       "      <td>Kia</td>\n",
       "      <td>Optima</td>\n",
       "      <td>2004</td>\n",
       "      <td>3.7</td>\n",
       "      <td>Diesel</td>\n",
       "      <td>Semi-Automatic</td>\n",
       "      <td>5794</td>\n",
       "      <td>2</td>\n",
       "      <td>4</td>\n",
       "      <td>8884</td>\n",
       "    </tr>\n",
       "    <tr>\n",
       "      <th>9996</th>\n",
       "      <td>Chevrolet</td>\n",
       "      <td>Impala</td>\n",
       "      <td>2002</td>\n",
       "      <td>1.4</td>\n",
       "      <td>Electric</td>\n",
       "      <td>Automatic</td>\n",
       "      <td>168000</td>\n",
       "      <td>2</td>\n",
       "      <td>1</td>\n",
       "      <td>6240</td>\n",
       "    </tr>\n",
       "    <tr>\n",
       "      <th>9997</th>\n",
       "      <td>BMW</td>\n",
       "      <td>3 Series</td>\n",
       "      <td>2010</td>\n",
       "      <td>3.0</td>\n",
       "      <td>Petrol</td>\n",
       "      <td>Automatic</td>\n",
       "      <td>86664</td>\n",
       "      <td>5</td>\n",
       "      <td>1</td>\n",
       "      <td>9866</td>\n",
       "    </tr>\n",
       "    <tr>\n",
       "      <th>9998</th>\n",
       "      <td>Ford</td>\n",
       "      <td>Explorer</td>\n",
       "      <td>2002</td>\n",
       "      <td>1.4</td>\n",
       "      <td>Hybrid</td>\n",
       "      <td>Automatic</td>\n",
       "      <td>225772</td>\n",
       "      <td>4</td>\n",
       "      <td>1</td>\n",
       "      <td>4084</td>\n",
       "    </tr>\n",
       "    <tr>\n",
       "      <th>9999</th>\n",
       "      <td>Volkswagen</td>\n",
       "      <td>Tiguan</td>\n",
       "      <td>2001</td>\n",
       "      <td>2.1</td>\n",
       "      <td>Diesel</td>\n",
       "      <td>Manual</td>\n",
       "      <td>157882</td>\n",
       "      <td>3</td>\n",
       "      <td>3</td>\n",
       "      <td>3342</td>\n",
       "    </tr>\n",
       "  </tbody>\n",
       "</table>\n",
       "<p>10000 rows × 10 columns</p>\n",
       "</div>"
      ],
      "text/plain": [
       "           Brand     Model  Year  Engine_Size Fuel_Type    Transmission  \\\n",
       "0            Kia       Rio  2020          4.2    Diesel          Manual   \n",
       "1      Chevrolet    Malibu  2012          2.0    Hybrid       Automatic   \n",
       "2       Mercedes       GLA  2020          4.2    Diesel       Automatic   \n",
       "3           Audi        Q5  2023          2.0  Electric          Manual   \n",
       "4     Volkswagen      Golf  2003          2.6    Hybrid  Semi-Automatic   \n",
       "...          ...       ...   ...          ...       ...             ...   \n",
       "9995         Kia    Optima  2004          3.7    Diesel  Semi-Automatic   \n",
       "9996   Chevrolet    Impala  2002          1.4  Electric       Automatic   \n",
       "9997         BMW  3 Series  2010          3.0    Petrol       Automatic   \n",
       "9998        Ford  Explorer  2002          1.4    Hybrid       Automatic   \n",
       "9999  Volkswagen    Tiguan  2001          2.1    Diesel          Manual   \n",
       "\n",
       "      Mileage  Doors  Owner_Count  Price  \n",
       "0      289944      3            5   8501  \n",
       "1        5356      2            3  12092  \n",
       "2      231440      4            2  11171  \n",
       "3      160971      2            1  11780  \n",
       "4      286618      3            3   2867  \n",
       "...       ...    ...          ...    ...  \n",
       "9995     5794      2            4   8884  \n",
       "9996   168000      2            1   6240  \n",
       "9997    86664      5            1   9866  \n",
       "9998   225772      4            1   4084  \n",
       "9999   157882      3            3   3342  \n",
       "\n",
       "[10000 rows x 10 columns]"
      ]
     },
     "execution_count": 67,
     "metadata": {},
     "output_type": "execute_result"
    }
   ],
   "source": [
    "df"
   ]
  },
  {
   "cell_type": "markdown",
   "id": "4a5689f8-05fd-483f-979f-1599ba358282",
   "metadata": {},
   "source": [
    "use \"to_string()\"\" to print the Entire DataFrame."
   ]
  },
  {
   "cell_type": "code",
   "execution_count": 71,
   "id": "f6f9d2ba-23a9-40ce-a607-ffd76019d49e",
   "metadata": {},
   "outputs": [
    {
     "name": "stdout",
     "output_type": "stream",
     "text": [
      "        Brand   Model  Year  Engine_Size Fuel_Type    Transmission  Mileage  Doors  Owner_Count  Price\n",
      "0         Kia     Rio  2020          4.2    Diesel          Manual   289944      3            5   8501\n",
      "1   Chevrolet  Malibu  2012          2.0    Hybrid       Automatic     5356      2            3  12092\n",
      "2    Mercedes     GLA  2020          4.2    Diesel       Automatic   231440      4            2  11171\n",
      "3        Audi      Q5  2023          2.0  Electric          Manual   160971      2            1  11780\n",
      "4  Volkswagen    Golf  2003          2.6    Hybrid  Semi-Automatic   286618      3            3   2867\n"
     ]
    }
   ],
   "source": [
    "print(df.head().to_string())"
   ]
  },
  {
   "cell_type": "markdown",
   "id": "5d1ed521-8e14-4353-85b4-13e1ed163600",
   "metadata": {},
   "source": [
    "## printing Head"
   ]
  },
  {
   "cell_type": "code",
   "execution_count": 77,
   "id": "5b69232d-fa5b-425d-995e-b4dcb5ee312d",
   "metadata": {},
   "outputs": [
    {
     "data": {
      "text/html": [
       "<div>\n",
       "<style scoped>\n",
       "    .dataframe tbody tr th:only-of-type {\n",
       "        vertical-align: middle;\n",
       "    }\n",
       "\n",
       "    .dataframe tbody tr th {\n",
       "        vertical-align: top;\n",
       "    }\n",
       "\n",
       "    .dataframe thead th {\n",
       "        text-align: right;\n",
       "    }\n",
       "</style>\n",
       "<table border=\"1\" class=\"dataframe\">\n",
       "  <thead>\n",
       "    <tr style=\"text-align: right;\">\n",
       "      <th></th>\n",
       "      <th>Brand</th>\n",
       "      <th>Model</th>\n",
       "      <th>Year</th>\n",
       "      <th>Engine_Size</th>\n",
       "      <th>Fuel_Type</th>\n",
       "      <th>Transmission</th>\n",
       "      <th>Mileage</th>\n",
       "      <th>Doors</th>\n",
       "      <th>Owner_Count</th>\n",
       "      <th>Price</th>\n",
       "    </tr>\n",
       "  </thead>\n",
       "  <tbody>\n",
       "    <tr>\n",
       "      <th>0</th>\n",
       "      <td>Kia</td>\n",
       "      <td>Rio</td>\n",
       "      <td>2020</td>\n",
       "      <td>4.2</td>\n",
       "      <td>Diesel</td>\n",
       "      <td>Manual</td>\n",
       "      <td>289944</td>\n",
       "      <td>3</td>\n",
       "      <td>5</td>\n",
       "      <td>8501</td>\n",
       "    </tr>\n",
       "  </tbody>\n",
       "</table>\n",
       "</div>"
      ],
      "text/plain": [
       "  Brand Model  Year  Engine_Size Fuel_Type Transmission  Mileage  Doors  \\\n",
       "0   Kia   Rio  2020          4.2    Diesel       Manual   289944      3   \n",
       "\n",
       "   Owner_Count  Price  \n",
       "0            5   8501  "
      ]
     },
     "execution_count": 77,
     "metadata": {},
     "output_type": "execute_result"
    }
   ],
   "source": [
    "df.head(1)"
   ]
  },
  {
   "cell_type": "markdown",
   "id": "8dd1c351-2ad2-4a4f-966f-c1cef32162f1",
   "metadata": {},
   "source": [
    "## printing Tail"
   ]
  },
  {
   "cell_type": "code",
   "execution_count": 83,
   "id": "6349a7a5-15e1-4cf3-a801-e41cf5dcdf2c",
   "metadata": {},
   "outputs": [
    {
     "data": {
      "text/html": [
       "<div>\n",
       "<style scoped>\n",
       "    .dataframe tbody tr th:only-of-type {\n",
       "        vertical-align: middle;\n",
       "    }\n",
       "\n",
       "    .dataframe tbody tr th {\n",
       "        vertical-align: top;\n",
       "    }\n",
       "\n",
       "    .dataframe thead th {\n",
       "        text-align: right;\n",
       "    }\n",
       "</style>\n",
       "<table border=\"1\" class=\"dataframe\">\n",
       "  <thead>\n",
       "    <tr style=\"text-align: right;\">\n",
       "      <th></th>\n",
       "      <th>Brand</th>\n",
       "      <th>Model</th>\n",
       "      <th>Year</th>\n",
       "      <th>Engine_Size</th>\n",
       "      <th>Fuel_Type</th>\n",
       "      <th>Transmission</th>\n",
       "      <th>Mileage</th>\n",
       "      <th>Doors</th>\n",
       "      <th>Owner_Count</th>\n",
       "      <th>Price</th>\n",
       "    </tr>\n",
       "  </thead>\n",
       "  <tbody>\n",
       "    <tr>\n",
       "      <th>9999</th>\n",
       "      <td>Volkswagen</td>\n",
       "      <td>Tiguan</td>\n",
       "      <td>2001</td>\n",
       "      <td>2.1</td>\n",
       "      <td>Diesel</td>\n",
       "      <td>Manual</td>\n",
       "      <td>157882</td>\n",
       "      <td>3</td>\n",
       "      <td>3</td>\n",
       "      <td>3342</td>\n",
       "    </tr>\n",
       "  </tbody>\n",
       "</table>\n",
       "</div>"
      ],
      "text/plain": [
       "           Brand   Model  Year  Engine_Size Fuel_Type Transmission  Mileage  \\\n",
       "9999  Volkswagen  Tiguan  2001          2.1    Diesel       Manual   157882   \n",
       "\n",
       "      Doors  Owner_Count  Price  \n",
       "9999      3            3   3342  "
      ]
     },
     "execution_count": 83,
     "metadata": {},
     "output_type": "execute_result"
    }
   ],
   "source": [
    "df.tail(1)"
   ]
  },
  {
   "cell_type": "markdown",
   "id": "287fc211-a3cd-46bf-a802-24d5468dd7d2",
   "metadata": {},
   "source": [
    "## Checking Shape of Dataset"
   ]
  },
  {
   "cell_type": "code",
   "execution_count": 85,
   "id": "f1e19aa7-1520-490e-af24-56f6d57f2c9e",
   "metadata": {},
   "outputs": [
    {
     "data": {
      "text/plain": [
       "(10000, 10)"
      ]
     },
     "execution_count": 85,
     "metadata": {},
     "output_type": "execute_result"
    }
   ],
   "source": [
    "df.shape"
   ]
  },
  {
   "cell_type": "markdown",
   "id": "0d90bc08-75aa-431a-8ed6-ef6aeab7bc9e",
   "metadata": {},
   "source": [
    "## Max Rows when we simply display a Dataframe"
   ]
  },
  {
   "cell_type": "code",
   "execution_count": 87,
   "id": "0c5e8881-f941-4508-8d03-b9e9f81fbd5e",
   "metadata": {},
   "outputs": [
    {
     "name": "stdout",
     "output_type": "stream",
     "text": [
      "60\n"
     ]
    }
   ],
   "source": [
    "print(pd.options.display.max_rows) "
   ]
  },
  {
   "cell_type": "markdown",
   "id": "eae94e22-a170-488c-8b1d-f4af79170aea",
   "metadata": {},
   "source": [
    "## Increase the maximum number of rows to display the entire DataFrame"
   ]
  },
  {
   "cell_type": "code",
   "execution_count": 91,
   "id": "8fcacf58-fc07-4928-8c66-30947cb35d6f",
   "metadata": {},
   "outputs": [
    {
     "name": "stdout",
     "output_type": "stream",
     "text": [
      "        Brand   Model  Year  Engine_Size Fuel_Type    Transmission  Mileage  \\\n",
      "0         Kia     Rio  2020          4.2    Diesel          Manual   289944   \n",
      "1   Chevrolet  Malibu  2012          2.0    Hybrid       Automatic     5356   \n",
      "2    Mercedes     GLA  2020          4.2    Diesel       Automatic   231440   \n",
      "3        Audi      Q5  2023          2.0  Electric          Manual   160971   \n",
      "4  Volkswagen    Golf  2003          2.6    Hybrid  Semi-Automatic   286618   \n",
      "\n",
      "   Doors  Owner_Count  Price  \n",
      "0      3            5   8501  \n",
      "1      2            3  12092  \n",
      "2      4            2  11171  \n",
      "3      2            1  11780  \n",
      "4      3            3   2867  \n"
     ]
    }
   ],
   "source": [
    "pd.options.display.max_rows = 100000\n",
    "\n",
    "df = pd.read_csv(path)\n",
    "\n",
    "print(df.head()) "
   ]
  },
  {
   "cell_type": "code",
   "execution_count": null,
   "id": "48dd2b9a-3f28-40ab-bda6-0b397023f9fe",
   "metadata": {},
   "outputs": [],
   "source": []
  },
  {
   "cell_type": "code",
   "execution_count": 105,
   "id": "f694f693-a2d2-402d-9983-5ac189deb5e7",
   "metadata": {},
   "outputs": [
    {
     "name": "stdout",
     "output_type": "stream",
     "text": [
      "0    3\n",
      "1    2\n",
      "2    4\n",
      "3    2\n",
      "4    3\n",
      "Name: Doors, dtype: int64\n"
     ]
    }
   ],
   "source": [
    "doors_column = df['Doors']\n",
    "print(doors_column.head())"
   ]
  },
  {
   "cell_type": "code",
   "execution_count": 107,
   "id": "50b3a61b-b4fb-4feb-8618-88f6946b69d2",
   "metadata": {},
   "outputs": [
    {
     "data": {
      "text/plain": [
       "pandas.core.series.Series"
      ]
     },
     "execution_count": 107,
     "metadata": {},
     "output_type": "execute_result"
    }
   ],
   "source": [
    "type(doors_column)"
   ]
  },
  {
   "cell_type": "markdown",
   "id": "27fd8db8-e910-4b29-8064-f89840b3282b",
   "metadata": {},
   "source": [
    "## Accessing Multiple Rows or Columns"
   ]
  },
  {
   "cell_type": "code",
   "execution_count": 111,
   "id": "5bac862a-8052-44fc-881c-7a32e7944d13",
   "metadata": {},
   "outputs": [
    {
     "name": "stdout",
     "output_type": "stream",
     "text": [
      "       Brand   Model  Doors\n",
      "0        Kia     Rio      3\n",
      "1  Chevrolet  Malibu      2\n",
      "2   Mercedes     GLA      4\n"
     ]
    }
   ],
   "source": [
    "subset = df.loc[0:2, ['Brand', 'Model','Doors']]\n",
    "print(subset)"
   ]
  },
  {
   "cell_type": "markdown",
   "id": "57381fa5-7f34-4a3e-9dfa-9d1172232bca",
   "metadata": {},
   "source": [
    "##  Accessing Rows Based on Conditions"
   ]
  },
  {
   "cell_type": "code",
   "execution_count": 123,
   "id": "3423e37b-13be-44be-b518-b741b6745514",
   "metadata": {},
   "outputs": [
    {
     "name": "stdout",
     "output_type": "stream",
     "text": [
      "    Brand  Model  Year  Engine_Size Fuel_Type    Transmission  Mileage  Doors  Owner_Count  Price\n",
      "6   Honda  Civic  2010          3.4  Electric       Automatic   139584      3            1  11208\n",
      "42  Honda  Civic  2000          3.9    Hybrid          Manual    56020      2            4   7879\n",
      "53  Honda  Civic  2015          2.6  Electric  Semi-Automatic    66777      5            1  11864\n",
      "59  Honda  Civic  2005          2.4    Petrol       Automatic    60316      2            5   8293\n",
      "83  Honda  Civic  2020          4.6    Petrol          Manual   191397      3            4  10872\n"
     ]
    }
   ],
   "source": [
    "filtered_data = df[df['Year'] == 2010 ]\n",
    "filter_2= df [df['Model']=='Civic']\n",
    "print(filter_2.head().to_string())"
   ]
  },
  {
   "cell_type": "markdown",
   "id": "7b961ba1-a88f-4e5b-a40d-df131f89efed",
   "metadata": {},
   "source": [
    "## Accessing Specific Cells with at and iat"
   ]
  },
  {
   "cell_type": "code",
   "execution_count": 127,
   "id": "c0be3fc4-f9f0-4047-bfdd-fb3af7977bcc",
   "metadata": {},
   "outputs": [
    {
     "name": "stdout",
     "output_type": "stream",
     "text": [
      "Civic\n"
     ]
    }
   ],
   "source": [
    "model_at_index_2 = df.at[6, 'Model']\n",
    "print(model_at_index_2)"
   ]
  },
  {
   "cell_type": "code",
   "execution_count": null,
   "id": "9c3c7378-13e4-429d-af7b-7e011ed9c358",
   "metadata": {},
   "outputs": [],
   "source": []
  }
 ],
 "metadata": {
  "kernelspec": {
   "display_name": "Python [conda env:base] *",
   "language": "python",
   "name": "conda-base-py"
  },
  "language_info": {
   "codemirror_mode": {
    "name": "ipython",
    "version": 3
   },
   "file_extension": ".py",
   "mimetype": "text/x-python",
   "name": "python",
   "nbconvert_exporter": "python",
   "pygments_lexer": "ipython3",
   "version": "3.12.7"
  }
 },
 "nbformat": 4,
 "nbformat_minor": 5
}
