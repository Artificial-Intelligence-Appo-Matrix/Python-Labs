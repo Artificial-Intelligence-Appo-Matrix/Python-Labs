{
 "cells": [
  {
   "cell_type": "markdown",
   "id": "0147014a-79bb-4b5c-ab1a-57ff4f4a8290",
   "metadata": {},
   "source": [
    "## Pandas"
   ]
  },
  {
   "cell_type": "markdown",
   "id": "f21af327-8294-47ce-9765-c48c542eacf8",
   "metadata": {},
   "source": [
    "#### Pandas is a Python library.\n",
    "\n",
    "#### Pandas is used to analyze data."
   ]
  },
  {
   "cell_type": "markdown",
   "id": "d15e3002-c192-414c-b941-268728bc26f2",
   "metadata": {},
   "source": [
    "The name \"Pandas\" has a reference to both \"Panel Data\", and \"Python Data Analysis\" and was created by Wes McKinney in 2008."
   ]
  },
  {
   "cell_type": "markdown",
   "id": "ccd50bec-6000-48b6-b55e-7c0fccaaade2",
   "metadata": {},
   "source": [
    "### Why Use Pandas?\n",
    "Pandas allows us to analyze big data and make conclusions based on statistical theories.\n",
    "\n",
    "Pandas can clean messy data sets, and make them readable and relevant."
   ]
  },
  {
   "cell_type": "markdown",
   "id": "0afd502d-8785-48cb-81ff-25a78963cada",
   "metadata": {},
   "source": [
    "### What Can Pandas Do?\n",
    "#### Pandas gives you answers about the data. Like:\n",
    "\n",
    "- Is there a correlation between two or more columns?\n",
    "- What is average value?\n",
    "- Max value?\n",
    "- Min value?"
   ]
  },
  {
   "cell_type": "markdown",
   "id": "96b7d68a-007b-4a48-9d07-1376787cc282",
   "metadata": {},
   "source": [
    "### Where is the Pandas Codebase?\n",
    "https://github.com/pandas-dev/pandas"
   ]
  },
  {
   "cell_type": "code",
   "execution_count": 10,
   "id": "782f0113-0c7e-4583-91d6-8207d35350f9",
   "metadata": {},
   "outputs": [
    {
     "name": "stdout",
     "output_type": "stream",
     "text": [
      "Requirement already satisfied: pandas in d:\\anaconda\\lib\\site-packages (2.2.2)Note: you may need to restart the kernel to use updated packages.\n",
      "\n",
      "Requirement already satisfied: numpy>=1.26.0 in d:\\anaconda\\lib\\site-packages (from pandas) (1.26.4)\n",
      "Requirement already satisfied: python-dateutil>=2.8.2 in d:\\anaconda\\lib\\site-packages (from pandas) (2.9.0.post0)\n",
      "Requirement already satisfied: pytz>=2020.1 in d:\\anaconda\\lib\\site-packages (from pandas) (2024.1)\n",
      "Requirement already satisfied: tzdata>=2022.7 in d:\\anaconda\\lib\\site-packages (from pandas) (2023.3)\n",
      "Requirement already satisfied: six>=1.5 in d:\\anaconda\\lib\\site-packages (from python-dateutil>=2.8.2->pandas) (1.16.0)\n"
     ]
    }
   ],
   "source": [
    "pip install pandas"
   ]
  },
  {
   "cell_type": "code",
   "execution_count": 2,
   "id": "cb6325b7-8bb8-4d9e-b0b3-ed6bbde9ebe0",
   "metadata": {},
   "outputs": [],
   "source": [
    "import pandas"
   ]
  },
  {
   "cell_type": "code",
   "execution_count": 3,
   "id": "7a7ccde9-dec6-439b-9073-82278101bca2",
   "metadata": {},
   "outputs": [
    {
     "name": "stdout",
     "output_type": "stream",
     "text": [
      "    cars  passings\n",
      "0    BMW         3\n",
      "1  Volvo         7\n",
      "2   Ford         2\n"
     ]
    }
   ],
   "source": [
    "mydataset = {\n",
    "  'cars': [\"BMW\", \"Volvo\", \"Ford\"],\n",
    "  'passings': [3, 7, 2]\n",
    "}\n",
    "\n",
    "myvar = pandas.DataFrame(mydataset)\n",
    "\n",
    "print(myvar)"
   ]
  },
  {
   "cell_type": "markdown",
   "id": "63555c87-5c32-4d28-ad9a-6f929f9ba0f5",
   "metadata": {},
   "source": [
    "### Pandas as pd"
   ]
  },
  {
   "cell_type": "code",
   "execution_count": 4,
   "id": "75014b07-23e1-444e-b2f0-934e3e62cb85",
   "metadata": {},
   "outputs": [],
   "source": [
    "import pandas as pd"
   ]
  },
  {
   "cell_type": "code",
   "execution_count": 8,
   "id": "71103c76-2fc6-4248-ab03-e2e63ec9f038",
   "metadata": {},
   "outputs": [
    {
     "name": "stdout",
     "output_type": "stream",
     "text": [
      "<class 'pandas.core.frame.DataFrame'>\n"
     ]
    }
   ],
   "source": [
    "mydataset = {\n",
    "  'cars': [\"BMW\", \"Volvo\", \"Ford\"],\n",
    "  'passings': [3, 7, 2]\n",
    "}\n",
    "\n",
    "myvar = pd.DataFrame(mydataset)\n",
    "\n",
    "print(type(myvar))"
   ]
  },
  {
   "cell_type": "markdown",
   "id": "8d4a744d-2c33-4444-aca1-808f0d82f822",
   "metadata": {},
   "source": [
    "### Pandas Version Checking"
   ]
  },
  {
   "cell_type": "code",
   "execution_count": 6,
   "id": "3bfbd7dd-65ab-499e-897c-8bc076b765e1",
   "metadata": {},
   "outputs": [
    {
     "name": "stdout",
     "output_type": "stream",
     "text": [
      "2.2.2\n"
     ]
    }
   ],
   "source": [
    "print(pd.__version__)"
   ]
  },
  {
   "cell_type": "markdown",
   "id": "e20d3a97-5699-4fbd-8f0c-33ddfbf2acef",
   "metadata": {},
   "source": [
    "### What is a Series?\n",
    "\n",
    "A Pandas Series is like a column in a table.\n",
    "\n",
    "It is a one-dimensional array holding data of any type."
   ]
  },
  {
   "cell_type": "code",
   "execution_count": 10,
   "id": "d4e7a22a-d6d5-469f-80e4-c65319a09aac",
   "metadata": {},
   "outputs": [
    {
     "name": "stdout",
     "output_type": "stream",
     "text": [
      "<class 'pandas.core.series.Series'>\n"
     ]
    }
   ],
   "source": [
    "a = [1, 7, 2]\n",
    "\n",
    "myvar = pd.Series(a)\n",
    "\n",
    "print(type(myvar))"
   ]
  },
  {
   "cell_type": "markdown",
   "id": "01a3abad-6c60-47c3-ba15-ff4510ecd10a",
   "metadata": {},
   "source": [
    "### Labels\n",
    "\n",
    "\n",
    "If nothing else is specified, the values are labeled with their index number. First value has index 0, second value has index 1 etc.\n",
    "\n",
    "This label can be used to access a specified value."
   ]
  },
  {
   "cell_type": "code",
   "execution_count": 11,
   "id": "cacba5a8-1785-4aa9-a365-a126e8ae863a",
   "metadata": {},
   "outputs": [
    {
     "name": "stdout",
     "output_type": "stream",
     "text": [
      "1\n"
     ]
    }
   ],
   "source": [
    "print(myvar[0])"
   ]
  },
  {
   "cell_type": "markdown",
   "id": "46c199e1-ce24-4c79-b95a-ab9a60361247",
   "metadata": {},
   "source": [
    "### Create Labels\n",
    "With the 'index' argument, you can name your own labels."
   ]
  },
  {
   "cell_type": "code",
   "execution_count": 12,
   "id": "1f7d4c62-9da6-4701-a624-fde468d25a35",
   "metadata": {},
   "outputs": [
    {
     "name": "stdout",
     "output_type": "stream",
     "text": [
      "x    1\n",
      "y    7\n",
      "z    2\n",
      "dtype: int64\n"
     ]
    }
   ],
   "source": [
    "import pandas as pd\n",
    "a = [1, 7, 2]\n",
    "\n",
    "myvar = pd.Series(a, index = [\"x\", \"y\", \"z\"])\n",
    "\n",
    "print(myvar)"
   ]
  },
  {
   "cell_type": "code",
   "execution_count": 15,
   "id": "dd239d3f-349f-4d85-8ec3-9e938425f905",
   "metadata": {},
   "outputs": [
    {
     "name": "stdout",
     "output_type": "stream",
     "text": [
      "1\n"
     ]
    }
   ],
   "source": [
    "print(myvar[\"x\"])"
   ]
  },
  {
   "cell_type": "markdown",
   "id": "39948782-1da0-4a13-b9bb-810b7cfe75fa",
   "metadata": {},
   "source": [
    "### Key/Value Objects as Series\n",
    "You can also use a key/value object, like a dictionary, when creating a Series."
   ]
  },
  {
   "cell_type": "code",
   "execution_count": 16,
   "id": "c46bcdab-9087-4423-9900-6a59816bb138",
   "metadata": {},
   "outputs": [
    {
     "name": "stdout",
     "output_type": "stream",
     "text": [
      "1    420.2\n",
      "2    380.0\n",
      "3    390.0\n",
      "dtype: float64\n"
     ]
    }
   ],
   "source": [
    "calories = {1: 420.2, 2: 380, 3: 390}\n",
    "\n",
    "myvar = pd.Series(calories)\n",
    "\n",
    "print(myvar)"
   ]
  },
  {
   "cell_type": "markdown",
   "id": "038f69e3-5310-4d7b-ac39-07c87a3e015e",
   "metadata": {},
   "source": [
    "To select only some of the items in the dictionary, use the \"index\" argument and specify only the items you want to include in the Series."
   ]
  },
  {
   "cell_type": "code",
   "execution_count": 17,
   "id": "2055a9a4-563d-4507-a542-5a55dda74ff0",
   "metadata": {},
   "outputs": [
    {
     "name": "stdout",
     "output_type": "stream",
     "text": [
      "day1    420\n",
      "day2    380\n",
      "dtype: int64\n"
     ]
    }
   ],
   "source": [
    "calories = {\"day1\": 420, \"day2\": 380, \"day3\": 390}\n",
    "\n",
    "myvar = pd.Series(calories, index = [\"day1\", \"day2\"])\n",
    "\n",
    "print(myvar)"
   ]
  },
  {
   "cell_type": "markdown",
   "id": "978a1c50-745c-49f0-a00d-8468f5b3ddaf",
   "metadata": {},
   "source": [
    "### DataFrames\n",
    "Data sets in Pandas are usually multi-dimensional tables, called DataFrames.\n",
    "\n",
    "Series is like a column, a DataFrame is the whole table."
   ]
  },
  {
   "cell_type": "code",
   "execution_count": 18,
   "id": "d294658e-dc89-4396-a4fa-07dfbd9b560d",
   "metadata": {},
   "outputs": [
    {
     "name": "stdout",
     "output_type": "stream",
     "text": [
      "   calories  exercise_time  weight\n",
      "0       420             50      52\n",
      "1       380             40      51\n",
      "2       390             45      50\n"
     ]
    }
   ],
   "source": [
    "data = {\n",
    "  \"calories\": [420, 380, 390],\n",
    "  \"exercise_time\": [50, 40, 45],\n",
    "    \"weight\": [52,51,50]\n",
    "}\n",
    "\n",
    "myvar = pd.DataFrame(data)\n",
    "\n",
    "print(myvar)"
   ]
  },
  {
   "cell_type": "code",
   "execution_count": 19,
   "id": "959edd07-7711-4013-b934-b0f8d07b566c",
   "metadata": {},
   "outputs": [
    {
     "data": {
      "text/plain": [
       "pandas.core.frame.DataFrame"
      ]
     },
     "execution_count": 19,
     "metadata": {},
     "output_type": "execute_result"
    }
   ],
   "source": [
    "type(myvar)"
   ]
  },
  {
   "cell_type": "code",
   "execution_count": 20,
   "id": "74a53942-dd43-4c65-bb61-d8a28a98dbc7",
   "metadata": {},
   "outputs": [
    {
     "name": "stdout",
     "output_type": "stream",
     "text": [
      "   calories  exercise_time weight\n",
      "0       420             50     52\n",
      "1       380             40     51\n",
      "2       390             45      a\n"
     ]
    }
   ],
   "source": [
    "import pandas as pd\n",
    "\n",
    "\n",
    "data = {\n",
    "  \"calories\": [420, 380, 390],\n",
    "  \"exercise_time\": [50, 40, 45],\n",
    "    \"weight\": [52,51,\"a\"]\n",
    "}\n",
    "\n",
    "df = pd.DataFrame(data)\n",
    "\n",
    "print(df)"
   ]
  },
  {
   "cell_type": "markdown",
   "id": "990d9c0e-ab3b-48da-9be1-61fd807ed3b8",
   "metadata": {},
   "source": [
    "## New Lecture"
   ]
  },
  {
   "cell_type": "markdown",
   "id": "22e28abc-7379-4954-8b4f-b9b4d647c742",
   "metadata": {},
   "source": [
    "### Locate Row"
   ]
  },
  {
   "cell_type": "markdown",
   "id": "c8c6d29d-8563-4e03-bf3a-5221460732e4",
   "metadata": {},
   "source": [
    "Pandas use the \"loc\" attribute to return one or more specified row(s)"
   ]
  },
  {
   "cell_type": "code",
   "execution_count": 22,
   "id": "30682b1f-56cc-4941-81e0-2521ca2e57c0",
   "metadata": {},
   "outputs": [
    {
     "name": "stdout",
     "output_type": "stream",
     "text": [
      "calories         420\n",
      "exercise_time     50\n",
      "weight            52\n",
      "Name: 0, dtype: object\n"
     ]
    }
   ],
   "source": [
    "print(df.loc[0])"
   ]
  },
  {
   "cell_type": "code",
   "execution_count": 24,
   "id": "56fdd006-645f-4fe7-82da-809fbff80581",
   "metadata": {},
   "outputs": [
    {
     "data": {
      "text/plain": [
       "pandas.core.series.Series"
      ]
     },
     "execution_count": 24,
     "metadata": {},
     "output_type": "execute_result"
    }
   ],
   "source": [
    "type(df.loc[0])"
   ]
  },
  {
   "cell_type": "markdown",
   "id": "55b72b62-2de1-48cc-ae0d-cd8b6e8fcc43",
   "metadata": {},
   "source": [
    "Returns Series"
   ]
  },
  {
   "cell_type": "markdown",
   "id": "9cee8053-6b19-44cb-b2d0-227e3b9c5952",
   "metadata": {},
   "source": [
    "If we Use Multi Brackets"
   ]
  },
  {
   "cell_type": "code",
   "execution_count": 25,
   "id": "f63ce841-8782-44c2-94d4-29e31c964ad0",
   "metadata": {},
   "outputs": [
    {
     "name": "stdout",
     "output_type": "stream",
     "text": [
      "   calories  exercise_time weight\n",
      "0       420             50     52\n",
      "1       380             40     51\n",
      "2       390             45      a\n"
     ]
    }
   ],
   "source": [
    "print(df.loc[[0,1, 2]])"
   ]
  },
  {
   "cell_type": "code",
   "execution_count": 26,
   "id": "71d04ca2-c654-417b-aa94-b730bd63f74d",
   "metadata": {},
   "outputs": [
    {
     "data": {
      "text/plain": [
       "pandas.core.frame.DataFrame"
      ]
     },
     "execution_count": 26,
     "metadata": {},
     "output_type": "execute_result"
    }
   ],
   "source": [
    "type(df.loc[[0,1]])"
   ]
  },
  {
   "cell_type": "markdown",
   "id": "18f40f95-d5cc-48c2-a966-d0b3c01c315f",
   "metadata": {},
   "source": [
    "Returns DataFrame"
   ]
  },
  {
   "cell_type": "markdown",
   "id": "9079f8a8-f3d6-4d0a-a42c-a0e48c85f055",
   "metadata": {},
   "source": [
    "## Named Indexes\n",
    "With the \"index\" argument, you can name your own indexes."
   ]
  },
  {
   "cell_type": "code",
   "execution_count": 30,
   "id": "24410ad5-0c3e-452c-9111-22bad7c8172c",
   "metadata": {},
   "outputs": [
    {
     "name": "stdout",
     "output_type": "stream",
     "text": [
      "      calories  duration\n",
      "q          420        50\n",
      "day2       380        40\n",
      "day3       390        45\n"
     ]
    }
   ],
   "source": [
    "data = {\n",
    "  \"calories\": [420, 380, 390],\n",
    "  \"duration\": [50, 40, 45]\n",
    "}\n",
    "\n",
    "df = pd.DataFrame(data, index = [\"q\", \"day2\", \"day3\"])\n",
    "\n",
    "print(df) "
   ]
  },
  {
   "cell_type": "markdown",
   "id": "f944a919-3181-4792-96ba-24fc69decf68",
   "metadata": {},
   "source": [
    "## Locate Named Indexes\n",
    "Use the named index in the \"loc\" attribute to return the specified row(s)."
   ]
  },
  {
   "cell_type": "code",
   "execution_count": 31,
   "id": "911cd678-ca12-469b-ad37-7b1025af586d",
   "metadata": {},
   "outputs": [
    {
     "name": "stdout",
     "output_type": "stream",
     "text": [
      "calories    420\n",
      "duration     50\n",
      "Name: q, dtype: int64\n"
     ]
    }
   ],
   "source": [
    "print(df.loc[\"q\"])\n",
    "# print(type(df.loc[[\"day2\"]]))\n",
    "# print(type(df.loc[\"day2\"]))"
   ]
  },
  {
   "cell_type": "code",
   "execution_count": 33,
   "id": "9fa6dcfe-c856-42bd-a1f7-9e6d9999d30c",
   "metadata": {},
   "outputs": [
    {
     "name": "stdout",
     "output_type": "stream",
     "text": [
      "      calories  duration\n",
      "q          420        50\n",
      "day2       380        40\n",
      "day3       390        45\n"
     ]
    }
   ],
   "source": [
    "print(df.loc[[\"q\",\"day2\", \"day3\"]])"
   ]
  },
  {
   "cell_type": "markdown",
   "id": "89ec6a9a-f2a8-4d30-948f-3b927e723945",
   "metadata": {},
   "source": [
    "Reading and Loading CSV files to a dataframe"
   ]
  },
  {
   "cell_type": "code",
   "execution_count": 36,
   "id": "3bac32ea-b166-4137-9852-1d8fc70273ce",
   "metadata": {},
   "outputs": [
    {
     "name": "stdout",
     "output_type": "stream",
     "text": [
      "<class 'pandas.core.frame.DataFrame'>\n",
      "________________________________________________________\n",
      "           Brand     Model  Year  Engine_Size Fuel_Type    Transmission  \\\n",
      "0            Kia       Rio  2020          4.2    Diesel          Manual   \n",
      "1      Chevrolet    Malibu  2012          2.0    Hybrid       Automatic   \n",
      "2       Mercedes       GLA  2020          4.2    Diesel       Automatic   \n",
      "3           Audi        Q5  2023          2.0  Electric          Manual   \n",
      "4     Volkswagen      Golf  2003          2.6    Hybrid  Semi-Automatic   \n",
      "...          ...       ...   ...          ...       ...             ...   \n",
      "9995         Kia    Optima  2004          3.7    Diesel  Semi-Automatic   \n",
      "9996   Chevrolet    Impala  2002          1.4  Electric       Automatic   \n",
      "9997         BMW  3 Series  2010          3.0    Petrol       Automatic   \n",
      "9998        Ford  Explorer  2002          1.4    Hybrid       Automatic   \n",
      "9999  Volkswagen    Tiguan  2001          2.1    Diesel          Manual   \n",
      "\n",
      "      Mileage  Doors  Owner_Count  Price  \n",
      "0      289944      3            5   8501  \n",
      "1        5356      2            3  12092  \n",
      "2      231440      4            2  11171  \n",
      "3      160971      2            1  11780  \n",
      "4      286618      3            3   2867  \n",
      "...       ...    ...          ...    ...  \n",
      "9995     5794      2            4   8884  \n",
      "9996   168000      2            1   6240  \n",
      "9997    86664      5            1   9866  \n",
      "9998   225772      4            1   4084  \n",
      "9999   157882      3            3   3342  \n",
      "\n",
      "[10000 rows x 10 columns]\n"
     ]
    }
   ],
   "source": [
    "path='C:/Users/Ali/Desktop/AI/Datasets/car_price_dataset.csv'\n",
    "path2='C:/Users/Ali/Desktop/AI/Datasets/csvfile.txt'\n",
    "df = pd.read_csv(path)\n",
    "# df2= pd.read_csv(path2)\n",
    "print(type(df))\n",
    "print(\"________________________________________________________\")\n",
    "print(df)\n",
    "# print(df2)"
   ]
  },
  {
   "cell_type": "code",
   "execution_count": 67,
   "id": "13360b00-11a1-4532-892e-498c484605ae",
   "metadata": {},
   "outputs": [
    {
     "data": {
      "text/html": [
       "<div>\n",
       "<style scoped>\n",
       "    .dataframe tbody tr th:only-of-type {\n",
       "        vertical-align: middle;\n",
       "    }\n",
       "\n",
       "    .dataframe tbody tr th {\n",
       "        vertical-align: top;\n",
       "    }\n",
       "\n",
       "    .dataframe thead th {\n",
       "        text-align: right;\n",
       "    }\n",
       "</style>\n",
       "<table border=\"1\" class=\"dataframe\">\n",
       "  <thead>\n",
       "    <tr style=\"text-align: right;\">\n",
       "      <th></th>\n",
       "      <th>Brand</th>\n",
       "      <th>Model</th>\n",
       "      <th>Year</th>\n",
       "      <th>Engine_Size</th>\n",
       "      <th>Fuel_Type</th>\n",
       "      <th>Transmission</th>\n",
       "      <th>Mileage</th>\n",
       "      <th>Doors</th>\n",
       "      <th>Owner_Count</th>\n",
       "      <th>Price</th>\n",
       "    </tr>\n",
       "  </thead>\n",
       "  <tbody>\n",
       "    <tr>\n",
       "      <th>0</th>\n",
       "      <td>Kia</td>\n",
       "      <td>Rio</td>\n",
       "      <td>2020</td>\n",
       "      <td>4.2</td>\n",
       "      <td>Diesel</td>\n",
       "      <td>Manual</td>\n",
       "      <td>289944</td>\n",
       "      <td>3</td>\n",
       "      <td>5</td>\n",
       "      <td>8501</td>\n",
       "    </tr>\n",
       "    <tr>\n",
       "      <th>1</th>\n",
       "      <td>Chevrolet</td>\n",
       "      <td>Malibu</td>\n",
       "      <td>2012</td>\n",
       "      <td>2.0</td>\n",
       "      <td>Hybrid</td>\n",
       "      <td>Automatic</td>\n",
       "      <td>5356</td>\n",
       "      <td>2</td>\n",
       "      <td>3</td>\n",
       "      <td>12092</td>\n",
       "    </tr>\n",
       "    <tr>\n",
       "      <th>2</th>\n",
       "      <td>Mercedes</td>\n",
       "      <td>GLA</td>\n",
       "      <td>2020</td>\n",
       "      <td>4.2</td>\n",
       "      <td>Diesel</td>\n",
       "      <td>Automatic</td>\n",
       "      <td>231440</td>\n",
       "      <td>4</td>\n",
       "      <td>2</td>\n",
       "      <td>11171</td>\n",
       "    </tr>\n",
       "    <tr>\n",
       "      <th>3</th>\n",
       "      <td>Audi</td>\n",
       "      <td>Q5</td>\n",
       "      <td>2023</td>\n",
       "      <td>2.0</td>\n",
       "      <td>Electric</td>\n",
       "      <td>Manual</td>\n",
       "      <td>160971</td>\n",
       "      <td>2</td>\n",
       "      <td>1</td>\n",
       "      <td>11780</td>\n",
       "    </tr>\n",
       "    <tr>\n",
       "      <th>4</th>\n",
       "      <td>Volkswagen</td>\n",
       "      <td>Golf</td>\n",
       "      <td>2003</td>\n",
       "      <td>2.6</td>\n",
       "      <td>Hybrid</td>\n",
       "      <td>Semi-Automatic</td>\n",
       "      <td>286618</td>\n",
       "      <td>3</td>\n",
       "      <td>3</td>\n",
       "      <td>2867</td>\n",
       "    </tr>\n",
       "    <tr>\n",
       "      <th>...</th>\n",
       "      <td>...</td>\n",
       "      <td>...</td>\n",
       "      <td>...</td>\n",
       "      <td>...</td>\n",
       "      <td>...</td>\n",
       "      <td>...</td>\n",
       "      <td>...</td>\n",
       "      <td>...</td>\n",
       "      <td>...</td>\n",
       "      <td>...</td>\n",
       "    </tr>\n",
       "    <tr>\n",
       "      <th>9995</th>\n",
       "      <td>Kia</td>\n",
       "      <td>Optima</td>\n",
       "      <td>2004</td>\n",
       "      <td>3.7</td>\n",
       "      <td>Diesel</td>\n",
       "      <td>Semi-Automatic</td>\n",
       "      <td>5794</td>\n",
       "      <td>2</td>\n",
       "      <td>4</td>\n",
       "      <td>8884</td>\n",
       "    </tr>\n",
       "    <tr>\n",
       "      <th>9996</th>\n",
       "      <td>Chevrolet</td>\n",
       "      <td>Impala</td>\n",
       "      <td>2002</td>\n",
       "      <td>1.4</td>\n",
       "      <td>Electric</td>\n",
       "      <td>Automatic</td>\n",
       "      <td>168000</td>\n",
       "      <td>2</td>\n",
       "      <td>1</td>\n",
       "      <td>6240</td>\n",
       "    </tr>\n",
       "    <tr>\n",
       "      <th>9997</th>\n",
       "      <td>BMW</td>\n",
       "      <td>3 Series</td>\n",
       "      <td>2010</td>\n",
       "      <td>3.0</td>\n",
       "      <td>Petrol</td>\n",
       "      <td>Automatic</td>\n",
       "      <td>86664</td>\n",
       "      <td>5</td>\n",
       "      <td>1</td>\n",
       "      <td>9866</td>\n",
       "    </tr>\n",
       "    <tr>\n",
       "      <th>9998</th>\n",
       "      <td>Ford</td>\n",
       "      <td>Explorer</td>\n",
       "      <td>2002</td>\n",
       "      <td>1.4</td>\n",
       "      <td>Hybrid</td>\n",
       "      <td>Automatic</td>\n",
       "      <td>225772</td>\n",
       "      <td>4</td>\n",
       "      <td>1</td>\n",
       "      <td>4084</td>\n",
       "    </tr>\n",
       "    <tr>\n",
       "      <th>9999</th>\n",
       "      <td>Volkswagen</td>\n",
       "      <td>Tiguan</td>\n",
       "      <td>2001</td>\n",
       "      <td>2.1</td>\n",
       "      <td>Diesel</td>\n",
       "      <td>Manual</td>\n",
       "      <td>157882</td>\n",
       "      <td>3</td>\n",
       "      <td>3</td>\n",
       "      <td>3342</td>\n",
       "    </tr>\n",
       "  </tbody>\n",
       "</table>\n",
       "<p>10000 rows × 10 columns</p>\n",
       "</div>"
      ],
      "text/plain": [
       "           Brand     Model  Year  Engine_Size Fuel_Type    Transmission  \\\n",
       "0            Kia       Rio  2020          4.2    Diesel          Manual   \n",
       "1      Chevrolet    Malibu  2012          2.0    Hybrid       Automatic   \n",
       "2       Mercedes       GLA  2020          4.2    Diesel       Automatic   \n",
       "3           Audi        Q5  2023          2.0  Electric          Manual   \n",
       "4     Volkswagen      Golf  2003          2.6    Hybrid  Semi-Automatic   \n",
       "...          ...       ...   ...          ...       ...             ...   \n",
       "9995         Kia    Optima  2004          3.7    Diesel  Semi-Automatic   \n",
       "9996   Chevrolet    Impala  2002          1.4  Electric       Automatic   \n",
       "9997         BMW  3 Series  2010          3.0    Petrol       Automatic   \n",
       "9998        Ford  Explorer  2002          1.4    Hybrid       Automatic   \n",
       "9999  Volkswagen    Tiguan  2001          2.1    Diesel          Manual   \n",
       "\n",
       "      Mileage  Doors  Owner_Count  Price  \n",
       "0      289944      3            5   8501  \n",
       "1        5356      2            3  12092  \n",
       "2      231440      4            2  11171  \n",
       "3      160971      2            1  11780  \n",
       "4      286618      3            3   2867  \n",
       "...       ...    ...          ...    ...  \n",
       "9995     5794      2            4   8884  \n",
       "9996   168000      2            1   6240  \n",
       "9997    86664      5            1   9866  \n",
       "9998   225772      4            1   4084  \n",
       "9999   157882      3            3   3342  \n",
       "\n",
       "[10000 rows x 10 columns]"
      ]
     },
     "execution_count": 67,
     "metadata": {},
     "output_type": "execute_result"
    }
   ],
   "source": [
    "df"
   ]
  },
  {
   "cell_type": "markdown",
   "id": "4a5689f8-05fd-483f-979f-1599ba358282",
   "metadata": {},
   "source": [
    "use \"to_string()\"\" to print the Entire DataFrame."
   ]
  },
  {
   "cell_type": "code",
   "execution_count": 39,
   "id": "f6f9d2ba-23a9-40ce-a607-ffd76019d49e",
   "metadata": {},
   "outputs": [
    {
     "name": "stdout",
     "output_type": "stream",
     "text": [
      "        Brand   Model  Year  Engine_Size Fuel_Type    Transmission  Mileage  Doors  Owner_Count  Price\n",
      "0         Kia     Rio  2020          4.2    Diesel          Manual   289944      3            5   8501\n",
      "1   Chevrolet  Malibu  2012          2.0    Hybrid       Automatic     5356      2            3  12092\n",
      "2    Mercedes     GLA  2020          4.2    Diesel       Automatic   231440      4            2  11171\n",
      "3        Audi      Q5  2023          2.0  Electric          Manual   160971      2            1  11780\n",
      "4  Volkswagen    Golf  2003          2.6    Hybrid  Semi-Automatic   286618      3            3   2867\n"
     ]
    }
   ],
   "source": [
    "print(df.head().to_string())"
   ]
  },
  {
   "cell_type": "markdown",
   "id": "5d1ed521-8e14-4353-85b4-13e1ed163600",
   "metadata": {},
   "source": [
    "## printing Head"
   ]
  },
  {
   "cell_type": "code",
   "execution_count": 77,
   "id": "5b69232d-fa5b-425d-995e-b4dcb5ee312d",
   "metadata": {},
   "outputs": [
    {
     "data": {
      "text/html": [
       "<div>\n",
       "<style scoped>\n",
       "    .dataframe tbody tr th:only-of-type {\n",
       "        vertical-align: middle;\n",
       "    }\n",
       "\n",
       "    .dataframe tbody tr th {\n",
       "        vertical-align: top;\n",
       "    }\n",
       "\n",
       "    .dataframe thead th {\n",
       "        text-align: right;\n",
       "    }\n",
       "</style>\n",
       "<table border=\"1\" class=\"dataframe\">\n",
       "  <thead>\n",
       "    <tr style=\"text-align: right;\">\n",
       "      <th></th>\n",
       "      <th>Brand</th>\n",
       "      <th>Model</th>\n",
       "      <th>Year</th>\n",
       "      <th>Engine_Size</th>\n",
       "      <th>Fuel_Type</th>\n",
       "      <th>Transmission</th>\n",
       "      <th>Mileage</th>\n",
       "      <th>Doors</th>\n",
       "      <th>Owner_Count</th>\n",
       "      <th>Price</th>\n",
       "    </tr>\n",
       "  </thead>\n",
       "  <tbody>\n",
       "    <tr>\n",
       "      <th>0</th>\n",
       "      <td>Kia</td>\n",
       "      <td>Rio</td>\n",
       "      <td>2020</td>\n",
       "      <td>4.2</td>\n",
       "      <td>Diesel</td>\n",
       "      <td>Manual</td>\n",
       "      <td>289944</td>\n",
       "      <td>3</td>\n",
       "      <td>5</td>\n",
       "      <td>8501</td>\n",
       "    </tr>\n",
       "  </tbody>\n",
       "</table>\n",
       "</div>"
      ],
      "text/plain": [
       "  Brand Model  Year  Engine_Size Fuel_Type Transmission  Mileage  Doors  \\\n",
       "0   Kia   Rio  2020          4.2    Diesel       Manual   289944      3   \n",
       "\n",
       "   Owner_Count  Price  \n",
       "0            5   8501  "
      ]
     },
     "execution_count": 77,
     "metadata": {},
     "output_type": "execute_result"
    }
   ],
   "source": [
    "df.head(1)"
   ]
  },
  {
   "cell_type": "markdown",
   "id": "8dd1c351-2ad2-4a4f-966f-c1cef32162f1",
   "metadata": {},
   "source": [
    "## printing Tail"
   ]
  },
  {
   "cell_type": "code",
   "execution_count": 83,
   "id": "6349a7a5-15e1-4cf3-a801-e41cf5dcdf2c",
   "metadata": {},
   "outputs": [
    {
     "data": {
      "text/html": [
       "<div>\n",
       "<style scoped>\n",
       "    .dataframe tbody tr th:only-of-type {\n",
       "        vertical-align: middle;\n",
       "    }\n",
       "\n",
       "    .dataframe tbody tr th {\n",
       "        vertical-align: top;\n",
       "    }\n",
       "\n",
       "    .dataframe thead th {\n",
       "        text-align: right;\n",
       "    }\n",
       "</style>\n",
       "<table border=\"1\" class=\"dataframe\">\n",
       "  <thead>\n",
       "    <tr style=\"text-align: right;\">\n",
       "      <th></th>\n",
       "      <th>Brand</th>\n",
       "      <th>Model</th>\n",
       "      <th>Year</th>\n",
       "      <th>Engine_Size</th>\n",
       "      <th>Fuel_Type</th>\n",
       "      <th>Transmission</th>\n",
       "      <th>Mileage</th>\n",
       "      <th>Doors</th>\n",
       "      <th>Owner_Count</th>\n",
       "      <th>Price</th>\n",
       "    </tr>\n",
       "  </thead>\n",
       "  <tbody>\n",
       "    <tr>\n",
       "      <th>9999</th>\n",
       "      <td>Volkswagen</td>\n",
       "      <td>Tiguan</td>\n",
       "      <td>2001</td>\n",
       "      <td>2.1</td>\n",
       "      <td>Diesel</td>\n",
       "      <td>Manual</td>\n",
       "      <td>157882</td>\n",
       "      <td>3</td>\n",
       "      <td>3</td>\n",
       "      <td>3342</td>\n",
       "    </tr>\n",
       "  </tbody>\n",
       "</table>\n",
       "</div>"
      ],
      "text/plain": [
       "           Brand   Model  Year  Engine_Size Fuel_Type Transmission  Mileage  \\\n",
       "9999  Volkswagen  Tiguan  2001          2.1    Diesel       Manual   157882   \n",
       "\n",
       "      Doors  Owner_Count  Price  \n",
       "9999      3            3   3342  "
      ]
     },
     "execution_count": 83,
     "metadata": {},
     "output_type": "execute_result"
    }
   ],
   "source": [
    "df.tail(1)"
   ]
  },
  {
   "cell_type": "markdown",
   "id": "287fc211-a3cd-46bf-a802-24d5468dd7d2",
   "metadata": {},
   "source": [
    "## Checking Shape of Dataset"
   ]
  },
  {
   "cell_type": "code",
   "execution_count": 85,
   "id": "f1e19aa7-1520-490e-af24-56f6d57f2c9e",
   "metadata": {},
   "outputs": [
    {
     "data": {
      "text/plain": [
       "(10000, 10)"
      ]
     },
     "execution_count": 85,
     "metadata": {},
     "output_type": "execute_result"
    }
   ],
   "source": [
    "df.shape"
   ]
  },
  {
   "cell_type": "markdown",
   "id": "0d90bc08-75aa-431a-8ed6-ef6aeab7bc9e",
   "metadata": {},
   "source": [
    "## Max Rows when we simply display a Dataframe"
   ]
  },
  {
   "cell_type": "code",
   "execution_count": 40,
   "id": "0c5e8881-f941-4508-8d03-b9e9f81fbd5e",
   "metadata": {},
   "outputs": [
    {
     "name": "stdout",
     "output_type": "stream",
     "text": [
      "60\n"
     ]
    }
   ],
   "source": [
    "print(pd.options.display.max_rows) "
   ]
  },
  {
   "cell_type": "markdown",
   "id": "eae94e22-a170-488c-8b1d-f4af79170aea",
   "metadata": {},
   "source": [
    "## Increase the maximum number of rows to display the entire DataFrame"
   ]
  },
  {
   "cell_type": "code",
   "execution_count": 43,
   "id": "8fcacf58-fc07-4928-8c66-30947cb35d6f",
   "metadata": {},
   "outputs": [
    {
     "name": "stdout",
     "output_type": "stream",
     "text": [
      "        Brand   Model  Year  Engine_Size Fuel_Type    Transmission  Mileage  Doors  Owner_Count  Price\n",
      "0         Kia     Rio  2020          4.2    Diesel          Manual   289944      3            5   8501\n",
      "1   Chevrolet  Malibu  2012          2.0    Hybrid       Automatic     5356      2            3  12092\n",
      "2    Mercedes     GLA  2020          4.2    Diesel       Automatic   231440      4            2  11171\n",
      "3        Audi      Q5  2023          2.0  Electric          Manual   160971      2            1  11780\n",
      "4  Volkswagen    Golf  2003          2.6    Hybrid  Semi-Automatic   286618      3            3   2867\n"
     ]
    }
   ],
   "source": [
    "pd.options.display.max_rows = 100000\n",
    "\n",
    "df = pd.read_csv(path)\n",
    "\n",
    "print(df.head().to_string()) "
   ]
  },
  {
   "cell_type": "code",
   "execution_count": null,
   "id": "48dd2b9a-3f28-40ab-bda6-0b397023f9fe",
   "metadata": {},
   "outputs": [],
   "source": []
  },
  {
   "cell_type": "code",
   "execution_count": 105,
   "id": "f694f693-a2d2-402d-9983-5ac189deb5e7",
   "metadata": {},
   "outputs": [
    {
     "name": "stdout",
     "output_type": "stream",
     "text": [
      "0    3\n",
      "1    2\n",
      "2    4\n",
      "3    2\n",
      "4    3\n",
      "Name: Doors, dtype: int64\n"
     ]
    }
   ],
   "source": [
    "doors_column = df['Doors']\n",
    "print(doors_column.head())"
   ]
  },
  {
   "cell_type": "code",
   "execution_count": 107,
   "id": "50b3a61b-b4fb-4feb-8618-88f6946b69d2",
   "metadata": {},
   "outputs": [
    {
     "data": {
      "text/plain": [
       "pandas.core.series.Series"
      ]
     },
     "execution_count": 107,
     "metadata": {},
     "output_type": "execute_result"
    }
   ],
   "source": [
    "type(doors_column)"
   ]
  },
  {
   "cell_type": "markdown",
   "id": "27fd8db8-e910-4b29-8064-f89840b3282b",
   "metadata": {},
   "source": [
    "## Accessing Multiple Rows or Columns"
   ]
  },
  {
   "cell_type": "code",
   "execution_count": 46,
   "id": "5bac862a-8052-44fc-881c-7a32e7944d13",
   "metadata": {},
   "outputs": [
    {
     "data": {
      "text/html": [
       "<div>\n",
       "<style scoped>\n",
       "    .dataframe tbody tr th:only-of-type {\n",
       "        vertical-align: middle;\n",
       "    }\n",
       "\n",
       "    .dataframe tbody tr th {\n",
       "        vertical-align: top;\n",
       "    }\n",
       "\n",
       "    .dataframe thead th {\n",
       "        text-align: right;\n",
       "    }\n",
       "</style>\n",
       "<table border=\"1\" class=\"dataframe\">\n",
       "  <thead>\n",
       "    <tr style=\"text-align: right;\">\n",
       "      <th></th>\n",
       "      <th>Brand</th>\n",
       "      <th>Model</th>\n",
       "      <th>Doors</th>\n",
       "    </tr>\n",
       "  </thead>\n",
       "  <tbody>\n",
       "    <tr>\n",
       "      <th>0</th>\n",
       "      <td>Kia</td>\n",
       "      <td>Rio</td>\n",
       "      <td>3</td>\n",
       "    </tr>\n",
       "    <tr>\n",
       "      <th>1</th>\n",
       "      <td>Chevrolet</td>\n",
       "      <td>Malibu</td>\n",
       "      <td>2</td>\n",
       "    </tr>\n",
       "    <tr>\n",
       "      <th>2</th>\n",
       "      <td>Mercedes</td>\n",
       "      <td>GLA</td>\n",
       "      <td>4</td>\n",
       "    </tr>\n",
       "  </tbody>\n",
       "</table>\n",
       "</div>"
      ],
      "text/plain": [
       "       Brand   Model  Doors\n",
       "0        Kia     Rio      3\n",
       "1  Chevrolet  Malibu      2\n",
       "2   Mercedes     GLA      4"
      ]
     },
     "metadata": {},
     "output_type": "display_data"
    }
   ],
   "source": [
    "subset = df.loc[0:2, ['Brand', 'Model','Doors']]\n",
    "display(subset)"
   ]
  },
  {
   "cell_type": "markdown",
   "id": "57381fa5-7f34-4a3e-9dfa-9d1172232bca",
   "metadata": {},
   "source": [
    "##  Accessing Rows Based on Conditions"
   ]
  },
  {
   "cell_type": "code",
   "execution_count": 49,
   "id": "3423e37b-13be-44be-b518-b741b6745514",
   "metadata": {},
   "outputs": [
    {
     "name": "stdout",
     "output_type": "stream",
     "text": [
      "          Brand    Model  Year  Engine_Size Fuel_Type Transmission  Mileage  Doors  Owner_Count  Price\n",
      "6         Honda    Civic  2010          3.4  Electric    Automatic   139584      3            1  11208\n",
      "34       Toyota  Corolla  2010          3.2    Diesel    Automatic   132454      4            4   9150\n",
      "101        Audi       A4  2010          2.0    Hybrid       Manual   228204      3            4   5535\n",
      "110  Volkswagen   Passat  2010          3.4    Diesel       Manual     8662      4            3  10326\n",
      "142         Kia   Optima  2010          3.9    Petrol    Automatic    26930      3            3  11961\n"
     ]
    }
   ],
   "source": [
    "filtered_data = df[df['Year'] == 2010 ]\n",
    "filter_2= df [df['Model']=='Civic']\n",
    "print(filtered_data.head().to_string())"
   ]
  },
  {
   "cell_type": "markdown",
   "id": "7b961ba1-a88f-4e5b-a40d-df131f89efed",
   "metadata": {},
   "source": [
    "## Accessing Specific Cells with at and iat"
   ]
  },
  {
   "cell_type": "code",
   "execution_count": 50,
   "id": "c0be3fc4-f9f0-4047-bfdd-fb3af7977bcc",
   "metadata": {},
   "outputs": [
    {
     "name": "stdout",
     "output_type": "stream",
     "text": [
      "Corolla\n"
     ]
    }
   ],
   "source": [
    "model_at_index_2 = df.at[34, 'Model']\n",
    "print(model_at_index_2)"
   ]
  },
  {
   "cell_type": "code",
   "execution_count": 1,
   "id": "9c3c7378-13e4-429d-af7b-7e011ed9c358",
   "metadata": {},
   "outputs": [],
   "source": [
    "import pandas as pd"
   ]
  },
  {
   "cell_type": "markdown",
   "id": "60bc71dc",
   "metadata": {},
   "source": [
    "## New Lecture"
   ]
  },
  {
   "cell_type": "code",
   "execution_count": 59,
   "id": "9ae62355",
   "metadata": {},
   "outputs": [
    {
     "data": {
      "text/html": [
       "<div>\n",
       "<style scoped>\n",
       "    .dataframe tbody tr th:only-of-type {\n",
       "        vertical-align: middle;\n",
       "    }\n",
       "\n",
       "    .dataframe tbody tr th {\n",
       "        vertical-align: top;\n",
       "    }\n",
       "\n",
       "    .dataframe thead th {\n",
       "        text-align: right;\n",
       "    }\n",
       "</style>\n",
       "<table border=\"1\" class=\"dataframe\">\n",
       "  <thead>\n",
       "    <tr style=\"text-align: right;\">\n",
       "      <th></th>\n",
       "      <th>Patients</th>\n",
       "      <th>Name</th>\n",
       "      <th>Avi</th>\n",
       "      <th>Bob</th>\n",
       "      <th>Cathy</th>\n",
       "      <th>Aname</th>\n",
       "    </tr>\n",
       "  </thead>\n",
       "  <tbody>\n",
       "    <tr>\n",
       "      <th>0</th>\n",
       "      <td>1993</td>\n",
       "      <td>Avi</td>\n",
       "      <td>5</td>\n",
       "      <td>41</td>\n",
       "      <td>70</td>\n",
       "      <td>Bob</td>\n",
       "    </tr>\n",
       "    <tr>\n",
       "      <th>1</th>\n",
       "      <td>1994</td>\n",
       "      <td>Cathy</td>\n",
       "      <td>10</td>\n",
       "      <td>1</td>\n",
       "      <td>22</td>\n",
       "      <td>Cathy</td>\n",
       "    </tr>\n",
       "    <tr>\n",
       "      <th>2</th>\n",
       "      <td>1995</td>\n",
       "      <td>Cathy</td>\n",
       "      <td>24</td>\n",
       "      <td>11</td>\n",
       "      <td>44</td>\n",
       "      <td>Bob</td>\n",
       "    </tr>\n",
       "    <tr>\n",
       "      <th>3</th>\n",
       "      <td>1996</td>\n",
       "      <td>Bob</td>\n",
       "      <td>2</td>\n",
       "      <td>11</td>\n",
       "      <td>10</td>\n",
       "      <td>Avi</td>\n",
       "    </tr>\n",
       "    <tr>\n",
       "      <th>4</th>\n",
       "      <td>1998</td>\n",
       "      <td>Avi</td>\n",
       "      <td>20</td>\n",
       "      <td>10</td>\n",
       "      <td>40</td>\n",
       "      <td>Avi</td>\n",
       "    </tr>\n",
       "    <tr>\n",
       "      <th>5</th>\n",
       "      <td>1999</td>\n",
       "      <td>Avi</td>\n",
       "      <td>50</td>\n",
       "      <td>8</td>\n",
       "      <td>11</td>\n",
       "      <td>Cathy</td>\n",
       "    </tr>\n",
       "  </tbody>\n",
       "</table>\n",
       "</div>"
      ],
      "text/plain": [
       "  Patients   Name  Avi  Bob  Cathy  Aname\n",
       "0     1993    Avi    5   41     70    Bob\n",
       "1     1994  Cathy   10    1     22  Cathy\n",
       "2     1995  Cathy   24   11     44    Bob\n",
       "3     1996    Bob    2   11     10    Avi\n",
       "4     1998    Avi   20   10     40    Avi\n",
       "5     1999    Avi   50    8     11  Cathy"
      ]
     },
     "execution_count": 59,
     "metadata": {},
     "output_type": "execute_result"
    }
   ],
   "source": [
    "df = pd.DataFrame([['1993', 'Avi', 5, 41, 70, 'Bob'],  \n",
    "                   ['1994', 'Cathy', 10, 1, 22, 'Cathy'],  \n",
    "                   ['1995', 'Cathy', 24, 11, 44, 'Bob'],  \n",
    "                   ['1996', 'Bob', 2, 11, 10, 'Avi'],  \n",
    "                   ['1998', 'Avi', 20, 10, 40, 'Avi'], \n",
    "                   ['1999', 'Avi', 50, 8, 11, 'Cathy']], \n",
    "                  columns=('Patients', 'Name', 'Avi', 'Bob', 'Cathy', 'Aname')) \n",
    "\n",
    "df"
   ]
  },
  {
   "cell_type": "markdown",
   "id": "bdb4bdee",
   "metadata": {},
   "source": [
    "### Pandas Dataframe.pop()"
   ]
  },
  {
   "cell_type": "code",
   "execution_count": null,
   "id": "e7fb92d3",
   "metadata": {},
   "outputs": [
    {
     "data": {
      "text/plain": [
       "0     5\n",
       "1    10\n",
       "2    24\n",
       "3     2\n",
       "4    20\n",
       "5    50\n",
       "Name: Avi, dtype: int64"
      ]
     },
     "execution_count": 56,
     "metadata": {},
     "output_type": "execute_result"
    }
   ],
   "source": [
    "poped_col=df.pop('Avi')"
   ]
  },
  {
   "cell_type": "code",
   "execution_count": 53,
   "id": "acaa04c8",
   "metadata": {},
   "outputs": [
    {
     "data": {
      "text/plain": [
       "0     5\n",
       "1    10\n",
       "2    24\n",
       "3     2\n",
       "4    20\n",
       "5    50\n",
       "Name: Avi, dtype: int64"
      ]
     },
     "execution_count": 53,
     "metadata": {},
     "output_type": "execute_result"
    }
   ],
   "source": [
    "poped_col"
   ]
  },
  {
   "cell_type": "markdown",
   "id": "482290ab",
   "metadata": {},
   "source": [
    "## Drop()"
   ]
  },
  {
   "cell_type": "code",
   "execution_count": 54,
   "id": "4f87b9fe-3d4d-4934-b35e-f5ff283eb5a1",
   "metadata": {},
   "outputs": [
    {
     "data": {
      "text/html": [
       "<div>\n",
       "<style scoped>\n",
       "    .dataframe tbody tr th:only-of-type {\n",
       "        vertical-align: middle;\n",
       "    }\n",
       "\n",
       "    .dataframe tbody tr th {\n",
       "        vertical-align: top;\n",
       "    }\n",
       "\n",
       "    .dataframe thead th {\n",
       "        text-align: right;\n",
       "    }\n",
       "</style>\n",
       "<table border=\"1\" class=\"dataframe\">\n",
       "  <thead>\n",
       "    <tr style=\"text-align: right;\">\n",
       "      <th></th>\n",
       "      <th>Patients</th>\n",
       "      <th>Name</th>\n",
       "      <th>Bob</th>\n",
       "      <th>Cathy</th>\n",
       "      <th>Aname</th>\n",
       "    </tr>\n",
       "  </thead>\n",
       "  <tbody>\n",
       "    <tr>\n",
       "      <th>0</th>\n",
       "      <td>1993</td>\n",
       "      <td>Avi</td>\n",
       "      <td>41</td>\n",
       "      <td>70</td>\n",
       "      <td>Bob</td>\n",
       "    </tr>\n",
       "    <tr>\n",
       "      <th>1</th>\n",
       "      <td>1994</td>\n",
       "      <td>Cathy</td>\n",
       "      <td>1</td>\n",
       "      <td>22</td>\n",
       "      <td>Cathy</td>\n",
       "    </tr>\n",
       "    <tr>\n",
       "      <th>2</th>\n",
       "      <td>1995</td>\n",
       "      <td>Cathy</td>\n",
       "      <td>11</td>\n",
       "      <td>44</td>\n",
       "      <td>Bob</td>\n",
       "    </tr>\n",
       "    <tr>\n",
       "      <th>3</th>\n",
       "      <td>1996</td>\n",
       "      <td>Bob</td>\n",
       "      <td>11</td>\n",
       "      <td>10</td>\n",
       "      <td>Avi</td>\n",
       "    </tr>\n",
       "    <tr>\n",
       "      <th>4</th>\n",
       "      <td>1998</td>\n",
       "      <td>Avi</td>\n",
       "      <td>10</td>\n",
       "      <td>40</td>\n",
       "      <td>Avi</td>\n",
       "    </tr>\n",
       "    <tr>\n",
       "      <th>5</th>\n",
       "      <td>1999</td>\n",
       "      <td>Avi</td>\n",
       "      <td>8</td>\n",
       "      <td>11</td>\n",
       "      <td>Cathy</td>\n",
       "    </tr>\n",
       "  </tbody>\n",
       "</table>\n",
       "</div>"
      ],
      "text/plain": [
       "  Patients   Name  Bob  Cathy  Aname\n",
       "0     1993    Avi   41     70    Bob\n",
       "1     1994  Cathy    1     22  Cathy\n",
       "2     1995  Cathy   11     44    Bob\n",
       "3     1996    Bob   11     10    Avi\n",
       "4     1998    Avi   10     40    Avi\n",
       "5     1999    Avi    8     11  Cathy"
      ]
     },
     "execution_count": 54,
     "metadata": {},
     "output_type": "execute_result"
    }
   ],
   "source": [
    "df"
   ]
  },
  {
   "cell_type": "code",
   "execution_count": null,
   "id": "4aee2a61",
   "metadata": {},
   "outputs": [
    {
     "data": {
      "text/html": [
       "<div>\n",
       "<style scoped>\n",
       "    .dataframe tbody tr th:only-of-type {\n",
       "        vertical-align: middle;\n",
       "    }\n",
       "\n",
       "    .dataframe tbody tr th {\n",
       "        vertical-align: top;\n",
       "    }\n",
       "\n",
       "    .dataframe thead th {\n",
       "        text-align: right;\n",
       "    }\n",
       "</style>\n",
       "<table border=\"1\" class=\"dataframe\">\n",
       "  <thead>\n",
       "    <tr style=\"text-align: right;\">\n",
       "      <th></th>\n",
       "      <th>Patients</th>\n",
       "      <th>Name</th>\n",
       "      <th>Avi</th>\n",
       "      <th>Cathy</th>\n",
       "      <th>Aname</th>\n",
       "    </tr>\n",
       "  </thead>\n",
       "  <tbody>\n",
       "    <tr>\n",
       "      <th>0</th>\n",
       "      <td>1993</td>\n",
       "      <td>Avi</td>\n",
       "      <td>5</td>\n",
       "      <td>70</td>\n",
       "      <td>Bob</td>\n",
       "    </tr>\n",
       "    <tr>\n",
       "      <th>1</th>\n",
       "      <td>1994</td>\n",
       "      <td>Cathy</td>\n",
       "      <td>10</td>\n",
       "      <td>22</td>\n",
       "      <td>Cathy</td>\n",
       "    </tr>\n",
       "    <tr>\n",
       "      <th>2</th>\n",
       "      <td>1995</td>\n",
       "      <td>Cathy</td>\n",
       "      <td>24</td>\n",
       "      <td>44</td>\n",
       "      <td>Bob</td>\n",
       "    </tr>\n",
       "    <tr>\n",
       "      <th>3</th>\n",
       "      <td>1996</td>\n",
       "      <td>Bob</td>\n",
       "      <td>2</td>\n",
       "      <td>10</td>\n",
       "      <td>Avi</td>\n",
       "    </tr>\n",
       "    <tr>\n",
       "      <th>4</th>\n",
       "      <td>1998</td>\n",
       "      <td>Avi</td>\n",
       "      <td>20</td>\n",
       "      <td>40</td>\n",
       "      <td>Avi</td>\n",
       "    </tr>\n",
       "    <tr>\n",
       "      <th>5</th>\n",
       "      <td>1999</td>\n",
       "      <td>Avi</td>\n",
       "      <td>50</td>\n",
       "      <td>11</td>\n",
       "      <td>Cathy</td>\n",
       "    </tr>\n",
       "  </tbody>\n",
       "</table>\n",
       "</div>"
      ],
      "text/plain": [
       "  Patients   Name  Avi  Cathy  Aname\n",
       "0     1993    Avi    5     70    Bob\n",
       "1     1994  Cathy   10     22  Cathy\n",
       "2     1995  Cathy   24     44    Bob\n",
       "3     1996    Bob    2     10    Avi\n",
       "4     1998    Avi   20     40    Avi\n",
       "5     1999    Avi   50     11  Cathy"
      ]
     },
     "execution_count": 58,
     "metadata": {},
     "output_type": "execute_result"
    }
   ],
   "source": [
    "df=df.drop(columns=[\"Bob\"])  # Removes column but doesn't return it\n",
    "df"
   ]
  },
  {
   "cell_type": "markdown",
   "id": "5acdf9c6",
   "metadata": {},
   "source": [
    "## Get()"
   ]
  },
  {
   "cell_type": "code",
   "execution_count": 60,
   "id": "2f87d163",
   "metadata": {},
   "outputs": [
    {
     "data": {
      "text/plain": [
       "0      Avi\n",
       "1    Cathy\n",
       "2    Cathy\n",
       "3      Bob\n",
       "4      Avi\n",
       "5      Avi\n",
       "Name: Name, dtype: object"
      ]
     },
     "execution_count": 60,
     "metadata": {},
     "output_type": "execute_result"
    }
   ],
   "source": [
    "df.get(\"Name\") "
   ]
  },
  {
   "cell_type": "code",
   "execution_count": 37,
   "id": "c02d63a6-cf99-4570-aae4-d2ca30c3648d",
   "metadata": {},
   "outputs": [
    {
     "data": {
      "text/html": [
       "<div>\n",
       "<style scoped>\n",
       "    .dataframe tbody tr th:only-of-type {\n",
       "        vertical-align: middle;\n",
       "    }\n",
       "\n",
       "    .dataframe tbody tr th {\n",
       "        vertical-align: top;\n",
       "    }\n",
       "\n",
       "    .dataframe thead th {\n",
       "        text-align: right;\n",
       "    }\n",
       "</style>\n",
       "<table border=\"1\" class=\"dataframe\">\n",
       "  <thead>\n",
       "    <tr style=\"text-align: right;\">\n",
       "      <th></th>\n",
       "      <th>Brand</th>\n",
       "      <th>Model</th>\n",
       "      <th>Year</th>\n",
       "      <th>Engine_Size</th>\n",
       "      <th>Fuel_Type</th>\n",
       "      <th>Transmission</th>\n",
       "      <th>Mileage</th>\n",
       "      <th>Doors</th>\n",
       "      <th>Owner_Count</th>\n",
       "      <th>Price</th>\n",
       "    </tr>\n",
       "  </thead>\n",
       "  <tbody>\n",
       "    <tr>\n",
       "      <th>0</th>\n",
       "      <td>Kia</td>\n",
       "      <td>Rio</td>\n",
       "      <td>2020</td>\n",
       "      <td>4.2</td>\n",
       "      <td>Diesel</td>\n",
       "      <td>Manual</td>\n",
       "      <td>289944</td>\n",
       "      <td>3</td>\n",
       "      <td>5</td>\n",
       "      <td>8501</td>\n",
       "    </tr>\n",
       "    <tr>\n",
       "      <th>1</th>\n",
       "      <td>Chevrolet</td>\n",
       "      <td>Malibu</td>\n",
       "      <td>2012</td>\n",
       "      <td>2.0</td>\n",
       "      <td>Hybrid</td>\n",
       "      <td>Automatic</td>\n",
       "      <td>5356</td>\n",
       "      <td>2</td>\n",
       "      <td>3</td>\n",
       "      <td>12092</td>\n",
       "    </tr>\n",
       "    <tr>\n",
       "      <th>2</th>\n",
       "      <td>Mercedes</td>\n",
       "      <td>GLA</td>\n",
       "      <td>2020</td>\n",
       "      <td>4.2</td>\n",
       "      <td>Diesel</td>\n",
       "      <td>Automatic</td>\n",
       "      <td>231440</td>\n",
       "      <td>4</td>\n",
       "      <td>2</td>\n",
       "      <td>11171</td>\n",
       "    </tr>\n",
       "    <tr>\n",
       "      <th>3</th>\n",
       "      <td>Audi</td>\n",
       "      <td>Q5</td>\n",
       "      <td>2023</td>\n",
       "      <td>2.0</td>\n",
       "      <td>Electric</td>\n",
       "      <td>Manual</td>\n",
       "      <td>160971</td>\n",
       "      <td>2</td>\n",
       "      <td>1</td>\n",
       "      <td>11780</td>\n",
       "    </tr>\n",
       "    <tr>\n",
       "      <th>4</th>\n",
       "      <td>Volkswagen</td>\n",
       "      <td>Golf</td>\n",
       "      <td>2003</td>\n",
       "      <td>2.6</td>\n",
       "      <td>Hybrid</td>\n",
       "      <td>Semi-Automatic</td>\n",
       "      <td>286618</td>\n",
       "      <td>3</td>\n",
       "      <td>3</td>\n",
       "      <td>2867</td>\n",
       "    </tr>\n",
       "  </tbody>\n",
       "</table>\n",
       "</div>"
      ],
      "text/plain": [
       "        Brand   Model  Year  Engine_Size Fuel_Type    Transmission  Mileage  \\\n",
       "0         Kia     Rio  2020          4.2    Diesel          Manual   289944   \n",
       "1   Chevrolet  Malibu  2012          2.0    Hybrid       Automatic     5356   \n",
       "2    Mercedes     GLA  2020          4.2    Diesel       Automatic   231440   \n",
       "3        Audi      Q5  2023          2.0  Electric          Manual   160971   \n",
       "4  Volkswagen    Golf  2003          2.6    Hybrid  Semi-Automatic   286618   \n",
       "\n",
       "   Doors  Owner_Count  Price  \n",
       "0      3            5   8501  \n",
       "1      2            3  12092  \n",
       "2      4            2  11171  \n",
       "3      2            1  11780  \n",
       "4      3            3   2867  "
      ]
     },
     "execution_count": 37,
     "metadata": {},
     "output_type": "execute_result"
    }
   ],
   "source": [
    "path='Datasets/car_price_dataset.csv'\n",
    "data=pd.read_csv(path)\n",
    "data.head()"
   ]
  },
  {
   "cell_type": "code",
   "execution_count": 45,
   "id": "14c53503-17a3-4337-80d2-f689f3310342",
   "metadata": {},
   "outputs": [],
   "source": [
    "x_train= data.get(['Brand','Model','Engine_Size'])\n",
    "x_train.head()\n",
    "y_train=data.get(['Price'])\n",
    "# y_train.head()\n"
   ]
  },
  {
   "cell_type": "code",
   "execution_count": 61,
   "id": "136a5fe0",
   "metadata": {},
   "outputs": [
    {
     "data": {
      "text/html": [
       "<div>\n",
       "<style scoped>\n",
       "    .dataframe tbody tr th:only-of-type {\n",
       "        vertical-align: middle;\n",
       "    }\n",
       "\n",
       "    .dataframe tbody tr th {\n",
       "        vertical-align: top;\n",
       "    }\n",
       "\n",
       "    .dataframe thead th {\n",
       "        text-align: right;\n",
       "    }\n",
       "</style>\n",
       "<table border=\"1\" class=\"dataframe\">\n",
       "  <thead>\n",
       "    <tr style=\"text-align: right;\">\n",
       "      <th></th>\n",
       "      <th>Patients</th>\n",
       "      <th>Name</th>\n",
       "      <th>Cathy</th>\n",
       "    </tr>\n",
       "  </thead>\n",
       "  <tbody>\n",
       "    <tr>\n",
       "      <th>0</th>\n",
       "      <td>1993</td>\n",
       "      <td>Avi</td>\n",
       "      <td>70</td>\n",
       "    </tr>\n",
       "    <tr>\n",
       "      <th>1</th>\n",
       "      <td>1994</td>\n",
       "      <td>Cathy</td>\n",
       "      <td>22</td>\n",
       "    </tr>\n",
       "    <tr>\n",
       "      <th>2</th>\n",
       "      <td>1995</td>\n",
       "      <td>Cathy</td>\n",
       "      <td>44</td>\n",
       "    </tr>\n",
       "    <tr>\n",
       "      <th>3</th>\n",
       "      <td>1996</td>\n",
       "      <td>Bob</td>\n",
       "      <td>10</td>\n",
       "    </tr>\n",
       "    <tr>\n",
       "      <th>4</th>\n",
       "      <td>1998</td>\n",
       "      <td>Avi</td>\n",
       "      <td>40</td>\n",
       "    </tr>\n",
       "    <tr>\n",
       "      <th>5</th>\n",
       "      <td>1999</td>\n",
       "      <td>Avi</td>\n",
       "      <td>11</td>\n",
       "    </tr>\n",
       "  </tbody>\n",
       "</table>\n",
       "</div>"
      ],
      "text/plain": [
       "  Patients   Name  Cathy\n",
       "0     1993    Avi     70\n",
       "1     1994  Cathy     22\n",
       "2     1995  Cathy     44\n",
       "3     1996    Bob     10\n",
       "4     1998    Avi     40\n",
       "5     1999    Avi     11"
      ]
     },
     "execution_count": 61,
     "metadata": {},
     "output_type": "execute_result"
    }
   ],
   "source": [
    "d=df.get([\"Patients\", \"Name\",\"Cathy\"])\n",
    "d "
   ]
  },
  {
   "cell_type": "markdown",
   "id": "19fac378",
   "metadata": {},
   "source": [
    "## Pandas DataFrame.isin()"
   ]
  },
  {
   "cell_type": "code",
   "execution_count": 47,
   "id": "42d8a3e0",
   "metadata": {},
   "outputs": [
    {
     "data": {
      "text/html": [
       "<div>\n",
       "<style scoped>\n",
       "    .dataframe tbody tr th:only-of-type {\n",
       "        vertical-align: middle;\n",
       "    }\n",
       "\n",
       "    .dataframe tbody tr th {\n",
       "        vertical-align: top;\n",
       "    }\n",
       "\n",
       "    .dataframe thead th {\n",
       "        text-align: right;\n",
       "    }\n",
       "</style>\n",
       "<table border=\"1\" class=\"dataframe\">\n",
       "  <thead>\n",
       "    <tr style=\"text-align: right;\">\n",
       "      <th></th>\n",
       "      <th>Patients</th>\n",
       "      <th>Name</th>\n",
       "      <th>Cathy</th>\n",
       "      <th>Aname</th>\n",
       "    </tr>\n",
       "  </thead>\n",
       "  <tbody>\n",
       "    <tr>\n",
       "      <th>0</th>\n",
       "      <td>1993</td>\n",
       "      <td>Avi</td>\n",
       "      <td>70</td>\n",
       "      <td>Bob</td>\n",
       "    </tr>\n",
       "    <tr>\n",
       "      <th>1</th>\n",
       "      <td>1994</td>\n",
       "      <td>Cathy</td>\n",
       "      <td>22</td>\n",
       "      <td>Cathy</td>\n",
       "    </tr>\n",
       "    <tr>\n",
       "      <th>2</th>\n",
       "      <td>1995</td>\n",
       "      <td>Cathy</td>\n",
       "      <td>44</td>\n",
       "      <td>Bob</td>\n",
       "    </tr>\n",
       "    <tr>\n",
       "      <th>3</th>\n",
       "      <td>1996</td>\n",
       "      <td>Bob</td>\n",
       "      <td>10</td>\n",
       "      <td>Avi</td>\n",
       "    </tr>\n",
       "    <tr>\n",
       "      <th>4</th>\n",
       "      <td>1998</td>\n",
       "      <td>Avi</td>\n",
       "      <td>40</td>\n",
       "      <td>Avi</td>\n",
       "    </tr>\n",
       "    <tr>\n",
       "      <th>5</th>\n",
       "      <td>1999</td>\n",
       "      <td>Avi</td>\n",
       "      <td>11</td>\n",
       "      <td>Cathy</td>\n",
       "    </tr>\n",
       "  </tbody>\n",
       "</table>\n",
       "</div>"
      ],
      "text/plain": [
       "  Patients   Name  Cathy  Aname\n",
       "0     1993    Avi     70    Bob\n",
       "1     1994  Cathy     22  Cathy\n",
       "2     1995  Cathy     44    Bob\n",
       "3     1996    Bob     10    Avi\n",
       "4     1998    Avi     40    Avi\n",
       "5     1999    Avi     11  Cathy"
      ]
     },
     "execution_count": 47,
     "metadata": {},
     "output_type": "execute_result"
    }
   ],
   "source": [
    "df"
   ]
  },
  {
   "cell_type": "code",
   "execution_count": 51,
   "id": "193b9ee5",
   "metadata": {},
   "outputs": [
    {
     "name": "stdout",
     "output_type": "stream",
     "text": [
      "  Patients Name  Cathy  Aname\n",
      "0     1993  Avi     70    Bob\n",
      "4     1998  Avi     40    Avi\n",
      "5     1999  Avi     11  Cathy\n"
     ]
    }
   ],
   "source": [
    "new = df[\"Name\"].isin([\"Avi\"])\n",
    "# print(new)\n",
    "data1=df[new]\n",
    "print(data1)"
   ]
  },
  {
   "cell_type": "code",
   "execution_count": 62,
   "id": "7a651f71",
   "metadata": {},
   "outputs": [
    {
     "name": "stdout",
     "output_type": "stream",
     "text": [
      "  Patients Name  Avi  Bob  Cathy Aname\n",
      "0     1993  Avi    5   41     70   Bob\n"
     ]
    }
   ],
   "source": [
    "f1= df [\"Name\"].isin ([\"Avi\", \"Bob\"])\n",
    "f3= df ['Aname'].isin ([\"Cathy\", \"Bob\"])\n",
    "f2= df [\"Patients\"].isin ([\"1993\", \"1996\"])\n",
    "# f1 & f2\n",
    "data=df[f1 & f2 & f3]\n",
    "print(data)"
   ]
  },
  {
   "cell_type": "markdown",
   "id": "c32aed4b",
   "metadata": {},
   "source": [
    "## Pandas DataFrame.where()"
   ]
  },
  {
   "cell_type": "code",
   "execution_count": 122,
   "id": "4a381e6e-bc80-476c-b3df-1bb7a2840f84",
   "metadata": {},
   "outputs": [],
   "source": [
    "import numpy as np"
   ]
  },
  {
   "cell_type": "code",
   "execution_count": 126,
   "id": "5f221cd2",
   "metadata": {},
   "outputs": [
    {
     "data": {
      "text/html": [
       "<div>\n",
       "<style scoped>\n",
       "    .dataframe tbody tr th:only-of-type {\n",
       "        vertical-align: middle;\n",
       "    }\n",
       "\n",
       "    .dataframe tbody tr th {\n",
       "        vertical-align: top;\n",
       "    }\n",
       "\n",
       "    .dataframe thead th {\n",
       "        text-align: right;\n",
       "    }\n",
       "</style>\n",
       "<table border=\"1\" class=\"dataframe\">\n",
       "  <thead>\n",
       "    <tr style=\"text-align: right;\">\n",
       "      <th></th>\n",
       "      <th>Patients</th>\n",
       "      <th>Name</th>\n",
       "      <th>Avi</th>\n",
       "      <th>Bob</th>\n",
       "      <th>Cathy</th>\n",
       "      <th>Aname</th>\n",
       "    </tr>\n",
       "  </thead>\n",
       "  <tbody>\n",
       "    <tr>\n",
       "      <th>0</th>\n",
       "      <td>1999</td>\n",
       "      <td>Avi</td>\n",
       "      <td>5</td>\n",
       "      <td>41</td>\n",
       "      <td>70</td>\n",
       "      <td>Bob</td>\n",
       "    </tr>\n",
       "    <tr>\n",
       "      <th>1</th>\n",
       "      <td>NaN</td>\n",
       "      <td>Cathy</td>\n",
       "      <td>10</td>\n",
       "      <td>1</td>\n",
       "      <td>22</td>\n",
       "      <td>Cathy</td>\n",
       "    </tr>\n",
       "    <tr>\n",
       "      <th>2</th>\n",
       "      <td>1993</td>\n",
       "      <td>Cathy</td>\n",
       "      <td>24</td>\n",
       "      <td>11</td>\n",
       "      <td>44</td>\n",
       "      <td>Bob</td>\n",
       "    </tr>\n",
       "    <tr>\n",
       "      <th>3</th>\n",
       "      <td>1996</td>\n",
       "      <td>Bob</td>\n",
       "      <td>2</td>\n",
       "      <td>11</td>\n",
       "      <td>10</td>\n",
       "      <td>Avi</td>\n",
       "    </tr>\n",
       "    <tr>\n",
       "      <th>4</th>\n",
       "      <td>1992</td>\n",
       "      <td>Avi</td>\n",
       "      <td>20</td>\n",
       "      <td>10</td>\n",
       "      <td>40</td>\n",
       "      <td>Avi</td>\n",
       "    </tr>\n",
       "    <tr>\n",
       "      <th>5</th>\n",
       "      <td>1991</td>\n",
       "      <td>Avi</td>\n",
       "      <td>50</td>\n",
       "      <td>8</td>\n",
       "      <td>11</td>\n",
       "      <td>Cathy</td>\n",
       "    </tr>\n",
       "  </tbody>\n",
       "</table>\n",
       "</div>"
      ],
      "text/plain": [
       "  Patients   Name  Avi  Bob  Cathy  Aname\n",
       "0     1999    Avi    5   41     70    Bob\n",
       "1      NaN  Cathy   10    1     22  Cathy\n",
       "2     1993  Cathy   24   11     44    Bob\n",
       "3     1996    Bob    2   11     10    Avi\n",
       "4     1992    Avi   20   10     40    Avi\n",
       "5     1991    Avi   50    8     11  Cathy"
      ]
     },
     "execution_count": 126,
     "metadata": {},
     "output_type": "execute_result"
    }
   ],
   "source": [
    "df = pd.DataFrame([['1999', 'Avi', 5, 41, 70, 'Bob'],  \n",
    "                   [np.nan, 'Cathy', 10, 1, 22, 'Cathy'],  \n",
    "                   ['1993', 'Cathy', 24, 11, 44, 'Bob'],  \n",
    "                   ['1996', 'Bob', 2, 11, 10, 'Avi'],  \n",
    "                   ['1992', 'Avi', 20, 10, 40, 'Avi'], \n",
    "                   ['1991', 'Avi', 50, 8, 11, 'Cathy']], \n",
    "                  columns=('Patients', 'Name', 'Avi', 'Bob', 'Cathy', 'Aname')) \n",
    "\n",
    "df"
   ]
  },
  {
   "cell_type": "code",
   "execution_count": 91,
   "id": "818079b6",
   "metadata": {},
   "outputs": [
    {
     "data": {
      "text/html": [
       "<div>\n",
       "<style scoped>\n",
       "    .dataframe tbody tr th:only-of-type {\n",
       "        vertical-align: middle;\n",
       "    }\n",
       "\n",
       "    .dataframe tbody tr th {\n",
       "        vertical-align: top;\n",
       "    }\n",
       "\n",
       "    .dataframe thead th {\n",
       "        text-align: right;\n",
       "    }\n",
       "</style>\n",
       "<table border=\"1\" class=\"dataframe\">\n",
       "  <thead>\n",
       "    <tr style=\"text-align: right;\">\n",
       "      <th></th>\n",
       "      <th>Patients</th>\n",
       "      <th>Name</th>\n",
       "      <th>Avi</th>\n",
       "      <th>Bob</th>\n",
       "      <th>Cathy</th>\n",
       "      <th>Aname</th>\n",
       "    </tr>\n",
       "  </thead>\n",
       "  <tbody>\n",
       "    <tr>\n",
       "      <th>3</th>\n",
       "      <td>1996</td>\n",
       "      <td>Bob</td>\n",
       "      <td>2</td>\n",
       "      <td>11</td>\n",
       "      <td>10</td>\n",
       "      <td>Avi</td>\n",
       "    </tr>\n",
       "  </tbody>\n",
       "</table>\n",
       "</div>"
      ],
      "text/plain": [
       "  Patients Name  Avi  Bob  Cathy Aname\n",
       "3     1996  Bob    2   11     10   Avi"
      ]
     },
     "execution_count": 91,
     "metadata": {},
     "output_type": "execute_result"
    }
   ],
   "source": [
    "df.sort_values(\"Patients\", inplace=True)\n",
    "\n",
    "# Correct filtering\n",
    "df1 = df[df[\"Patients\"] == \"1996\"]  # This filters out rows where \"Patients\" is not 1993\n",
    "\n",
    "df1 \n"
   ]
  },
  {
   "cell_type": "code",
   "execution_count": 93,
   "id": "fe0f460b",
   "metadata": {},
   "outputs": [
    {
     "data": {
      "text/html": [
       "<div>\n",
       "<style scoped>\n",
       "    .dataframe tbody tr th:only-of-type {\n",
       "        vertical-align: middle;\n",
       "    }\n",
       "\n",
       "    .dataframe tbody tr th {\n",
       "        vertical-align: top;\n",
       "    }\n",
       "\n",
       "    .dataframe thead th {\n",
       "        text-align: right;\n",
       "    }\n",
       "</style>\n",
       "<table border=\"1\" class=\"dataframe\">\n",
       "  <thead>\n",
       "    <tr style=\"text-align: right;\">\n",
       "      <th></th>\n",
       "      <th>Patients</th>\n",
       "      <th>Name</th>\n",
       "      <th>Avi</th>\n",
       "      <th>Bob</th>\n",
       "      <th>Cathy</th>\n",
       "      <th>Aname</th>\n",
       "    </tr>\n",
       "  </thead>\n",
       "  <tbody>\n",
       "    <tr>\n",
       "      <th>5</th>\n",
       "      <td>1991</td>\n",
       "      <td>Avi</td>\n",
       "      <td>50</td>\n",
       "      <td>8</td>\n",
       "      <td>11</td>\n",
       "      <td>Cathy</td>\n",
       "    </tr>\n",
       "    <tr>\n",
       "      <th>4</th>\n",
       "      <td>1992</td>\n",
       "      <td>Avi</td>\n",
       "      <td>20</td>\n",
       "      <td>10</td>\n",
       "      <td>40</td>\n",
       "      <td>Avi</td>\n",
       "    </tr>\n",
       "    <tr>\n",
       "      <th>2</th>\n",
       "      <td>1993</td>\n",
       "      <td>Cathy</td>\n",
       "      <td>24</td>\n",
       "      <td>11</td>\n",
       "      <td>44</td>\n",
       "      <td>Bob</td>\n",
       "    </tr>\n",
       "    <tr>\n",
       "      <th>3</th>\n",
       "      <td>1996</td>\n",
       "      <td>Bob</td>\n",
       "      <td>2</td>\n",
       "      <td>11</td>\n",
       "      <td>10</td>\n",
       "      <td>Avi</td>\n",
       "    </tr>\n",
       "    <tr>\n",
       "      <th>1</th>\n",
       "      <td>1998</td>\n",
       "      <td>Cathy</td>\n",
       "      <td>10</td>\n",
       "      <td>1</td>\n",
       "      <td>22</td>\n",
       "      <td>Cathy</td>\n",
       "    </tr>\n",
       "    <tr>\n",
       "      <th>0</th>\n",
       "      <td>1999</td>\n",
       "      <td>Avi</td>\n",
       "      <td>5</td>\n",
       "      <td>41</td>\n",
       "      <td>70</td>\n",
       "      <td>Bob</td>\n",
       "    </tr>\n",
       "  </tbody>\n",
       "</table>\n",
       "</div>"
      ],
      "text/plain": [
       "  Patients   Name  Avi  Bob  Cathy  Aname\n",
       "5     1991    Avi   50    8     11  Cathy\n",
       "4     1992    Avi   20   10     40    Avi\n",
       "2     1993  Cathy   24   11     44    Bob\n",
       "3     1996    Bob    2   11     10    Avi\n",
       "1     1998  Cathy   10    1     22  Cathy\n",
       "0     1999    Avi    5   41     70    Bob"
      ]
     },
     "execution_count": 93,
     "metadata": {},
     "output_type": "execute_result"
    }
   ],
   "source": [
    "df"
   ]
  },
  {
   "cell_type": "code",
   "execution_count": 97,
   "id": "331be185",
   "metadata": {},
   "outputs": [
    {
     "data": {
      "text/html": [
       "<div>\n",
       "<style scoped>\n",
       "    .dataframe tbody tr th:only-of-type {\n",
       "        vertical-align: middle;\n",
       "    }\n",
       "\n",
       "    .dataframe tbody tr th {\n",
       "        vertical-align: top;\n",
       "    }\n",
       "\n",
       "    .dataframe thead th {\n",
       "        text-align: right;\n",
       "    }\n",
       "</style>\n",
       "<table border=\"1\" class=\"dataframe\">\n",
       "  <thead>\n",
       "    <tr style=\"text-align: right;\">\n",
       "      <th></th>\n",
       "      <th>Avi</th>\n",
       "      <th>Bob</th>\n",
       "      <th>Cathy</th>\n",
       "    </tr>\n",
       "  </thead>\n",
       "  <tbody>\n",
       "    <tr>\n",
       "      <th>count</th>\n",
       "      <td>6.000000</td>\n",
       "      <td>6.000000</td>\n",
       "      <td>6.000000</td>\n",
       "    </tr>\n",
       "    <tr>\n",
       "      <th>mean</th>\n",
       "      <td>18.500000</td>\n",
       "      <td>13.666667</td>\n",
       "      <td>32.833333</td>\n",
       "    </tr>\n",
       "    <tr>\n",
       "      <th>std</th>\n",
       "      <td>17.615334</td>\n",
       "      <td>13.909230</td>\n",
       "      <td>23.120698</td>\n",
       "    </tr>\n",
       "    <tr>\n",
       "      <th>min</th>\n",
       "      <td>2.000000</td>\n",
       "      <td>1.000000</td>\n",
       "      <td>10.000000</td>\n",
       "    </tr>\n",
       "    <tr>\n",
       "      <th>25%</th>\n",
       "      <td>6.250000</td>\n",
       "      <td>8.500000</td>\n",
       "      <td>13.750000</td>\n",
       "    </tr>\n",
       "    <tr>\n",
       "      <th>50%</th>\n",
       "      <td>15.000000</td>\n",
       "      <td>10.500000</td>\n",
       "      <td>31.000000</td>\n",
       "    </tr>\n",
       "    <tr>\n",
       "      <th>75%</th>\n",
       "      <td>23.000000</td>\n",
       "      <td>11.000000</td>\n",
       "      <td>43.000000</td>\n",
       "    </tr>\n",
       "    <tr>\n",
       "      <th>max</th>\n",
       "      <td>50.000000</td>\n",
       "      <td>41.000000</td>\n",
       "      <td>70.000000</td>\n",
       "    </tr>\n",
       "  </tbody>\n",
       "</table>\n",
       "</div>"
      ],
      "text/plain": [
       "             Avi        Bob      Cathy\n",
       "count   6.000000   6.000000   6.000000\n",
       "mean   18.500000  13.666667  32.833333\n",
       "std    17.615334  13.909230  23.120698\n",
       "min     2.000000   1.000000  10.000000\n",
       "25%     6.250000   8.500000  13.750000\n",
       "50%    15.000000  10.500000  31.000000\n",
       "75%    23.000000  11.000000  43.000000\n",
       "max    50.000000  41.000000  70.000000"
      ]
     },
     "execution_count": 97,
     "metadata": {},
     "output_type": "execute_result"
    }
   ],
   "source": [
    "df.describe()"
   ]
  },
  {
   "cell_type": "markdown",
   "id": "822d472a-d046-4f04-9ea1-ce91be74c7c8",
   "metadata": {},
   "source": [
    "## Null Check"
   ]
  },
  {
   "cell_type": "code",
   "execution_count": 128,
   "id": "799e4e3c-3f51-4343-b292-f9c2c20c710b",
   "metadata": {},
   "outputs": [],
   "source": [
    "ser= df.get(\"Patients\")"
   ]
  },
  {
   "cell_type": "code",
   "execution_count": 130,
   "id": "1defca2f-0b01-4bc3-88e8-4b52778666e3",
   "metadata": {},
   "outputs": [
    {
     "data": {
      "text/plain": [
       "0    False\n",
       "1     True\n",
       "2    False\n",
       "3    False\n",
       "4    False\n",
       "5    False\n",
       "Name: Patients, dtype: bool"
      ]
     },
     "execution_count": 130,
     "metadata": {},
     "output_type": "execute_result"
    }
   ],
   "source": [
    "pd.isna(ser)"
   ]
  },
  {
   "cell_type": "code",
   "execution_count": 132,
   "id": "a1fecf87-b5f9-48b3-8684-b2424c0b6f3e",
   "metadata": {},
   "outputs": [],
   "source": [
    "path=\"Datasets/car_price_dataset.csv\"\n",
    "dataa=pd.read_csv(path)"
   ]
  },
  {
   "cell_type": "code",
   "execution_count": 136,
   "id": "a31b8a79-932c-4968-a580-532e37ff624b",
   "metadata": {},
   "outputs": [
    {
     "data": {
      "text/html": [
       "<div>\n",
       "<style scoped>\n",
       "    .dataframe tbody tr th:only-of-type {\n",
       "        vertical-align: middle;\n",
       "    }\n",
       "\n",
       "    .dataframe tbody tr th {\n",
       "        vertical-align: top;\n",
       "    }\n",
       "\n",
       "    .dataframe thead th {\n",
       "        text-align: right;\n",
       "    }\n",
       "</style>\n",
       "<table border=\"1\" class=\"dataframe\">\n",
       "  <thead>\n",
       "    <tr style=\"text-align: right;\">\n",
       "      <th></th>\n",
       "      <th>Brand</th>\n",
       "      <th>Model</th>\n",
       "      <th>Year</th>\n",
       "      <th>Engine_Size</th>\n",
       "      <th>Fuel_Type</th>\n",
       "      <th>Transmission</th>\n",
       "      <th>Mileage</th>\n",
       "      <th>Doors</th>\n",
       "      <th>Owner_Count</th>\n",
       "      <th>Price</th>\n",
       "    </tr>\n",
       "  </thead>\n",
       "  <tbody>\n",
       "    <tr>\n",
       "      <th>0</th>\n",
       "      <td>NaN</td>\n",
       "      <td>Rio</td>\n",
       "      <td>2020</td>\n",
       "      <td>4.2</td>\n",
       "      <td>Diesel</td>\n",
       "      <td>Manual</td>\n",
       "      <td>289944</td>\n",
       "      <td>3</td>\n",
       "      <td>5</td>\n",
       "      <td>8501</td>\n",
       "    </tr>\n",
       "    <tr>\n",
       "      <th>1</th>\n",
       "      <td>Chevrolet</td>\n",
       "      <td>Malibu</td>\n",
       "      <td>2012</td>\n",
       "      <td>2.0</td>\n",
       "      <td>Hybrid</td>\n",
       "      <td>Automatic</td>\n",
       "      <td>5356</td>\n",
       "      <td>2</td>\n",
       "      <td>3</td>\n",
       "      <td>12092</td>\n",
       "    </tr>\n",
       "    <tr>\n",
       "      <th>2</th>\n",
       "      <td>Mercedes</td>\n",
       "      <td>GLA</td>\n",
       "      <td>2020</td>\n",
       "      <td>4.2</td>\n",
       "      <td>Diesel</td>\n",
       "      <td>Automatic</td>\n",
       "      <td>231440</td>\n",
       "      <td>4</td>\n",
       "      <td>2</td>\n",
       "      <td>11171</td>\n",
       "    </tr>\n",
       "    <tr>\n",
       "      <th>3</th>\n",
       "      <td>Audi</td>\n",
       "      <td>Q5</td>\n",
       "      <td>2023</td>\n",
       "      <td>2.0</td>\n",
       "      <td>Electric</td>\n",
       "      <td>Manual</td>\n",
       "      <td>160971</td>\n",
       "      <td>2</td>\n",
       "      <td>1</td>\n",
       "      <td>11780</td>\n",
       "    </tr>\n",
       "    <tr>\n",
       "      <th>4</th>\n",
       "      <td>Volkswagen</td>\n",
       "      <td>Golf</td>\n",
       "      <td>2003</td>\n",
       "      <td>2.6</td>\n",
       "      <td>Hybrid</td>\n",
       "      <td>Semi-Automatic</td>\n",
       "      <td>286618</td>\n",
       "      <td>3</td>\n",
       "      <td>3</td>\n",
       "      <td>2867</td>\n",
       "    </tr>\n",
       "  </tbody>\n",
       "</table>\n",
       "</div>"
      ],
      "text/plain": [
       "        Brand   Model  Year  Engine_Size Fuel_Type    Transmission  Mileage  \\\n",
       "0         NaN     Rio  2020          4.2    Diesel          Manual   289944   \n",
       "1   Chevrolet  Malibu  2012          2.0    Hybrid       Automatic     5356   \n",
       "2    Mercedes     GLA  2020          4.2    Diesel       Automatic   231440   \n",
       "3        Audi      Q5  2023          2.0  Electric          Manual   160971   \n",
       "4  Volkswagen    Golf  2003          2.6    Hybrid  Semi-Automatic   286618   \n",
       "\n",
       "   Doors  Owner_Count  Price  \n",
       "0      3            5   8501  \n",
       "1      2            3  12092  \n",
       "2      4            2  11171  \n",
       "3      2            1  11780  \n",
       "4      3            3   2867  "
      ]
     },
     "execution_count": 136,
     "metadata": {},
     "output_type": "execute_result"
    }
   ],
   "source": [
    "dataa.head()"
   ]
  },
  {
   "cell_type": "code",
   "execution_count": 172,
   "id": "7b340783-b18b-47ee-beb7-85985a550808",
   "metadata": {},
   "outputs": [],
   "source": [
    "d1=dataa['Brand']"
   ]
  },
  {
   "cell_type": "code",
   "execution_count": 176,
   "id": "c0bdfb3c-1b5e-4c23-9cdc-7782960d5a9b",
   "metadata": {},
   "outputs": [
    {
     "data": {
      "text/plain": [
       "0        True\n",
       "1       False\n",
       "2       False\n",
       "3       False\n",
       "4       False\n",
       "        ...  \n",
       "9995    False\n",
       "9996    False\n",
       "9997    False\n",
       "9998    False\n",
       "9999    False\n",
       "Name: Brand, Length: 10000, dtype: bool"
      ]
     },
     "execution_count": 176,
     "metadata": {},
     "output_type": "execute_result"
    }
   ],
   "source": [
    "d1.isna()"
   ]
  },
  {
   "cell_type": "markdown",
   "id": "cc54658e-ac77-419b-a785-c963b5e91d05",
   "metadata": {},
   "source": [
    "## New Lecture"
   ]
  },
  {
   "cell_type": "code",
   "execution_count": 1,
   "id": "fecdfbd5-e651-4ad4-b99a-d5d33580d744",
   "metadata": {},
   "outputs": [],
   "source": [
    "import pandas as pd"
   ]
  },
  {
   "cell_type": "markdown",
   "id": "4c838bf8-3e92-4b5c-9daa-7bcf49345cb1",
   "metadata": {},
   "source": [
    "### Checking Columns"
   ]
  },
  {
   "cell_type": "code",
   "execution_count": 63,
   "id": "afca36ee-9aa1-4623-a9c8-cef636a2cc85",
   "metadata": {},
   "outputs": [
    {
     "data": {
      "text/html": [
       "<div>\n",
       "<style scoped>\n",
       "    .dataframe tbody tr th:only-of-type {\n",
       "        vertical-align: middle;\n",
       "    }\n",
       "\n",
       "    .dataframe tbody tr th {\n",
       "        vertical-align: top;\n",
       "    }\n",
       "\n",
       "    .dataframe thead th {\n",
       "        text-align: right;\n",
       "    }\n",
       "</style>\n",
       "<table border=\"1\" class=\"dataframe\">\n",
       "  <thead>\n",
       "    <tr style=\"text-align: right;\">\n",
       "      <th></th>\n",
       "      <th>age</th>\n",
       "      <th>name</th>\n",
       "      <th>address</th>\n",
       "    </tr>\n",
       "  </thead>\n",
       "  <tbody>\n",
       "    <tr>\n",
       "      <th>0</th>\n",
       "      <td>21</td>\n",
       "      <td>Zain</td>\n",
       "      <td>GB</td>\n",
       "    </tr>\n",
       "    <tr>\n",
       "      <th>1</th>\n",
       "      <td>18</td>\n",
       "      <td>Iftikhar</td>\n",
       "      <td>ISB</td>\n",
       "    </tr>\n",
       "    <tr>\n",
       "      <th>2</th>\n",
       "      <td>27</td>\n",
       "      <td>Saheem</td>\n",
       "      <td>KR</td>\n",
       "    </tr>\n",
       "    <tr>\n",
       "      <th>3</th>\n",
       "      <td>28</td>\n",
       "      <td>Zafar</td>\n",
       "      <td>LHR</td>\n",
       "    </tr>\n",
       "  </tbody>\n",
       "</table>\n",
       "</div>"
      ],
      "text/plain": [
       "   age      name address\n",
       "0   21      Zain      GB\n",
       "1   18  Iftikhar     ISB\n",
       "2   27    Saheem      KR\n",
       "3   28     Zafar     LHR"
      ]
     },
     "execution_count": 63,
     "metadata": {},
     "output_type": "execute_result"
    }
   ],
   "source": [
    "data = {'age': [21, 18, 27, 28],\n",
    "        'name': ['Zain', 'Iftikhar', 'Saheem', 'Zafar'],\n",
    "        'address': ['GB', 'ISB', 'KR','LHR']}\n",
    " \n",
    "df = pd.DataFrame(data)\n",
    "df"
   ]
  },
  {
   "cell_type": "code",
   "execution_count": 9,
   "id": "8020ffe0-40e2-4b35-aa3f-3ffc46bbeb24",
   "metadata": {},
   "outputs": [
    {
     "data": {
      "text/plain": [
       "Index(['age', 'name', 'address'], dtype='object')"
      ]
     },
     "execution_count": 9,
     "metadata": {},
     "output_type": "execute_result"
    }
   ],
   "source": [
    "df.columns"
   ]
  },
  {
   "cell_type": "markdown",
   "id": "da144ecf-a411-415c-b05b-e0f4e0c6533e",
   "metadata": {},
   "source": [
    "### Pandas dataframe.insert()"
   ]
  },
  {
   "cell_type": "code",
   "execution_count": 23,
   "id": "0a01c8a5-f870-4594-8cc1-21252d15fdc0",
   "metadata": {},
   "outputs": [
    {
     "name": "stdout",
     "output_type": "stream",
     "text": [
      "   age      name address gender\n",
      "0   21      Zain      GB   Male\n",
      "1   22  Iftikhar     ISB   Male\n",
      "2   27    Saheem      KR   Male\n",
      "3   28     Zafar     LHR   Male\n"
     ]
    }
   ],
   "source": [
    "static_value = 'Male'\n",
    "df['gender'] = static_value\n",
    "print(df)\n",
    "# o(n+1)"
   ]
  },
  {
   "cell_type": "code",
   "execution_count": 50,
   "id": "10005fb0-6234-474a-bccc-6c845d5b2339",
   "metadata": {},
   "outputs": [],
   "source": [
    "new_columns_data = {'height': [160, 175, 168, 0], \n",
    "                    'weight': [55, 70, 65, 0]}  \n",
    " \n",
    "new_columns_df = pd.DataFrame(new_columns_data)\n",
    "df = pd.DataFrame(data)\n"
   ]
  },
  {
   "cell_type": "code",
   "execution_count": 52,
   "id": "88847ecf-3be9-4849-9438-483f209c207b",
   "metadata": {},
   "outputs": [
    {
     "name": "stdout",
     "output_type": "stream",
     "text": [
      "   age      name address  height  weight\n",
      "0   21      Zain      GB     160      55\n",
      "1   18  Iftikhar     ISB     175      70\n",
      "2   27    Saheem      KR     168      65\n",
      "3   28     Zafar     LHR       0       0\n"
     ]
    }
   ],
   "source": [
    "result_df = pd.concat([df, new_columns_df], axis=1)\n",
    "print(result_df)"
   ]
  },
  {
   "cell_type": "code",
   "execution_count": 27,
   "id": "bd8586d2-1b9b-4c3f-b5a0-3832b4710c5e",
   "metadata": {},
   "outputs": [
    {
     "data": {
      "text/plain": [
       "Index(['age', 'name', 'address', 'gender', 'height', 'weight'], dtype='object')"
      ]
     },
     "execution_count": 27,
     "metadata": {},
     "output_type": "execute_result"
    }
   ],
   "source": [
    "result_df.columns"
   ]
  },
  {
   "cell_type": "markdown",
   "id": "0b63509e-6a2e-4d6f-80c9-1da12810d7a4",
   "metadata": {},
   "source": [
    "#### Insert Func\n",
    "\n",
    "O(n)"
   ]
  },
  {
   "cell_type": "code",
   "execution_count": 54,
   "id": "41d01159-9f5f-473d-845c-5f1a7b7d88c4",
   "metadata": {},
   "outputs": [
    {
     "name": "stdout",
     "output_type": "stream",
     "text": [
      "   age      name address  height  weight\n",
      "0   21      Zain      GB     170      65\n",
      "1   18  Iftikhar     ISB     175      70\n",
      "2   27    Saheem      KR     180      75\n",
      "3   28     Zafar     LHR     165      60\n"
     ]
    }
   ],
   "source": [
    "new_columns_data = {'height': [170, 175, 180, 165],\n",
    "                    'weight': [65, 70, 75, 60]}\n",
    "new_columns_df = pd.DataFrame(new_columns_data)\n",
    "\n",
    "df = pd.DataFrame(data)\n",
    " \n",
    "\n",
    "df.insert(3, 'height', new_columns_df['height'])\n",
    "df.insert(4, 'weight', pd.Series(new_columns_df['weight']))\n",
    " \n",
    "print(df)"
   ]
  },
  {
   "cell_type": "code",
   "execution_count": 36,
   "id": "81e5d4ee-b3a2-4707-82cc-126729737ebe",
   "metadata": {},
   "outputs": [],
   "source": [
    "df['birth_year']=[1,2,3,4]"
   ]
  },
  {
   "cell_type": "code",
   "execution_count": 56,
   "id": "add6f064-391e-4667-a34c-210984bbc584",
   "metadata": {},
   "outputs": [
    {
     "data": {
      "text/html": [
       "<div>\n",
       "<style scoped>\n",
       "    .dataframe tbody tr th:only-of-type {\n",
       "        vertical-align: middle;\n",
       "    }\n",
       "\n",
       "    .dataframe tbody tr th {\n",
       "        vertical-align: top;\n",
       "    }\n",
       "\n",
       "    .dataframe thead th {\n",
       "        text-align: right;\n",
       "    }\n",
       "</style>\n",
       "<table border=\"1\" class=\"dataframe\">\n",
       "  <thead>\n",
       "    <tr style=\"text-align: right;\">\n",
       "      <th></th>\n",
       "      <th>age</th>\n",
       "      <th>name</th>\n",
       "      <th>address</th>\n",
       "      <th>height</th>\n",
       "      <th>weight</th>\n",
       "    </tr>\n",
       "  </thead>\n",
       "  <tbody>\n",
       "    <tr>\n",
       "      <th>0</th>\n",
       "      <td>21</td>\n",
       "      <td>Zain</td>\n",
       "      <td>GB</td>\n",
       "      <td>170</td>\n",
       "      <td>65</td>\n",
       "    </tr>\n",
       "    <tr>\n",
       "      <th>1</th>\n",
       "      <td>18</td>\n",
       "      <td>Iftikhar</td>\n",
       "      <td>ISB</td>\n",
       "      <td>175</td>\n",
       "      <td>70</td>\n",
       "    </tr>\n",
       "    <tr>\n",
       "      <th>2</th>\n",
       "      <td>27</td>\n",
       "      <td>Saheem</td>\n",
       "      <td>KR</td>\n",
       "      <td>180</td>\n",
       "      <td>75</td>\n",
       "    </tr>\n",
       "    <tr>\n",
       "      <th>3</th>\n",
       "      <td>28</td>\n",
       "      <td>Zafar</td>\n",
       "      <td>LHR</td>\n",
       "      <td>165</td>\n",
       "      <td>60</td>\n",
       "    </tr>\n",
       "  </tbody>\n",
       "</table>\n",
       "</div>"
      ],
      "text/plain": [
       "   age      name address  height  weight\n",
       "0   21      Zain      GB     170      65\n",
       "1   18  Iftikhar     ISB     175      70\n",
       "2   27    Saheem      KR     180      75\n",
       "3   28     Zafar     LHR     165      60"
      ]
     },
     "execution_count": 56,
     "metadata": {},
     "output_type": "execute_result"
    }
   ],
   "source": [
    "df"
   ]
  },
  {
   "cell_type": "code",
   "execution_count": 58,
   "id": "dfcb9ac7-8a82-471d-8bd7-4aa85bffee10",
   "metadata": {
    "scrolled": true
   },
   "outputs": [],
   "source": [
    "if 'birth_year' in df.columns:\n",
    "    df.drop(columns=['birth_year'], inplace=True)\n",
    "df.insert(1, 'birth_year', 2025 - df['age'])\n"
   ]
  },
  {
   "cell_type": "code",
   "execution_count": 60,
   "id": "56acea0b-e353-471f-8ad4-9fbe03792b56",
   "metadata": {},
   "outputs": [
    {
     "data": {
      "text/html": [
       "<div>\n",
       "<style scoped>\n",
       "    .dataframe tbody tr th:only-of-type {\n",
       "        vertical-align: middle;\n",
       "    }\n",
       "\n",
       "    .dataframe tbody tr th {\n",
       "        vertical-align: top;\n",
       "    }\n",
       "\n",
       "    .dataframe thead th {\n",
       "        text-align: right;\n",
       "    }\n",
       "</style>\n",
       "<table border=\"1\" class=\"dataframe\">\n",
       "  <thead>\n",
       "    <tr style=\"text-align: right;\">\n",
       "      <th></th>\n",
       "      <th>age</th>\n",
       "      <th>birth_year</th>\n",
       "      <th>name</th>\n",
       "      <th>address</th>\n",
       "      <th>height</th>\n",
       "      <th>weight</th>\n",
       "    </tr>\n",
       "  </thead>\n",
       "  <tbody>\n",
       "    <tr>\n",
       "      <th>0</th>\n",
       "      <td>21</td>\n",
       "      <td>2004</td>\n",
       "      <td>Zain</td>\n",
       "      <td>GB</td>\n",
       "      <td>170</td>\n",
       "      <td>65</td>\n",
       "    </tr>\n",
       "    <tr>\n",
       "      <th>1</th>\n",
       "      <td>18</td>\n",
       "      <td>2007</td>\n",
       "      <td>Iftikhar</td>\n",
       "      <td>ISB</td>\n",
       "      <td>175</td>\n",
       "      <td>70</td>\n",
       "    </tr>\n",
       "    <tr>\n",
       "      <th>2</th>\n",
       "      <td>27</td>\n",
       "      <td>1998</td>\n",
       "      <td>Saheem</td>\n",
       "      <td>KR</td>\n",
       "      <td>180</td>\n",
       "      <td>75</td>\n",
       "    </tr>\n",
       "    <tr>\n",
       "      <th>3</th>\n",
       "      <td>28</td>\n",
       "      <td>1997</td>\n",
       "      <td>Zafar</td>\n",
       "      <td>LHR</td>\n",
       "      <td>165</td>\n",
       "      <td>60</td>\n",
       "    </tr>\n",
       "  </tbody>\n",
       "</table>\n",
       "</div>"
      ],
      "text/plain": [
       "   age  birth_year      name address  height  weight\n",
       "0   21        2004      Zain      GB     170      65\n",
       "1   18        2007  Iftikhar     ISB     175      70\n",
       "2   27        1998    Saheem      KR     180      75\n",
       "3   28        1997     Zafar     LHR     165      60"
      ]
     },
     "execution_count": 60,
     "metadata": {},
     "output_type": "execute_result"
    }
   ],
   "source": [
    "df"
   ]
  },
  {
   "cell_type": "code",
   "execution_count": 66,
   "id": "b6d5138d-f177-4fd8-a028-ad131352f356",
   "metadata": {},
   "outputs": [
    {
     "name": "stdout",
     "output_type": "stream",
     "text": [
      "\n",
      "DataFrame after inserting a column with conditional values:\n",
      "   age  birth_year      name status address  height  weight\n",
      "0   21        2004      Zain  Adult      GB     170      65\n",
      "1   18        2007  Iftikhar  Minor     ISB     175      70\n",
      "2   27        1998    Saheem  Adult      KR     180      75\n",
      "3   28        1997     Zafar  Adult     LHR     165      60\n"
     ]
    }
   ],
   "source": [
    "if 'status' in df.columns:\n",
    "    df.drop(columns=['status'], inplace=True)\n",
    "df.insert(3, 'status', ['Adult' if age > 18 else 'Minor' for age in df['age']])\n",
    "\n",
    "print(\"\\nDataFrame after inserting a column with conditional values:\")\n",
    "print(df)"
   ]
  },
  {
   "cell_type": "code",
   "execution_count": 68,
   "id": "a9d42a05",
   "metadata": {},
   "outputs": [
    {
     "name": "stdout",
     "output_type": "stream",
     "text": [
      "\n",
      "DataFrame after inserting a column with random values:\n",
      "   age  birth_year  random_value      name status address  height  weight\n",
      "0   21        2004      0.633980      Zain  Adult      GB     170      65\n",
      "1   18        2007      0.144203  Iftikhar  Minor     ISB     175      70\n",
      "2   27        1998      0.585928    Saheem  Adult      KR     180      75\n",
      "3   28        1997      0.137980     Zafar  Adult     LHR     165      60\n"
     ]
    }
   ],
   "source": [
    "import numpy as np\n",
    "\n",
    "df.insert(2, 'random_value', np.random.rand(len(df)))\n",
    "\n",
    "print(\"\\nDataFrame after inserting a column with random values:\")\n",
    "print(df)"
   ]
  },
  {
   "cell_type": "markdown",
   "id": "d888a7f8",
   "metadata": {},
   "source": [
    "## Slicing Pandas Dataframe"
   ]
  },
  {
   "cell_type": "markdown",
   "id": "c40a7e99",
   "metadata": {},
   "source": [
    "##### Slicing a DataFrame in Pandas includes the following steps:\n",
    "\n",
    "- Create a DataFrame\n",
    "- Slice the DataFrame"
   ]
  },
  {
   "cell_type": "code",
   "execution_count": 70,
   "id": "d90b5835",
   "metadata": {},
   "outputs": [
    {
     "data": {
      "text/html": [
       "<div>\n",
       "<style scoped>\n",
       "    .dataframe tbody tr th:only-of-type {\n",
       "        vertical-align: middle;\n",
       "    }\n",
       "\n",
       "    .dataframe tbody tr th {\n",
       "        vertical-align: top;\n",
       "    }\n",
       "\n",
       "    .dataframe thead th {\n",
       "        text-align: right;\n",
       "    }\n",
       "</style>\n",
       "<table border=\"1\" class=\"dataframe\">\n",
       "  <thead>\n",
       "    <tr style=\"text-align: right;\">\n",
       "      <th></th>\n",
       "      <th>Name</th>\n",
       "      <th>Age</th>\n",
       "      <th>Weight</th>\n",
       "      <th>Salary</th>\n",
       "    </tr>\n",
       "  </thead>\n",
       "  <tbody>\n",
       "    <tr>\n",
       "      <th>0</th>\n",
       "      <td>Shahid Afridi</td>\n",
       "      <td>36</td>\n",
       "      <td>75</td>\n",
       "      <td>5428000</td>\n",
       "    </tr>\n",
       "    <tr>\n",
       "      <th>1</th>\n",
       "      <td>A.B.D Villers</td>\n",
       "      <td>38</td>\n",
       "      <td>74</td>\n",
       "      <td>3428000</td>\n",
       "    </tr>\n",
       "    <tr>\n",
       "      <th>2</th>\n",
       "      <td>V.Kohli</td>\n",
       "      <td>31</td>\n",
       "      <td>70</td>\n",
       "      <td>8428000</td>\n",
       "    </tr>\n",
       "    <tr>\n",
       "      <th>3</th>\n",
       "      <td>S.Smith</td>\n",
       "      <td>34</td>\n",
       "      <td>80</td>\n",
       "      <td>4428000</td>\n",
       "    </tr>\n",
       "    <tr>\n",
       "      <th>4</th>\n",
       "      <td>C.Gayle</td>\n",
       "      <td>40</td>\n",
       "      <td>100</td>\n",
       "      <td>4528000</td>\n",
       "    </tr>\n",
       "    <tr>\n",
       "      <th>5</th>\n",
       "      <td>J.Root</td>\n",
       "      <td>33</td>\n",
       "      <td>72</td>\n",
       "      <td>7028000</td>\n",
       "    </tr>\n",
       "    <tr>\n",
       "      <th>6</th>\n",
       "      <td>K.Peterson</td>\n",
       "      <td>42</td>\n",
       "      <td>85</td>\n",
       "      <td>2528000</td>\n",
       "    </tr>\n",
       "  </tbody>\n",
       "</table>\n",
       "</div>"
      ],
      "text/plain": [
       "            Name  Age  Weight   Salary\n",
       "0  Shahid Afridi   36      75  5428000\n",
       "1  A.B.D Villers   38      74  3428000\n",
       "2        V.Kohli   31      70  8428000\n",
       "3        S.Smith   34      80  4428000\n",
       "4        C.Gayle   40     100  4528000\n",
       "5         J.Root   33      72  7028000\n",
       "6     K.Peterson   42      85  2528000"
      ]
     },
     "execution_count": 70,
     "metadata": {},
     "output_type": "execute_result"
    }
   ],
   "source": [
    "import pandas as pd\n",
    "\n",
    "player_list = [['Shahid Afridi', 36, 75, 5428000],\n",
    "               ['A.B.D Villers', 38, 74, 3428000],\n",
    "               ['V.Kohli', 31, 70, 8428000],\n",
    "               ['S.Smith', 34, 80, 4428000],\n",
    "               ['C.Gayle', 40, 100, 4528000],\n",
    "               ['J.Root', 33, 72, 7028000],\n",
    "               ['K.Peterson', 42, 85, 2528000]]\n",
    "\n",
    "df = pd.DataFrame(player_list, columns=['Name', 'Age', 'Weight', 'Salary'])\n",
    "df "
   ]
  },
  {
   "cell_type": "markdown",
   "id": "8ceafd25",
   "metadata": {},
   "source": [
    "#### 1. Slicing Using iloc\n",
    "#### A. Slicing Rows in dataframe in python"
   ]
  },
  {
   "cell_type": "code",
   "execution_count": 72,
   "id": "ae4f6926",
   "metadata": {},
   "outputs": [
    {
     "data": {
      "text/html": [
       "<div>\n",
       "<style scoped>\n",
       "    .dataframe tbody tr th:only-of-type {\n",
       "        vertical-align: middle;\n",
       "    }\n",
       "\n",
       "    .dataframe tbody tr th {\n",
       "        vertical-align: top;\n",
       "    }\n",
       "\n",
       "    .dataframe thead th {\n",
       "        text-align: right;\n",
       "    }\n",
       "</style>\n",
       "<table border=\"1\" class=\"dataframe\">\n",
       "  <thead>\n",
       "    <tr style=\"text-align: right;\">\n",
       "      <th></th>\n",
       "      <th>Name</th>\n",
       "      <th>Age</th>\n",
       "      <th>Weight</th>\n",
       "      <th>Salary</th>\n",
       "    </tr>\n",
       "  </thead>\n",
       "  <tbody>\n",
       "    <tr>\n",
       "      <th>0</th>\n",
       "      <td>Shahid Afridi</td>\n",
       "      <td>36</td>\n",
       "      <td>75</td>\n",
       "      <td>5428000</td>\n",
       "    </tr>\n",
       "    <tr>\n",
       "      <th>1</th>\n",
       "      <td>A.B.D Villers</td>\n",
       "      <td>38</td>\n",
       "      <td>74</td>\n",
       "      <td>3428000</td>\n",
       "    </tr>\n",
       "    <tr>\n",
       "      <th>2</th>\n",
       "      <td>V.Kohli</td>\n",
       "      <td>31</td>\n",
       "      <td>70</td>\n",
       "      <td>8428000</td>\n",
       "    </tr>\n",
       "    <tr>\n",
       "      <th>3</th>\n",
       "      <td>S.Smith</td>\n",
       "      <td>34</td>\n",
       "      <td>80</td>\n",
       "      <td>4428000</td>\n",
       "    </tr>\n",
       "  </tbody>\n",
       "</table>\n",
       "</div>"
      ],
      "text/plain": [
       "            Name  Age  Weight   Salary\n",
       "0  Shahid Afridi   36      75  5428000\n",
       "1  A.B.D Villers   38      74  3428000\n",
       "2        V.Kohli   31      70  8428000\n",
       "3        S.Smith   34      80  4428000"
      ]
     },
     "execution_count": 72,
     "metadata": {},
     "output_type": "execute_result"
    }
   ],
   "source": [
    "df1 = df.iloc[0:4]\n",
    "\n",
    "\n",
    "df1\n"
   ]
  },
  {
   "cell_type": "markdown",
   "id": "fdef0d9f",
   "metadata": {},
   "source": [
    "#### B. Slicing Columns in dataframe in python"
   ]
  },
  {
   "cell_type": "code",
   "execution_count": 78,
   "id": "50a76be3",
   "metadata": {},
   "outputs": [
    {
     "data": {
      "text/html": [
       "<div>\n",
       "<style scoped>\n",
       "    .dataframe tbody tr th:only-of-type {\n",
       "        vertical-align: middle;\n",
       "    }\n",
       "\n",
       "    .dataframe tbody tr th {\n",
       "        vertical-align: top;\n",
       "    }\n",
       "\n",
       "    .dataframe thead th {\n",
       "        text-align: right;\n",
       "    }\n",
       "</style>\n",
       "<table border=\"1\" class=\"dataframe\">\n",
       "  <thead>\n",
       "    <tr style=\"text-align: right;\">\n",
       "      <th></th>\n",
       "      <th>Name</th>\n",
       "      <th>Age</th>\n",
       "    </tr>\n",
       "  </thead>\n",
       "  <tbody>\n",
       "    <tr>\n",
       "      <th>0</th>\n",
       "      <td>Shahid Afridi</td>\n",
       "      <td>36</td>\n",
       "    </tr>\n",
       "    <tr>\n",
       "      <th>1</th>\n",
       "      <td>A.B.D Villers</td>\n",
       "      <td>38</td>\n",
       "    </tr>\n",
       "    <tr>\n",
       "      <th>2</th>\n",
       "      <td>V.Kohli</td>\n",
       "      <td>31</td>\n",
       "    </tr>\n",
       "    <tr>\n",
       "      <th>3</th>\n",
       "      <td>S.Smith</td>\n",
       "      <td>34</td>\n",
       "    </tr>\n",
       "    <tr>\n",
       "      <th>4</th>\n",
       "      <td>C.Gayle</td>\n",
       "      <td>40</td>\n",
       "    </tr>\n",
       "    <tr>\n",
       "      <th>5</th>\n",
       "      <td>J.Root</td>\n",
       "      <td>33</td>\n",
       "    </tr>\n",
       "    <tr>\n",
       "      <th>6</th>\n",
       "      <td>K.Peterson</td>\n",
       "      <td>42</td>\n",
       "    </tr>\n",
       "  </tbody>\n",
       "</table>\n",
       "</div>"
      ],
      "text/plain": [
       "            Name  Age\n",
       "0  Shahid Afridi   36\n",
       "1  A.B.D Villers   38\n",
       "2        V.Kohli   31\n",
       "3        S.Smith   34\n",
       "4        C.Gayle   40\n",
       "5         J.Root   33\n",
       "6     K.Peterson   42"
      ]
     },
     "execution_count": 78,
     "metadata": {},
     "output_type": "execute_result"
    }
   ],
   "source": [
    "df1 = df.iloc[:, 0:2]\n",
    "\n",
    "df1\n"
   ]
  },
  {
   "cell_type": "markdown",
   "id": "5d319291",
   "metadata": {},
   "source": [
    "#### C. Selecting a Specific Cell  in Dataframe in Python"
   ]
  },
  {
   "cell_type": "code",
   "execution_count": 84,
   "id": "e95646db-4ee5-45ef-a89e-49974a092223",
   "metadata": {},
   "outputs": [
    {
     "data": {
      "text/html": [
       "<div>\n",
       "<style scoped>\n",
       "    .dataframe tbody tr th:only-of-type {\n",
       "        vertical-align: middle;\n",
       "    }\n",
       "\n",
       "    .dataframe tbody tr th {\n",
       "        vertical-align: top;\n",
       "    }\n",
       "\n",
       "    .dataframe thead th {\n",
       "        text-align: right;\n",
       "    }\n",
       "</style>\n",
       "<table border=\"1\" class=\"dataframe\">\n",
       "  <thead>\n",
       "    <tr style=\"text-align: right;\">\n",
       "      <th></th>\n",
       "      <th>Name</th>\n",
       "      <th>Age</th>\n",
       "      <th>Weight</th>\n",
       "      <th>Salary</th>\n",
       "    </tr>\n",
       "  </thead>\n",
       "  <tbody>\n",
       "    <tr>\n",
       "      <th>0</th>\n",
       "      <td>Shahid Afridi</td>\n",
       "      <td>36</td>\n",
       "      <td>75</td>\n",
       "      <td>5428000</td>\n",
       "    </tr>\n",
       "  </tbody>\n",
       "</table>\n",
       "</div>"
      ],
      "text/plain": [
       "            Name  Age  Weight   Salary\n",
       "0  Shahid Afridi   36      75  5428000"
      ]
     },
     "execution_count": 84,
     "metadata": {},
     "output_type": "execute_result"
    }
   ],
   "source": [
    "df.head(1)"
   ]
  },
  {
   "cell_type": "code",
   "execution_count": 88,
   "id": "70cc18be",
   "metadata": {},
   "outputs": [
    {
     "name": "stdout",
     "output_type": "stream",
     "text": [
      "Specific Cell Value: Shahid Afridi\n"
     ]
    }
   ],
   "source": [
    "specific_cell_value = df.iloc[0, 0]  # Row 2, Column 3 (Salary)\n",
    "print(\"Specific Cell Value:\", specific_cell_value)\n"
   ]
  },
  {
   "cell_type": "markdown",
   "id": "d3592d40",
   "metadata": {},
   "source": [
    "#### D. Using Boolean Conditions  in Dataframe in Python"
   ]
  },
  {
   "cell_type": "code",
   "execution_count": 110,
   "id": "4a406b9a",
   "metadata": {},
   "outputs": [
    {
     "name": "stdout",
     "output_type": "stream",
     "text": [
      "\n",
      "Filtered Data based on Age > 35:\n",
      "       Name  Age  Weight   Salary\n",
      "2  V.Kohli   31      70  8428000\n",
      "3  S.Smith   34      80  4428000\n",
      "5   J.Root   33      72  7028000\n"
     ]
    }
   ],
   "source": [
    "filtered_data = df[df['Age'] < 35].iloc[:, :]  # Select rows where Age is greater than 35\n",
    "print(\"\\nFiltered Data based on Age > 35:\\n\", filtered_data)\n"
   ]
  },
  {
   "cell_type": "markdown",
   "id": "7b0d7863",
   "metadata": {},
   "source": [
    "#### 2. Slicing Using loc[]\n"
   ]
  },
  {
   "cell_type": "code",
   "execution_count": 98,
   "id": "6c725f16-d6fc-4794-b4c0-9f5400315a73",
   "metadata": {},
   "outputs": [
    {
     "data": {
      "text/html": [
       "<div>\n",
       "<style scoped>\n",
       "    .dataframe tbody tr th:only-of-type {\n",
       "        vertical-align: middle;\n",
       "    }\n",
       "\n",
       "    .dataframe tbody tr th {\n",
       "        vertical-align: top;\n",
       "    }\n",
       "\n",
       "    .dataframe thead th {\n",
       "        text-align: right;\n",
       "    }\n",
       "</style>\n",
       "<table border=\"1\" class=\"dataframe\">\n",
       "  <thead>\n",
       "    <tr style=\"text-align: right;\">\n",
       "      <th></th>\n",
       "      <th>Name</th>\n",
       "      <th>Age</th>\n",
       "      <th>Weight</th>\n",
       "      <th>Salary</th>\n",
       "    </tr>\n",
       "  </thead>\n",
       "  <tbody>\n",
       "    <tr>\n",
       "      <th>0</th>\n",
       "      <td>Shahid Afridi</td>\n",
       "      <td>36</td>\n",
       "      <td>75</td>\n",
       "      <td>5428000</td>\n",
       "    </tr>\n",
       "    <tr>\n",
       "      <th>1</th>\n",
       "      <td>A.B.D Villers</td>\n",
       "      <td>38</td>\n",
       "      <td>74</td>\n",
       "      <td>3428000</td>\n",
       "    </tr>\n",
       "    <tr>\n",
       "      <th>2</th>\n",
       "      <td>V.Kohli</td>\n",
       "      <td>31</td>\n",
       "      <td>70</td>\n",
       "      <td>8428000</td>\n",
       "    </tr>\n",
       "    <tr>\n",
       "      <th>3</th>\n",
       "      <td>S.Smith</td>\n",
       "      <td>34</td>\n",
       "      <td>80</td>\n",
       "      <td>4428000</td>\n",
       "    </tr>\n",
       "    <tr>\n",
       "      <th>4</th>\n",
       "      <td>C.Gayle</td>\n",
       "      <td>40</td>\n",
       "      <td>100</td>\n",
       "      <td>4528000</td>\n",
       "    </tr>\n",
       "    <tr>\n",
       "      <th>5</th>\n",
       "      <td>J.Root</td>\n",
       "      <td>33</td>\n",
       "      <td>72</td>\n",
       "      <td>7028000</td>\n",
       "    </tr>\n",
       "    <tr>\n",
       "      <th>6</th>\n",
       "      <td>K.Peterson</td>\n",
       "      <td>42</td>\n",
       "      <td>85</td>\n",
       "      <td>2528000</td>\n",
       "    </tr>\n",
       "  </tbody>\n",
       "</table>\n",
       "</div>"
      ],
      "text/plain": [
       "            Name  Age  Weight   Salary\n",
       "0  Shahid Afridi   36      75  5428000\n",
       "1  A.B.D Villers   38      74  3428000\n",
       "2        V.Kohli   31      70  8428000\n",
       "3        S.Smith   34      80  4428000\n",
       "4        C.Gayle   40     100  4528000\n",
       "5         J.Root   33      72  7028000\n",
       "6     K.Peterson   42      85  2528000"
      ]
     },
     "execution_count": 98,
     "metadata": {},
     "output_type": "execute_result"
    }
   ],
   "source": [
    "df"
   ]
  },
  {
   "cell_type": "code",
   "execution_count": 100,
   "id": "4d7153c9",
   "metadata": {},
   "outputs": [
    {
     "data": {
      "text/html": [
       "<div>\n",
       "<style scoped>\n",
       "    .dataframe tbody tr th:only-of-type {\n",
       "        vertical-align: middle;\n",
       "    }\n",
       "\n",
       "    .dataframe tbody tr th {\n",
       "        vertical-align: top;\n",
       "    }\n",
       "\n",
       "    .dataframe thead th {\n",
       "        text-align: right;\n",
       "    }\n",
       "</style>\n",
       "<table border=\"1\" class=\"dataframe\">\n",
       "  <thead>\n",
       "    <tr style=\"text-align: right;\">\n",
       "      <th></th>\n",
       "      <th>Age</th>\n",
       "      <th>Weight</th>\n",
       "      <th>Salary</th>\n",
       "    </tr>\n",
       "    <tr>\n",
       "      <th>Name</th>\n",
       "      <th></th>\n",
       "      <th></th>\n",
       "      <th></th>\n",
       "    </tr>\n",
       "  </thead>\n",
       "  <tbody>\n",
       "    <tr>\n",
       "      <th>Shahid Afridi</th>\n",
       "      <td>36</td>\n",
       "      <td>75</td>\n",
       "      <td>5428000</td>\n",
       "    </tr>\n",
       "    <tr>\n",
       "      <th>A.B.D Villers</th>\n",
       "      <td>38</td>\n",
       "      <td>74</td>\n",
       "      <td>3428000</td>\n",
       "    </tr>\n",
       "    <tr>\n",
       "      <th>V.Kohli</th>\n",
       "      <td>31</td>\n",
       "      <td>70</td>\n",
       "      <td>8428000</td>\n",
       "    </tr>\n",
       "    <tr>\n",
       "      <th>S.Smith</th>\n",
       "      <td>34</td>\n",
       "      <td>80</td>\n",
       "      <td>4428000</td>\n",
       "    </tr>\n",
       "    <tr>\n",
       "      <th>C.Gayle</th>\n",
       "      <td>40</td>\n",
       "      <td>100</td>\n",
       "      <td>4528000</td>\n",
       "    </tr>\n",
       "    <tr>\n",
       "      <th>J.Root</th>\n",
       "      <td>33</td>\n",
       "      <td>72</td>\n",
       "      <td>7028000</td>\n",
       "    </tr>\n",
       "    <tr>\n",
       "      <th>K.Peterson</th>\n",
       "      <td>42</td>\n",
       "      <td>85</td>\n",
       "      <td>2528000</td>\n",
       "    </tr>\n",
       "  </tbody>\n",
       "</table>\n",
       "</div>"
      ],
      "text/plain": [
       "               Age  Weight   Salary\n",
       "Name                               \n",
       "Shahid Afridi   36      75  5428000\n",
       "A.B.D Villers   38      74  3428000\n",
       "V.Kohli         31      70  8428000\n",
       "S.Smith         34      80  4428000\n",
       "C.Gayle         40     100  4528000\n",
       "J.Root          33      72  7028000\n",
       "K.Peterson      42      85  2528000"
      ]
     },
     "execution_count": 100,
     "metadata": {},
     "output_type": "execute_result"
    }
   ],
   "source": [
    "df_custom = df.set_index('Name')\n",
    "df_custom"
   ]
  },
  {
   "cell_type": "markdown",
   "id": "5de5843c",
   "metadata": {},
   "source": [
    "#### A. Slicing Rows in Dataframe in Python"
   ]
  },
  {
   "cell_type": "code",
   "execution_count": 102,
   "id": "b7f41ddb",
   "metadata": {},
   "outputs": [
    {
     "data": {
      "text/html": [
       "<div>\n",
       "<style scoped>\n",
       "    .dataframe tbody tr th:only-of-type {\n",
       "        vertical-align: middle;\n",
       "    }\n",
       "\n",
       "    .dataframe tbody tr th {\n",
       "        vertical-align: top;\n",
       "    }\n",
       "\n",
       "    .dataframe thead th {\n",
       "        text-align: right;\n",
       "    }\n",
       "</style>\n",
       "<table border=\"1\" class=\"dataframe\">\n",
       "  <thead>\n",
       "    <tr style=\"text-align: right;\">\n",
       "      <th></th>\n",
       "      <th>Age</th>\n",
       "      <th>Weight</th>\n",
       "      <th>Salary</th>\n",
       "    </tr>\n",
       "    <tr>\n",
       "      <th>Name</th>\n",
       "      <th></th>\n",
       "      <th></th>\n",
       "      <th></th>\n",
       "    </tr>\n",
       "  </thead>\n",
       "  <tbody>\n",
       "    <tr>\n",
       "      <th>A.B.D Villers</th>\n",
       "      <td>38</td>\n",
       "      <td>74</td>\n",
       "      <td>3428000</td>\n",
       "    </tr>\n",
       "    <tr>\n",
       "      <th>V.Kohli</th>\n",
       "      <td>31</td>\n",
       "      <td>70</td>\n",
       "      <td>8428000</td>\n",
       "    </tr>\n",
       "    <tr>\n",
       "      <th>S.Smith</th>\n",
       "      <td>34</td>\n",
       "      <td>80</td>\n",
       "      <td>4428000</td>\n",
       "    </tr>\n",
       "  </tbody>\n",
       "</table>\n",
       "</div>"
      ],
      "text/plain": [
       "               Age  Weight   Salary\n",
       "Name                               \n",
       "A.B.D Villers   38      74  3428000\n",
       "V.Kohli         31      70  8428000\n",
       "S.Smith         34      80  4428000"
      ]
     },
     "execution_count": 102,
     "metadata": {},
     "output_type": "execute_result"
    }
   ],
   "source": [
    "sliced_rows_custom = df_custom.loc['A.B.D Villers':'S.Smith']\n",
    "sliced_rows_custom"
   ]
  },
  {
   "cell_type": "markdown",
   "id": "8e55c111",
   "metadata": {},
   "source": [
    "#### B. Selecting Specified cell in Dataframe in Python"
   ]
  },
  {
   "cell_type": "code",
   "execution_count": 112,
   "id": "2c3485a9",
   "metadata": {},
   "outputs": [
    {
     "name": "stdout",
     "output_type": "stream",
     "text": [
      "\n",
      "Value of the Specific Cell (Shahid Afridi, Salary): 5428000\n"
     ]
    }
   ],
   "source": [
    "specific_cell_value = df_custom.loc['Shahid Afridi', 'Salary']\n",
    "print(\"\\nValue of the Specific Cell (Shahid Afridi, Salary):\", specific_cell_value)"
   ]
  },
  {
   "cell_type": "markdown",
   "id": "1cb84cfb",
   "metadata": {},
   "source": [
    "## New Lecture"
   ]
  },
  {
   "cell_type": "code",
   "execution_count": 19,
   "id": "95d8ad02",
   "metadata": {},
   "outputs": [
    {
     "name": "stdout",
     "output_type": "stream",
     "text": [
      "         Name  Age  Salary          JOB\n",
      "0    RACHEL     30  100000     DESIGNER\n",
      "1    MONICA     35   93000         CHEF\n",
      "2    PHOEBE     37  818000     Designer\n",
      "3    ROSS       33  120000  PALENTOLOGY\n",
      "4    CHANDLER   34   94000           IT\n",
      "5    JOEY       30   95000       ARTIST\n"
     ]
    },
    {
     "data": {
      "text/html": [
       "<div>\n",
       "<style scoped>\n",
       "    .dataframe tbody tr th:only-of-type {\n",
       "        vertical-align: middle;\n",
       "    }\n",
       "\n",
       "    .dataframe tbody tr th {\n",
       "        vertical-align: top;\n",
       "    }\n",
       "\n",
       "    .dataframe thead th {\n",
       "        text-align: right;\n",
       "    }\n",
       "</style>\n",
       "<table border=\"1\" class=\"dataframe\">\n",
       "  <thead>\n",
       "    <tr style=\"text-align: right;\">\n",
       "      <th></th>\n",
       "      <th>Name</th>\n",
       "      <th>Age</th>\n",
       "      <th>Salary</th>\n",
       "      <th>JOB</th>\n",
       "    </tr>\n",
       "  </thead>\n",
       "  <tbody>\n",
       "    <tr>\n",
       "      <th>0</th>\n",
       "      <td>RACHEL</td>\n",
       "      <td>30</td>\n",
       "      <td>100000</td>\n",
       "      <td>DESIGNER</td>\n",
       "    </tr>\n",
       "    <tr>\n",
       "      <th>1</th>\n",
       "      <td>MONICA</td>\n",
       "      <td>35</td>\n",
       "      <td>93000</td>\n",
       "      <td>CHEF</td>\n",
       "    </tr>\n",
       "    <tr>\n",
       "      <th>2</th>\n",
       "      <td>PHOEBE</td>\n",
       "      <td>37</td>\n",
       "      <td>818000</td>\n",
       "      <td>Designer</td>\n",
       "    </tr>\n",
       "    <tr>\n",
       "      <th>3</th>\n",
       "      <td>ROSS</td>\n",
       "      <td>33</td>\n",
       "      <td>120000</td>\n",
       "      <td>PALENTOLOGY</td>\n",
       "    </tr>\n",
       "    <tr>\n",
       "      <th>4</th>\n",
       "      <td>CHANDLER</td>\n",
       "      <td>34</td>\n",
       "      <td>94000</td>\n",
       "      <td>IT</td>\n",
       "    </tr>\n",
       "    <tr>\n",
       "      <th>5</th>\n",
       "      <td>JOEY</td>\n",
       "      <td>30</td>\n",
       "      <td>95000</td>\n",
       "      <td>ARTIST</td>\n",
       "    </tr>\n",
       "  </tbody>\n",
       "</table>\n",
       "</div>"
      ],
      "text/plain": [
       "         Name  Age  Salary          JOB\n",
       "0    RACHEL     30  100000     DESIGNER\n",
       "1    MONICA     35   93000         CHEF\n",
       "2    PHOEBE     37  818000     Designer\n",
       "3    ROSS       33  120000  PALENTOLOGY\n",
       "4    CHANDLER   34   94000           IT\n",
       "5    JOEY       30   95000       ARTIST"
      ]
     },
     "metadata": {},
     "output_type": "display_data"
    }
   ],
   "source": [
    "import pandas as pd\n",
    "\n",
    "dataFrame = pd.DataFrame({'Name': [' RACHEL  ', ' MONICA  ', ' PHOEBE  ',\n",
    "                                   '  ROSS    ', 'CHANDLER', ' JOEY    '],\n",
    "                          \n",
    "                          'Age': [30, 35, 37, 33, 34, 30],\n",
    "                          \n",
    "                          'Salary': [100000, 93000, 818000, 120000, 94000, 95000],\n",
    "                          \n",
    "                          'JOB': ['DESIGNER', 'CHEF', 'Designer', 'PALENTOLOGY',\n",
    "                                  'IT', 'ARTIST']})\n",
    "print(dataFrame)\n",
    "display(dataFrame)"
   ]
  },
  {
   "cell_type": "markdown",
   "id": "36a359d6",
   "metadata": {},
   "source": [
    "#### Filter Pandas Dataframe with multiple conditions"
   ]
  },
  {
   "cell_type": "markdown",
   "id": "8ab4732b",
   "metadata": {},
   "source": [
    "#### Filter Pandas Dataframe with multiple conditions Using loc"
   ]
  },
  {
   "cell_type": "code",
   "execution_count": 21,
   "id": "a0068c6b",
   "metadata": {},
   "outputs": [
    {
     "data": {
      "text/html": [
       "<div>\n",
       "<style scoped>\n",
       "    .dataframe tbody tr th:only-of-type {\n",
       "        vertical-align: middle;\n",
       "    }\n",
       "\n",
       "    .dataframe tbody tr th {\n",
       "        vertical-align: top;\n",
       "    }\n",
       "\n",
       "    .dataframe thead th {\n",
       "        text-align: right;\n",
       "    }\n",
       "</style>\n",
       "<table border=\"1\" class=\"dataframe\">\n",
       "  <thead>\n",
       "    <tr style=\"text-align: right;\">\n",
       "      <th></th>\n",
       "      <th>Name</th>\n",
       "      <th>JOB</th>\n",
       "      <th>Salary</th>\n",
       "    </tr>\n",
       "  </thead>\n",
       "  <tbody>\n",
       "    <tr>\n",
       "      <th>0</th>\n",
       "      <td>RACHEL</td>\n",
       "      <td>DESIGNER</td>\n",
       "      <td>100000</td>\n",
       "    </tr>\n",
       "    <tr>\n",
       "      <th>2</th>\n",
       "      <td>PHOEBE</td>\n",
       "      <td>Designer</td>\n",
       "      <td>818000</td>\n",
       "    </tr>\n",
       "  </tbody>\n",
       "</table>\n",
       "</div>"
      ],
      "text/plain": [
       "        Name       JOB  Salary\n",
       "0   RACHEL    DESIGNER  100000\n",
       "2   PHOEBE    Designer  818000"
      ]
     },
     "metadata": {},
     "output_type": "display_data"
    }
   ],
   "source": [
    "display(dataFrame.loc[(dataFrame['Salary']>=100000) & (dataFrame['Age']< 40) & (dataFrame['JOB'].str.startswith('D')),\n",
    "                    ['Name','JOB','Salary']])"
   ]
  },
  {
   "cell_type": "markdown",
   "id": "41e164df",
   "metadata": {},
   "source": [
    "#### Filter Pandas Dataframe Using NumPy"
   ]
  },
  {
   "cell_type": "code",
   "execution_count": 25,
   "id": "351475fb",
   "metadata": {},
   "outputs": [
    {
     "name": "stdout",
     "output_type": "stream",
     "text": [
      "(array([5], dtype=int64),)\n"
     ]
    },
    {
     "data": {
      "text/html": [
       "<div>\n",
       "<style scoped>\n",
       "    .dataframe tbody tr th:only-of-type {\n",
       "        vertical-align: middle;\n",
       "    }\n",
       "\n",
       "    .dataframe tbody tr th {\n",
       "        vertical-align: top;\n",
       "    }\n",
       "\n",
       "    .dataframe thead th {\n",
       "        text-align: right;\n",
       "    }\n",
       "</style>\n",
       "<table border=\"1\" class=\"dataframe\">\n",
       "  <thead>\n",
       "    <tr style=\"text-align: right;\">\n",
       "      <th></th>\n",
       "      <th>Name</th>\n",
       "      <th>Age</th>\n",
       "      <th>Salary</th>\n",
       "      <th>JOB</th>\n",
       "    </tr>\n",
       "  </thead>\n",
       "  <tbody>\n",
       "    <tr>\n",
       "      <th>5</th>\n",
       "      <td>JOEY</td>\n",
       "      <td>40</td>\n",
       "      <td>950000</td>\n",
       "      <td>ARTIST</td>\n",
       "    </tr>\n",
       "  </tbody>\n",
       "</table>\n",
       "</div>"
      ],
      "text/plain": [
       "        Name  Age  Salary     JOB\n",
       "5   JOEY       40  950000  ARTIST"
      ]
     },
     "metadata": {},
     "output_type": "display_data"
    }
   ],
   "source": [
    "import pandas as pd\n",
    "import numpy as np\n",
    "\n",
    "dataFrame = pd.DataFrame({'Name': [' RACHEL  ', ' MONICA  ', ' PHOEBE  ',\n",
    "                                   '  ROSS    ', 'CHANDLER', ' JOEY    '],\n",
    "                          \n",
    "                          'Age': [30, 35, 37, 33, 34, 40],\n",
    "                          \n",
    "                          'Salary': [100000, 93000, 88000, 120000, 94000, 950000],\n",
    "                          \n",
    "                          'JOB': ['DESIGNER', 'CHEF', 'MASUS', 'PALENTOLOGY',\n",
    "                                  'IT', 'ARTIST']})\n",
    "\n",
    "                                 \n",
    "filtered_values = np.where((dataFrame['Salary']>=100000) & (dataFrame['Age']==40) & (dataFrame['JOB'].str.startswith('A')))\n",
    "print(filtered_values)\n",
    "display(dataFrame.loc[filtered_values])\n"
   ]
  },
  {
   "cell_type": "markdown",
   "id": "91804398",
   "metadata": {},
   "source": [
    "#### Filter Pandas Dataframe Using Query (eval and query works only with columns)"
   ]
  },
  {
   "cell_type": "code",
   "execution_count": 39,
   "id": "51c076c3",
   "metadata": {},
   "outputs": [
    {
     "data": {
      "text/html": [
       "<div>\n",
       "<style scoped>\n",
       "    .dataframe tbody tr th:only-of-type {\n",
       "        vertical-align: middle;\n",
       "    }\n",
       "\n",
       "    .dataframe tbody tr th {\n",
       "        vertical-align: top;\n",
       "    }\n",
       "\n",
       "    .dataframe thead th {\n",
       "        text-align: right;\n",
       "    }\n",
       "</style>\n",
       "<table border=\"1\" class=\"dataframe\">\n",
       "  <thead>\n",
       "    <tr style=\"text-align: right;\">\n",
       "      <th></th>\n",
       "      <th>Name</th>\n",
       "      <th>Age</th>\n",
       "      <th>Salary</th>\n",
       "      <th>JOB</th>\n",
       "    </tr>\n",
       "  </thead>\n",
       "  <tbody>\n",
       "    <tr>\n",
       "      <th>0</th>\n",
       "      <td>RACHEL</td>\n",
       "      <td>30</td>\n",
       "      <td>100000</td>\n",
       "      <td>DESIGNER</td>\n",
       "    </tr>\n",
       "    <tr>\n",
       "      <th>1</th>\n",
       "      <td>MONICA</td>\n",
       "      <td>35</td>\n",
       "      <td>913000</td>\n",
       "      <td>CHEF</td>\n",
       "    </tr>\n",
       "    <tr>\n",
       "      <th>3</th>\n",
       "      <td>ROSS</td>\n",
       "      <td>33</td>\n",
       "      <td>120000</td>\n",
       "      <td>PALENTOLOGY</td>\n",
       "    </tr>\n",
       "  </tbody>\n",
       "</table>\n",
       "</div>"
      ],
      "text/plain": [
       "         Name  Age  Salary          JOB\n",
       "0    RACHEL     30  100000     DESIGNER\n",
       "1    MONICA     35  913000         CHEF\n",
       "3    ROSS       33  120000  PALENTOLOGY"
      ]
     },
     "metadata": {},
     "output_type": "display_data"
    }
   ],
   "source": [
    "import pandas as pd\n",
    "\n",
    "dataFrame = pd.DataFrame({'Name': [' RACHEL  ', ' MONICA  ', ' PHOEBE  ',\n",
    "                                   '  ROSS    ', 'CHANDLER', ' JOEY    '],\n",
    "                          \n",
    "                          'Age': [30, 35, 37, 33, 34, 30],\n",
    "                          \n",
    "                          'Salary': [100000, 913000, 88000, 120000, 94000, 95000],\n",
    "                          \n",
    "                          'JOB': ['DESIGNER', 'CHEF', 'MASUS', 'PALENTOLOGY',\n",
    "                                  'IT', 'ARTIST']})\n",
    "\n",
    "display(dataFrame.query('Salary  >= 100000 & (Age < 40 | JOB.str.startswith(\"C\").values)'))"
   ]
  },
  {
   "cell_type": "markdown",
   "id": "e47ac43e",
   "metadata": {},
   "source": [
    "#### Pandas Boolean indexing multiple conditions standard way (“Boolean indexing” works with values in a column only)"
   ]
  },
  {
   "cell_type": "code",
   "execution_count": 41,
   "id": "939049ff",
   "metadata": {},
   "outputs": [
    {
     "data": {
      "text/html": [
       "<div>\n",
       "<style scoped>\n",
       "    .dataframe tbody tr th:only-of-type {\n",
       "        vertical-align: middle;\n",
       "    }\n",
       "\n",
       "    .dataframe tbody tr th {\n",
       "        vertical-align: top;\n",
       "    }\n",
       "\n",
       "    .dataframe thead th {\n",
       "        text-align: right;\n",
       "    }\n",
       "</style>\n",
       "<table border=\"1\" class=\"dataframe\">\n",
       "  <thead>\n",
       "    <tr style=\"text-align: right;\">\n",
       "      <th></th>\n",
       "      <th>Name</th>\n",
       "      <th>Age</th>\n",
       "      <th>Salary</th>\n",
       "    </tr>\n",
       "  </thead>\n",
       "  <tbody>\n",
       "    <tr>\n",
       "      <th>0</th>\n",
       "      <td>RACHEL</td>\n",
       "      <td>30</td>\n",
       "      <td>100000</td>\n",
       "    </tr>\n",
       "    <tr>\n",
       "      <th>3</th>\n",
       "      <td>ROSS</td>\n",
       "      <td>33</td>\n",
       "      <td>120000</td>\n",
       "    </tr>\n",
       "  </tbody>\n",
       "</table>\n",
       "</div>"
      ],
      "text/plain": [
       "         Name  Age  Salary\n",
       "0    RACHEL     30  100000\n",
       "3    ROSS       33  120000"
      ]
     },
     "metadata": {},
     "output_type": "display_data"
    }
   ],
   "source": [
    "dataFrame = pd.DataFrame({'Name': [' RACHEL  ', ' MONICA  ', ' PHOEBE  ',\n",
    "                                   '  ROSS    ', 'CHANDLER', ' JOEY    '],\n",
    "                          \n",
    "                          'Age': [30, 35, 37, 33, 34, 30],\n",
    "                          \n",
    "                          'Salary': [100000, 93000, 88000, 120000, 94000, 95000],\n",
    "                          \n",
    "                          'JOB': ['DESIGNER', 'CHEF', 'MASUS', 'PALENTOLOGY',\n",
    "                                  'IT', 'ARTIST']})\n",
    "\n",
    "display(dataFrame[(dataFrame['Salary']>=100000) & (dataFrame['Age']<40) | dataFrame['JOB'].str.startswith('P')][['Name','Age','Salary']])"
   ]
  },
  {
   "cell_type": "markdown",
   "id": "6067c379",
   "metadata": {},
   "source": [
    "#### Pandas Merging, Joining, and Concatenating"
   ]
  },
  {
   "cell_type": "code",
   "execution_count": 47,
   "id": "6062df8d",
   "metadata": {},
   "outputs": [
    {
     "data": {
      "text/html": [
       "<div>\n",
       "<style scoped>\n",
       "    .dataframe tbody tr th:only-of-type {\n",
       "        vertical-align: middle;\n",
       "    }\n",
       "\n",
       "    .dataframe tbody tr th {\n",
       "        vertical-align: top;\n",
       "    }\n",
       "\n",
       "    .dataframe thead th {\n",
       "        text-align: right;\n",
       "    }\n",
       "</style>\n",
       "<table border=\"1\" class=\"dataframe\">\n",
       "  <thead>\n",
       "    <tr style=\"text-align: right;\">\n",
       "      <th></th>\n",
       "      <th>Name</th>\n",
       "      <th>Age</th>\n",
       "      <th>Address</th>\n",
       "      <th>Qualification</th>\n",
       "    </tr>\n",
       "  </thead>\n",
       "  <tbody>\n",
       "    <tr>\n",
       "      <th>0</th>\n",
       "      <td>Zaid</td>\n",
       "      <td>27</td>\n",
       "      <td>Nagpur</td>\n",
       "      <td>Msc</td>\n",
       "    </tr>\n",
       "    <tr>\n",
       "      <th>1</th>\n",
       "      <td>Junaid</td>\n",
       "      <td>24</td>\n",
       "      <td>Kanpur</td>\n",
       "      <td>MA</td>\n",
       "    </tr>\n",
       "    <tr>\n",
       "      <th>2</th>\n",
       "      <td>Saqeeb</td>\n",
       "      <td>22</td>\n",
       "      <td>Allahabad</td>\n",
       "      <td>MCA</td>\n",
       "    </tr>\n",
       "    <tr>\n",
       "      <th>3</th>\n",
       "      <td>Azan</td>\n",
       "      <td>32</td>\n",
       "      <td>Kannuaj</td>\n",
       "      <td>Phd</td>\n",
       "    </tr>\n",
       "  </tbody>\n",
       "</table>\n",
       "</div>"
      ],
      "text/plain": [
       "     Name  Age    Address Qualification\n",
       "0    Zaid   27     Nagpur           Msc\n",
       "1  Junaid   24     Kanpur            MA\n",
       "2  Saqeeb   22  Allahabad           MCA\n",
       "3    Azan   32    Kannuaj           Phd"
      ]
     },
     "metadata": {},
     "output_type": "display_data"
    },
    {
     "data": {
      "text/html": [
       "<div>\n",
       "<style scoped>\n",
       "    .dataframe tbody tr th:only-of-type {\n",
       "        vertical-align: middle;\n",
       "    }\n",
       "\n",
       "    .dataframe tbody tr th {\n",
       "        vertical-align: top;\n",
       "    }\n",
       "\n",
       "    .dataframe thead th {\n",
       "        text-align: right;\n",
       "    }\n",
       "</style>\n",
       "<table border=\"1\" class=\"dataframe\">\n",
       "  <thead>\n",
       "    <tr style=\"text-align: right;\">\n",
       "      <th></th>\n",
       "      <th>Name</th>\n",
       "      <th>Age</th>\n",
       "      <th>Address</th>\n",
       "      <th>Qualification</th>\n",
       "    </tr>\n",
       "  </thead>\n",
       "  <tbody>\n",
       "    <tr>\n",
       "      <th>4</th>\n",
       "      <td>Abdullah</td>\n",
       "      <td>17</td>\n",
       "      <td>Nagpur</td>\n",
       "      <td>Btech</td>\n",
       "    </tr>\n",
       "    <tr>\n",
       "      <th>5</th>\n",
       "      <td>Aqsan</td>\n",
       "      <td>14</td>\n",
       "      <td>Kanpur</td>\n",
       "      <td>B.A</td>\n",
       "    </tr>\n",
       "    <tr>\n",
       "      <th>6</th>\n",
       "      <td>Dayan</td>\n",
       "      <td>12</td>\n",
       "      <td>Allahabad</td>\n",
       "      <td>Bcom</td>\n",
       "    </tr>\n",
       "    <tr>\n",
       "      <th>7</th>\n",
       "      <td>Sayam</td>\n",
       "      <td>52</td>\n",
       "      <td>Kannuaj</td>\n",
       "      <td>B.hons</td>\n",
       "    </tr>\n",
       "  </tbody>\n",
       "</table>\n",
       "</div>"
      ],
      "text/plain": [
       "       Name  Age    Address Qualification\n",
       "4  Abdullah   17     Nagpur         Btech\n",
       "5     Aqsan   14     Kanpur           B.A\n",
       "6     Dayan   12  Allahabad          Bcom\n",
       "7     Sayam   52    Kannuaj        B.hons"
      ]
     },
     "metadata": {},
     "output_type": "display_data"
    }
   ],
   "source": [
    "data1 = {'Name': ['Zaid', 'Junaid', 'Saqeeb', 'Azan'],\n",
    "         'Age': [27, 24, 22, 32],\n",
    "         'Address': ['Nagpur', 'Kanpur', 'Allahabad', 'Kannuaj'],\n",
    "         'Qualification': ['Msc', 'MA', 'MCA', 'Phd']}\n",
    "\n",
    "data2 = {'Name': ['Abdullah', 'Aqsan', 'Dayan', 'Sayam'],\n",
    "         'Age': [17, 14, 12, 52],\n",
    "         'Address': ['Nagpur', 'Kanpur', 'Allahabad', 'Kannuaj'],\n",
    "         'Qualification': ['Btech', 'B.A', 'Bcom', 'B.hons']}\n",
    "\n",
    "df = pd.DataFrame(data1, index=[0, 1, 2, 3])\n",
    "\n",
    "df1 = pd.DataFrame(data2, index=[4, 5, 6, 7])\n",
    "\n",
    "display(df, df1)\n"
   ]
  },
  {
   "cell_type": "code",
   "execution_count": 51,
   "id": "9da85d04",
   "metadata": {},
   "outputs": [
    {
     "name": "stdout",
     "output_type": "stream",
     "text": [
      "<class 'list'>\n"
     ]
    },
    {
     "data": {
      "text/html": [
       "<div>\n",
       "<style scoped>\n",
       "    .dataframe tbody tr th:only-of-type {\n",
       "        vertical-align: middle;\n",
       "    }\n",
       "\n",
       "    .dataframe tbody tr th {\n",
       "        vertical-align: top;\n",
       "    }\n",
       "\n",
       "    .dataframe thead th {\n",
       "        text-align: right;\n",
       "    }\n",
       "</style>\n",
       "<table border=\"1\" class=\"dataframe\">\n",
       "  <thead>\n",
       "    <tr style=\"text-align: right;\">\n",
       "      <th></th>\n",
       "      <th>Name</th>\n",
       "      <th>Age</th>\n",
       "      <th>Address</th>\n",
       "      <th>Qualification</th>\n",
       "    </tr>\n",
       "  </thead>\n",
       "  <tbody>\n",
       "    <tr>\n",
       "      <th>0</th>\n",
       "      <td>Zaid</td>\n",
       "      <td>27</td>\n",
       "      <td>Nagpur</td>\n",
       "      <td>Msc</td>\n",
       "    </tr>\n",
       "    <tr>\n",
       "      <th>1</th>\n",
       "      <td>Junaid</td>\n",
       "      <td>24</td>\n",
       "      <td>Kanpur</td>\n",
       "      <td>MA</td>\n",
       "    </tr>\n",
       "    <tr>\n",
       "      <th>2</th>\n",
       "      <td>Saqeeb</td>\n",
       "      <td>22</td>\n",
       "      <td>Allahabad</td>\n",
       "      <td>MCA</td>\n",
       "    </tr>\n",
       "    <tr>\n",
       "      <th>3</th>\n",
       "      <td>Azan</td>\n",
       "      <td>32</td>\n",
       "      <td>Kannuaj</td>\n",
       "      <td>Phd</td>\n",
       "    </tr>\n",
       "    <tr>\n",
       "      <th>4</th>\n",
       "      <td>Abdullah</td>\n",
       "      <td>17</td>\n",
       "      <td>Nagpur</td>\n",
       "      <td>Btech</td>\n",
       "    </tr>\n",
       "    <tr>\n",
       "      <th>5</th>\n",
       "      <td>Aqsan</td>\n",
       "      <td>14</td>\n",
       "      <td>Kanpur</td>\n",
       "      <td>B.A</td>\n",
       "    </tr>\n",
       "    <tr>\n",
       "      <th>6</th>\n",
       "      <td>Dayan</td>\n",
       "      <td>12</td>\n",
       "      <td>Allahabad</td>\n",
       "      <td>Bcom</td>\n",
       "    </tr>\n",
       "    <tr>\n",
       "      <th>7</th>\n",
       "      <td>Sayam</td>\n",
       "      <td>52</td>\n",
       "      <td>Kannuaj</td>\n",
       "      <td>B.hons</td>\n",
       "    </tr>\n",
       "  </tbody>\n",
       "</table>\n",
       "</div>"
      ],
      "text/plain": [
       "       Name  Age    Address Qualification\n",
       "0      Zaid   27     Nagpur           Msc\n",
       "1    Junaid   24     Kanpur            MA\n",
       "2    Saqeeb   22  Allahabad           MCA\n",
       "3      Azan   32    Kannuaj           Phd\n",
       "4  Abdullah   17     Nagpur         Btech\n",
       "5     Aqsan   14     Kanpur           B.A\n",
       "6     Dayan   12  Allahabad          Bcom\n",
       "7     Sayam   52    Kannuaj        B.hons"
      ]
     },
     "execution_count": 51,
     "metadata": {},
     "output_type": "execute_result"
    }
   ],
   "source": [
    "frames = [df, df1]\n",
    "print(type(frames))\n",
    "res1 = pd.concat(frames)\n",
    "res1\n"
   ]
  },
  {
   "cell_type": "code",
   "execution_count": 27,
   "id": "d73cb92d",
   "metadata": {},
   "outputs": [
    {
     "name": "stdout",
     "output_type": "stream",
     "text": [
      "     Name  Age    Address Qualification\n",
      "0    Zaid   27     Nagpur           Msc\n",
      "1  Junaid   24     Kanpur            MA\n",
      "2  Saqeeb   22  Allahabad           MCA\n",
      "3    Azan   32    Kannuaj           Phd \n",
      "\n",
      "        Name  Age    Address Qualification\n",
      "2  Abdullah   17     Nagpur         Btech\n",
      "3     Aqsan   14     Kanpur           B.A\n",
      "6     Dayan   12  Allahabad          Bcom\n",
      "7     Sayam   52    Kannuaj        B.hons\n"
     ]
    }
   ],
   "source": [
    "df = pd.DataFrame(data1, index=[0, 1, 2, 3])\n",
    "\n",
    "\n",
    "df1 = pd.DataFrame(data2, index=[2, 3, 6, 7])\n",
    "\n",
    "print(df, \"\\n\\n\", df1)"
   ]
  },
  {
   "cell_type": "markdown",
   "id": "2bf902c4",
   "metadata": {},
   "source": [
    "#### Concatenating DataFrame by setting logic on axes :"
   ]
  },
  {
   "cell_type": "code",
   "execution_count": 53,
   "id": "d03a0259",
   "metadata": {},
   "outputs": [
    {
     "name": "stdout",
     "output_type": "stream",
     "text": [
      "     Name  Age    Address Qualification  Mobile No\n",
      "0   Zafar   27     Nagpur           Msc         97\n",
      "1    Moiz   24     Kanpur            MA         91\n",
      "2   Zaman   22  Allahabad           MCA         58\n",
      "3  Salman   32    Kannuaj           Phd         76 \n",
      "\n",
      "      Name  Age    Address Qualification  Salary\n",
      "2   Zaman   22  Allahabad           MCA    1000\n",
      "3  Salman   32    Kannuaj           Phd    2000\n",
      "6   Zakir   12  Allahabad          Bcom    3000\n",
      "7    Zain   52    Kannuaj        B.hons    4000\n"
     ]
    }
   ],
   "source": [
    "data1 = {'Name': ['Zafar', 'Moiz', 'Zaman', 'Salman'],\n",
    "         'Age': [27, 24, 22, 32],\n",
    "         'Address': ['Nagpur', 'Kanpur', 'Allahabad', 'Kannuaj'],\n",
    "         'Qualification': ['Msc', 'MA', 'MCA', 'Phd'],\n",
    "         'Mobile No': [97, 91, 58, 76]}\n",
    "\n",
    "data2 = {'Name': ['Zaman', 'Salman', 'Zakir', 'Zain'],\n",
    "         'Age': [22, 32, 12, 52],\n",
    "         'Address': ['Allahabad', 'Kannuaj', 'Allahabad', 'Kannuaj'],\n",
    "         'Qualification': ['MCA', 'Phd', 'Bcom', 'B.hons'],\n",
    "         'Salary': [1000, 2000, 3000, 4000]}\n",
    "\n",
    "df = pd.DataFrame(data1, index=[0, 1, 2, 3])\n",
    "\n",
    "df1 = pd.DataFrame(data2, index=[2, 3, 6, 7])\n",
    "\n",
    "print(df, \"\\n\\n\", df1)"
   ]
  },
  {
   "cell_type": "code",
   "execution_count": 30,
   "id": "16996196",
   "metadata": {},
   "outputs": [
    {
     "data": {
      "text/html": [
       "<div>\n",
       "<style scoped>\n",
       "    .dataframe tbody tr th:only-of-type {\n",
       "        vertical-align: middle;\n",
       "    }\n",
       "\n",
       "    .dataframe tbody tr th {\n",
       "        vertical-align: top;\n",
       "    }\n",
       "\n",
       "    .dataframe thead th {\n",
       "        text-align: right;\n",
       "    }\n",
       "</style>\n",
       "<table border=\"1\" class=\"dataframe\">\n",
       "  <thead>\n",
       "    <tr style=\"text-align: right;\">\n",
       "      <th></th>\n",
       "      <th>Name</th>\n",
       "      <th>Age</th>\n",
       "      <th>Address</th>\n",
       "      <th>Qualification</th>\n",
       "      <th>Mobile No</th>\n",
       "      <th>Name</th>\n",
       "      <th>Age</th>\n",
       "      <th>Address</th>\n",
       "      <th>Qualification</th>\n",
       "      <th>Salary</th>\n",
       "    </tr>\n",
       "  </thead>\n",
       "  <tbody>\n",
       "    <tr>\n",
       "      <th>2</th>\n",
       "      <td>Zaman</td>\n",
       "      <td>22</td>\n",
       "      <td>Allahabad</td>\n",
       "      <td>MCA</td>\n",
       "      <td>58</td>\n",
       "      <td>Zaman</td>\n",
       "      <td>22</td>\n",
       "      <td>Allahabad</td>\n",
       "      <td>MCA</td>\n",
       "      <td>1000</td>\n",
       "    </tr>\n",
       "    <tr>\n",
       "      <th>3</th>\n",
       "      <td>Salman</td>\n",
       "      <td>32</td>\n",
       "      <td>Kannuaj</td>\n",
       "      <td>Phd</td>\n",
       "      <td>76</td>\n",
       "      <td>Salman</td>\n",
       "      <td>32</td>\n",
       "      <td>Kannuaj</td>\n",
       "      <td>Phd</td>\n",
       "      <td>2000</td>\n",
       "    </tr>\n",
       "  </tbody>\n",
       "</table>\n",
       "</div>"
      ],
      "text/plain": [
       "     Name  Age    Address Qualification  Mobile No    Name  Age    Address  \\\n",
       "2   Zaman   22  Allahabad           MCA         58   Zaman   22  Allahabad   \n",
       "3  Salman   32    Kannuaj           Phd         76  Salman   32    Kannuaj   \n",
       "\n",
       "  Qualification  Salary  \n",
       "2           MCA    1000  \n",
       "3           Phd    2000  "
      ]
     },
     "execution_count": 30,
     "metadata": {},
     "output_type": "execute_result"
    }
   ],
   "source": [
    "res2 = pd.concat([df, df1], axis=1, join='inner')\n",
    "\n",
    "res2"
   ]
  },
  {
   "cell_type": "markdown",
   "id": "040a5af1",
   "metadata": {},
   "source": [
    "#### union of dataframe."
   ]
  },
  {
   "cell_type": "code",
   "execution_count": 31,
   "id": "9627e261",
   "metadata": {},
   "outputs": [
    {
     "data": {
      "text/html": [
       "<div>\n",
       "<style scoped>\n",
       "    .dataframe tbody tr th:only-of-type {\n",
       "        vertical-align: middle;\n",
       "    }\n",
       "\n",
       "    .dataframe tbody tr th {\n",
       "        vertical-align: top;\n",
       "    }\n",
       "\n",
       "    .dataframe thead th {\n",
       "        text-align: right;\n",
       "    }\n",
       "</style>\n",
       "<table border=\"1\" class=\"dataframe\">\n",
       "  <thead>\n",
       "    <tr style=\"text-align: right;\">\n",
       "      <th></th>\n",
       "      <th>Name</th>\n",
       "      <th>Age</th>\n",
       "      <th>Address</th>\n",
       "      <th>Qualification</th>\n",
       "      <th>Mobile No</th>\n",
       "      <th>Name</th>\n",
       "      <th>Age</th>\n",
       "      <th>Address</th>\n",
       "      <th>Qualification</th>\n",
       "      <th>Salary</th>\n",
       "    </tr>\n",
       "  </thead>\n",
       "  <tbody>\n",
       "    <tr>\n",
       "      <th>0</th>\n",
       "      <td>Zafar</td>\n",
       "      <td>27.0</td>\n",
       "      <td>Nagpur</td>\n",
       "      <td>Msc</td>\n",
       "      <td>97.0</td>\n",
       "      <td>NaN</td>\n",
       "      <td>NaN</td>\n",
       "      <td>NaN</td>\n",
       "      <td>NaN</td>\n",
       "      <td>NaN</td>\n",
       "    </tr>\n",
       "    <tr>\n",
       "      <th>1</th>\n",
       "      <td>Moiz</td>\n",
       "      <td>24.0</td>\n",
       "      <td>Kanpur</td>\n",
       "      <td>MA</td>\n",
       "      <td>91.0</td>\n",
       "      <td>NaN</td>\n",
       "      <td>NaN</td>\n",
       "      <td>NaN</td>\n",
       "      <td>NaN</td>\n",
       "      <td>NaN</td>\n",
       "    </tr>\n",
       "    <tr>\n",
       "      <th>2</th>\n",
       "      <td>Zaman</td>\n",
       "      <td>22.0</td>\n",
       "      <td>Allahabad</td>\n",
       "      <td>MCA</td>\n",
       "      <td>58.0</td>\n",
       "      <td>Zaman</td>\n",
       "      <td>22.0</td>\n",
       "      <td>Allahabad</td>\n",
       "      <td>MCA</td>\n",
       "      <td>1000.0</td>\n",
       "    </tr>\n",
       "    <tr>\n",
       "      <th>3</th>\n",
       "      <td>Salman</td>\n",
       "      <td>32.0</td>\n",
       "      <td>Kannuaj</td>\n",
       "      <td>Phd</td>\n",
       "      <td>76.0</td>\n",
       "      <td>Salman</td>\n",
       "      <td>32.0</td>\n",
       "      <td>Kannuaj</td>\n",
       "      <td>Phd</td>\n",
       "      <td>2000.0</td>\n",
       "    </tr>\n",
       "    <tr>\n",
       "      <th>6</th>\n",
       "      <td>NaN</td>\n",
       "      <td>NaN</td>\n",
       "      <td>NaN</td>\n",
       "      <td>NaN</td>\n",
       "      <td>NaN</td>\n",
       "      <td>Zakir</td>\n",
       "      <td>12.0</td>\n",
       "      <td>Allahabad</td>\n",
       "      <td>Bcom</td>\n",
       "      <td>3000.0</td>\n",
       "    </tr>\n",
       "    <tr>\n",
       "      <th>7</th>\n",
       "      <td>NaN</td>\n",
       "      <td>NaN</td>\n",
       "      <td>NaN</td>\n",
       "      <td>NaN</td>\n",
       "      <td>NaN</td>\n",
       "      <td>Zain</td>\n",
       "      <td>52.0</td>\n",
       "      <td>Kannuaj</td>\n",
       "      <td>B.hons</td>\n",
       "      <td>4000.0</td>\n",
       "    </tr>\n",
       "  </tbody>\n",
       "</table>\n",
       "</div>"
      ],
      "text/plain": [
       "     Name   Age    Address Qualification  Mobile No    Name   Age    Address  \\\n",
       "0   Zafar  27.0     Nagpur           Msc       97.0     NaN   NaN        NaN   \n",
       "1    Moiz  24.0     Kanpur            MA       91.0     NaN   NaN        NaN   \n",
       "2   Zaman  22.0  Allahabad           MCA       58.0   Zaman  22.0  Allahabad   \n",
       "3  Salman  32.0    Kannuaj           Phd       76.0  Salman  32.0    Kannuaj   \n",
       "6     NaN   NaN        NaN           NaN        NaN   Zakir  12.0  Allahabad   \n",
       "7     NaN   NaN        NaN           NaN        NaN    Zain  52.0    Kannuaj   \n",
       "\n",
       "  Qualification  Salary  \n",
       "0           NaN     NaN  \n",
       "1           NaN     NaN  \n",
       "2           MCA  1000.0  \n",
       "3           Phd  2000.0  \n",
       "6          Bcom  3000.0  \n",
       "7        B.hons  4000.0  "
      ]
     },
     "execution_count": 31,
     "metadata": {},
     "output_type": "execute_result"
    }
   ],
   "source": [
    "res2 = pd.concat([df, df1], axis=1, sort=False)\n",
    "\n",
    "res2"
   ]
  },
  {
   "cell_type": "markdown",
   "id": "fd14d43c",
   "metadata": {},
   "source": [
    "##### Concatenating DataFrame by ignoring indexes :"
   ]
  },
  {
   "cell_type": "code",
   "execution_count": 34,
   "id": "450bdde2",
   "metadata": {},
   "outputs": [
    {
     "data": {
      "text/html": [
       "<div>\n",
       "<style scoped>\n",
       "    .dataframe tbody tr th:only-of-type {\n",
       "        vertical-align: middle;\n",
       "    }\n",
       "\n",
       "    .dataframe tbody tr th {\n",
       "        vertical-align: top;\n",
       "    }\n",
       "\n",
       "    .dataframe thead th {\n",
       "        text-align: right;\n",
       "    }\n",
       "</style>\n",
       "<table border=\"1\" class=\"dataframe\">\n",
       "  <thead>\n",
       "    <tr style=\"text-align: right;\">\n",
       "      <th></th>\n",
       "      <th>Name</th>\n",
       "      <th>Age</th>\n",
       "      <th>Address</th>\n",
       "      <th>Qualification</th>\n",
       "      <th>Mobile No</th>\n",
       "      <th>Salary</th>\n",
       "    </tr>\n",
       "  </thead>\n",
       "  <tbody>\n",
       "    <tr>\n",
       "      <th>0</th>\n",
       "      <td>Zafar</td>\n",
       "      <td>27</td>\n",
       "      <td>Nagpur</td>\n",
       "      <td>Msc</td>\n",
       "      <td>97.0</td>\n",
       "      <td>NaN</td>\n",
       "    </tr>\n",
       "    <tr>\n",
       "      <th>1</th>\n",
       "      <td>Moiz</td>\n",
       "      <td>24</td>\n",
       "      <td>Kanpur</td>\n",
       "      <td>MA</td>\n",
       "      <td>91.0</td>\n",
       "      <td>NaN</td>\n",
       "    </tr>\n",
       "    <tr>\n",
       "      <th>2</th>\n",
       "      <td>Zaman</td>\n",
       "      <td>22</td>\n",
       "      <td>Allahabad</td>\n",
       "      <td>MCA</td>\n",
       "      <td>58.0</td>\n",
       "      <td>NaN</td>\n",
       "    </tr>\n",
       "    <tr>\n",
       "      <th>3</th>\n",
       "      <td>Salman</td>\n",
       "      <td>32</td>\n",
       "      <td>Kannuaj</td>\n",
       "      <td>Phd</td>\n",
       "      <td>76.0</td>\n",
       "      <td>NaN</td>\n",
       "    </tr>\n",
       "    <tr>\n",
       "      <th>4</th>\n",
       "      <td>Zaman</td>\n",
       "      <td>22</td>\n",
       "      <td>Allahabad</td>\n",
       "      <td>MCA</td>\n",
       "      <td>NaN</td>\n",
       "      <td>1000.0</td>\n",
       "    </tr>\n",
       "    <tr>\n",
       "      <th>5</th>\n",
       "      <td>Salman</td>\n",
       "      <td>32</td>\n",
       "      <td>Kannuaj</td>\n",
       "      <td>Phd</td>\n",
       "      <td>NaN</td>\n",
       "      <td>2000.0</td>\n",
       "    </tr>\n",
       "    <tr>\n",
       "      <th>6</th>\n",
       "      <td>Zakir</td>\n",
       "      <td>12</td>\n",
       "      <td>Allahabad</td>\n",
       "      <td>Bcom</td>\n",
       "      <td>NaN</td>\n",
       "      <td>3000.0</td>\n",
       "    </tr>\n",
       "    <tr>\n",
       "      <th>7</th>\n",
       "      <td>Zain</td>\n",
       "      <td>52</td>\n",
       "      <td>Kannuaj</td>\n",
       "      <td>B.hons</td>\n",
       "      <td>NaN</td>\n",
       "      <td>4000.0</td>\n",
       "    </tr>\n",
       "  </tbody>\n",
       "</table>\n",
       "</div>"
      ],
      "text/plain": [
       "     Name  Age    Address Qualification  Mobile No  Salary\n",
       "0   Zafar   27     Nagpur           Msc       97.0     NaN\n",
       "1    Moiz   24     Kanpur            MA       91.0     NaN\n",
       "2   Zaman   22  Allahabad           MCA       58.0     NaN\n",
       "3  Salman   32    Kannuaj           Phd       76.0     NaN\n",
       "4   Zaman   22  Allahabad           MCA        NaN  1000.0\n",
       "5  Salman   32    Kannuaj           Phd        NaN  2000.0\n",
       "6   Zakir   12  Allahabad          Bcom        NaN  3000.0\n",
       "7    Zain   52    Kannuaj        B.hons        NaN  4000.0"
      ]
     },
     "execution_count": 34,
     "metadata": {},
     "output_type": "execute_result"
    }
   ],
   "source": [
    "res = pd.concat([df, df1], ignore_index=True)\n",
    " \n",
    "res"
   ]
  },
  {
   "cell_type": "markdown",
   "id": "7fb0a05e",
   "metadata": {},
   "source": [
    "##### Concatenating DataFrame with group keys :"
   ]
  },
  {
   "cell_type": "code",
   "execution_count": 57,
   "id": "c42cb73a",
   "metadata": {},
   "outputs": [
    {
     "data": {
      "text/html": [
       "<div>\n",
       "<style scoped>\n",
       "    .dataframe tbody tr th:only-of-type {\n",
       "        vertical-align: middle;\n",
       "    }\n",
       "\n",
       "    .dataframe tbody tr th {\n",
       "        vertical-align: top;\n",
       "    }\n",
       "\n",
       "    .dataframe thead th {\n",
       "        text-align: right;\n",
       "    }\n",
       "</style>\n",
       "<table border=\"1\" class=\"dataframe\">\n",
       "  <thead>\n",
       "    <tr style=\"text-align: right;\">\n",
       "      <th></th>\n",
       "      <th></th>\n",
       "      <th>Name</th>\n",
       "      <th>Age</th>\n",
       "      <th>Address</th>\n",
       "      <th>Qualification</th>\n",
       "      <th>Mobile No</th>\n",
       "      <th>Salary</th>\n",
       "    </tr>\n",
       "  </thead>\n",
       "  <tbody>\n",
       "    <tr>\n",
       "      <th rowspan=\"4\" valign=\"top\">1st time collected data</th>\n",
       "      <th>0</th>\n",
       "      <td>Zafar</td>\n",
       "      <td>27</td>\n",
       "      <td>Nagpur</td>\n",
       "      <td>Msc</td>\n",
       "      <td>97.0</td>\n",
       "      <td>NaN</td>\n",
       "    </tr>\n",
       "    <tr>\n",
       "      <th>1</th>\n",
       "      <td>Moiz</td>\n",
       "      <td>24</td>\n",
       "      <td>Kanpur</td>\n",
       "      <td>MA</td>\n",
       "      <td>91.0</td>\n",
       "      <td>NaN</td>\n",
       "    </tr>\n",
       "    <tr>\n",
       "      <th>2</th>\n",
       "      <td>Zaman</td>\n",
       "      <td>22</td>\n",
       "      <td>Allahabad</td>\n",
       "      <td>MCA</td>\n",
       "      <td>58.0</td>\n",
       "      <td>NaN</td>\n",
       "    </tr>\n",
       "    <tr>\n",
       "      <th>3</th>\n",
       "      <td>Salman</td>\n",
       "      <td>32</td>\n",
       "      <td>Kannuaj</td>\n",
       "      <td>Phd</td>\n",
       "      <td>76.0</td>\n",
       "      <td>NaN</td>\n",
       "    </tr>\n",
       "    <tr>\n",
       "      <th rowspan=\"4\" valign=\"top\">2nd time collected data</th>\n",
       "      <th>2</th>\n",
       "      <td>Zaman</td>\n",
       "      <td>22</td>\n",
       "      <td>Allahabad</td>\n",
       "      <td>MCA</td>\n",
       "      <td>NaN</td>\n",
       "      <td>1000.0</td>\n",
       "    </tr>\n",
       "    <tr>\n",
       "      <th>3</th>\n",
       "      <td>Salman</td>\n",
       "      <td>32</td>\n",
       "      <td>Kannuaj</td>\n",
       "      <td>Phd</td>\n",
       "      <td>NaN</td>\n",
       "      <td>2000.0</td>\n",
       "    </tr>\n",
       "    <tr>\n",
       "      <th>6</th>\n",
       "      <td>Zakir</td>\n",
       "      <td>12</td>\n",
       "      <td>Allahabad</td>\n",
       "      <td>Bcom</td>\n",
       "      <td>NaN</td>\n",
       "      <td>3000.0</td>\n",
       "    </tr>\n",
       "    <tr>\n",
       "      <th>7</th>\n",
       "      <td>Zain</td>\n",
       "      <td>52</td>\n",
       "      <td>Kannuaj</td>\n",
       "      <td>B.hons</td>\n",
       "      <td>NaN</td>\n",
       "      <td>4000.0</td>\n",
       "    </tr>\n",
       "  </tbody>\n",
       "</table>\n",
       "</div>"
      ],
      "text/plain": [
       "                             Name  Age    Address Qualification  Mobile No  \\\n",
       "1st time collected data 0   Zafar   27     Nagpur           Msc       97.0   \n",
       "                        1    Moiz   24     Kanpur            MA       91.0   \n",
       "                        2   Zaman   22  Allahabad           MCA       58.0   \n",
       "                        3  Salman   32    Kannuaj           Phd       76.0   \n",
       "2nd time collected data 2   Zaman   22  Allahabad           MCA        NaN   \n",
       "                        3  Salman   32    Kannuaj           Phd        NaN   \n",
       "                        6   Zakir   12  Allahabad          Bcom        NaN   \n",
       "                        7    Zain   52    Kannuaj        B.hons        NaN   \n",
       "\n",
       "                           Salary  \n",
       "1st time collected data 0     NaN  \n",
       "                        1     NaN  \n",
       "                        2     NaN  \n",
       "                        3     NaN  \n",
       "2nd time collected data 2  1000.0  \n",
       "                        3  2000.0  \n",
       "                        6  3000.0  \n",
       "                        7  4000.0  "
      ]
     },
     "execution_count": 57,
     "metadata": {},
     "output_type": "execute_result"
    }
   ],
   "source": [
    "frames = [df, df1 ]\n",
    " \n",
    "res = pd.concat(frames, keys=['1st time collected data', '2nd time collected data'])\n",
    "res"
   ]
  },
  {
   "cell_type": "code",
   "execution_count": null,
   "id": "575fccc1",
   "metadata": {},
   "outputs": [],
   "source": []
  },
  {
   "cell_type": "code",
   "execution_count": 63,
   "id": "f050f629",
   "metadata": {},
   "outputs": [
    {
     "name": "stdout",
     "output_type": "stream",
     "text": [
      "  key    Name  Age\n",
      "0  K0     Ali   27\n",
      "1  K1  Zubair   24\n",
      "2  K2   Sahil   22\n",
      "3  K3  Suhaib   32 \n",
      "\n",
      "   key    Address Qualification\n",
      "0  K0     Nagpur         Btech\n",
      "1  K1     Kanpur           B.A\n",
      "2  K2  Allahabad          Bcom\n",
      "3  K3    Kannuaj        B.hons \n",
      "\n",
      "   key Mobile Number      Status\n",
      "0  K0         00000      Active\n",
      "1  K1         11111     Offline\n",
      "2  K2         66666     Dropped\n",
      "3  K3        999999  Geraduated\n"
     ]
    }
   ],
   "source": [
    "data1 = {'key': ['K0', 'K1', 'K2', 'K3'],\n",
    "         'Name':['Ali', 'Zubair', 'Sahil', 'Suhaib'], \n",
    "        'Age':[27, 24, 22, 32],} \n",
    "\n",
    "data2 = {'key': ['K0', 'K1', 'K2', 'K3'],\n",
    "         'Address':['Nagpur', 'Kanpur', 'Allahabad', 'Kannuaj'], \n",
    "        'Qualification':['Btech', 'B.A', 'Bcom', 'B.hons']} \n",
    "\n",
    "data3 = {'key': ['K0', 'K1', 'K2', 'K3'],\n",
    "         'Mobile Number':['00000', '11111', '66666', '999999'], \n",
    "        'Status':['Active', 'Offline', 'Dropped', 'Geraduated']} \n",
    "df = pd.DataFrame(data1)\n",
    "\n",
    "df1 = pd.DataFrame(data2) \n",
    "df2=  pd.DataFrame(data3)\n",
    " \n",
    "print(df, \"\\n\\n\", df1,\"\\n\\n\", df2) \n"
   ]
  },
  {
   "cell_type": "markdown",
   "id": "9a2e83db",
   "metadata": {},
   "source": [
    "##### Merging a dataframe with one unique key combination"
   ]
  },
  {
   "cell_type": "code",
   "execution_count": 69,
   "id": "ac3c21b7",
   "metadata": {},
   "outputs": [
    {
     "data": {
      "text/html": [
       "<div>\n",
       "<style scoped>\n",
       "    .dataframe tbody tr th:only-of-type {\n",
       "        vertical-align: middle;\n",
       "    }\n",
       "\n",
       "    .dataframe tbody tr th {\n",
       "        vertical-align: top;\n",
       "    }\n",
       "\n",
       "    .dataframe thead th {\n",
       "        text-align: right;\n",
       "    }\n",
       "</style>\n",
       "<table border=\"1\" class=\"dataframe\">\n",
       "  <thead>\n",
       "    <tr style=\"text-align: right;\">\n",
       "      <th></th>\n",
       "      <th>key</th>\n",
       "      <th>Name</th>\n",
       "      <th>Age</th>\n",
       "      <th>Address</th>\n",
       "      <th>Qualification</th>\n",
       "      <th>Mobile Number</th>\n",
       "      <th>Status</th>\n",
       "    </tr>\n",
       "  </thead>\n",
       "  <tbody>\n",
       "    <tr>\n",
       "      <th>0</th>\n",
       "      <td>K0</td>\n",
       "      <td>Ali</td>\n",
       "      <td>27</td>\n",
       "      <td>Nagpur</td>\n",
       "      <td>Btech</td>\n",
       "      <td>00000</td>\n",
       "      <td>Active</td>\n",
       "    </tr>\n",
       "    <tr>\n",
       "      <th>1</th>\n",
       "      <td>K1</td>\n",
       "      <td>Zubair</td>\n",
       "      <td>24</td>\n",
       "      <td>Kanpur</td>\n",
       "      <td>B.A</td>\n",
       "      <td>11111</td>\n",
       "      <td>Offline</td>\n",
       "    </tr>\n",
       "    <tr>\n",
       "      <th>2</th>\n",
       "      <td>K2</td>\n",
       "      <td>Sahil</td>\n",
       "      <td>22</td>\n",
       "      <td>Allahabad</td>\n",
       "      <td>Bcom</td>\n",
       "      <td>66666</td>\n",
       "      <td>Dropped</td>\n",
       "    </tr>\n",
       "    <tr>\n",
       "      <th>3</th>\n",
       "      <td>K3</td>\n",
       "      <td>Suhaib</td>\n",
       "      <td>32</td>\n",
       "      <td>Kannuaj</td>\n",
       "      <td>B.hons</td>\n",
       "      <td>999999</td>\n",
       "      <td>Geraduated</td>\n",
       "    </tr>\n",
       "  </tbody>\n",
       "</table>\n",
       "</div>"
      ],
      "text/plain": [
       "  key    Name  Age    Address Qualification Mobile Number      Status\n",
       "0  K0     Ali   27     Nagpur         Btech         00000      Active\n",
       "1  K1  Zubair   24     Kanpur           B.A         11111     Offline\n",
       "2  K2   Sahil   22  Allahabad          Bcom         66666     Dropped\n",
       "3  K3  Suhaib   32    Kannuaj        B.hons        999999  Geraduated"
      ]
     },
     "execution_count": 69,
     "metadata": {},
     "output_type": "execute_result"
    }
   ],
   "source": [
    "res = pd.merge(df, df1, on='key')\n",
    " \n",
    "res2=pd.merge(res,df2, on='key')\n",
    "res2\n"
   ]
  },
  {
   "cell_type": "code",
   "execution_count": null,
   "id": "73f3a9f0",
   "metadata": {},
   "outputs": [],
   "source": []
  },
  {
   "cell_type": "markdown",
   "id": "153d9dae",
   "metadata": {},
   "source": [
    "##### Sorting\n",
    "\n",
    "##### 1. Sort DataFrame by One Column Value"
   ]
  },
  {
   "cell_type": "code",
   "execution_count": 71,
   "id": "c406f92b",
   "metadata": {},
   "outputs": [
    {
     "name": "stdout",
     "output_type": "stream",
     "text": [
      "      Name  Age  Score\n",
      "0    Alice   25     85\n",
      "1      Bob   30     90\n",
      "2  Charlie   35     95\n",
      "3    David   40     80\n"
     ]
    }
   ],
   "source": [
    "data = {'Name': ['Alice', 'Bob', 'Charlie', 'David'],'Age': [25, 30, 35, 40],'Score': [85, 90, 95, 80]}\n",
    "df = pd.DataFrame(data)\n",
    "\n",
    "sorted_df = df.sort_values(by='Age',ascending=True)\n",
    "print(sorted_df)"
   ]
  },
  {
   "cell_type": "markdown",
   "id": "b09df962",
   "metadata": {},
   "source": [
    "##### 2. Sort DataFrame by Multiple Columns"
   ]
  },
  {
   "cell_type": "code",
   "execution_count": 46,
   "id": "8916ade0",
   "metadata": {},
   "outputs": [
    {
     "name": "stdout",
     "output_type": "stream",
     "text": [
      "      Name  Age  Score\n",
      "0    Alice   25     85\n",
      "1      Bob   30     90\n",
      "2  Charlie   35     95\n",
      "3    David   40     80\n"
     ]
    }
   ],
   "source": [
    "data = {'Name': ['Alice', 'Bob', 'Charlie', 'David'],\n",
    "        'Age': [25, 30, 35, 40],\n",
    "        'Score': [85, 90, 95, 80]}\n",
    "df = pd.DataFrame(data)\n",
    "\n",
    "sorted_df = df.sort_values(by=['Age', 'Score'])\n",
    "print(sorted_df)\n"
   ]
  },
  {
   "cell_type": "markdown",
   "id": "d7b29b98",
   "metadata": {},
   "source": [
    "##### 3. Sort DataFrame with Missing Values"
   ]
  },
  {
   "cell_type": "code",
   "execution_count": 75,
   "id": "223f5007",
   "metadata": {},
   "outputs": [
    {
     "name": "stdout",
     "output_type": "stream",
     "text": [
      "      Name   Age\n",
      "1      Bob   NaN\n",
      "2  Charlie   NaN\n",
      "3    David  22.0\n",
      "0    Alice  28.0\n"
     ]
    }
   ],
   "source": [
    "data_with_nan = {\"Name\": [\"Alice\", \"Bob\", \"Charlie\", \"David\"],\"Age\": [28, None, None, 22]}\n",
    "df_nan = pd.DataFrame(data_with_nan)\n",
    "\n",
    "sorted_df = df_nan.sort_values(by=\"Age\", na_position=\"first\")\n",
    "print(sorted_df)\n"
   ]
  },
  {
   "cell_type": "markdown",
   "id": "b3d678b9",
   "metadata": {},
   "source": [
    "#### How to Create a Pivot Table in Python using Pandas?"
   ]
  },
  {
   "cell_type": "markdown",
   "id": "4adc10a3",
   "metadata": {},
   "source": [
    "A pivot table is a statistical table that summarizes a substantial table like a big dataset. It is part of data processing. This summary in pivot tables may include mean, median, sum, or other statistical terms. "
   ]
  },
  {
   "cell_type": "code",
   "execution_count": 77,
   "id": "e26f49a6",
   "metadata": {},
   "outputs": [
    {
     "data": {
      "text/html": [
       "<div>\n",
       "<style scoped>\n",
       "    .dataframe tbody tr th:only-of-type {\n",
       "        vertical-align: middle;\n",
       "    }\n",
       "\n",
       "    .dataframe tbody tr th {\n",
       "        vertical-align: top;\n",
       "    }\n",
       "\n",
       "    .dataframe thead th {\n",
       "        text-align: right;\n",
       "    }\n",
       "</style>\n",
       "<table border=\"1\" class=\"dataframe\">\n",
       "  <thead>\n",
       "    <tr style=\"text-align: right;\">\n",
       "      <th></th>\n",
       "      <th>Product</th>\n",
       "      <th>Category</th>\n",
       "      <th>Quantity</th>\n",
       "      <th>Amount</th>\n",
       "    </tr>\n",
       "  </thead>\n",
       "  <tbody>\n",
       "    <tr>\n",
       "      <th>0</th>\n",
       "      <td>Carrots</td>\n",
       "      <td>Vegetable</td>\n",
       "      <td>8</td>\n",
       "      <td>270</td>\n",
       "    </tr>\n",
       "    <tr>\n",
       "      <th>1</th>\n",
       "      <td>Broccoli</td>\n",
       "      <td>Vegetable</td>\n",
       "      <td>5</td>\n",
       "      <td>239</td>\n",
       "    </tr>\n",
       "    <tr>\n",
       "      <th>2</th>\n",
       "      <td>Banana</td>\n",
       "      <td>Fruit</td>\n",
       "      <td>3</td>\n",
       "      <td>617</td>\n",
       "    </tr>\n",
       "    <tr>\n",
       "      <th>3</th>\n",
       "      <td>Banana</td>\n",
       "      <td>Fruit</td>\n",
       "      <td>4</td>\n",
       "      <td>384</td>\n",
       "    </tr>\n",
       "    <tr>\n",
       "      <th>4</th>\n",
       "      <td>Beans</td>\n",
       "      <td>Vegetable</td>\n",
       "      <td>5</td>\n",
       "      <td>626</td>\n",
       "    </tr>\n",
       "    <tr>\n",
       "      <th>5</th>\n",
       "      <td>Orange</td>\n",
       "      <td>Fruit</td>\n",
       "      <td>9</td>\n",
       "      <td>610</td>\n",
       "    </tr>\n",
       "    <tr>\n",
       "      <th>6</th>\n",
       "      <td>Broccoli</td>\n",
       "      <td>Vegetable</td>\n",
       "      <td>11</td>\n",
       "      <td>62</td>\n",
       "    </tr>\n",
       "    <tr>\n",
       "      <th>7</th>\n",
       "      <td>Banana</td>\n",
       "      <td>Fruit</td>\n",
       "      <td>8</td>\n",
       "      <td>90</td>\n",
       "    </tr>\n",
       "  </tbody>\n",
       "</table>\n",
       "</div>"
      ],
      "text/plain": [
       "    Product   Category  Quantity  Amount\n",
       "0   Carrots  Vegetable         8     270\n",
       "1  Broccoli  Vegetable         5     239\n",
       "2    Banana      Fruit         3     617\n",
       "3    Banana      Fruit         4     384\n",
       "4     Beans  Vegetable         5     626\n",
       "5    Orange      Fruit         9     610\n",
       "6  Broccoli  Vegetable        11      62\n",
       "7    Banana      Fruit         8      90"
      ]
     },
     "execution_count": 77,
     "metadata": {},
     "output_type": "execute_result"
    }
   ],
   "source": [
    "df = pd.DataFrame({'Product': ['Carrots', 'Broccoli', 'Banana', 'Banana',\n",
    "                               'Beans', 'Orange', 'Broccoli', 'Banana'],\n",
    "                   'Category': ['Vegetable', 'Vegetable', 'Fruit', 'Fruit',\n",
    "                                'Vegetable', 'Fruit', 'Vegetable', 'Fruit'],\n",
    "                   'Quantity': [8, 5, 3, 4, 5, 9, 11, 8],\n",
    "                   'Amount': [270, 239, 617, 384, 626, 610, 62, 90]})\n",
    "df"
   ]
  },
  {
   "cell_type": "code",
   "execution_count": 81,
   "id": "a262ae54",
   "metadata": {},
   "outputs": [
    {
     "data": {
      "text/html": [
       "<div>\n",
       "<style scoped>\n",
       "    .dataframe tbody tr th:only-of-type {\n",
       "        vertical-align: middle;\n",
       "    }\n",
       "\n",
       "    .dataframe tbody tr th {\n",
       "        vertical-align: top;\n",
       "    }\n",
       "\n",
       "    .dataframe thead th {\n",
       "        text-align: right;\n",
       "    }\n",
       "</style>\n",
       "<table border=\"1\" class=\"dataframe\">\n",
       "  <thead>\n",
       "    <tr style=\"text-align: right;\">\n",
       "      <th></th>\n",
       "      <th>Amount</th>\n",
       "    </tr>\n",
       "    <tr>\n",
       "      <th>Product</th>\n",
       "      <th></th>\n",
       "    </tr>\n",
       "  </thead>\n",
       "  <tbody>\n",
       "    <tr>\n",
       "      <th>Banana</th>\n",
       "      <td>1091</td>\n",
       "    </tr>\n",
       "    <tr>\n",
       "      <th>Beans</th>\n",
       "      <td>626</td>\n",
       "    </tr>\n",
       "    <tr>\n",
       "      <th>Broccoli</th>\n",
       "      <td>301</td>\n",
       "    </tr>\n",
       "    <tr>\n",
       "      <th>Carrots</th>\n",
       "      <td>270</td>\n",
       "    </tr>\n",
       "    <tr>\n",
       "      <th>Orange</th>\n",
       "      <td>610</td>\n",
       "    </tr>\n",
       "  </tbody>\n",
       "</table>\n",
       "</div>"
      ],
      "text/plain": [
       "          Amount\n",
       "Product         \n",
       "Banana      1091\n",
       "Beans        626\n",
       "Broccoli     301\n",
       "Carrots      270\n",
       "Orange       610"
      ]
     },
     "metadata": {},
     "output_type": "display_data"
    }
   ],
   "source": [
    "pivot = df.pivot_table(index=['Product'],\n",
    "\t\t\t\t\tvalues=['Amount'],\n",
    "\t\t\t\t\taggfunc='sum')\n",
    "display(pivot)"
   ]
  },
  {
   "cell_type": "code",
   "execution_count": 83,
   "id": "8f7ccf01",
   "metadata": {},
   "outputs": [
    {
     "data": {
      "text/html": [
       "<div>\n",
       "<style scoped>\n",
       "    .dataframe tbody tr th:only-of-type {\n",
       "        vertical-align: middle;\n",
       "    }\n",
       "\n",
       "    .dataframe tbody tr th {\n",
       "        vertical-align: top;\n",
       "    }\n",
       "\n",
       "    .dataframe thead th {\n",
       "        text-align: right;\n",
       "    }\n",
       "</style>\n",
       "<table border=\"1\" class=\"dataframe\">\n",
       "  <thead>\n",
       "    <tr style=\"text-align: right;\">\n",
       "      <th></th>\n",
       "      <th>Amount</th>\n",
       "    </tr>\n",
       "    <tr>\n",
       "      <th>Category</th>\n",
       "      <th></th>\n",
       "    </tr>\n",
       "  </thead>\n",
       "  <tbody>\n",
       "    <tr>\n",
       "      <th>Fruit</th>\n",
       "      <td>1701</td>\n",
       "    </tr>\n",
       "    <tr>\n",
       "      <th>Vegetable</th>\n",
       "      <td>1197</td>\n",
       "    </tr>\n",
       "  </tbody>\n",
       "</table>\n",
       "</div>"
      ],
      "text/plain": [
       "           Amount\n",
       "Category         \n",
       "Fruit        1701\n",
       "Vegetable    1197"
      ]
     },
     "metadata": {},
     "output_type": "display_data"
    }
   ],
   "source": [
    "pivot = df.pivot_table(index=['Category'],\n",
    "                       values=['Amount'],\n",
    "                       aggfunc='sum')\n",
    "display(pivot)"
   ]
  },
  {
   "cell_type": "code",
   "execution_count": 65,
   "id": "9a21b99e",
   "metadata": {},
   "outputs": [
    {
     "data": {
      "text/html": [
       "<div>\n",
       "<style scoped>\n",
       "    .dataframe tbody tr th:only-of-type {\n",
       "        vertical-align: middle;\n",
       "    }\n",
       "\n",
       "    .dataframe tbody tr th {\n",
       "        vertical-align: top;\n",
       "    }\n",
       "\n",
       "    .dataframe thead th {\n",
       "        text-align: right;\n",
       "    }\n",
       "</style>\n",
       "<table border=\"1\" class=\"dataframe\">\n",
       "  <thead>\n",
       "    <tr style=\"text-align: right;\">\n",
       "      <th></th>\n",
       "      <th></th>\n",
       "      <th>Amount</th>\n",
       "    </tr>\n",
       "    <tr>\n",
       "      <th>Product</th>\n",
       "      <th>Category</th>\n",
       "      <th></th>\n",
       "    </tr>\n",
       "  </thead>\n",
       "  <tbody>\n",
       "    <tr>\n",
       "      <th>Banana</th>\n",
       "      <th>Fruit</th>\n",
       "      <td>1091</td>\n",
       "    </tr>\n",
       "    <tr>\n",
       "      <th>Beans</th>\n",
       "      <th>Vegetable</th>\n",
       "      <td>626</td>\n",
       "    </tr>\n",
       "    <tr>\n",
       "      <th>Broccoli</th>\n",
       "      <th>Vegetable</th>\n",
       "      <td>301</td>\n",
       "    </tr>\n",
       "    <tr>\n",
       "      <th>Carrots</th>\n",
       "      <th>Vegetable</th>\n",
       "      <td>270</td>\n",
       "    </tr>\n",
       "    <tr>\n",
       "      <th>Orange</th>\n",
       "      <th>Fruit</th>\n",
       "      <td>610</td>\n",
       "    </tr>\n",
       "  </tbody>\n",
       "</table>\n",
       "</div>"
      ],
      "text/plain": [
       "                    Amount\n",
       "Product  Category         \n",
       "Banana   Fruit        1091\n",
       "Beans    Vegetable     626\n",
       "Broccoli Vegetable     301\n",
       "Carrots  Vegetable     270\n",
       "Orange   Fruit         610"
      ]
     },
     "metadata": {},
     "output_type": "display_data"
    }
   ],
   "source": [
    "\n",
    "\n",
    "\n",
    "\n",
    "pivot = df.pivot_table(index=['Product', 'Category'],\n",
    "                       values=['Amount'], aggfunc='sum')\n",
    "display(pivot)"
   ]
  },
  {
   "cell_type": "code",
   "execution_count": 72,
   "id": "1bcdd3bc",
   "metadata": {},
   "outputs": [
    {
     "data": {
      "text/html": [
       "<div>\n",
       "<style scoped>\n",
       "    .dataframe tbody tr th:only-of-type {\n",
       "        vertical-align: middle;\n",
       "    }\n",
       "\n",
       "    .dataframe tbody tr th {\n",
       "        vertical-align: top;\n",
       "    }\n",
       "\n",
       "    .dataframe thead tr th {\n",
       "        text-align: left;\n",
       "    }\n",
       "\n",
       "    .dataframe thead tr:last-of-type th {\n",
       "        text-align: right;\n",
       "    }\n",
       "</style>\n",
       "<table border=\"1\" class=\"dataframe\">\n",
       "  <thead>\n",
       "    <tr>\n",
       "      <th></th>\n",
       "      <th colspan=\"4\" halign=\"left\">Amount</th>\n",
       "    </tr>\n",
       "    <tr>\n",
       "      <th></th>\n",
       "      <th>mean</th>\n",
       "      <th>median</th>\n",
       "      <th>min</th>\n",
       "      <th>sum</th>\n",
       "    </tr>\n",
       "    <tr>\n",
       "      <th>Category</th>\n",
       "      <th></th>\n",
       "      <th></th>\n",
       "      <th></th>\n",
       "      <th></th>\n",
       "    </tr>\n",
       "  </thead>\n",
       "  <tbody>\n",
       "    <tr>\n",
       "      <th>Fruit</th>\n",
       "      <td>425.25</td>\n",
       "      <td>497.0</td>\n",
       "      <td>90</td>\n",
       "      <td>1701</td>\n",
       "    </tr>\n",
       "    <tr>\n",
       "      <th>Vegetable</th>\n",
       "      <td>299.25</td>\n",
       "      <td>254.5</td>\n",
       "      <td>62</td>\n",
       "      <td>1197</td>\n",
       "    </tr>\n",
       "  </tbody>\n",
       "</table>\n",
       "</div>"
      ],
      "text/plain": [
       "           Amount                 \n",
       "             mean median min   sum\n",
       "Category                          \n",
       "Fruit      425.25  497.0  90  1701\n",
       "Vegetable  299.25  254.5  62  1197"
      ]
     },
     "metadata": {},
     "output_type": "display_data"
    }
   ],
   "source": [
    "pivot = df.pivot_table(index=['Category'], values=['Amount'],\n",
    "                       aggfunc={'median', 'mean', 'min','sum'})\n",
    "display(pivot)"
   ]
  },
  {
   "cell_type": "code",
   "execution_count": 85,
   "id": "e46c5777",
   "metadata": {},
   "outputs": [
    {
     "data": {
      "text/html": [
       "<div>\n",
       "<style scoped>\n",
       "    .dataframe tbody tr th:only-of-type {\n",
       "        vertical-align: middle;\n",
       "    }\n",
       "\n",
       "    .dataframe tbody tr th {\n",
       "        vertical-align: top;\n",
       "    }\n",
       "\n",
       "    .dataframe thead tr th {\n",
       "        text-align: left;\n",
       "    }\n",
       "\n",
       "    .dataframe thead tr:last-of-type th {\n",
       "        text-align: right;\n",
       "    }\n",
       "</style>\n",
       "<table border=\"1\" class=\"dataframe\">\n",
       "  <thead>\n",
       "    <tr>\n",
       "      <th></th>\n",
       "      <th colspan=\"3\" halign=\"left\">Amount</th>\n",
       "    </tr>\n",
       "    <tr>\n",
       "      <th></th>\n",
       "      <th>mean</th>\n",
       "      <th>median</th>\n",
       "      <th>min</th>\n",
       "    </tr>\n",
       "    <tr>\n",
       "      <th>Product</th>\n",
       "      <th></th>\n",
       "      <th></th>\n",
       "      <th></th>\n",
       "    </tr>\n",
       "  </thead>\n",
       "  <tbody>\n",
       "    <tr>\n",
       "      <th>Banana</th>\n",
       "      <td>363.666667</td>\n",
       "      <td>384.0</td>\n",
       "      <td>90</td>\n",
       "    </tr>\n",
       "    <tr>\n",
       "      <th>Beans</th>\n",
       "      <td>626.000000</td>\n",
       "      <td>626.0</td>\n",
       "      <td>626</td>\n",
       "    </tr>\n",
       "    <tr>\n",
       "      <th>Broccoli</th>\n",
       "      <td>150.500000</td>\n",
       "      <td>150.5</td>\n",
       "      <td>62</td>\n",
       "    </tr>\n",
       "    <tr>\n",
       "      <th>Carrots</th>\n",
       "      <td>270.000000</td>\n",
       "      <td>270.0</td>\n",
       "      <td>270</td>\n",
       "    </tr>\n",
       "    <tr>\n",
       "      <th>Orange</th>\n",
       "      <td>610.000000</td>\n",
       "      <td>610.0</td>\n",
       "      <td>610</td>\n",
       "    </tr>\n",
       "  </tbody>\n",
       "</table>\n",
       "</div>"
      ],
      "text/plain": [
       "              Amount            \n",
       "                mean median  min\n",
       "Product                         \n",
       "Banana    363.666667  384.0   90\n",
       "Beans     626.000000  626.0  626\n",
       "Broccoli  150.500000  150.5   62\n",
       "Carrots   270.000000  270.0  270\n",
       "Orange    610.000000  610.0  610"
      ]
     },
     "metadata": {},
     "output_type": "display_data"
    }
   ],
   "source": [
    "pivot = df.pivot_table(index=['Product'], values=['Amount'],\n",
    "                       aggfunc={'median', 'mean', 'min'})\n",
    "display(pivot)"
   ]
  },
  {
   "cell_type": "markdown",
   "id": "0bcaf258",
   "metadata": {},
   "source": [
    "## New Lecture"
   ]
  },
  {
   "cell_type": "markdown",
   "id": "4edff894",
   "metadata": {},
   "source": [
    "#### Series"
   ]
  },
  {
   "cell_type": "code",
   "execution_count": 21,
   "id": "126f18bb",
   "metadata": {},
   "outputs": [
    {
     "data": {
      "text/html": [
       "<div>\n",
       "<style scoped>\n",
       "    .dataframe tbody tr th:only-of-type {\n",
       "        vertical-align: middle;\n",
       "    }\n",
       "\n",
       "    .dataframe tbody tr th {\n",
       "        vertical-align: top;\n",
       "    }\n",
       "\n",
       "    .dataframe thead th {\n",
       "        text-align: right;\n",
       "    }\n",
       "</style>\n",
       "<table border=\"1\" class=\"dataframe\">\n",
       "  <thead>\n",
       "    <tr style=\"text-align: right;\">\n",
       "      <th></th>\n",
       "      <th>Values</th>\n",
       "    </tr>\n",
       "  </thead>\n",
       "  <tbody>\n",
       "    <tr>\n",
       "      <th>a</th>\n",
       "      <td>1</td>\n",
       "    </tr>\n",
       "    <tr>\n",
       "      <th>b</th>\n",
       "      <td>2</td>\n",
       "    </tr>\n",
       "    <tr>\n",
       "      <th>c</th>\n",
       "      <td>3</td>\n",
       "    </tr>\n",
       "    <tr>\n",
       "      <th>d</th>\n",
       "      <td>4</td>\n",
       "    </tr>\n",
       "    <tr>\n",
       "      <th>e</th>\n",
       "      <td>5</td>\n",
       "    </tr>\n",
       "  </tbody>\n",
       "</table>\n",
       "</div>"
      ],
      "text/plain": [
       "   Values\n",
       "a       1\n",
       "b       2\n",
       "c       3\n",
       "d       4\n",
       "e       5"
      ]
     },
     "metadata": {},
     "output_type": "display_data"
    }
   ],
   "source": [
    "import pandas as pd\n",
    "ser=pd.Series(range(1,27), index=[x for x in 'abcdefghijklmnopqrstuvwxyz']).to_frame(\"Values\")\n",
    "display(ser.head())"
   ]
  },
  {
   "cell_type": "code",
   "execution_count": 17,
   "id": "2a858452",
   "metadata": {},
   "outputs": [
    {
     "name": "stdout",
     "output_type": "stream",
     "text": [
      "12     60\n",
      "13     65\n",
      "14     70\n",
      "15     75\n",
      "16     80\n",
      "17     85\n",
      "18     90\n",
      "19     95\n",
      "20    100\n",
      "21    105\n",
      "22    110\n",
      "23    115\n",
      "24    120\n",
      "dtype: int32\n"
     ]
    }
   ],
   "source": [
    "import pandas as pd\n",
    "import numpy as np\n",
    "ser=np.arange(12,25)\n",
    "serobj=pd.Series(data=ser*5,index=ser)\n",
    "print(serobj)"
   ]
  },
  {
   "cell_type": "markdown",
   "id": "213615a0",
   "metadata": {},
   "source": [
    "#### ACCESSING LAST"
   ]
  },
  {
   "cell_type": "code",
   "execution_count": 25,
   "id": "369633ea",
   "metadata": {},
   "outputs": [
    {
     "name": "stdout",
     "output_type": "stream",
     "text": [
      "   Values\n",
      "y      25\n",
      "z      26\n"
     ]
    }
   ],
   "source": [
    "print(ser[-2:])"
   ]
  },
  {
   "cell_type": "markdown",
   "id": "682f12d7",
   "metadata": {},
   "source": [
    "#### ACESSING START"
   ]
  },
  {
   "cell_type": "code",
   "execution_count": 31,
   "id": "3969b539",
   "metadata": {},
   "outputs": [
    {
     "data": {
      "text/html": [
       "<div>\n",
       "<style scoped>\n",
       "    .dataframe tbody tr th:only-of-type {\n",
       "        vertical-align: middle;\n",
       "    }\n",
       "\n",
       "    .dataframe tbody tr th {\n",
       "        vertical-align: top;\n",
       "    }\n",
       "\n",
       "    .dataframe thead th {\n",
       "        text-align: right;\n",
       "    }\n",
       "</style>\n",
       "<table border=\"1\" class=\"dataframe\">\n",
       "  <thead>\n",
       "    <tr style=\"text-align: right;\">\n",
       "      <th></th>\n",
       "      <th>Values</th>\n",
       "    </tr>\n",
       "  </thead>\n",
       "  <tbody>\n",
       "    <tr>\n",
       "      <th>a</th>\n",
       "      <td>1</td>\n",
       "    </tr>\n",
       "  </tbody>\n",
       "</table>\n",
       "</div>"
      ],
      "text/plain": [
       "   Values\n",
       "a       1"
      ]
     },
     "execution_count": 31,
     "metadata": {},
     "output_type": "execute_result"
    }
   ],
   "source": [
    "ser[:1]"
   ]
  },
  {
   "cell_type": "markdown",
   "id": "7def979d",
   "metadata": {},
   "source": [
    "####  Accessing a element using index element"
   ]
  },
  {
   "cell_type": "code",
   "execution_count": 33,
   "id": "e1c33fbc",
   "metadata": {},
   "outputs": [
    {
     "name": "stdout",
     "output_type": "stream",
     "text": [
      "o\n"
     ]
    }
   ],
   "source": [
    "data = np.array(['a', 's', 'd', 'f', 'g', 'h',\n",
    "                 'o', 'r', 'p', 'e', 'e', 'k', 'l'])\n",
    "ser = pd.Series(data, index=[10, 11, 12, 13, 14,\n",
    "                             15, 16, 17, 18, 19, 20, 21, 22])\n",
    "\n",
    "print(ser[16])"
   ]
  },
  {
   "cell_type": "markdown",
   "id": "39724c8c",
   "metadata": {},
   "source": [
    "#### Acessing Multiple"
   ]
  },
  {
   "cell_type": "code",
   "execution_count": 35,
   "id": "6e968481",
   "metadata": {},
   "outputs": [
    {
     "name": "stdout",
     "output_type": "stream",
     "text": [
      "10    a\n",
      "11    s\n",
      "12    d\n",
      "13    f\n",
      "14    g\n",
      "dtype: object\n"
     ]
    }
   ],
   "source": [
    "print(ser[[10, 11, 12, 13, 14]])"
   ]
  },
  {
   "cell_type": "markdown",
   "id": "3940c520",
   "metadata": {},
   "source": [
    "#### Access Multiple Elements by Providing Label of Index"
   ]
  },
  {
   "cell_type": "code",
   "execution_count": 39,
   "id": "a54af9f7",
   "metadata": {},
   "outputs": [
    {
     "name": "stdout",
     "output_type": "stream",
     "text": [
      "a    3\n",
      "d    6\n",
      "dtype: int32\n"
     ]
    }
   ],
   "source": [
    "ser = pd.Series(np.arange(3, 9), index=['a', 'b', 'c', 'd', 'e', 'f'])\n",
    "\n",
    "print(ser[['a', 'd']])"
   ]
  },
  {
   "cell_type": "markdown",
   "id": "cee50e63",
   "metadata": {},
   "source": [
    "#### Checking Equality"
   ]
  },
  {
   "cell_type": "code",
   "execution_count": 41,
   "id": "adfb3ea7",
   "metadata": {},
   "outputs": [
    {
     "name": "stdout",
     "output_type": "stream",
     "text": [
      "0     True\n",
      "1    False\n",
      "2     True\n",
      "dtype: bool\n"
     ]
    }
   ],
   "source": [
    "s1 = pd.Series([10, 20, 30])\n",
    "s2 = pd.Series([10, 25, 30])\n",
    "\n",
    "result = s1 == s2\n",
    "print(result)"
   ]
  },
  {
   "cell_type": "markdown",
   "id": "d034f8a3",
   "metadata": {},
   "source": [
    "#### Subtracting the DataFrames"
   ]
  },
  {
   "cell_type": "code",
   "execution_count": 45,
   "id": "55b73cb4",
   "metadata": {},
   "outputs": [
    {
     "name": "stdout",
     "output_type": "stream",
     "text": [
      "    A   B\n",
      "0   9  36\n",
      "1  18 -10\n",
      "2  27  54\n"
     ]
    }
   ],
   "source": [
    "df1 = pd.DataFrame({'A': [10, 20, 30], 'B': [40, 50, 60]})\n",
    "df2 = pd.DataFrame({'A': [1, 2, 3], 'B': [4, 60, 6]})\n",
    "\n",
    "result = df1 - df2\n",
    "print(result)"
   ]
  },
  {
   "cell_type": "markdown",
   "id": "6fb07030",
   "metadata": {},
   "source": [
    "#### Checking Greater Than"
   ]
  },
  {
   "cell_type": "code",
   "execution_count": 47,
   "id": "cf136326",
   "metadata": {},
   "outputs": [
    {
     "name": "stdout",
     "output_type": "stream",
     "text": [
      "      A      B\n",
      "0  True   True\n",
      "1  True  False\n",
      "2  True   True\n"
     ]
    }
   ],
   "source": [
    "result = df1 > df2\n",
    "print(result)"
   ]
  },
  {
   "cell_type": "markdown",
   "id": "94ace718",
   "metadata": {},
   "source": [
    "\n",
    "#### Applying logical AND"
   ]
  },
  {
   "cell_type": "code",
   "execution_count": 55,
   "id": "445254e9",
   "metadata": {},
   "outputs": [
    {
     "name": "stdout",
     "output_type": "stream",
     "text": [
      "0     True\n",
      "1    False\n",
      "2     True\n",
      "dtype: bool\n"
     ]
    }
   ],
   "source": [
    "s1 = pd.Series([True, False, True])\n",
    "s2 = pd.Series([False, False, True])\n",
    "\n",
    "result = s1 | s2\n",
    "print(result)"
   ]
  },
  {
   "cell_type": "markdown",
   "id": "6daee26e",
   "metadata": {},
   "source": [
    "#### Adding the DataFrames"
   ]
  },
  {
   "cell_type": "code",
   "execution_count": 57,
   "id": "243e1a09",
   "metadata": {},
   "outputs": [
    {
     "name": "stdout",
     "output_type": "stream",
     "text": [
      "     A     B\n",
      "0  2.0   NaN\n",
      "1  NaN   NaN\n",
      "2  NaN  12.0\n"
     ]
    }
   ],
   "source": [
    "df1 = pd.DataFrame({'A': [1, 2, None], 'B': [4, None, 6]})\n",
    "df2 = pd.DataFrame({'A': [1, None, 3], 'B': [None, 5, 6]})\n",
    "\n",
    "result = df1 + df2\n",
    "print(result)"
   ]
  },
  {
   "cell_type": "code",
   "execution_count": 65,
   "id": "cde5c145",
   "metadata": {},
   "outputs": [
    {
     "name": "stdout",
     "output_type": "stream",
     "text": [
      "0    New York\n",
      "1     Chicago\n",
      "2     Toronto\n",
      "3      Lisbon\n",
      "dtype: object\n"
     ]
    }
   ],
   "source": [
    "series = pd.Series(['New York', 'Chicago', 'Toronto', 'Lisbon'])\n",
    "\n",
    "print(series)"
   ]
  },
  {
   "cell_type": "markdown",
   "id": "0a9f52cf",
   "metadata": {},
   "source": [
    "#### Creating the row axis labels"
   ]
  },
  {
   "cell_type": "code",
   "execution_count": 67,
   "id": "6d8fa02e",
   "metadata": {},
   "outputs": [
    {
     "name": "stdout",
     "output_type": "stream",
     "text": [
      "City 1    New York\n",
      "City 2     Chicago\n",
      "City 3     Toronto\n",
      "City 4      Lisbon\n",
      "dtype: object\n"
     ]
    }
   ],
   "source": [
    "series.index = ['City 1', 'City 2', 'City 3', 'City 4'] \n",
    "\n",
    "print(series)"
   ]
  },
  {
   "cell_type": "code",
   "execution_count": 75,
   "id": "5fbb9e43",
   "metadata": {},
   "outputs": [
    {
     "name": "stdout",
     "output_type": "stream",
     "text": [
      "Day 1    1/1/2018\n",
      "Day 2    2/1/2018\n",
      "Day 3    3/1/2018\n",
      "Day 4    4/1/2018\n",
      "dtype: object\n"
     ]
    }
   ],
   "source": [
    "Date = ['1/1/2018', '2/1/2018', '3/1/2018', '4/1/2018']\n",
    "Index_name = ['Day 1', 'Day 2', 'Day 3', 'Day 4']\n",
    "\n",
    "sr = pd.Series(data = Date,        # Series Data\n",
    "               index = Index_name  # Index\n",
    "              )             \n",
    "\n",
    "print(sr)"
   ]
  },
  {
   "cell_type": "code",
   "execution_count": 79,
   "id": "b8319b16",
   "metadata": {},
   "outputs": [
    {
     "name": "stdout",
     "output_type": "stream",
     "text": [
      "Index(['Day 10', 'Day 20', 'Day 30', 'Day 40'], dtype='object')\n"
     ]
    }
   ],
   "source": [
    "Index_name1 = ['Day 10', 'Day 20', 'Day 30', 'Day 40']\n",
    "sr.index=Index_name1\n",
    "print(sr.index)"
   ]
  },
  {
   "cell_type": "code",
   "execution_count": 89,
   "id": "72f75608",
   "metadata": {},
   "outputs": [
    {
     "name": "stdout",
     "output_type": "stream",
     "text": [
      "Day 10    a\n",
      "Day 20    b\n",
      "Day 30    c\n",
      "Day 40    d\n",
      "1004      e\n",
      "dtype: object\n"
     ]
    }
   ],
   "source": [
    "data = np.array(['a', 'b', 'c', 'd', 'e']) \n",
    "\n",
    "s = pd.Series(data, index =['Day 10', 'Day 20', 'Day 30', 'Day 40', 1004]) \n",
    "print(s) "
   ]
  },
  {
   "cell_type": "markdown",
   "id": "d54b9d5b",
   "metadata": {},
   "source": [
    "#### Saving as Csv"
   ]
  },
  {
   "cell_type": "code",
   "execution_count": 95,
   "id": "78050b01",
   "metadata": {},
   "outputs": [
    {
     "name": "stdout",
     "output_type": "stream",
     "text": [
      "totalbill_tip, sex:smoker, day_time, size\n",
      "16.99, 1.01:Female|No, Sun, Dinner, 2\n",
      "10.34, 1.66, Male, No|Sun:Dinner, 3\n",
      "21.01:3.5_Male, No:Sun, Dinner, 3\n",
      "23.68, 3.31, Male|No, Sun_Dinner, 2\n",
      "24.59:3.61, Female_No, Sun, Dinner, 4\n",
      "25.29, 4.71|Male, No:Sun, Dinner, 4\n"
     ]
    }
   ],
   "source": [
    "data = \"\"\"totalbill_tip, sex:smoker, day_time, size\n",
    "16.99, 1.01:Female|No, Sun, Dinner, 2\n",
    "10.34, 1.66, Male, No|Sun:Dinner, 3\n",
    "21.01:3.5_Male, No:Sun, Dinner, 3\n",
    "23.68, 3.31, Male|No, Sun_Dinner, 2\n",
    "24.59:3.61, Female_No, Sun, Dinner, 4\n",
    "25.29, 4.71|Male, No:Sun, Dinner, 4\"\"\"\n",
    "\n",
    "# Save the data to a CSV file\n",
    "with open(\"sample.csv\", \"w\") as file:\n",
    "    file.write(data)\n",
    "print(data)"
   ]
  },
  {
   "cell_type": "code",
   "execution_count": 97,
   "id": "5f2c75be",
   "metadata": {},
   "outputs": [],
   "source": [
    "df=pd.read_csv(\"sample.csv\")"
   ]
  },
  {
   "cell_type": "code",
   "execution_count": 99,
   "id": "108a164e",
   "metadata": {},
   "outputs": [
    {
     "data": {
      "text/html": [
       "<div>\n",
       "<style scoped>\n",
       "    .dataframe tbody tr th:only-of-type {\n",
       "        vertical-align: middle;\n",
       "    }\n",
       "\n",
       "    .dataframe tbody tr th {\n",
       "        vertical-align: top;\n",
       "    }\n",
       "\n",
       "    .dataframe thead th {\n",
       "        text-align: right;\n",
       "    }\n",
       "</style>\n",
       "<table border=\"1\" class=\"dataframe\">\n",
       "  <thead>\n",
       "    <tr style=\"text-align: right;\">\n",
       "      <th></th>\n",
       "      <th>totalbill_tip</th>\n",
       "      <th>sex:smoker</th>\n",
       "      <th>day_time</th>\n",
       "      <th>size</th>\n",
       "    </tr>\n",
       "  </thead>\n",
       "  <tbody>\n",
       "    <tr>\n",
       "      <th>16.99</th>\n",
       "      <td>1.01:Female|No</td>\n",
       "      <td>Sun</td>\n",
       "      <td>Dinner</td>\n",
       "      <td>2.0</td>\n",
       "    </tr>\n",
       "    <tr>\n",
       "      <th>10.34</th>\n",
       "      <td>1.66</td>\n",
       "      <td>Male</td>\n",
       "      <td>No|Sun:Dinner</td>\n",
       "      <td>3.0</td>\n",
       "    </tr>\n",
       "    <tr>\n",
       "      <th>21.01:3.5_Male</th>\n",
       "      <td>No:Sun</td>\n",
       "      <td>Dinner</td>\n",
       "      <td>3</td>\n",
       "      <td>NaN</td>\n",
       "    </tr>\n",
       "    <tr>\n",
       "      <th>23.68</th>\n",
       "      <td>3.31</td>\n",
       "      <td>Male|No</td>\n",
       "      <td>Sun_Dinner</td>\n",
       "      <td>2.0</td>\n",
       "    </tr>\n",
       "    <tr>\n",
       "      <th>24.59:3.61</th>\n",
       "      <td>Female_No</td>\n",
       "      <td>Sun</td>\n",
       "      <td>Dinner</td>\n",
       "      <td>4.0</td>\n",
       "    </tr>\n",
       "    <tr>\n",
       "      <th>25.29</th>\n",
       "      <td>4.71|Male</td>\n",
       "      <td>No:Sun</td>\n",
       "      <td>Dinner</td>\n",
       "      <td>4.0</td>\n",
       "    </tr>\n",
       "  </tbody>\n",
       "</table>\n",
       "</div>"
      ],
      "text/plain": [
       "                  totalbill_tip  sex:smoker        day_time   size\n",
       "16.99            1.01:Female|No         Sun          Dinner    2.0\n",
       "10.34                      1.66        Male   No|Sun:Dinner    3.0\n",
       "21.01:3.5_Male           No:Sun      Dinner               3    NaN\n",
       "23.68                      3.31     Male|No      Sun_Dinner    2.0\n",
       "24.59:3.61            Female_No         Sun          Dinner    4.0\n",
       "25.29                 4.71|Male      No:Sun          Dinner    4.0"
      ]
     },
     "execution_count": 99,
     "metadata": {},
     "output_type": "execute_result"
    }
   ],
   "source": [
    "df"
   ]
  },
  {
   "cell_type": "markdown",
   "id": "00b718f3",
   "metadata": {},
   "source": [
    "#### Load the CSV file using pandas with multiple delimiters"
   ]
  },
  {
   "cell_type": "code",
   "execution_count": 101,
   "id": "db0d1b1b",
   "metadata": {},
   "outputs": [
    {
     "data": {
      "text/html": [
       "<div>\n",
       "<style scoped>\n",
       "    .dataframe tbody tr th:only-of-type {\n",
       "        vertical-align: middle;\n",
       "    }\n",
       "\n",
       "    .dataframe tbody tr th {\n",
       "        vertical-align: top;\n",
       "    }\n",
       "\n",
       "    .dataframe thead th {\n",
       "        text-align: right;\n",
       "    }\n",
       "</style>\n",
       "<table border=\"1\" class=\"dataframe\">\n",
       "  <thead>\n",
       "    <tr style=\"text-align: right;\">\n",
       "      <th></th>\n",
       "      <th>totalbill</th>\n",
       "      <th>tip</th>\n",
       "      <th>Unnamed: 2</th>\n",
       "      <th>sex</th>\n",
       "      <th>smoker</th>\n",
       "      <th>Unnamed: 5</th>\n",
       "      <th>day</th>\n",
       "      <th>time</th>\n",
       "      <th>Unnamed: 8</th>\n",
       "      <th>size</th>\n",
       "    </tr>\n",
       "  </thead>\n",
       "  <tbody>\n",
       "    <tr>\n",
       "      <th>16.99</th>\n",
       "      <td>NaN</td>\n",
       "      <td>1.01</td>\n",
       "      <td>Female</td>\n",
       "      <td>No</td>\n",
       "      <td>NaN</td>\n",
       "      <td>Sun</td>\n",
       "      <td>NaN</td>\n",
       "      <td>Dinner</td>\n",
       "      <td>NaN</td>\n",
       "      <td>2.0</td>\n",
       "    </tr>\n",
       "    <tr>\n",
       "      <th>10.34</th>\n",
       "      <td>NaN</td>\n",
       "      <td>1.66</td>\n",
       "      <td>NaN</td>\n",
       "      <td>Male</td>\n",
       "      <td>NaN</td>\n",
       "      <td>No</td>\n",
       "      <td>Sun</td>\n",
       "      <td>Dinner</td>\n",
       "      <td>NaN</td>\n",
       "      <td>3.0</td>\n",
       "    </tr>\n",
       "    <tr>\n",
       "      <th>21.01</th>\n",
       "      <td>3.50</td>\n",
       "      <td>Male</td>\n",
       "      <td>NaN</td>\n",
       "      <td>No</td>\n",
       "      <td>Sun</td>\n",
       "      <td>NaN</td>\n",
       "      <td>Dinner</td>\n",
       "      <td>NaN</td>\n",
       "      <td>3.0</td>\n",
       "      <td>NaN</td>\n",
       "    </tr>\n",
       "    <tr>\n",
       "      <th>23.68</th>\n",
       "      <td>NaN</td>\n",
       "      <td>3.31</td>\n",
       "      <td>NaN</td>\n",
       "      <td>Male</td>\n",
       "      <td>No</td>\n",
       "      <td>NaN</td>\n",
       "      <td>Sun</td>\n",
       "      <td>Dinner</td>\n",
       "      <td>NaN</td>\n",
       "      <td>2.0</td>\n",
       "    </tr>\n",
       "    <tr>\n",
       "      <th>24.59</th>\n",
       "      <td>3.61</td>\n",
       "      <td>NaN</td>\n",
       "      <td>Female</td>\n",
       "      <td>No</td>\n",
       "      <td>NaN</td>\n",
       "      <td>Sun</td>\n",
       "      <td>NaN</td>\n",
       "      <td>Dinner</td>\n",
       "      <td>NaN</td>\n",
       "      <td>4.0</td>\n",
       "    </tr>\n",
       "    <tr>\n",
       "      <th>25.29</th>\n",
       "      <td>NaN</td>\n",
       "      <td>4.71</td>\n",
       "      <td>Male</td>\n",
       "      <td>NaN</td>\n",
       "      <td>No</td>\n",
       "      <td>Sun</td>\n",
       "      <td>NaN</td>\n",
       "      <td>Dinner</td>\n",
       "      <td>NaN</td>\n",
       "      <td>4.0</td>\n",
       "    </tr>\n",
       "  </tbody>\n",
       "</table>\n",
       "</div>"
      ],
      "text/plain": [
       "       totalbill   tip Unnamed: 2   sex smoker Unnamed: 5     day    time  \\\n",
       "16.99        NaN  1.01     Female    No    NaN        Sun     NaN  Dinner   \n",
       "10.34        NaN  1.66        NaN  Male    NaN         No     Sun  Dinner   \n",
       "21.01       3.50  Male        NaN    No    Sun        NaN  Dinner     NaN   \n",
       "23.68        NaN  3.31        NaN  Male     No        NaN     Sun  Dinner   \n",
       "24.59       3.61   NaN     Female    No    NaN        Sun     NaN  Dinner   \n",
       "25.29        NaN  4.71       Male   NaN     No        Sun     NaN  Dinner   \n",
       "\n",
       "       Unnamed: 8  size  \n",
       "16.99         NaN   2.0  \n",
       "10.34         NaN   3.0  \n",
       "21.01         3.0   NaN  \n",
       "23.68         NaN   2.0  \n",
       "24.59         NaN   4.0  \n",
       "25.29         NaN   4.0  "
      ]
     },
     "execution_count": 101,
     "metadata": {},
     "output_type": "execute_result"
    }
   ],
   "source": [
    "df = pd.read_csv('sample.csv',\n",
    "                 sep='[:, |_]',  # Define the delimiters\n",
    "                 engine='python')  # Use Python engine for regex separators\n",
    "df"
   ]
  },
  {
   "cell_type": "markdown",
   "id": "f2d94aef-6255-4c34-bee7-d9e53811123b",
   "metadata": {},
   "source": [
    "## New Lecture"
   ]
  },
  {
   "cell_type": "markdown",
   "id": "17caca8a-ba59-46b9-bfeb-47038a45072e",
   "metadata": {},
   "source": [
    "### Pandas To CSV Functions"
   ]
  },
  {
   "cell_type": "code",
   "execution_count": 1,
   "id": "3683306f",
   "metadata": {},
   "outputs": [
    {
     "data": {
      "text/html": [
       "<div>\n",
       "<style scoped>\n",
       "    .dataframe tbody tr th:only-of-type {\n",
       "        vertical-align: middle;\n",
       "    }\n",
       "\n",
       "    .dataframe tbody tr th {\n",
       "        vertical-align: top;\n",
       "    }\n",
       "\n",
       "    .dataframe thead th {\n",
       "        text-align: right;\n",
       "    }\n",
       "</style>\n",
       "<table border=\"1\" class=\"dataframe\">\n",
       "  <thead>\n",
       "    <tr style=\"text-align: right;\">\n",
       "      <th></th>\n",
       "      <th>name</th>\n",
       "      <th>degree</th>\n",
       "      <th>score</th>\n",
       "    </tr>\n",
       "  </thead>\n",
       "  <tbody>\n",
       "    <tr>\n",
       "      <th>0</th>\n",
       "      <td>asam</td>\n",
       "      <td>MBA</td>\n",
       "      <td>90</td>\n",
       "    </tr>\n",
       "    <tr>\n",
       "      <th>1</th>\n",
       "      <td>zain</td>\n",
       "      <td>BCA</td>\n",
       "      <td>40</td>\n",
       "    </tr>\n",
       "    <tr>\n",
       "      <th>2</th>\n",
       "      <td>sameen</td>\n",
       "      <td>M.Tech</td>\n",
       "      <td>80</td>\n",
       "    </tr>\n",
       "    <tr>\n",
       "      <th>3</th>\n",
       "      <td>dayan</td>\n",
       "      <td>MBA</td>\n",
       "      <td>98</td>\n",
       "    </tr>\n",
       "  </tbody>\n",
       "</table>\n",
       "</div>"
      ],
      "text/plain": [
       "     name  degree  score\n",
       "0    asam     MBA     90\n",
       "1    zain     BCA     40\n",
       "2  sameen  M.Tech     80\n",
       "3   dayan     MBA     98"
      ]
     },
     "execution_count": 1,
     "metadata": {},
     "output_type": "execute_result"
    }
   ],
   "source": [
    "import pandas as pd\n",
    "\n",
    "# list of name, degree, score\n",
    "nme = [\"asam\", \"zain\", \"sameen\", \"dayan\"]\n",
    "deg = [\"MBA\", \"BCA\", \"M.Tech\", \"MBA\"]\n",
    "scr = [90, 40, 80, 98]\n",
    "\n",
    "# dictionary of lists\n",
    "dict1 = {'name': nme, 'degree': deg, 'score': scr}\n",
    "    \n",
    "df = pd.DataFrame(dict1)\n",
    "df"
   ]
  },
  {
   "cell_type": "code",
   "execution_count": 5,
   "id": "b28a715e-e0ac-4548-9d29-0e869afae1cf",
   "metadata": {},
   "outputs": [],
   "source": [
    "df.to_csv(\"Datasets/CSVFILE.csv\")"
   ]
  },
  {
   "cell_type": "code",
   "execution_count": 7,
   "id": "83406bf5-e647-4e81-a6d9-51f70a0ab650",
   "metadata": {},
   "outputs": [
    {
     "data": {
      "text/html": [
       "<div>\n",
       "<style scoped>\n",
       "    .dataframe tbody tr th:only-of-type {\n",
       "        vertical-align: middle;\n",
       "    }\n",
       "\n",
       "    .dataframe tbody tr th {\n",
       "        vertical-align: top;\n",
       "    }\n",
       "\n",
       "    .dataframe thead th {\n",
       "        text-align: right;\n",
       "    }\n",
       "</style>\n",
       "<table border=\"1\" class=\"dataframe\">\n",
       "  <thead>\n",
       "    <tr style=\"text-align: right;\">\n",
       "      <th></th>\n",
       "      <th>Unnamed: 0</th>\n",
       "      <th>name</th>\n",
       "      <th>degree</th>\n",
       "      <th>score</th>\n",
       "    </tr>\n",
       "  </thead>\n",
       "  <tbody>\n",
       "    <tr>\n",
       "      <th>0</th>\n",
       "      <td>0</td>\n",
       "      <td>asam</td>\n",
       "      <td>MBA</td>\n",
       "      <td>90</td>\n",
       "    </tr>\n",
       "    <tr>\n",
       "      <th>1</th>\n",
       "      <td>1</td>\n",
       "      <td>zain</td>\n",
       "      <td>BCA</td>\n",
       "      <td>40</td>\n",
       "    </tr>\n",
       "    <tr>\n",
       "      <th>2</th>\n",
       "      <td>2</td>\n",
       "      <td>sameen</td>\n",
       "      <td>M.Tech</td>\n",
       "      <td>80</td>\n",
       "    </tr>\n",
       "    <tr>\n",
       "      <th>3</th>\n",
       "      <td>3</td>\n",
       "      <td>dayan</td>\n",
       "      <td>MBA</td>\n",
       "      <td>98</td>\n",
       "    </tr>\n",
       "  </tbody>\n",
       "</table>\n",
       "</div>"
      ],
      "text/plain": [
       "   Unnamed: 0    name  degree  score\n",
       "0           0    asam     MBA     90\n",
       "1           1    zain     BCA     40\n",
       "2           2  sameen  M.Tech     80\n",
       "3           3   dayan     MBA     98"
      ]
     },
     "execution_count": 7,
     "metadata": {},
     "output_type": "execute_result"
    }
   ],
   "source": [
    "df1= pd.read_csv('Datasets/CSVFILE.csv')\n",
    "df1"
   ]
  },
  {
   "cell_type": "markdown",
   "id": "c2f8cac2-7edf-4f1c-ba8e-029873590304",
   "metadata": {},
   "source": [
    "## Removing Index"
   ]
  },
  {
   "cell_type": "code",
   "execution_count": 17,
   "id": "fbbd6f44-93f5-4cf6-a29f-e7df0da55c4d",
   "metadata": {},
   "outputs": [],
   "source": [
    "df.to_csv('Datasets/file2.csv',  index=False)"
   ]
  },
  {
   "cell_type": "code",
   "execution_count": 19,
   "id": "a2cf5700-d703-4c6a-828e-576e6c961829",
   "metadata": {},
   "outputs": [
    {
     "data": {
      "text/html": [
       "<div>\n",
       "<style scoped>\n",
       "    .dataframe tbody tr th:only-of-type {\n",
       "        vertical-align: middle;\n",
       "    }\n",
       "\n",
       "    .dataframe tbody tr th {\n",
       "        vertical-align: top;\n",
       "    }\n",
       "\n",
       "    .dataframe thead th {\n",
       "        text-align: right;\n",
       "    }\n",
       "</style>\n",
       "<table border=\"1\" class=\"dataframe\">\n",
       "  <thead>\n",
       "    <tr style=\"text-align: right;\">\n",
       "      <th></th>\n",
       "      <th>name</th>\n",
       "      <th>degree</th>\n",
       "      <th>score</th>\n",
       "    </tr>\n",
       "  </thead>\n",
       "  <tbody>\n",
       "    <tr>\n",
       "      <th>0</th>\n",
       "      <td>asam</td>\n",
       "      <td>MBA</td>\n",
       "      <td>90</td>\n",
       "    </tr>\n",
       "    <tr>\n",
       "      <th>1</th>\n",
       "      <td>zain</td>\n",
       "      <td>BCA</td>\n",
       "      <td>40</td>\n",
       "    </tr>\n",
       "    <tr>\n",
       "      <th>2</th>\n",
       "      <td>sameen</td>\n",
       "      <td>M.Tech</td>\n",
       "      <td>80</td>\n",
       "    </tr>\n",
       "    <tr>\n",
       "      <th>3</th>\n",
       "      <td>dayan</td>\n",
       "      <td>MBA</td>\n",
       "      <td>98</td>\n",
       "    </tr>\n",
       "  </tbody>\n",
       "</table>\n",
       "</div>"
      ],
      "text/plain": [
       "     name  degree  score\n",
       "0    asam     MBA     90\n",
       "1    zain     BCA     40\n",
       "2  sameen  M.Tech     80\n",
       "3   dayan     MBA     98"
      ]
     },
     "execution_count": 19,
     "metadata": {},
     "output_type": "execute_result"
    }
   ],
   "source": [
    "df2= pd.read_csv('Datasets/file2.csv')\n",
    "df2"
   ]
  },
  {
   "cell_type": "markdown",
   "id": "8727ca29-6f9c-4f93-880f-bdb79e8ab39f",
   "metadata": {},
   "source": [
    "### Specific Address "
   ]
  },
  {
   "cell_type": "code",
   "execution_count": 45,
   "id": "c616cdfb-0bee-4062-a31b-3736a78ae456",
   "metadata": {},
   "outputs": [
    {
     "data": {
      "text/html": [
       "<div>\n",
       "<style scoped>\n",
       "    .dataframe tbody tr th:only-of-type {\n",
       "        vertical-align: middle;\n",
       "    }\n",
       "\n",
       "    .dataframe tbody tr th {\n",
       "        vertical-align: top;\n",
       "    }\n",
       "\n",
       "    .dataframe thead th {\n",
       "        text-align: right;\n",
       "    }\n",
       "</style>\n",
       "<table border=\"1\" class=\"dataframe\">\n",
       "  <thead>\n",
       "    <tr style=\"text-align: right;\">\n",
       "      <th></th>\n",
       "      <th>name</th>\n",
       "      <th>degree</th>\n",
       "      <th>score</th>\n",
       "    </tr>\n",
       "  </thead>\n",
       "  <tbody>\n",
       "    <tr>\n",
       "      <th>0</th>\n",
       "      <td>asam</td>\n",
       "      <td>MBA</td>\n",
       "      <td>90</td>\n",
       "    </tr>\n",
       "    <tr>\n",
       "      <th>1</th>\n",
       "      <td>zain</td>\n",
       "      <td>BCA</td>\n",
       "      <td>40</td>\n",
       "    </tr>\n",
       "    <tr>\n",
       "      <th>2</th>\n",
       "      <td>sameen</td>\n",
       "      <td>M.Tech</td>\n",
       "      <td>80</td>\n",
       "    </tr>\n",
       "    <tr>\n",
       "      <th>3</th>\n",
       "      <td>dayan</td>\n",
       "      <td>MBA</td>\n",
       "      <td>98</td>\n",
       "    </tr>\n",
       "  </tbody>\n",
       "</table>\n",
       "</div>"
      ],
      "text/plain": [
       "     name  degree  score\n",
       "0    asam     MBA     90\n",
       "1    zain     BCA     40\n",
       "2  sameen  M.Tech     80\n",
       "3   dayan     MBA     98"
      ]
     },
     "execution_count": 45,
     "metadata": {},
     "output_type": "execute_result"
    }
   ],
   "source": [
    "df.to_csv(r'Datasets/file.csv', index=False)\n",
    "df2=pd.read_csv('Datasets/file.csv')\n",
    "df2"
   ]
  },
  {
   "cell_type": "markdown",
   "id": "1608e5b8-47a3-49b0-b3ef-2ac7e7b83837",
   "metadata": {},
   "source": [
    "### Write a DataFrame to CSV file using Tab Separator"
   ]
  },
  {
   "cell_type": "code",
   "execution_count": 27,
   "id": "d6e6f076-7a66-48e0-bb03-53410f741c08",
   "metadata": {},
   "outputs": [
    {
     "name": "stdout",
     "output_type": "stream",
     "text": [
      "Original DataFrame:\n",
      "   Name  Age\n",
      "0  Amit   20\n",
      "1  Cody   21\n",
      "2  Drew   25\n",
      "Data from Users.csv:\n",
      "   Name  Age\n",
      "0  Amit   20\n",
      "1  Cody   21\n",
      "2  Drew   25\n"
     ]
    }
   ],
   "source": [
    "import pandas as pd\n",
    "import numpy as np\n",
    "\n",
    "users = {'Name': ['Amit', 'Cody', 'Drew'],\n",
    "    'Age': [20,21,25]}\n",
    "\n",
    "#create DataFrame\n",
    "df = pd.DataFrame(users, columns=['Name','Age'])\n",
    "\n",
    "print(\"Original DataFrame:\")\n",
    "print(df)\n",
    "print('Data from Users.csv:')\n",
    "\n",
    "df.to_csv('Datasets/Users.csv', sep='\\t', index=False,header=True)\n",
    "new_df = pd.read_csv('Datasets/Users.csv', sep=\"\\t\")\n",
    "\n",
    "print(new_df)"
   ]
  },
  {
   "cell_type": "code",
   "execution_count": 29,
   "id": "2699365a-a220-4473-af72-3329c49cd37a",
   "metadata": {},
   "outputs": [
    {
     "data": {
      "text/html": [
       "<div>\n",
       "<style scoped>\n",
       "    .dataframe tbody tr th:only-of-type {\n",
       "        vertical-align: middle;\n",
       "    }\n",
       "\n",
       "    .dataframe tbody tr th {\n",
       "        vertical-align: top;\n",
       "    }\n",
       "\n",
       "    .dataframe thead th {\n",
       "        text-align: right;\n",
       "    }\n",
       "</style>\n",
       "<table border=\"1\" class=\"dataframe\">\n",
       "  <thead>\n",
       "    <tr style=\"text-align: right;\">\n",
       "      <th></th>\n",
       "      <th>Name</th>\n",
       "      <th>Age</th>\n",
       "    </tr>\n",
       "  </thead>\n",
       "  <tbody>\n",
       "    <tr>\n",
       "      <th>0</th>\n",
       "      <td>Amit</td>\n",
       "      <td>20</td>\n",
       "    </tr>\n",
       "    <tr>\n",
       "      <th>1</th>\n",
       "      <td>Cody</td>\n",
       "      <td>21</td>\n",
       "    </tr>\n",
       "    <tr>\n",
       "      <th>2</th>\n",
       "      <td>Drew</td>\n",
       "      <td>25</td>\n",
       "    </tr>\n",
       "  </tbody>\n",
       "</table>\n",
       "</div>"
      ],
      "text/plain": [
       "   Name  Age\n",
       "0  Amit   20\n",
       "1  Cody   21\n",
       "2  Drew   25"
      ]
     },
     "metadata": {},
     "output_type": "display_data"
    }
   ],
   "source": [
    "display(new_df)"
   ]
  },
  {
   "cell_type": "code",
   "execution_count": null,
   "id": "7827a09b-1e58-4af2-9d90-57afacaf9cd1",
   "metadata": {},
   "outputs": [],
   "source": []
  },
  {
   "cell_type": "code",
   "execution_count": 37,
   "id": "dadcaa7b-4842-4d05-aa57-800c5a882b07",
   "metadata": {},
   "outputs": [
    {
     "name": "stdout",
     "output_type": "stream",
     "text": [
      "  Name  Score\n",
      "0    a     90\n",
      "1    b     80\n",
      "2    c     95\n",
      "3    d     20\n"
     ]
    }
   ],
   "source": [
    "import pandas as pd\n",
    "\n",
    "scores = {'Name': ['a', 'b', 'c', 'd'],\n",
    "\t\t'Score': [90, 80, 95, 20]}\n",
    "\n",
    "df = pd.DataFrame(scores)\n",
    "\n",
    "print(df)\n"
   ]
  },
  {
   "cell_type": "code",
   "execution_count": 39,
   "id": "c517bbf6-2ed9-49c6-a251-88dedb82eb6d",
   "metadata": {},
   "outputs": [],
   "source": [
    "df.to_csv(\"Datasets/Ali.csv\", index=False, encoding = 'utf-8')"
   ]
  },
  {
   "cell_type": "code",
   "execution_count": 90,
   "id": "f11c2702-dade-49d1-93e8-c09a71c391a0",
   "metadata": {},
   "outputs": [
    {
     "name": "stdout",
     "output_type": "stream",
     "text": [
      "Name,Score\n",
      "a,90\n",
      "b,80\n",
      "c,95\n",
      "d,20\n",
      "\n"
     ]
    }
   ],
   "source": [
    "data= \"Datasets/Ali.csv\"\n",
    "with open (\"Datasets/Ali.csv\", 'r') as f:\n",
    "    x=f.read()\n",
    "    print(x)"
   ]
  },
  {
   "cell_type": "markdown",
   "id": "25707b29-8fe2-48d9-a213-5194260d066c",
   "metadata": {},
   "source": [
    "### Exporting a specific column"
   ]
  },
  {
   "cell_type": "code",
   "execution_count": 55,
   "id": "ad2332c1-54f3-420b-8f4f-91f95e6d04a0",
   "metadata": {},
   "outputs": [],
   "source": [
    "df.to_csv(\"Datasets/Ali1.csv\", columns = ['Name'], index= False, header= False)"
   ]
  },
  {
   "cell_type": "code",
   "execution_count": 101,
   "id": "da04cfd4-543d-449b-ae03-e01d1c9b8bfe",
   "metadata": {},
   "outputs": [
    {
     "data": {
      "text/html": [
       "<div>\n",
       "<style scoped>\n",
       "    .dataframe tbody tr th:only-of-type {\n",
       "        vertical-align: middle;\n",
       "    }\n",
       "\n",
       "    .dataframe tbody tr th {\n",
       "        vertical-align: top;\n",
       "    }\n",
       "\n",
       "    .dataframe thead th {\n",
       "        text-align: right;\n",
       "    }\n",
       "</style>\n",
       "<table border=\"1\" class=\"dataframe\">\n",
       "  <thead>\n",
       "    <tr style=\"text-align: right;\">\n",
       "      <th></th>\n",
       "      <th>Name</th>\n",
       "    </tr>\n",
       "  </thead>\n",
       "  <tbody>\n",
       "    <tr>\n",
       "      <th>0</th>\n",
       "      <td>a</td>\n",
       "    </tr>\n",
       "    <tr>\n",
       "      <th>1</th>\n",
       "      <td>b</td>\n",
       "    </tr>\n",
       "    <tr>\n",
       "      <th>2</th>\n",
       "      <td>c</td>\n",
       "    </tr>\n",
       "    <tr>\n",
       "      <th>3</th>\n",
       "      <td>d</td>\n",
       "    </tr>\n",
       "  </tbody>\n",
       "</table>\n",
       "</div>"
      ],
      "text/plain": [
       "  Name\n",
       "0    a\n",
       "1    b\n",
       "2    c\n",
       "3    d"
      ]
     },
     "execution_count": 101,
     "metadata": {},
     "output_type": "execute_result"
    }
   ],
   "source": [
    "df3= pd.read_csv(\"Ali1.csv\")\n",
    "df3"
   ]
  },
  {
   "cell_type": "markdown",
   "id": "59370b14-8841-4499-ab7c-9f1f2f1e17a0",
   "metadata": {},
   "source": [
    "### Reading a Json File"
   ]
  },
  {
   "cell_type": "code",
   "execution_count": 61,
   "id": "c0880d27-afc3-4bbd-be47-77b03d9f49b6",
   "metadata": {},
   "outputs": [],
   "source": [
    "import pandas as pd\n",
    "from io import StringIO\n",
    "import json\n",
    "\n",
    "data = {\n",
    "\t\"One\": {\n",
    "\t\t\"0\": 60,\n",
    "\t\t\"1\": 60,\n",
    "\t\t\"2\": 60,\n",
    "\t\t\"3\": 45,\n",
    "\t\t\"4\": 45,\n",
    "\t\t\"5\": 60\n",
    "\t},\n",
    "\t\"Two\": {\n",
    "\t\t\"0\": 110,\n",
    "\t\t\"1\": 117,\n",
    "\t\t\"2\": 103,\n",
    "\t\t\"3\": 109,\n",
    "\t\t\"4\": 117,\n",
    "\t\t\"5\": 102\n",
    "\t}\n",
    "}\n"
   ]
  },
  {
   "cell_type": "code",
   "execution_count": 69,
   "id": "09b257c4-acca-422e-bc3e-e2d1499d87dd",
   "metadata": {},
   "outputs": [
    {
     "data": {
      "text/html": [
       "<div>\n",
       "<style scoped>\n",
       "    .dataframe tbody tr th:only-of-type {\n",
       "        vertical-align: middle;\n",
       "    }\n",
       "\n",
       "    .dataframe tbody tr th {\n",
       "        vertical-align: top;\n",
       "    }\n",
       "\n",
       "    .dataframe thead th {\n",
       "        text-align: right;\n",
       "    }\n",
       "</style>\n",
       "<table border=\"1\" class=\"dataframe\">\n",
       "  <thead>\n",
       "    <tr style=\"text-align: right;\">\n",
       "      <th></th>\n",
       "      <th>One</th>\n",
       "      <th>Two</th>\n",
       "    </tr>\n",
       "  </thead>\n",
       "  <tbody>\n",
       "    <tr>\n",
       "      <th>0</th>\n",
       "      <td>60</td>\n",
       "      <td>110</td>\n",
       "    </tr>\n",
       "    <tr>\n",
       "      <th>1</th>\n",
       "      <td>60</td>\n",
       "      <td>117</td>\n",
       "    </tr>\n",
       "    <tr>\n",
       "      <th>2</th>\n",
       "      <td>60</td>\n",
       "      <td>103</td>\n",
       "    </tr>\n",
       "    <tr>\n",
       "      <th>3</th>\n",
       "      <td>45</td>\n",
       "      <td>109</td>\n",
       "    </tr>\n",
       "    <tr>\n",
       "      <th>4</th>\n",
       "      <td>45</td>\n",
       "      <td>117</td>\n",
       "    </tr>\n",
       "    <tr>\n",
       "      <th>5</th>\n",
       "      <td>60</td>\n",
       "      <td>102</td>\n",
       "    </tr>\n",
       "  </tbody>\n",
       "</table>\n",
       "</div>"
      ],
      "text/plain": [
       "   One  Two\n",
       "0   60  110\n",
       "1   60  117\n",
       "2   60  103\n",
       "3   45  109\n",
       "4   45  117\n",
       "5   60  102"
      ]
     },
     "execution_count": 69,
     "metadata": {},
     "output_type": "execute_result"
    }
   ],
   "source": [
    "p= pd.DataFrame(data)\n",
    "p"
   ]
  },
  {
   "cell_type": "code",
   "execution_count": 73,
   "id": "bcab7f87-f518-4d29-b1d4-aa34e2b66cb2",
   "metadata": {},
   "outputs": [
    {
     "name": "stdout",
     "output_type": "stream",
     "text": [
      "DataFrame using pd.read_json() method:\n",
      "       0    1    2    3    4    5\n",
      "One   60   60   60   45   45   60\n",
      "Two  110  117  103  109  117  102\n"
     ]
    }
   ],
   "source": [
    "json_str = json.dumps(data)\n",
    "\n",
    "df_read_json = pd.read_json(StringIO(json_str), orient='index')\n",
    "\n",
    "print(\"DataFrame using pd.read_json() method:\")\n",
    "print(df_read_json)\n"
   ]
  },
  {
   "cell_type": "markdown",
   "id": "e1547580-c8df-4947-8fca-ee36c87045b8",
   "metadata": {},
   "source": [
    "### Using JSON module and pd.json_normalize() method"
   ]
  },
  {
   "cell_type": "code",
   "execution_count": 75,
   "id": "0a6f3e48-3789-4b2c-99e9-5883901fab00",
   "metadata": {},
   "outputs": [
    {
     "name": "stdout",
     "output_type": "stream",
     "text": [
      "\n",
      "DataFrame using JSON module and pd.json_normalize() method:\n",
      "   One.0  One.1  One.2  One.3  One.4  One.5  Two.0  Two.1  Two.2  Two.3  Two.4  Two.5\n",
      "0     60     60     60     45     45     60    110    117    103    109    117    102\n"
     ]
    }
   ],
   "source": [
    "import json\n",
    " \n",
    "json_data = json.dumps(data)\n",
    "df_json_normalize = pd.json_normalize(json.loads(json_data))\n",
    "print(\"\\nDataFrame using JSON module and pd.json_normalize() method:\")\n",
    "print(df_json_normalize.to_string())"
   ]
  },
  {
   "cell_type": "code",
   "execution_count": 83,
   "id": "afb5f1d2-dc9f-4cf0-bb4c-d111fc74f77a",
   "metadata": {},
   "outputs": [
    {
     "data": {
      "text/html": [
       "<div>\n",
       "<style scoped>\n",
       "    .dataframe tbody tr th:only-of-type {\n",
       "        vertical-align: middle;\n",
       "    }\n",
       "\n",
       "    .dataframe tbody tr th {\n",
       "        vertical-align: top;\n",
       "    }\n",
       "\n",
       "    .dataframe thead th {\n",
       "        text-align: right;\n",
       "    }\n",
       "</style>\n",
       "<table border=\"1\" class=\"dataframe\">\n",
       "  <thead>\n",
       "    <tr style=\"text-align: right;\">\n",
       "      <th></th>\n",
       "      <th>One.0</th>\n",
       "      <th>One.1</th>\n",
       "      <th>One.2</th>\n",
       "      <th>One.3</th>\n",
       "      <th>One.4</th>\n",
       "      <th>One.5</th>\n",
       "      <th>Two.0</th>\n",
       "      <th>Two.1</th>\n",
       "      <th>Two.2</th>\n",
       "      <th>Two.3</th>\n",
       "      <th>Two.4</th>\n",
       "      <th>Two.5</th>\n",
       "    </tr>\n",
       "  </thead>\n",
       "  <tbody>\n",
       "    <tr>\n",
       "      <th>0</th>\n",
       "      <td>60</td>\n",
       "      <td>60</td>\n",
       "      <td>60</td>\n",
       "      <td>45</td>\n",
       "      <td>45</td>\n",
       "      <td>60</td>\n",
       "      <td>110</td>\n",
       "      <td>117</td>\n",
       "      <td>103</td>\n",
       "      <td>109</td>\n",
       "      <td>117</td>\n",
       "      <td>102</td>\n",
       "    </tr>\n",
       "  </tbody>\n",
       "</table>\n",
       "</div>"
      ],
      "text/plain": [
       "   One.0  One.1  One.2  One.3  One.4  One.5  Two.0  Two.1  Two.2  Two.3  \\\n",
       "0     60     60     60     45     45     60    110    117    103    109   \n",
       "\n",
       "   Two.4  Two.5  \n",
       "0    117    102  "
      ]
     },
     "execution_count": 83,
     "metadata": {},
     "output_type": "execute_result"
    }
   ],
   "source": [
    "d= pd.DataFrame(df_read_json)\n",
    "d1 = pd.DataFrame(data)\n",
    "df=pd.DataFrame(df_json_normalize)\n",
    "df\n",
    "# d1\n",
    "# d"
   ]
  },
  {
   "cell_type": "markdown",
   "id": "8c316bde-4cd9-4b7e-b005-96aa9f95b7f9",
   "metadata": {},
   "source": [
    "### Creating a JSON file Using Pandas"
   ]
  },
  {
   "cell_type": "code",
   "execution_count": 85,
   "id": "020a674b-462d-4b86-8244-6143bb87c225",
   "metadata": {},
   "outputs": [
    {
     "data": {
      "text/html": [
       "<div>\n",
       "<style scoped>\n",
       "    .dataframe tbody tr th:only-of-type {\n",
       "        vertical-align: middle;\n",
       "    }\n",
       "\n",
       "    .dataframe tbody tr th {\n",
       "        vertical-align: top;\n",
       "    }\n",
       "\n",
       "    .dataframe thead th {\n",
       "        text-align: right;\n",
       "    }\n",
       "</style>\n",
       "<table border=\"1\" class=\"dataframe\">\n",
       "  <thead>\n",
       "    <tr style=\"text-align: right;\">\n",
       "      <th></th>\n",
       "      <th>col 1</th>\n",
       "      <th>col 2</th>\n",
       "      <th>col3</th>\n",
       "    </tr>\n",
       "  </thead>\n",
       "  <tbody>\n",
       "    <tr>\n",
       "      <th>row 1</th>\n",
       "      <td>a</td>\n",
       "      <td>b</td>\n",
       "      <td>c</td>\n",
       "    </tr>\n",
       "    <tr>\n",
       "      <th>row 2</th>\n",
       "      <td>d</td>\n",
       "      <td>e</td>\n",
       "      <td>f</td>\n",
       "    </tr>\n",
       "    <tr>\n",
       "      <th>row3</th>\n",
       "      <td>g</td>\n",
       "      <td>h</td>\n",
       "      <td>i</td>\n",
       "    </tr>\n",
       "  </tbody>\n",
       "</table>\n",
       "</div>"
      ],
      "text/plain": [
       "      col 1 col 2 col3\n",
       "row 1     a     b    c\n",
       "row 2     d     e    f\n",
       "row3      g     h    i"
      ]
     },
     "execution_count": 85,
     "metadata": {},
     "output_type": "execute_result"
    }
   ],
   "source": [
    "df = pd.DataFrame([['a', 'b', 'c'], ['d', 'e', 'f'], ['g', 'h', 'i']],\n",
    "                  index =['row 1', 'row 2', 'row3'],\n",
    "                  columns =['col 1', 'col 2', 'col3'])\n",
    "\n",
    "df.to_json('Datasets/file.json', orient = 'split', compression = 'infer', index = 'true')\n",
    "\n",
    "df1 = pd.read_json('Datasets/file.json', orient ='split', compression = 'infer')\n",
    " \n",
    "\n",
    "df1"
   ]
  },
  {
   "cell_type": "code",
   "execution_count": null,
   "id": "f3f1ad76-6404-42f6-879b-99dd9cec70c9",
   "metadata": {},
   "outputs": [],
   "source": []
  },
  {
   "cell_type": "code",
   "execution_count": 89,
   "id": "94be733e-fe2a-4c8d-b69d-07dd682347b4",
   "metadata": {},
   "outputs": [
    {
     "data": {
      "text/html": [
       "<div>\n",
       "<style scoped>\n",
       "    .dataframe tbody tr th:only-of-type {\n",
       "        vertical-align: middle;\n",
       "    }\n",
       "\n",
       "    .dataframe tbody tr th {\n",
       "        vertical-align: top;\n",
       "    }\n",
       "\n",
       "    .dataframe thead th {\n",
       "        text-align: right;\n",
       "    }\n",
       "</style>\n",
       "<table border=\"1\" class=\"dataframe\">\n",
       "  <thead>\n",
       "    <tr style=\"text-align: right;\">\n",
       "      <th></th>\n",
       "      <th>ID</th>\n",
       "      <th>NAME</th>\n",
       "      <th>DATE OF JOINING</th>\n",
       "    </tr>\n",
       "  </thead>\n",
       "  <tbody>\n",
       "    <tr>\n",
       "      <th>0</th>\n",
       "      <td>15135</td>\n",
       "      <td>Alex</td>\n",
       "      <td>25 / 4/2014</td>\n",
       "    </tr>\n",
       "    <tr>\n",
       "      <th>1</th>\n",
       "      <td>23515</td>\n",
       "      <td>Bob</td>\n",
       "      <td>26 / 8/2018</td>\n",
       "    </tr>\n",
       "    <tr>\n",
       "      <th>2</th>\n",
       "      <td>31313</td>\n",
       "      <td>Martha</td>\n",
       "      <td>18 / 1/2019</td>\n",
       "    </tr>\n",
       "    <tr>\n",
       "      <th>3</th>\n",
       "      <td>55665</td>\n",
       "      <td>Alen</td>\n",
       "      <td>5 / 5/2020</td>\n",
       "    </tr>\n",
       "    <tr>\n",
       "      <th>4</th>\n",
       "      <td>63513</td>\n",
       "      <td>Maria</td>\n",
       "      <td>9 / 12 / 2020</td>\n",
       "    </tr>\n",
       "  </tbody>\n",
       "</table>\n",
       "</div>"
      ],
      "text/plain": [
       "      ID    NAME DATE OF JOINING\n",
       "0  15135    Alex     25 / 4/2014\n",
       "1  23515     Bob     26 / 8/2018\n",
       "2  31313  Martha     18 / 1/2019\n",
       "3  55665    Alen      5 / 5/2020\n",
       "4  63513   Maria   9 / 12 / 2020"
      ]
     },
     "execution_count": 89,
     "metadata": {},
     "output_type": "execute_result"
    }
   ],
   "source": [
    "df = pd.DataFrame(data = [['15135', 'Alex', '25 / 4/2014'],\n",
    "                   ['23515', 'Bob', '26 / 8/2018'],\n",
    "                   ['31313', 'Martha', '18 / 1/2019'],\n",
    "                   ['55665', 'Alen', '5 / 5/2020'],\n",
    "                   ['63513', 'Maria', '9 / 12 / 2020']],\n",
    "                  columns =['ID', 'NAME', 'DATE OF JOINING'])\n",
    " \n",
    "df.to_json('Datasets/file1.json', orient = 'split', compression = 'infer')\n",
    " \n",
    "# reading the JSON file\n",
    "df = pd.read_json('Datasets/file1.json', orient ='split', compression = 'infer')\n",
    "df"
   ]
  },
  {
   "cell_type": "markdown",
   "id": "7bbb5b72-bdfd-465e-90c6-192fd76c55cc",
   "metadata": {},
   "source": [
    "### Reading a Excel File"
   ]
  },
  {
   "cell_type": "code",
   "execution_count": 97,
   "id": "abdeb67c-1a97-48b1-b423-3e07a352c25e",
   "metadata": {},
   "outputs": [
    {
     "data": {
      "text/html": [
       "<div>\n",
       "<style scoped>\n",
       "    .dataframe tbody tr th:only-of-type {\n",
       "        vertical-align: middle;\n",
       "    }\n",
       "\n",
       "    .dataframe tbody tr th {\n",
       "        vertical-align: top;\n",
       "    }\n",
       "\n",
       "    .dataframe thead th {\n",
       "        text-align: right;\n",
       "    }\n",
       "</style>\n",
       "<table border=\"1\" class=\"dataframe\">\n",
       "  <thead>\n",
       "    <tr style=\"text-align: right;\">\n",
       "      <th></th>\n",
       "      <th>Name</th>\n",
       "      <th>Age</th>\n",
       "      <th>Roll No</th>\n",
       "      <th>Address</th>\n",
       "    </tr>\n",
       "  </thead>\n",
       "  <tbody>\n",
       "    <tr>\n",
       "      <th>0</th>\n",
       "      <td>Ali</td>\n",
       "      <td>20</td>\n",
       "      <td>1</td>\n",
       "      <td>Yasin, Gilgit</td>\n",
       "    </tr>\n",
       "    <tr>\n",
       "      <th>1</th>\n",
       "      <td>Faiz</td>\n",
       "      <td>21</td>\n",
       "      <td>2</td>\n",
       "      <td>Jutial, Gilgit</td>\n",
       "    </tr>\n",
       "    <tr>\n",
       "      <th>2</th>\n",
       "      <td>Zeeshan</td>\n",
       "      <td>22</td>\n",
       "      <td>3</td>\n",
       "      <td>Yasin, Gilgit</td>\n",
       "    </tr>\n",
       "    <tr>\n",
       "      <th>3</th>\n",
       "      <td>Mubashir</td>\n",
       "      <td>19</td>\n",
       "      <td>4</td>\n",
       "      <td>Jutial, Gilgit</td>\n",
       "    </tr>\n",
       "  </tbody>\n",
       "</table>\n",
       "</div>"
      ],
      "text/plain": [
       "       Name  Age  Roll No         Address\n",
       "0       Ali   20        1   Yasin, Gilgit\n",
       "1      Faiz   21        2  Jutial, Gilgit\n",
       "2  Zeeshan    22        3   Yasin, Gilgit\n",
       "3  Mubashir   19        4  Jutial, Gilgit"
      ]
     },
     "metadata": {},
     "output_type": "display_data"
    }
   ],
   "source": [
    "file='Datasets/Data.xlsx'\n",
    "df = pd.read_excel(file)\n",
    "display(df)"
   ]
  },
  {
   "cell_type": "code",
   "execution_count": 125,
   "id": "74595c0b-374b-468e-9a15-b6d56f14c4f2",
   "metadata": {},
   "outputs": [
    {
     "data": {
      "text/html": [
       "<div>\n",
       "<style scoped>\n",
       "    .dataframe tbody tr th:only-of-type {\n",
       "        vertical-align: middle;\n",
       "    }\n",
       "\n",
       "    .dataframe tbody tr th {\n",
       "        vertical-align: top;\n",
       "    }\n",
       "\n",
       "    .dataframe thead th {\n",
       "        text-align: right;\n",
       "    }\n",
       "</style>\n",
       "<table border=\"1\" class=\"dataframe\">\n",
       "  <thead>\n",
       "    <tr style=\"text-align: right;\">\n",
       "      <th></th>\n",
       "      <th>Name</th>\n",
       "      <th>Subjects Name</th>\n",
       "      <th>Marks</th>\n",
       "    </tr>\n",
       "  </thead>\n",
       "  <tbody>\n",
       "    <tr>\n",
       "      <th>0</th>\n",
       "      <td>Ali</td>\n",
       "      <td>English</td>\n",
       "      <td>42</td>\n",
       "    </tr>\n",
       "    <tr>\n",
       "      <th>1</th>\n",
       "      <td>Faiz</td>\n",
       "      <td>Maths</td>\n",
       "      <td>43</td>\n",
       "    </tr>\n",
       "    <tr>\n",
       "      <th>2</th>\n",
       "      <td>Zeeshan</td>\n",
       "      <td>Science</td>\n",
       "      <td>41</td>\n",
       "    </tr>\n",
       "    <tr>\n",
       "      <th>3</th>\n",
       "      <td>Mubashir</td>\n",
       "      <td>Urdu</td>\n",
       "      <td>40</td>\n",
       "    </tr>\n",
       "  </tbody>\n",
       "</table>\n",
       "</div>"
      ],
      "text/plain": [
       "       Name Subjects Name  Marks\n",
       "0       Ali       English     42\n",
       "1      Faiz         Maths     43\n",
       "2  Zeeshan        Science     41\n",
       "3  Mubashir          Urdu     40"
      ]
     },
     "execution_count": 125,
     "metadata": {},
     "output_type": "execute_result"
    }
   ],
   "source": [
    "sheet1 = pd.read_excel(file, \n",
    "                        sheet_name = 'A', \n",
    "                       )\n",
    "\n",
    "sheet2 = pd.read_excel(file, \n",
    "                        sheet_name = 'B',)\n",
    "                        # index_col = 1)\n",
    "sheet3 =pd.read_excel(file,\n",
    "                     sheet_name= 2,\n",
    "                     )\n",
    "\n",
    "sheet3\n"
   ]
  },
  {
   "cell_type": "code",
   "execution_count": 127,
   "id": "3fae709b-4dc3-4235-8f6e-b01b12da8b7f",
   "metadata": {},
   "outputs": [
    {
     "name": "stdout",
     "output_type": "stream",
     "text": [
      "       Name  Age  Roll No         Address Subjects Name  Marks\n",
      "0       Ali   20        1   Yasin, Gilgit       English     42\n",
      "1      Faiz   21        2  Jutial, Gilgit         Maths     43\n",
      "2  Zeeshan    22        3   Yasin, Gilgit       Science     41\n",
      "3  Mubashir   19        4  Jutial, Gilgit          Urdu     40\n"
     ]
    }
   ],
   "source": [
    "newData1 = pd.merge(sheet1, sheet3, on=\"Name\")\n",
    "\n",
    "print(newData1)"
   ]
  },
  {
   "cell_type": "code",
   "execution_count": 129,
   "id": "e203b0a5-b83a-4764-a864-b8aedcd2fd70",
   "metadata": {},
   "outputs": [
    {
     "data": {
      "text/html": [
       "<div>\n",
       "<style scoped>\n",
       "    .dataframe tbody tr th:only-of-type {\n",
       "        vertical-align: middle;\n",
       "    }\n",
       "\n",
       "    .dataframe tbody tr th {\n",
       "        vertical-align: top;\n",
       "    }\n",
       "\n",
       "    .dataframe thead th {\n",
       "        text-align: right;\n",
       "    }\n",
       "</style>\n",
       "<table border=\"1\" class=\"dataframe\">\n",
       "  <thead>\n",
       "    <tr style=\"text-align: right;\">\n",
       "      <th></th>\n",
       "      <th>Age</th>\n",
       "      <th>Roll No</th>\n",
       "      <th>Marks</th>\n",
       "    </tr>\n",
       "  </thead>\n",
       "  <tbody>\n",
       "    <tr>\n",
       "      <th>count</th>\n",
       "      <td>4.000000</td>\n",
       "      <td>4.000000</td>\n",
       "      <td>4.000000</td>\n",
       "    </tr>\n",
       "    <tr>\n",
       "      <th>mean</th>\n",
       "      <td>20.500000</td>\n",
       "      <td>2.500000</td>\n",
       "      <td>41.500000</td>\n",
       "    </tr>\n",
       "    <tr>\n",
       "      <th>std</th>\n",
       "      <td>1.290994</td>\n",
       "      <td>1.290994</td>\n",
       "      <td>1.290994</td>\n",
       "    </tr>\n",
       "    <tr>\n",
       "      <th>min</th>\n",
       "      <td>19.000000</td>\n",
       "      <td>1.000000</td>\n",
       "      <td>40.000000</td>\n",
       "    </tr>\n",
       "    <tr>\n",
       "      <th>25%</th>\n",
       "      <td>19.750000</td>\n",
       "      <td>1.750000</td>\n",
       "      <td>40.750000</td>\n",
       "    </tr>\n",
       "    <tr>\n",
       "      <th>50%</th>\n",
       "      <td>20.500000</td>\n",
       "      <td>2.500000</td>\n",
       "      <td>41.500000</td>\n",
       "    </tr>\n",
       "    <tr>\n",
       "      <th>75%</th>\n",
       "      <td>21.250000</td>\n",
       "      <td>3.250000</td>\n",
       "      <td>42.250000</td>\n",
       "    </tr>\n",
       "    <tr>\n",
       "      <th>max</th>\n",
       "      <td>22.000000</td>\n",
       "      <td>4.000000</td>\n",
       "      <td>43.000000</td>\n",
       "    </tr>\n",
       "  </tbody>\n",
       "</table>\n",
       "</div>"
      ],
      "text/plain": [
       "             Age   Roll No      Marks\n",
       "count   4.000000  4.000000   4.000000\n",
       "mean   20.500000  2.500000  41.500000\n",
       "std     1.290994  1.290994   1.290994\n",
       "min    19.000000  1.000000  40.000000\n",
       "25%    19.750000  1.750000  40.750000\n",
       "50%    20.500000  2.500000  41.500000\n",
       "75%    21.250000  3.250000  42.250000\n",
       "max    22.000000  4.000000  43.000000"
      ]
     },
     "execution_count": 129,
     "metadata": {},
     "output_type": "execute_result"
    }
   ],
   "source": [
    "newData1.describe()"
   ]
  },
  {
   "cell_type": "markdown",
   "id": "edc52e0f-ea05-43f4-9d8a-7c6da2af4466",
   "metadata": {},
   "source": [
    "### Reading a Txt file with csv"
   ]
  },
  {
   "cell_type": "code",
   "execution_count": 143,
   "id": "23992039-edab-4a6f-a39f-44dc1866490b",
   "metadata": {},
   "outputs": [
    {
     "data": {
      "text/html": [
       "<div>\n",
       "<style scoped>\n",
       "    .dataframe tbody tr th:only-of-type {\n",
       "        vertical-align: middle;\n",
       "    }\n",
       "\n",
       "    .dataframe tbody tr th {\n",
       "        vertical-align: top;\n",
       "    }\n",
       "\n",
       "    .dataframe thead th {\n",
       "        text-align: right;\n",
       "    }\n",
       "</style>\n",
       "<table border=\"1\" class=\"dataframe\">\n",
       "  <thead>\n",
       "    <tr style=\"text-align: right;\">\n",
       "      <th></th>\n",
       "      <th>A</th>\n",
       "      <th>B</th>\n",
       "      <th>C</th>\n",
       "      <th>D</th>\n",
       "      <th>E</th>\n",
       "      <th>F</th>\n",
       "    </tr>\n",
       "  </thead>\n",
       "  <tbody>\n",
       "    <tr>\n",
       "      <th>0</th>\n",
       "      <td>12</td>\n",
       "      <td>45</td>\n",
       "      <td>56</td>\n",
       "      <td>78</td>\n",
       "      <td>45</td>\n",
       "      <td>34</td>\n",
       "    </tr>\n",
       "  </tbody>\n",
       "</table>\n",
       "</div>"
      ],
      "text/plain": [
       "    A   B   C   D   E   F\n",
       "0  12  45  56  78  45  34"
      ]
     },
     "execution_count": 143,
     "metadata": {},
     "output_type": "execute_result"
    }
   ],
   "source": [
    "df1 = pd.read_csv(\"Datasets/csvfile.txt\")\n",
    "df1"
   ]
  },
  {
   "cell_type": "code",
   "execution_count": 147,
   "id": "5ff8394a-d961-43f5-ba76-ff2350284181",
   "metadata": {},
   "outputs": [],
   "source": [
    "df1.to_csv('Datasets/csvfile1.csv',  \n",
    "                  index = None) "
   ]
  },
  {
   "cell_type": "code",
   "execution_count": 324,
   "id": "3b1a12a1-4076-48bc-91f3-7830d576f837",
   "metadata": {},
   "outputs": [],
   "source": [
    "#delimiter = '/'\n",
    "\n",
    "\n"
   ]
  },
  {
   "cell_type": "code",
   "execution_count": null,
   "id": "93553174-196e-4286-a743-f86f9cf4ae15",
   "metadata": {},
   "outputs": [],
   "source": []
  },
  {
   "cell_type": "code",
   "execution_count": 149,
   "id": "beb78538-b611-4b9b-aeae-850309ef2503",
   "metadata": {},
   "outputs": [
    {
     "name": "stdout",
     "output_type": "stream",
     "text": [
      "   First Score  Second Score  Third Score\n",
      "0        False         False         True\n",
      "1        False         False        False\n",
      "2         True         False        False\n",
      "3        False          True        False\n"
     ]
    }
   ],
   "source": [
    "import pandas as pd\n",
    "import numpy as np\n",
    "\n",
    "data = {'First Score': [100, 90, None, 95],\n",
    "        'Second Score': [30, 45, 56, np.nan],\n",
    "        'Third Score': [np.nan, 40, 80, 98]}\n",
    "\n",
    "df = pd.DataFrame(data)\n",
    "\n",
    "missing_values = df.isnull()\n",
    "\n",
    "print(missing_values)"
   ]
  },
  {
   "cell_type": "code",
   "execution_count": 330,
   "id": "899a8a52-492e-4d5c-bc30-3058d2c7b7a2",
   "metadata": {},
   "outputs": [
    {
     "data": {
      "text/html": [
       "<div>\n",
       "<style scoped>\n",
       "    .dataframe tbody tr th:only-of-type {\n",
       "        vertical-align: middle;\n",
       "    }\n",
       "\n",
       "    .dataframe tbody tr th {\n",
       "        vertical-align: top;\n",
       "    }\n",
       "\n",
       "    .dataframe thead th {\n",
       "        text-align: right;\n",
       "    }\n",
       "</style>\n",
       "<table border=\"1\" class=\"dataframe\">\n",
       "  <thead>\n",
       "    <tr style=\"text-align: right;\">\n",
       "      <th></th>\n",
       "      <th>Name</th>\n",
       "      <th>Age</th>\n",
       "      <th>City</th>\n",
       "    </tr>\n",
       "  </thead>\n",
       "  <tbody>\n",
       "    <tr>\n",
       "      <th>0</th>\n",
       "      <td>Alice</td>\n",
       "      <td>25</td>\n",
       "      <td>NY</td>\n",
       "    </tr>\n",
       "    <tr>\n",
       "      <th>1</th>\n",
       "      <td>Bob</td>\n",
       "      <td>30</td>\n",
       "      <td>LA</td>\n",
       "    </tr>\n",
       "    <tr>\n",
       "      <th>2</th>\n",
       "      <td>Alice</td>\n",
       "      <td>25</td>\n",
       "      <td>NY</td>\n",
       "    </tr>\n",
       "    <tr>\n",
       "      <th>3</th>\n",
       "      <td>David</td>\n",
       "      <td>40</td>\n",
       "      <td>Chicago</td>\n",
       "    </tr>\n",
       "  </tbody>\n",
       "</table>\n",
       "</div>"
      ],
      "text/plain": [
       "    Name  Age     City\n",
       "0  Alice   25       NY\n",
       "1    Bob   30       LA\n",
       "2  Alice   25       NY\n",
       "3  David   40  Chicago"
      ]
     },
     "metadata": {},
     "output_type": "display_data"
    },
    {
     "data": {
      "text/html": [
       "<div>\n",
       "<style scoped>\n",
       "    .dataframe tbody tr th:only-of-type {\n",
       "        vertical-align: middle;\n",
       "    }\n",
       "\n",
       "    .dataframe tbody tr th {\n",
       "        vertical-align: top;\n",
       "    }\n",
       "\n",
       "    .dataframe thead th {\n",
       "        text-align: right;\n",
       "    }\n",
       "</style>\n",
       "<table border=\"1\" class=\"dataframe\">\n",
       "  <thead>\n",
       "    <tr style=\"text-align: right;\">\n",
       "      <th></th>\n",
       "      <th>Name</th>\n",
       "      <th>Age</th>\n",
       "      <th>City</th>\n",
       "    </tr>\n",
       "  </thead>\n",
       "  <tbody>\n",
       "    <tr>\n",
       "      <th>0</th>\n",
       "      <td>Alice</td>\n",
       "      <td>25</td>\n",
       "      <td>NY</td>\n",
       "    </tr>\n",
       "    <tr>\n",
       "      <th>1</th>\n",
       "      <td>Bob</td>\n",
       "      <td>30</td>\n",
       "      <td>LA</td>\n",
       "    </tr>\n",
       "    <tr>\n",
       "      <th>3</th>\n",
       "      <td>David</td>\n",
       "      <td>40</td>\n",
       "      <td>Chicago</td>\n",
       "    </tr>\n",
       "  </tbody>\n",
       "</table>\n",
       "</div>"
      ],
      "text/plain": [
       "    Name  Age     City\n",
       "0  Alice   25       NY\n",
       "1    Bob   30       LA\n",
       "3  David   40  Chicago"
      ]
     },
     "metadata": {},
     "output_type": "display_data"
    }
   ],
   "source": [
    "data = {\n",
    "    \"Name\": [\"Alice\", \"Bob\", \"Alice\", \"David\"],\n",
    "    \"Age\": [25, 30, 25, 40],\n",
    "    \"City\": [\"NY\", \"LA\", \"NY\", \"Chicago\"]\n",
    "}\n",
    "df = pd.DataFrame(data)\n",
    "display(df)\n",
    "\n",
    "\n",
    "unique_df = df.drop_duplicates()\n",
    "display(unique_df)"
   ]
  },
  {
   "cell_type": "code",
   "execution_count": null,
   "id": "1c81cbcd-b4af-45de-ba12-a46c740f7e43",
   "metadata": {},
   "outputs": [],
   "source": []
  }
 ],
 "metadata": {
  "kernelspec": {
   "display_name": "Python [conda env:base] *",
   "language": "python",
   "name": "conda-base-py"
  },
  "language_info": {
   "codemirror_mode": {
    "name": "ipython",
    "version": 3
   },
   "file_extension": ".py",
   "mimetype": "text/x-python",
   "name": "python",
   "nbconvert_exporter": "python",
   "pygments_lexer": "ipython3",
   "version": "3.12.7"
  }
 },
 "nbformat": 4,
 "nbformat_minor": 5
}
